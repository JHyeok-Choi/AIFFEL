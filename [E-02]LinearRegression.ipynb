{
 "cells": [
  {
   "cell_type": "code",
   "execution_count": 1,
   "id": "2cf0e777",
   "metadata": {},
   "outputs": [],
   "source": [
    "import numpy as np\n",
    "import pandas as pd\n",
    "\n",
    "import seaborn as sns\n",
    "import matplotlib.pyplot as plt\n",
    "%matplotlib inline"
   ]
  },
  {
   "cell_type": "markdown",
   "id": "788ab83a",
   "metadata": {},
   "source": [
    "## (1) 데이터 가져오기"
   ]
  },
  {
   "cell_type": "markdown",
   "id": "8ef89a7c",
   "metadata": {},
   "source": [
    "* sklearn.datasets 의 load_diabetes 에서 데이터를 가져와주세요."
   ]
  },
  {
   "cell_type": "code",
   "execution_count": 2,
   "id": "8853ca33",
   "metadata": {},
   "outputs": [],
   "source": [
    "from sklearn.datasets import load_diabetes\n",
    "\n",
    "diabetes = load_diabetes()"
   ]
  },
  {
   "cell_type": "code",
   "execution_count": 3,
   "id": "cfb1d577",
   "metadata": {},
   "outputs": [
    {
     "data": {
      "text/plain": [
       "{'data': array([[ 0.03807591,  0.05068012,  0.06169621, ..., -0.00259226,\n",
       "          0.01990842, -0.01764613],\n",
       "        [-0.00188202, -0.04464164, -0.05147406, ..., -0.03949338,\n",
       "         -0.06832974, -0.09220405],\n",
       "        [ 0.08529891,  0.05068012,  0.04445121, ..., -0.00259226,\n",
       "          0.00286377, -0.02593034],\n",
       "        ...,\n",
       "        [ 0.04170844,  0.05068012, -0.01590626, ..., -0.01107952,\n",
       "         -0.04687948,  0.01549073],\n",
       "        [-0.04547248, -0.04464164,  0.03906215, ...,  0.02655962,\n",
       "          0.04452837, -0.02593034],\n",
       "        [-0.04547248, -0.04464164, -0.0730303 , ..., -0.03949338,\n",
       "         -0.00421986,  0.00306441]]),\n",
       " 'target': array([151.,  75., 141., 206., 135.,  97., 138.,  63., 110., 310., 101.,\n",
       "         69., 179., 185., 118., 171., 166., 144.,  97., 168.,  68.,  49.,\n",
       "         68., 245., 184., 202., 137.,  85., 131., 283., 129.,  59., 341.,\n",
       "         87.,  65., 102., 265., 276., 252.,  90., 100.,  55.,  61.,  92.,\n",
       "        259.,  53., 190., 142.,  75., 142., 155., 225.,  59., 104., 182.,\n",
       "        128.,  52.,  37., 170., 170.,  61., 144.,  52., 128.,  71., 163.,\n",
       "        150.,  97., 160., 178.,  48., 270., 202., 111.,  85.,  42., 170.,\n",
       "        200., 252., 113., 143.,  51.,  52., 210.,  65., 141.,  55., 134.,\n",
       "         42., 111.,  98., 164.,  48.,  96.,  90., 162., 150., 279.,  92.,\n",
       "         83., 128., 102., 302., 198.,  95.,  53., 134., 144., 232.,  81.,\n",
       "        104.,  59., 246., 297., 258., 229., 275., 281., 179., 200., 200.,\n",
       "        173., 180.,  84., 121., 161.,  99., 109., 115., 268., 274., 158.,\n",
       "        107.,  83., 103., 272.,  85., 280., 336., 281., 118., 317., 235.,\n",
       "         60., 174., 259., 178., 128.,  96., 126., 288.,  88., 292.,  71.,\n",
       "        197., 186.,  25.,  84.,  96., 195.,  53., 217., 172., 131., 214.,\n",
       "         59.,  70., 220., 268., 152.,  47.,  74., 295., 101., 151., 127.,\n",
       "        237., 225.,  81., 151., 107.,  64., 138., 185., 265., 101., 137.,\n",
       "        143., 141.,  79., 292., 178.,  91., 116.,  86., 122.,  72., 129.,\n",
       "        142.,  90., 158.,  39., 196., 222., 277.,  99., 196., 202., 155.,\n",
       "         77., 191.,  70.,  73.,  49.,  65., 263., 248., 296., 214., 185.,\n",
       "         78.,  93., 252., 150.,  77., 208.,  77., 108., 160.,  53., 220.,\n",
       "        154., 259.,  90., 246., 124.,  67.,  72., 257., 262., 275., 177.,\n",
       "         71.,  47., 187., 125.,  78.,  51., 258., 215., 303., 243.,  91.,\n",
       "        150., 310., 153., 346.,  63.,  89.,  50.,  39., 103., 308., 116.,\n",
       "        145.,  74.,  45., 115., 264.,  87., 202., 127., 182., 241.,  66.,\n",
       "         94., 283.,  64., 102., 200., 265.,  94., 230., 181., 156., 233.,\n",
       "         60., 219.,  80.,  68., 332., 248.,  84., 200.,  55.,  85.,  89.,\n",
       "         31., 129.,  83., 275.,  65., 198., 236., 253., 124.,  44., 172.,\n",
       "        114., 142., 109., 180., 144., 163., 147.,  97., 220., 190., 109.,\n",
       "        191., 122., 230., 242., 248., 249., 192., 131., 237.,  78., 135.,\n",
       "        244., 199., 270., 164.,  72.,  96., 306.,  91., 214.,  95., 216.,\n",
       "        263., 178., 113., 200., 139., 139.,  88., 148.,  88., 243.,  71.,\n",
       "         77., 109., 272.,  60.,  54., 221.,  90., 311., 281., 182., 321.,\n",
       "         58., 262., 206., 233., 242., 123., 167.,  63., 197.,  71., 168.,\n",
       "        140., 217., 121., 235., 245.,  40.,  52., 104., 132.,  88.,  69.,\n",
       "        219.,  72., 201., 110.,  51., 277.,  63., 118.,  69., 273., 258.,\n",
       "         43., 198., 242., 232., 175.,  93., 168., 275., 293., 281.,  72.,\n",
       "        140., 189., 181., 209., 136., 261., 113., 131., 174., 257.,  55.,\n",
       "         84.,  42., 146., 212., 233.,  91., 111., 152., 120.,  67., 310.,\n",
       "         94., 183.,  66., 173.,  72.,  49.,  64.,  48., 178., 104., 132.,\n",
       "        220.,  57.]),\n",
       " 'frame': None,\n",
       " 'DESCR': '.. _diabetes_dataset:\\n\\nDiabetes dataset\\n----------------\\n\\nTen baseline variables, age, sex, body mass index, average blood\\npressure, and six blood serum measurements were obtained for each of n =\\n442 diabetes patients, as well as the response of interest, a\\nquantitative measure of disease progression one year after baseline.\\n\\n**Data Set Characteristics:**\\n\\n  :Number of Instances: 442\\n\\n  :Number of Attributes: First 10 columns are numeric predictive values\\n\\n  :Target: Column 11 is a quantitative measure of disease progression one year after baseline\\n\\n  :Attribute Information:\\n      - age     age in years\\n      - sex\\n      - bmi     body mass index\\n      - bp      average blood pressure\\n      - s1      tc, total serum cholesterol\\n      - s2      ldl, low-density lipoproteins\\n      - s3      hdl, high-density lipoproteins\\n      - s4      tch, total cholesterol / HDL\\n      - s5      ltg, possibly log of serum triglycerides level\\n      - s6      glu, blood sugar level\\n\\nNote: Each of these 10 feature variables have been mean centered and scaled by the standard deviation times `n_samples` (i.e. the sum of squares of each column totals 1).\\n\\nSource URL:\\nhttps://www4.stat.ncsu.edu/~boos/var.select/diabetes.html\\n\\nFor more information see:\\nBradley Efron, Trevor Hastie, Iain Johnstone and Robert Tibshirani (2004) \"Least Angle Regression,\" Annals of Statistics (with discussion), 407-499.\\n(https://web.stanford.edu/~hastie/Papers/LARS/LeastAngle_2002.pdf)',\n",
       " 'feature_names': ['age',\n",
       "  'sex',\n",
       "  'bmi',\n",
       "  'bp',\n",
       "  's1',\n",
       "  's2',\n",
       "  's3',\n",
       "  's4',\n",
       "  's5',\n",
       "  's6'],\n",
       " 'data_filename': 'diabetes_data.csv.gz',\n",
       " 'target_filename': 'diabetes_target.csv.gz',\n",
       " 'data_module': 'sklearn.datasets.data'}"
      ]
     },
     "execution_count": 3,
     "metadata": {},
     "output_type": "execute_result"
    }
   ],
   "source": [
    "diabetes"
   ]
  },
  {
   "cell_type": "code",
   "execution_count": 4,
   "id": "6acd34a2",
   "metadata": {},
   "outputs": [
    {
     "data": {
      "text/plain": [
       "dict_keys(['data', 'target', 'frame', 'DESCR', 'feature_names', 'data_filename', 'target_filename', 'data_module'])"
      ]
     },
     "execution_count": 4,
     "metadata": {},
     "output_type": "execute_result"
    }
   ],
   "source": [
    "diabetes.keys()"
   ]
  },
  {
   "cell_type": "code",
   "execution_count": 5,
   "id": "8c53f092",
   "metadata": {},
   "outputs": [
    {
     "name": "stdout",
     "output_type": "stream",
     "text": [
      ".. _diabetes_dataset:\n",
      "\n",
      "Diabetes dataset\n",
      "----------------\n",
      "\n",
      "Ten baseline variables, age, sex, body mass index, average blood\n",
      "pressure, and six blood serum measurements were obtained for each of n =\n",
      "442 diabetes patients, as well as the response of interest, a\n",
      "quantitative measure of disease progression one year after baseline.\n",
      "\n",
      "**Data Set Characteristics:**\n",
      "\n",
      "  :Number of Instances: 442\n",
      "\n",
      "  :Number of Attributes: First 10 columns are numeric predictive values\n",
      "\n",
      "  :Target: Column 11 is a quantitative measure of disease progression one year after baseline\n",
      "\n",
      "  :Attribute Information:\n",
      "      - age     age in years\n",
      "      - sex\n",
      "      - bmi     body mass index\n",
      "      - bp      average blood pressure\n",
      "      - s1      tc, total serum cholesterol\n",
      "      - s2      ldl, low-density lipoproteins\n",
      "      - s3      hdl, high-density lipoproteins\n",
      "      - s4      tch, total cholesterol / HDL\n",
      "      - s5      ltg, possibly log of serum triglycerides level\n",
      "      - s6      glu, blood sugar level\n",
      "\n",
      "Note: Each of these 10 feature variables have been mean centered and scaled by the standard deviation times `n_samples` (i.e. the sum of squares of each column totals 1).\n",
      "\n",
      "Source URL:\n",
      "https://www4.stat.ncsu.edu/~boos/var.select/diabetes.html\n",
      "\n",
      "For more information see:\n",
      "Bradley Efron, Trevor Hastie, Iain Johnstone and Robert Tibshirani (2004) \"Least Angle Regression,\" Annals of Statistics (with discussion), 407-499.\n",
      "(https://web.stanford.edu/~hastie/Papers/LARS/LeastAngle_2002.pdf)\n"
     ]
    }
   ],
   "source": [
    "print(diabetes.DESCR)"
   ]
  },
  {
   "cell_type": "code",
   "execution_count": 6,
   "id": "ac6cb658",
   "metadata": {},
   "outputs": [
    {
     "data": {
      "text/plain": [
       "(442, 10)"
      ]
     },
     "execution_count": 6,
     "metadata": {},
     "output_type": "execute_result"
    }
   ],
   "source": [
    "# Number of Instances: 442\n",
    "# Number of Attributes: First 10 columns are numeric predictive values\n",
    "# DESCR 에 따라 데이터 개수 442개 컬럼 10개 확인.\n",
    "diabetes.data.shape"
   ]
  },
  {
   "cell_type": "code",
   "execution_count": 7,
   "id": "b7c31bce",
   "metadata": {},
   "outputs": [
    {
     "data": {
      "text/plain": [
       "array([[ 0.03807591,  0.05068012,  0.06169621, ..., -0.00259226,\n",
       "         0.01990842, -0.01764613],\n",
       "       [-0.00188202, -0.04464164, -0.05147406, ..., -0.03949338,\n",
       "        -0.06832974, -0.09220405],\n",
       "       [ 0.08529891,  0.05068012,  0.04445121, ..., -0.00259226,\n",
       "         0.00286377, -0.02593034],\n",
       "       ...,\n",
       "       [ 0.04170844,  0.05068012, -0.01590626, ..., -0.01107952,\n",
       "        -0.04687948,  0.01549073],\n",
       "       [-0.04547248, -0.04464164,  0.03906215, ...,  0.02655962,\n",
       "         0.04452837, -0.02593034],\n",
       "       [-0.04547248, -0.04464164, -0.0730303 , ..., -0.03949338,\n",
       "        -0.00421986,  0.00306441]])"
      ]
     },
     "execution_count": 7,
     "metadata": {},
     "output_type": "execute_result"
    }
   ],
   "source": [
    "diabetes.data"
   ]
  },
  {
   "cell_type": "code",
   "execution_count": 8,
   "id": "b2985405",
   "metadata": {},
   "outputs": [
    {
     "data": {
      "text/plain": [
       "['age', 'sex', 'bmi', 'bp', 's1', 's2', 's3', 's4', 's5', 's6']"
      ]
     },
     "execution_count": 8,
     "metadata": {},
     "output_type": "execute_result"
    }
   ],
   "source": [
    "diabetes.feature_names"
   ]
  },
  {
   "cell_type": "code",
   "execution_count": 9,
   "id": "6b79bd54",
   "metadata": {},
   "outputs": [
    {
     "data": {
      "text/plain": [
       "array([151.,  75., 141., 206., 135.,  97., 138.,  63., 110., 310., 101.,\n",
       "        69., 179., 185., 118., 171., 166., 144.,  97., 168.,  68.,  49.,\n",
       "        68., 245., 184., 202., 137.,  85., 131., 283., 129.,  59., 341.,\n",
       "        87.,  65., 102., 265., 276., 252.,  90., 100.,  55.,  61.,  92.,\n",
       "       259.,  53., 190., 142.,  75., 142., 155., 225.,  59., 104., 182.,\n",
       "       128.,  52.,  37., 170., 170.,  61., 144.,  52., 128.,  71., 163.,\n",
       "       150.,  97., 160., 178.,  48., 270., 202., 111.,  85.,  42., 170.,\n",
       "       200., 252., 113., 143.,  51.,  52., 210.,  65., 141.,  55., 134.,\n",
       "        42., 111.,  98., 164.,  48.,  96.,  90., 162., 150., 279.,  92.,\n",
       "        83., 128., 102., 302., 198.,  95.,  53., 134., 144., 232.,  81.,\n",
       "       104.,  59., 246., 297., 258., 229., 275., 281., 179., 200., 200.,\n",
       "       173., 180.,  84., 121., 161.,  99., 109., 115., 268., 274., 158.,\n",
       "       107.,  83., 103., 272.,  85., 280., 336., 281., 118., 317., 235.,\n",
       "        60., 174., 259., 178., 128.,  96., 126., 288.,  88., 292.,  71.,\n",
       "       197., 186.,  25.,  84.,  96., 195.,  53., 217., 172., 131., 214.,\n",
       "        59.,  70., 220., 268., 152.,  47.,  74., 295., 101., 151., 127.,\n",
       "       237., 225.,  81., 151., 107.,  64., 138., 185., 265., 101., 137.,\n",
       "       143., 141.,  79., 292., 178.,  91., 116.,  86., 122.,  72., 129.,\n",
       "       142.,  90., 158.,  39., 196., 222., 277.,  99., 196., 202., 155.,\n",
       "        77., 191.,  70.,  73.,  49.,  65., 263., 248., 296., 214., 185.,\n",
       "        78.,  93., 252., 150.,  77., 208.,  77., 108., 160.,  53., 220.,\n",
       "       154., 259.,  90., 246., 124.,  67.,  72., 257., 262., 275., 177.,\n",
       "        71.,  47., 187., 125.,  78.,  51., 258., 215., 303., 243.,  91.,\n",
       "       150., 310., 153., 346.,  63.,  89.,  50.,  39., 103., 308., 116.,\n",
       "       145.,  74.,  45., 115., 264.,  87., 202., 127., 182., 241.,  66.,\n",
       "        94., 283.,  64., 102., 200., 265.,  94., 230., 181., 156., 233.,\n",
       "        60., 219.,  80.,  68., 332., 248.,  84., 200.,  55.,  85.,  89.,\n",
       "        31., 129.,  83., 275.,  65., 198., 236., 253., 124.,  44., 172.,\n",
       "       114., 142., 109., 180., 144., 163., 147.,  97., 220., 190., 109.,\n",
       "       191., 122., 230., 242., 248., 249., 192., 131., 237.,  78., 135.,\n",
       "       244., 199., 270., 164.,  72.,  96., 306.,  91., 214.,  95., 216.,\n",
       "       263., 178., 113., 200., 139., 139.,  88., 148.,  88., 243.,  71.,\n",
       "        77., 109., 272.,  60.,  54., 221.,  90., 311., 281., 182., 321.,\n",
       "        58., 262., 206., 233., 242., 123., 167.,  63., 197.,  71., 168.,\n",
       "       140., 217., 121., 235., 245.,  40.,  52., 104., 132.,  88.,  69.,\n",
       "       219.,  72., 201., 110.,  51., 277.,  63., 118.,  69., 273., 258.,\n",
       "        43., 198., 242., 232., 175.,  93., 168., 275., 293., 281.,  72.,\n",
       "       140., 189., 181., 209., 136., 261., 113., 131., 174., 257.,  55.,\n",
       "        84.,  42., 146., 212., 233.,  91., 111., 152., 120.,  67., 310.,\n",
       "        94., 183.,  66., 173.,  72.,  49.,  64.,  48., 178., 104., 132.,\n",
       "       220.,  57.])"
      ]
     },
     "execution_count": 9,
     "metadata": {},
     "output_type": "execute_result"
    }
   ],
   "source": [
    "diabetes.target"
   ]
  },
  {
   "cell_type": "markdown",
   "id": "24d64f6a",
   "metadata": {},
   "source": [
    "* diabetes의 data 를 df_X 에, target 을 df_y 에 저장해주세요."
   ]
  },
  {
   "cell_type": "code",
   "execution_count": 10,
   "id": "aecddf1d",
   "metadata": {},
   "outputs": [],
   "source": [
    "df_X = pd.DataFrame(diabetes.data, columns=diabetes.feature_names)\n",
    "df_y = pd.DataFrame(diabetes.target, columns=['target'])"
   ]
  },
  {
   "cell_type": "code",
   "execution_count": 11,
   "id": "8d3cffef",
   "metadata": {},
   "outputs": [
    {
     "data": {
      "text/html": [
       "<div>\n",
       "<style scoped>\n",
       "    .dataframe tbody tr th:only-of-type {\n",
       "        vertical-align: middle;\n",
       "    }\n",
       "\n",
       "    .dataframe tbody tr th {\n",
       "        vertical-align: top;\n",
       "    }\n",
       "\n",
       "    .dataframe thead th {\n",
       "        text-align: right;\n",
       "    }\n",
       "</style>\n",
       "<table border=\"1\" class=\"dataframe\">\n",
       "  <thead>\n",
       "    <tr style=\"text-align: right;\">\n",
       "      <th></th>\n",
       "      <th>age</th>\n",
       "      <th>sex</th>\n",
       "      <th>bmi</th>\n",
       "      <th>bp</th>\n",
       "      <th>s1</th>\n",
       "      <th>s2</th>\n",
       "      <th>s3</th>\n",
       "      <th>s4</th>\n",
       "      <th>s5</th>\n",
       "      <th>s6</th>\n",
       "    </tr>\n",
       "  </thead>\n",
       "  <tbody>\n",
       "    <tr>\n",
       "      <th>0</th>\n",
       "      <td>0.038076</td>\n",
       "      <td>0.050680</td>\n",
       "      <td>0.061696</td>\n",
       "      <td>0.021872</td>\n",
       "      <td>-0.044223</td>\n",
       "      <td>-0.034821</td>\n",
       "      <td>-0.043401</td>\n",
       "      <td>-0.002592</td>\n",
       "      <td>0.019908</td>\n",
       "      <td>-0.017646</td>\n",
       "    </tr>\n",
       "    <tr>\n",
       "      <th>1</th>\n",
       "      <td>-0.001882</td>\n",
       "      <td>-0.044642</td>\n",
       "      <td>-0.051474</td>\n",
       "      <td>-0.026328</td>\n",
       "      <td>-0.008449</td>\n",
       "      <td>-0.019163</td>\n",
       "      <td>0.074412</td>\n",
       "      <td>-0.039493</td>\n",
       "      <td>-0.068330</td>\n",
       "      <td>-0.092204</td>\n",
       "    </tr>\n",
       "    <tr>\n",
       "      <th>2</th>\n",
       "      <td>0.085299</td>\n",
       "      <td>0.050680</td>\n",
       "      <td>0.044451</td>\n",
       "      <td>-0.005671</td>\n",
       "      <td>-0.045599</td>\n",
       "      <td>-0.034194</td>\n",
       "      <td>-0.032356</td>\n",
       "      <td>-0.002592</td>\n",
       "      <td>0.002864</td>\n",
       "      <td>-0.025930</td>\n",
       "    </tr>\n",
       "    <tr>\n",
       "      <th>3</th>\n",
       "      <td>-0.089063</td>\n",
       "      <td>-0.044642</td>\n",
       "      <td>-0.011595</td>\n",
       "      <td>-0.036656</td>\n",
       "      <td>0.012191</td>\n",
       "      <td>0.024991</td>\n",
       "      <td>-0.036038</td>\n",
       "      <td>0.034309</td>\n",
       "      <td>0.022692</td>\n",
       "      <td>-0.009362</td>\n",
       "    </tr>\n",
       "    <tr>\n",
       "      <th>4</th>\n",
       "      <td>0.005383</td>\n",
       "      <td>-0.044642</td>\n",
       "      <td>-0.036385</td>\n",
       "      <td>0.021872</td>\n",
       "      <td>0.003935</td>\n",
       "      <td>0.015596</td>\n",
       "      <td>0.008142</td>\n",
       "      <td>-0.002592</td>\n",
       "      <td>-0.031991</td>\n",
       "      <td>-0.046641</td>\n",
       "    </tr>\n",
       "  </tbody>\n",
       "</table>\n",
       "</div>"
      ],
      "text/plain": [
       "        age       sex       bmi        bp        s1        s2        s3  \\\n",
       "0  0.038076  0.050680  0.061696  0.021872 -0.044223 -0.034821 -0.043401   \n",
       "1 -0.001882 -0.044642 -0.051474 -0.026328 -0.008449 -0.019163  0.074412   \n",
       "2  0.085299  0.050680  0.044451 -0.005671 -0.045599 -0.034194 -0.032356   \n",
       "3 -0.089063 -0.044642 -0.011595 -0.036656  0.012191  0.024991 -0.036038   \n",
       "4  0.005383 -0.044642 -0.036385  0.021872  0.003935  0.015596  0.008142   \n",
       "\n",
       "         s4        s5        s6  \n",
       "0 -0.002592  0.019908 -0.017646  \n",
       "1 -0.039493 -0.068330 -0.092204  \n",
       "2 -0.002592  0.002864 -0.025930  \n",
       "3  0.034309  0.022692 -0.009362  \n",
       "4 -0.002592 -0.031991 -0.046641  "
      ]
     },
     "execution_count": 11,
     "metadata": {},
     "output_type": "execute_result"
    }
   ],
   "source": [
    "df_X.head()"
   ]
  },
  {
   "cell_type": "code",
   "execution_count": 12,
   "id": "042e28a3",
   "metadata": {},
   "outputs": [
    {
     "data": {
      "text/html": [
       "<div>\n",
       "<style scoped>\n",
       "    .dataframe tbody tr th:only-of-type {\n",
       "        vertical-align: middle;\n",
       "    }\n",
       "\n",
       "    .dataframe tbody tr th {\n",
       "        vertical-align: top;\n",
       "    }\n",
       "\n",
       "    .dataframe thead th {\n",
       "        text-align: right;\n",
       "    }\n",
       "</style>\n",
       "<table border=\"1\" class=\"dataframe\">\n",
       "  <thead>\n",
       "    <tr style=\"text-align: right;\">\n",
       "      <th></th>\n",
       "      <th>target</th>\n",
       "    </tr>\n",
       "  </thead>\n",
       "  <tbody>\n",
       "    <tr>\n",
       "      <th>0</th>\n",
       "      <td>151.0</td>\n",
       "    </tr>\n",
       "    <tr>\n",
       "      <th>1</th>\n",
       "      <td>75.0</td>\n",
       "    </tr>\n",
       "    <tr>\n",
       "      <th>2</th>\n",
       "      <td>141.0</td>\n",
       "    </tr>\n",
       "    <tr>\n",
       "      <th>3</th>\n",
       "      <td>206.0</td>\n",
       "    </tr>\n",
       "    <tr>\n",
       "      <th>4</th>\n",
       "      <td>135.0</td>\n",
       "    </tr>\n",
       "  </tbody>\n",
       "</table>\n",
       "</div>"
      ],
      "text/plain": [
       "   target\n",
       "0   151.0\n",
       "1    75.0\n",
       "2   141.0\n",
       "3   206.0\n",
       "4   135.0"
      ]
     },
     "execution_count": 12,
     "metadata": {},
     "output_type": "execute_result"
    }
   ],
   "source": [
    "df_y.head()"
   ]
  },
  {
   "cell_type": "code",
   "execution_count": 13,
   "id": "207e06a8",
   "metadata": {},
   "outputs": [
    {
     "name": "stdout",
     "output_type": "stream",
     "text": [
      "<class 'pandas.core.frame.DataFrame'>\n",
      "RangeIndex: 442 entries, 0 to 441\n",
      "Data columns (total 10 columns):\n",
      " #   Column  Non-Null Count  Dtype  \n",
      "---  ------  --------------  -----  \n",
      " 0   age     442 non-null    float64\n",
      " 1   sex     442 non-null    float64\n",
      " 2   bmi     442 non-null    float64\n",
      " 3   bp      442 non-null    float64\n",
      " 4   s1      442 non-null    float64\n",
      " 5   s2      442 non-null    float64\n",
      " 6   s3      442 non-null    float64\n",
      " 7   s4      442 non-null    float64\n",
      " 8   s5      442 non-null    float64\n",
      " 9   s6      442 non-null    float64\n",
      "dtypes: float64(10)\n",
      "memory usage: 34.7 KB\n",
      "---------------------------------------------\n",
      "<class 'pandas.core.frame.DataFrame'>\n",
      "RangeIndex: 442 entries, 0 to 441\n",
      "Data columns (total 1 columns):\n",
      " #   Column  Non-Null Count  Dtype  \n",
      "---  ------  --------------  -----  \n",
      " 0   target  442 non-null    float64\n",
      "dtypes: float64(1)\n",
      "memory usage: 3.6 KB\n"
     ]
    }
   ],
   "source": [
    "df_X.info()\n",
    "print('-'*45)\n",
    "df_y.info()"
   ]
  },
  {
   "cell_type": "code",
   "execution_count": 14,
   "id": "0a3911da",
   "metadata": {},
   "outputs": [
    {
     "data": {
      "text/html": [
       "<div>\n",
       "<style scoped>\n",
       "    .dataframe tbody tr th:only-of-type {\n",
       "        vertical-align: middle;\n",
       "    }\n",
       "\n",
       "    .dataframe tbody tr th {\n",
       "        vertical-align: top;\n",
       "    }\n",
       "\n",
       "    .dataframe thead th {\n",
       "        text-align: right;\n",
       "    }\n",
       "</style>\n",
       "<table border=\"1\" class=\"dataframe\">\n",
       "  <thead>\n",
       "    <tr style=\"text-align: right;\">\n",
       "      <th></th>\n",
       "      <th>age</th>\n",
       "      <th>sex</th>\n",
       "      <th>bmi</th>\n",
       "      <th>bp</th>\n",
       "      <th>s1</th>\n",
       "      <th>s2</th>\n",
       "      <th>s3</th>\n",
       "      <th>s4</th>\n",
       "      <th>s5</th>\n",
       "      <th>s6</th>\n",
       "    </tr>\n",
       "  </thead>\n",
       "  <tbody>\n",
       "    <tr>\n",
       "      <th>count</th>\n",
       "      <td>4.420000e+02</td>\n",
       "      <td>4.420000e+02</td>\n",
       "      <td>4.420000e+02</td>\n",
       "      <td>4.420000e+02</td>\n",
       "      <td>4.420000e+02</td>\n",
       "      <td>4.420000e+02</td>\n",
       "      <td>4.420000e+02</td>\n",
       "      <td>4.420000e+02</td>\n",
       "      <td>4.420000e+02</td>\n",
       "      <td>4.420000e+02</td>\n",
       "    </tr>\n",
       "    <tr>\n",
       "      <th>mean</th>\n",
       "      <td>-3.639623e-16</td>\n",
       "      <td>1.309912e-16</td>\n",
       "      <td>-8.013951e-16</td>\n",
       "      <td>1.289818e-16</td>\n",
       "      <td>-9.042540e-17</td>\n",
       "      <td>1.301121e-16</td>\n",
       "      <td>-4.563971e-16</td>\n",
       "      <td>3.863174e-16</td>\n",
       "      <td>-3.848103e-16</td>\n",
       "      <td>-3.398488e-16</td>\n",
       "    </tr>\n",
       "    <tr>\n",
       "      <th>std</th>\n",
       "      <td>4.761905e-02</td>\n",
       "      <td>4.761905e-02</td>\n",
       "      <td>4.761905e-02</td>\n",
       "      <td>4.761905e-02</td>\n",
       "      <td>4.761905e-02</td>\n",
       "      <td>4.761905e-02</td>\n",
       "      <td>4.761905e-02</td>\n",
       "      <td>4.761905e-02</td>\n",
       "      <td>4.761905e-02</td>\n",
       "      <td>4.761905e-02</td>\n",
       "    </tr>\n",
       "    <tr>\n",
       "      <th>min</th>\n",
       "      <td>-1.072256e-01</td>\n",
       "      <td>-4.464164e-02</td>\n",
       "      <td>-9.027530e-02</td>\n",
       "      <td>-1.123996e-01</td>\n",
       "      <td>-1.267807e-01</td>\n",
       "      <td>-1.156131e-01</td>\n",
       "      <td>-1.023071e-01</td>\n",
       "      <td>-7.639450e-02</td>\n",
       "      <td>-1.260974e-01</td>\n",
       "      <td>-1.377672e-01</td>\n",
       "    </tr>\n",
       "    <tr>\n",
       "      <th>25%</th>\n",
       "      <td>-3.729927e-02</td>\n",
       "      <td>-4.464164e-02</td>\n",
       "      <td>-3.422907e-02</td>\n",
       "      <td>-3.665645e-02</td>\n",
       "      <td>-3.424784e-02</td>\n",
       "      <td>-3.035840e-02</td>\n",
       "      <td>-3.511716e-02</td>\n",
       "      <td>-3.949338e-02</td>\n",
       "      <td>-3.324879e-02</td>\n",
       "      <td>-3.317903e-02</td>\n",
       "    </tr>\n",
       "    <tr>\n",
       "      <th>50%</th>\n",
       "      <td>5.383060e-03</td>\n",
       "      <td>-4.464164e-02</td>\n",
       "      <td>-7.283766e-03</td>\n",
       "      <td>-5.670611e-03</td>\n",
       "      <td>-4.320866e-03</td>\n",
       "      <td>-3.819065e-03</td>\n",
       "      <td>-6.584468e-03</td>\n",
       "      <td>-2.592262e-03</td>\n",
       "      <td>-1.947634e-03</td>\n",
       "      <td>-1.077698e-03</td>\n",
       "    </tr>\n",
       "    <tr>\n",
       "      <th>75%</th>\n",
       "      <td>3.807591e-02</td>\n",
       "      <td>5.068012e-02</td>\n",
       "      <td>3.124802e-02</td>\n",
       "      <td>3.564384e-02</td>\n",
       "      <td>2.835801e-02</td>\n",
       "      <td>2.984439e-02</td>\n",
       "      <td>2.931150e-02</td>\n",
       "      <td>3.430886e-02</td>\n",
       "      <td>3.243323e-02</td>\n",
       "      <td>2.791705e-02</td>\n",
       "    </tr>\n",
       "    <tr>\n",
       "      <th>max</th>\n",
       "      <td>1.107267e-01</td>\n",
       "      <td>5.068012e-02</td>\n",
       "      <td>1.705552e-01</td>\n",
       "      <td>1.320442e-01</td>\n",
       "      <td>1.539137e-01</td>\n",
       "      <td>1.987880e-01</td>\n",
       "      <td>1.811791e-01</td>\n",
       "      <td>1.852344e-01</td>\n",
       "      <td>1.335990e-01</td>\n",
       "      <td>1.356118e-01</td>\n",
       "    </tr>\n",
       "  </tbody>\n",
       "</table>\n",
       "</div>"
      ],
      "text/plain": [
       "                age           sex           bmi            bp            s1  \\\n",
       "count  4.420000e+02  4.420000e+02  4.420000e+02  4.420000e+02  4.420000e+02   \n",
       "mean  -3.639623e-16  1.309912e-16 -8.013951e-16  1.289818e-16 -9.042540e-17   \n",
       "std    4.761905e-02  4.761905e-02  4.761905e-02  4.761905e-02  4.761905e-02   \n",
       "min   -1.072256e-01 -4.464164e-02 -9.027530e-02 -1.123996e-01 -1.267807e-01   \n",
       "25%   -3.729927e-02 -4.464164e-02 -3.422907e-02 -3.665645e-02 -3.424784e-02   \n",
       "50%    5.383060e-03 -4.464164e-02 -7.283766e-03 -5.670611e-03 -4.320866e-03   \n",
       "75%    3.807591e-02  5.068012e-02  3.124802e-02  3.564384e-02  2.835801e-02   \n",
       "max    1.107267e-01  5.068012e-02  1.705552e-01  1.320442e-01  1.539137e-01   \n",
       "\n",
       "                 s2            s3            s4            s5            s6  \n",
       "count  4.420000e+02  4.420000e+02  4.420000e+02  4.420000e+02  4.420000e+02  \n",
       "mean   1.301121e-16 -4.563971e-16  3.863174e-16 -3.848103e-16 -3.398488e-16  \n",
       "std    4.761905e-02  4.761905e-02  4.761905e-02  4.761905e-02  4.761905e-02  \n",
       "min   -1.156131e-01 -1.023071e-01 -7.639450e-02 -1.260974e-01 -1.377672e-01  \n",
       "25%   -3.035840e-02 -3.511716e-02 -3.949338e-02 -3.324879e-02 -3.317903e-02  \n",
       "50%   -3.819065e-03 -6.584468e-03 -2.592262e-03 -1.947634e-03 -1.077698e-03  \n",
       "75%    2.984439e-02  2.931150e-02  3.430886e-02  3.243323e-02  2.791705e-02  \n",
       "max    1.987880e-01  1.811791e-01  1.852344e-01  1.335990e-01  1.356118e-01  "
      ]
     },
     "execution_count": 14,
     "metadata": {},
     "output_type": "execute_result"
    }
   ],
   "source": [
    "df_X.describe()"
   ]
  },
  {
   "cell_type": "code",
   "execution_count": 15,
   "id": "17f7e86b",
   "metadata": {},
   "outputs": [
    {
     "data": {
      "text/html": [
       "<div>\n",
       "<style scoped>\n",
       "    .dataframe tbody tr th:only-of-type {\n",
       "        vertical-align: middle;\n",
       "    }\n",
       "\n",
       "    .dataframe tbody tr th {\n",
       "        vertical-align: top;\n",
       "    }\n",
       "\n",
       "    .dataframe thead th {\n",
       "        text-align: right;\n",
       "    }\n",
       "</style>\n",
       "<table border=\"1\" class=\"dataframe\">\n",
       "  <thead>\n",
       "    <tr style=\"text-align: right;\">\n",
       "      <th></th>\n",
       "      <th>target</th>\n",
       "    </tr>\n",
       "  </thead>\n",
       "  <tbody>\n",
       "    <tr>\n",
       "      <th>count</th>\n",
       "      <td>442.000000</td>\n",
       "    </tr>\n",
       "    <tr>\n",
       "      <th>mean</th>\n",
       "      <td>152.133484</td>\n",
       "    </tr>\n",
       "    <tr>\n",
       "      <th>std</th>\n",
       "      <td>77.093005</td>\n",
       "    </tr>\n",
       "    <tr>\n",
       "      <th>min</th>\n",
       "      <td>25.000000</td>\n",
       "    </tr>\n",
       "    <tr>\n",
       "      <th>25%</th>\n",
       "      <td>87.000000</td>\n",
       "    </tr>\n",
       "    <tr>\n",
       "      <th>50%</th>\n",
       "      <td>140.500000</td>\n",
       "    </tr>\n",
       "    <tr>\n",
       "      <th>75%</th>\n",
       "      <td>211.500000</td>\n",
       "    </tr>\n",
       "    <tr>\n",
       "      <th>max</th>\n",
       "      <td>346.000000</td>\n",
       "    </tr>\n",
       "  </tbody>\n",
       "</table>\n",
       "</div>"
      ],
      "text/plain": [
       "           target\n",
       "count  442.000000\n",
       "mean   152.133484\n",
       "std     77.093005\n",
       "min     25.000000\n",
       "25%     87.000000\n",
       "50%    140.500000\n",
       "75%    211.500000\n",
       "max    346.000000"
      ]
     },
     "execution_count": 15,
     "metadata": {},
     "output_type": "execute_result"
    }
   ],
   "source": [
    "df_y.describe()"
   ]
  },
  {
   "cell_type": "markdown",
   "id": "f27f561d",
   "metadata": {},
   "source": [
    "## (2) 모델에 입력할 데이터 X 준비하기"
   ]
  },
  {
   "cell_type": "markdown",
   "id": "5066b052",
   "metadata": {},
   "source": [
    "* df_X 에 있는 값들을 numpy array로 변환해서 저장해주세요."
   ]
  },
  {
   "cell_type": "code",
   "execution_count": 16,
   "id": "3c832bfb",
   "metadata": {},
   "outputs": [
    {
     "data": {
      "text/plain": [
       "(numpy.ndarray, (442, 10))"
      ]
     },
     "execution_count": 16,
     "metadata": {},
     "output_type": "execute_result"
    }
   ],
   "source": [
    "X = df_X[['age', 'sex', 'bmi', 'bp', 's1', 's2', 's3', 's4', 's5', 's6']].values\n",
    "type(X), X.shape"
   ]
  },
  {
   "cell_type": "markdown",
   "id": "f0c54f0d",
   "metadata": {},
   "source": [
    "## (3) 모델에 예측할 데이터 y 준비하기"
   ]
  },
  {
   "cell_type": "markdown",
   "id": "01532204",
   "metadata": {},
   "source": [
    "* df_y에 있는 값들을 numpy array로 변환해서 저장해주세요."
   ]
  },
  {
   "cell_type": "code",
   "execution_count": 17,
   "id": "9d7e41c9",
   "metadata": {},
   "outputs": [
    {
     "data": {
      "text/plain": [
       "(numpy.ndarray, (442,))"
      ]
     },
     "execution_count": 17,
     "metadata": {},
     "output_type": "execute_result"
    }
   ],
   "source": [
    "y = df_y['target'].values\n",
    "type(y), y.shape"
   ]
  },
  {
   "cell_type": "markdown",
   "id": "4561ed74",
   "metadata": {},
   "source": [
    "## (4) train 데이터와 test 데이터로 분리하기"
   ]
  },
  {
   "cell_type": "markdown",
   "id": "e2430f3c",
   "metadata": {},
   "source": [
    "* X 와 y 데이터를 각각 train 데이터와 test 데이터로 분리해주세요."
   ]
  },
  {
   "cell_type": "code",
   "execution_count": 18,
   "id": "c501b24c",
   "metadata": {},
   "outputs": [
    {
     "name": "stdout",
     "output_type": "stream",
     "text": [
      "(353, 10) (353,)\n",
      "(89, 10) (89,)\n"
     ]
    }
   ],
   "source": [
    "from sklearn.model_selection import train_test_split\n",
    "X_train, X_test, y_train, y_test = train_test_split(X, y, test_size=.2, random_state=11)\n",
    "\n",
    "print(X_train.shape, y_train.shape)\n",
    "print(X_test.shape, y_test.shape)"
   ]
  },
  {
   "cell_type": "markdown",
   "id": "9f4cf1ef",
   "metadata": {},
   "source": [
    "## (5) 모델 준비하기"
   ]
  },
  {
   "cell_type": "markdown",
   "id": "b9456164",
   "metadata": {},
   "source": [
    "* 입력 데이터 개수에 맞는 가중치 w와 b를 준비해주세요."
   ]
  },
  {
   "cell_type": "code",
   "execution_count": 19,
   "id": "77efa882",
   "metadata": {},
   "outputs": [
    {
     "name": "stdout",
     "output_type": "stream",
     "text": [
      "[0.31912782 0.50451992 0.5871418  0.22648652 0.47331365 0.3787272\n",
      " 0.25282259 0.41728422 0.42743433 0.776192  ]\n",
      "0.6252244296387469\n"
     ]
    }
   ],
   "source": [
    "W = np.random.rand(10)\n",
    "b = np.random.rand()\n",
    "\n",
    "print(W, b, sep='\\n')"
   ]
  },
  {
   "cell_type": "markdown",
   "id": "482e0431",
   "metadata": {},
   "source": [
    "* 모델 함수를 구현해주세요."
   ]
  },
  {
   "cell_type": "code",
   "execution_count": 20,
   "id": "d85b8319",
   "metadata": {},
   "outputs": [],
   "source": [
    "def model(X, W, b):\n",
    "    predictions = 0\n",
    "    for i in range(len(W)):\n",
    "        predictions += X[:, i] * W[i]\n",
    "    predictions += b\n",
    "    return predictions"
   ]
  },
  {
   "cell_type": "markdown",
   "id": "27187138",
   "metadata": {},
   "source": [
    "## (6) 손실함수 loss 정의하기"
   ]
  },
  {
   "cell_type": "markdown",
   "id": "8026f0f9",
   "metadata": {},
   "source": [
    "* 손실함수를 MSE 함수로 정의해주세요."
   ]
  },
  {
   "cell_type": "code",
   "execution_count": 21,
   "id": "992b540c",
   "metadata": {},
   "outputs": [],
   "source": [
    "def MSE(a, b):\n",
    "    mse = ((a - b) ** 2).mean()  # 정답 a와 예측한 b 차의 제곱의 평균\n",
    "    return mse\n",
    "\n",
    "def loss(X, W, b, y):\n",
    "    predictions = model(X, W, b)\n",
    "    L = MSE(predictions, y)\n",
    "    return L"
   ]
  },
  {
   "cell_type": "markdown",
   "id": "04601df4",
   "metadata": {},
   "source": [
    "## (7) 기울기를 구하는 gradient 함수 구현하기"
   ]
  },
  {
   "cell_type": "markdown",
   "id": "5057ba40",
   "metadata": {},
   "source": [
    "* 기울기를 계산하는 gradient 함수를 구현해주세요."
   ]
  },
  {
   "cell_type": "code",
   "execution_count": 22,
   "id": "e0fbcdb5",
   "metadata": {},
   "outputs": [
    {
     "name": "stdout",
     "output_type": "stream",
     "text": [
      "dW: [ -60.5939072   -13.74198982 -189.57311032 -142.66715167  -68.28534899\n",
      "  -56.01137271  127.63720153 -139.0048141  -182.86317496 -123.47219072]\n",
      "db: -303.0165194665144\n"
     ]
    }
   ],
   "source": [
    "def gradient(X, W, b, y):\n",
    "    # N은 데이터 포인트의 개수\n",
    "    N = len(W)\n",
    "    \n",
    "    y_pred = model(X, W, b)\n",
    "    \n",
    "    # 공식에 맞게 gradient 계산하기.\n",
    "    dW = 1/N * 2 * X.T.dot(y_pred - y)\n",
    "    \n",
    "    # b의 gradient 계산하기.\n",
    "    db = 2 * (y_pred - y).mean()\n",
    "    return dW, db\n",
    "\n",
    "dW, db = gradient(X, W, b, y)\n",
    "print(\"dW:\", dW)\n",
    "print(\"db:\", db)"
   ]
  },
  {
   "cell_type": "markdown",
   "id": "0fe987cf",
   "metadata": {},
   "source": [
    "## (8) 하이퍼 파라미터인 학습률 설정하기"
   ]
  },
  {
   "cell_type": "markdown",
   "id": "27418b0c",
   "metadata": {},
   "source": [
    "* 학습률, learning rate 를 설정해주세요.\n",
    "* 만약 학습이 잘 되지 않는다면 learning rate 값을 한번 여러 가지로 설정하며 실험해 보세요."
   ]
  },
  {
   "cell_type": "code",
   "execution_count": 23,
   "id": "d5610e2e",
   "metadata": {},
   "outputs": [],
   "source": [
    "LEARNING_RATE = 0.7"
   ]
  },
  {
   "cell_type": "markdown",
   "id": "1c9fe882",
   "metadata": {},
   "source": [
    "LEARNING_RATE 를 초기에 0.01부터 시작했지만 3000 에 조금 부족해서 값을 옮기다가 현재값에 이름."
   ]
  },
  {
   "cell_type": "markdown",
   "id": "7bfbd72b",
   "metadata": {},
   "source": [
    "## (9) 모델 학습하기"
   ]
  },
  {
   "cell_type": "markdown",
   "id": "020834d7",
   "metadata": {},
   "source": [
    "* 정의된 손실함수와 기울기 함수로 모델을 학습해주세요."
   ]
  },
  {
   "cell_type": "code",
   "execution_count": 24,
   "id": "db57f390",
   "metadata": {},
   "outputs": [
    {
     "data": {
      "text/plain": [
       "((353, 10),\n",
       " (353,),\n",
       " array([0.31912782, 0.50451992, 0.5871418 , 0.22648652, 0.47331365,\n",
       "        0.3787272 , 0.25282259, 0.41728422, 0.42743433, 0.776192  ]),\n",
       " 0.6252244296387469)"
      ]
     },
     "execution_count": 24,
     "metadata": {},
     "output_type": "execute_result"
    }
   ],
   "source": [
    "X_train.shape, y_train.shape, W, b"
   ]
  },
  {
   "cell_type": "code",
   "execution_count": 25,
   "id": "c6704dda",
   "metadata": {},
   "outputs": [
    {
     "name": "stdout",
     "output_type": "stream",
     "text": [
      "Iteration 10 : Loss 2939.3792\n",
      "Iteration 20 : Loss 2826.9670\n",
      "Iteration 30 : Loss 2812.2975\n",
      "Iteration 40 : Loss 2809.3438\n",
      "Iteration 50 : Loss 2808.3685\n",
      "Iteration 60 : Loss 2807.8669\n",
      "Iteration 70 : Loss 2807.5195\n",
      "Iteration 80 : Loss 2807.2394\n",
      "Iteration 90 : Loss 2806.9980\n",
      "Iteration 100 : Loss 2806.7838\n",
      "Iteration 110 : Loss 2806.5909\n",
      "Iteration 120 : Loss 2806.4156\n",
      "Iteration 130 : Loss 2806.2551\n",
      "Iteration 140 : Loss 2806.1073\n",
      "Iteration 150 : Loss 2805.9704\n",
      "Iteration 160 : Loss 2805.8429\n",
      "Iteration 170 : Loss 2805.7234\n",
      "Iteration 180 : Loss 2805.6111\n",
      "Iteration 190 : Loss 2805.5048\n",
      "Iteration 200 : Loss 2805.4040\n",
      "Iteration 210 : Loss 2805.3078\n",
      "Iteration 220 : Loss 2805.2159\n",
      "Iteration 230 : Loss 2805.1277\n",
      "Iteration 240 : Loss 2805.0427\n",
      "Iteration 250 : Loss 2804.9608\n",
      "Iteration 260 : Loss 2804.8816\n",
      "Iteration 270 : Loss 2804.8048\n",
      "Iteration 280 : Loss 2804.7302\n",
      "Iteration 290 : Loss 2804.6577\n",
      "Iteration 300 : Loss 2804.5871\n",
      "Iteration 310 : Loss 2804.5183\n",
      "Iteration 320 : Loss 2804.4511\n",
      "Iteration 330 : Loss 2804.3855\n",
      "Iteration 340 : Loss 2804.3213\n",
      "Iteration 350 : Loss 2804.2586\n",
      "Iteration 360 : Loss 2804.1971\n",
      "Iteration 370 : Loss 2804.1369\n",
      "Iteration 380 : Loss 2804.0780\n",
      "Iteration 390 : Loss 2804.0202\n",
      "Iteration 400 : Loss 2803.9635\n",
      "Iteration 410 : Loss 2803.9079\n",
      "Iteration 420 : Loss 2803.8533\n",
      "Iteration 430 : Loss 2803.7998\n",
      "Iteration 440 : Loss 2803.7473\n",
      "Iteration 450 : Loss 2803.6957\n",
      "Iteration 460 : Loss 2803.6451\n",
      "Iteration 470 : Loss 2803.5953\n",
      "Iteration 480 : Loss 2803.5465\n",
      "Iteration 490 : Loss 2803.4986\n",
      "Iteration 500 : Loss 2803.4515\n",
      "Iteration 510 : Loss 2803.4052\n",
      "Iteration 520 : Loss 2803.3598\n",
      "Iteration 530 : Loss 2803.3152\n",
      "Iteration 540 : Loss 2803.2713\n",
      "Iteration 550 : Loss 2803.2283\n",
      "Iteration 560 : Loss 2803.1859\n",
      "Iteration 570 : Loss 2803.1444\n",
      "Iteration 580 : Loss 2803.1035\n",
      "Iteration 590 : Loss 2803.0634\n",
      "Iteration 600 : Loss 2803.0240\n",
      "Iteration 610 : Loss 2802.9853\n",
      "Iteration 620 : Loss 2802.9472\n",
      "Iteration 630 : Loss 2802.9098\n",
      "Iteration 640 : Loss 2802.8731\n",
      "Iteration 650 : Loss 2802.8370\n",
      "Iteration 660 : Loss 2802.8015\n",
      "Iteration 670 : Loss 2802.7667\n",
      "Iteration 680 : Loss 2802.7324\n",
      "Iteration 690 : Loss 2802.6988\n",
      "Iteration 700 : Loss 2802.6657\n",
      "Iteration 710 : Loss 2802.6333\n",
      "Iteration 720 : Loss 2802.6013\n",
      "Iteration 730 : Loss 2802.5700\n",
      "Iteration 740 : Loss 2802.5392\n",
      "Iteration 750 : Loss 2802.5089\n",
      "Iteration 760 : Loss 2802.4792\n",
      "Iteration 770 : Loss 2802.4499\n",
      "Iteration 780 : Loss 2802.4212\n",
      "Iteration 790 : Loss 2802.3930\n",
      "Iteration 800 : Loss 2802.3653\n",
      "Iteration 810 : Loss 2802.3380\n",
      "Iteration 820 : Loss 2802.3112\n",
      "Iteration 830 : Loss 2802.2849\n",
      "Iteration 840 : Loss 2802.2591\n",
      "Iteration 850 : Loss 2802.2337\n",
      "Iteration 860 : Loss 2802.2087\n",
      "Iteration 870 : Loss 2802.1842\n",
      "Iteration 880 : Loss 2802.1601\n",
      "Iteration 890 : Loss 2802.1365\n",
      "Iteration 900 : Loss 2802.1132\n",
      "Iteration 910 : Loss 2802.0903\n",
      "Iteration 920 : Loss 2802.0679\n",
      "Iteration 930 : Loss 2802.0458\n",
      "Iteration 940 : Loss 2802.0241\n",
      "Iteration 950 : Loss 2802.0028\n",
      "Iteration 960 : Loss 2801.9819\n",
      "Iteration 970 : Loss 2801.9613\n",
      "Iteration 980 : Loss 2801.9411\n",
      "Iteration 990 : Loss 2801.9213\n",
      "Iteration 1000 : Loss 2801.9018\n"
     ]
    }
   ],
   "source": [
    "losses = []\n",
    "\n",
    "for i in range(1, 1001):\n",
    "    dW, db = gradient(X_train, W, b, y_train)\n",
    "    W -= LEARNING_RATE * dW\n",
    "    b -= LEARNING_RATE * db\n",
    "    L = loss(X_train, W, b, y_train)\n",
    "    losses.append(L)\n",
    "    if i % 10 == 0:\n",
    "        print('Iteration %d : Loss %.4f' % (i, L))"
   ]
  },
  {
   "cell_type": "markdown",
   "id": "9777a6fa",
   "metadata": {},
   "source": [
    "* loss 값이 충분히 떨어질 때까지 학습을 진행해주세요.  \n",
    "LEARNING_RATE = 0.7    => Iteration 10 : Loss 2939.5034 로 시작 Iteration 1000 : Loss 2801.8998 로 끝. 3000 이하 성공."
   ]
  },
  {
   "cell_type": "markdown",
   "id": "c470efad",
   "metadata": {},
   "source": [
    "* 입력하는 데이터인 X 에 들어가는 특성 컬럼들을 몇개 빼도 괜찮습니다. 다양한 데이터로 실험해보세요."
   ]
  },
  {
   "cell_type": "code",
   "execution_count": 26,
   "id": "54bcba19",
   "metadata": {},
   "outputs": [
    {
     "data": {
      "text/html": [
       "<div>\n",
       "<style scoped>\n",
       "    .dataframe tbody tr th:only-of-type {\n",
       "        vertical-align: middle;\n",
       "    }\n",
       "\n",
       "    .dataframe tbody tr th {\n",
       "        vertical-align: top;\n",
       "    }\n",
       "\n",
       "    .dataframe thead th {\n",
       "        text-align: right;\n",
       "    }\n",
       "</style>\n",
       "<table border=\"1\" class=\"dataframe\">\n",
       "  <thead>\n",
       "    <tr style=\"text-align: right;\">\n",
       "      <th></th>\n",
       "      <th>age</th>\n",
       "      <th>sex</th>\n",
       "      <th>bmi</th>\n",
       "      <th>bp</th>\n",
       "      <th>s1</th>\n",
       "      <th>s2</th>\n",
       "      <th>s3</th>\n",
       "      <th>s4</th>\n",
       "      <th>s5</th>\n",
       "      <th>s6</th>\n",
       "      <th>target</th>\n",
       "    </tr>\n",
       "  </thead>\n",
       "  <tbody>\n",
       "    <tr>\n",
       "      <th>0</th>\n",
       "      <td>0.038076</td>\n",
       "      <td>0.050680</td>\n",
       "      <td>0.061696</td>\n",
       "      <td>0.021872</td>\n",
       "      <td>-0.044223</td>\n",
       "      <td>-0.034821</td>\n",
       "      <td>-0.043401</td>\n",
       "      <td>-0.002592</td>\n",
       "      <td>0.019908</td>\n",
       "      <td>-0.017646</td>\n",
       "      <td>151.0</td>\n",
       "    </tr>\n",
       "    <tr>\n",
       "      <th>1</th>\n",
       "      <td>-0.001882</td>\n",
       "      <td>-0.044642</td>\n",
       "      <td>-0.051474</td>\n",
       "      <td>-0.026328</td>\n",
       "      <td>-0.008449</td>\n",
       "      <td>-0.019163</td>\n",
       "      <td>0.074412</td>\n",
       "      <td>-0.039493</td>\n",
       "      <td>-0.068330</td>\n",
       "      <td>-0.092204</td>\n",
       "      <td>75.0</td>\n",
       "    </tr>\n",
       "    <tr>\n",
       "      <th>2</th>\n",
       "      <td>0.085299</td>\n",
       "      <td>0.050680</td>\n",
       "      <td>0.044451</td>\n",
       "      <td>-0.005671</td>\n",
       "      <td>-0.045599</td>\n",
       "      <td>-0.034194</td>\n",
       "      <td>-0.032356</td>\n",
       "      <td>-0.002592</td>\n",
       "      <td>0.002864</td>\n",
       "      <td>-0.025930</td>\n",
       "      <td>141.0</td>\n",
       "    </tr>\n",
       "    <tr>\n",
       "      <th>3</th>\n",
       "      <td>-0.089063</td>\n",
       "      <td>-0.044642</td>\n",
       "      <td>-0.011595</td>\n",
       "      <td>-0.036656</td>\n",
       "      <td>0.012191</td>\n",
       "      <td>0.024991</td>\n",
       "      <td>-0.036038</td>\n",
       "      <td>0.034309</td>\n",
       "      <td>0.022692</td>\n",
       "      <td>-0.009362</td>\n",
       "      <td>206.0</td>\n",
       "    </tr>\n",
       "    <tr>\n",
       "      <th>4</th>\n",
       "      <td>0.005383</td>\n",
       "      <td>-0.044642</td>\n",
       "      <td>-0.036385</td>\n",
       "      <td>0.021872</td>\n",
       "      <td>0.003935</td>\n",
       "      <td>0.015596</td>\n",
       "      <td>0.008142</td>\n",
       "      <td>-0.002592</td>\n",
       "      <td>-0.031991</td>\n",
       "      <td>-0.046641</td>\n",
       "      <td>135.0</td>\n",
       "    </tr>\n",
       "    <tr>\n",
       "      <th>...</th>\n",
       "      <td>...</td>\n",
       "      <td>...</td>\n",
       "      <td>...</td>\n",
       "      <td>...</td>\n",
       "      <td>...</td>\n",
       "      <td>...</td>\n",
       "      <td>...</td>\n",
       "      <td>...</td>\n",
       "      <td>...</td>\n",
       "      <td>...</td>\n",
       "      <td>...</td>\n",
       "    </tr>\n",
       "    <tr>\n",
       "      <th>437</th>\n",
       "      <td>0.041708</td>\n",
       "      <td>0.050680</td>\n",
       "      <td>0.019662</td>\n",
       "      <td>0.059744</td>\n",
       "      <td>-0.005697</td>\n",
       "      <td>-0.002566</td>\n",
       "      <td>-0.028674</td>\n",
       "      <td>-0.002592</td>\n",
       "      <td>0.031193</td>\n",
       "      <td>0.007207</td>\n",
       "      <td>178.0</td>\n",
       "    </tr>\n",
       "    <tr>\n",
       "      <th>438</th>\n",
       "      <td>-0.005515</td>\n",
       "      <td>0.050680</td>\n",
       "      <td>-0.015906</td>\n",
       "      <td>-0.067642</td>\n",
       "      <td>0.049341</td>\n",
       "      <td>0.079165</td>\n",
       "      <td>-0.028674</td>\n",
       "      <td>0.034309</td>\n",
       "      <td>-0.018118</td>\n",
       "      <td>0.044485</td>\n",
       "      <td>104.0</td>\n",
       "    </tr>\n",
       "    <tr>\n",
       "      <th>439</th>\n",
       "      <td>0.041708</td>\n",
       "      <td>0.050680</td>\n",
       "      <td>-0.015906</td>\n",
       "      <td>0.017282</td>\n",
       "      <td>-0.037344</td>\n",
       "      <td>-0.013840</td>\n",
       "      <td>-0.024993</td>\n",
       "      <td>-0.011080</td>\n",
       "      <td>-0.046879</td>\n",
       "      <td>0.015491</td>\n",
       "      <td>132.0</td>\n",
       "    </tr>\n",
       "    <tr>\n",
       "      <th>440</th>\n",
       "      <td>-0.045472</td>\n",
       "      <td>-0.044642</td>\n",
       "      <td>0.039062</td>\n",
       "      <td>0.001215</td>\n",
       "      <td>0.016318</td>\n",
       "      <td>0.015283</td>\n",
       "      <td>-0.028674</td>\n",
       "      <td>0.026560</td>\n",
       "      <td>0.044528</td>\n",
       "      <td>-0.025930</td>\n",
       "      <td>220.0</td>\n",
       "    </tr>\n",
       "    <tr>\n",
       "      <th>441</th>\n",
       "      <td>-0.045472</td>\n",
       "      <td>-0.044642</td>\n",
       "      <td>-0.073030</td>\n",
       "      <td>-0.081414</td>\n",
       "      <td>0.083740</td>\n",
       "      <td>0.027809</td>\n",
       "      <td>0.173816</td>\n",
       "      <td>-0.039493</td>\n",
       "      <td>-0.004220</td>\n",
       "      <td>0.003064</td>\n",
       "      <td>57.0</td>\n",
       "    </tr>\n",
       "  </tbody>\n",
       "</table>\n",
       "<p>442 rows × 11 columns</p>\n",
       "</div>"
      ],
      "text/plain": [
       "          age       sex       bmi        bp        s1        s2        s3  \\\n",
       "0    0.038076  0.050680  0.061696  0.021872 -0.044223 -0.034821 -0.043401   \n",
       "1   -0.001882 -0.044642 -0.051474 -0.026328 -0.008449 -0.019163  0.074412   \n",
       "2    0.085299  0.050680  0.044451 -0.005671 -0.045599 -0.034194 -0.032356   \n",
       "3   -0.089063 -0.044642 -0.011595 -0.036656  0.012191  0.024991 -0.036038   \n",
       "4    0.005383 -0.044642 -0.036385  0.021872  0.003935  0.015596  0.008142   \n",
       "..        ...       ...       ...       ...       ...       ...       ...   \n",
       "437  0.041708  0.050680  0.019662  0.059744 -0.005697 -0.002566 -0.028674   \n",
       "438 -0.005515  0.050680 -0.015906 -0.067642  0.049341  0.079165 -0.028674   \n",
       "439  0.041708  0.050680 -0.015906  0.017282 -0.037344 -0.013840 -0.024993   \n",
       "440 -0.045472 -0.044642  0.039062  0.001215  0.016318  0.015283 -0.028674   \n",
       "441 -0.045472 -0.044642 -0.073030 -0.081414  0.083740  0.027809  0.173816   \n",
       "\n",
       "           s4        s5        s6  target  \n",
       "0   -0.002592  0.019908 -0.017646   151.0  \n",
       "1   -0.039493 -0.068330 -0.092204    75.0  \n",
       "2   -0.002592  0.002864 -0.025930   141.0  \n",
       "3    0.034309  0.022692 -0.009362   206.0  \n",
       "4   -0.002592 -0.031991 -0.046641   135.0  \n",
       "..        ...       ...       ...     ...  \n",
       "437 -0.002592  0.031193  0.007207   178.0  \n",
       "438  0.034309 -0.018118  0.044485   104.0  \n",
       "439 -0.011080 -0.046879  0.015491   132.0  \n",
       "440  0.026560  0.044528 -0.025930   220.0  \n",
       "441 -0.039493 -0.004220  0.003064    57.0  \n",
       "\n",
       "[442 rows x 11 columns]"
      ]
     },
     "execution_count": 26,
     "metadata": {},
     "output_type": "execute_result"
    }
   ],
   "source": [
    "df_diabetes = pd.DataFrame(np.c_[diabetes['data'], diabetes['target']], columns=np.append(diabetes['feature_names'], ['target']))\n",
    "df_diabetes"
   ]
  },
  {
   "cell_type": "code",
   "execution_count": 27,
   "id": "a498c3cf",
   "metadata": {},
   "outputs": [
    {
     "name": "stdout",
     "output_type": "stream",
     "text": [
      "Iteration 10 : Loss 3489.8512\n",
      "Iteration 20 : Loss 3188.2964\n",
      "Iteration 30 : Loss 3180.3370\n",
      "Iteration 40 : Loss 3179.1997\n",
      "Iteration 50 : Loss 3178.9218\n",
      "Iteration 60 : Loss 3178.8503\n",
      "Iteration 70 : Loss 3178.8317\n",
      "Iteration 80 : Loss 3178.8269\n",
      "Iteration 90 : Loss 3178.8256\n",
      "Iteration 100 : Loss 3178.8253\n",
      "Iteration 110 : Loss 3178.8252\n",
      "Iteration 120 : Loss 3178.8252\n",
      "Iteration 130 : Loss 3178.8252\n",
      "Iteration 140 : Loss 3178.8252\n",
      "Iteration 150 : Loss 3178.8252\n",
      "Iteration 160 : Loss 3178.8252\n",
      "Iteration 170 : Loss 3178.8252\n",
      "Iteration 180 : Loss 3178.8252\n",
      "Iteration 190 : Loss 3178.8252\n",
      "Iteration 200 : Loss 3178.8252\n",
      "Iteration 210 : Loss 3178.8252\n",
      "Iteration 220 : Loss 3178.8252\n",
      "Iteration 230 : Loss 3178.8252\n",
      "Iteration 240 : Loss 3178.8252\n",
      "Iteration 250 : Loss 3178.8252\n",
      "Iteration 260 : Loss 3178.8252\n",
      "Iteration 270 : Loss 3178.8252\n",
      "Iteration 280 : Loss 3178.8252\n",
      "Iteration 290 : Loss 3178.8252\n",
      "Iteration 300 : Loss 3178.8252\n",
      "Iteration 310 : Loss 3178.8252\n",
      "Iteration 320 : Loss 3178.8252\n",
      "Iteration 330 : Loss 3178.8252\n",
      "Iteration 340 : Loss 3178.8252\n",
      "Iteration 350 : Loss 3178.8252\n",
      "Iteration 360 : Loss 3178.8252\n",
      "Iteration 370 : Loss 3178.8252\n",
      "Iteration 380 : Loss 3178.8252\n",
      "Iteration 390 : Loss 3178.8252\n",
      "Iteration 400 : Loss 3178.8252\n",
      "Iteration 410 : Loss 3178.8252\n",
      "Iteration 420 : Loss 3178.8252\n",
      "Iteration 430 : Loss 3178.8252\n",
      "Iteration 440 : Loss 3178.8252\n",
      "Iteration 450 : Loss 3178.8252\n",
      "Iteration 460 : Loss 3178.8252\n",
      "Iteration 470 : Loss 3178.8252\n",
      "Iteration 480 : Loss 3178.8252\n",
      "Iteration 490 : Loss 3178.8252\n",
      "Iteration 500 : Loss 3178.8252\n",
      "Iteration 510 : Loss 3178.8252\n",
      "Iteration 520 : Loss 3178.8252\n",
      "Iteration 530 : Loss 3178.8252\n",
      "Iteration 540 : Loss 3178.8252\n",
      "Iteration 550 : Loss 3178.8252\n",
      "Iteration 560 : Loss 3178.8252\n",
      "Iteration 570 : Loss 3178.8252\n",
      "Iteration 580 : Loss 3178.8252\n",
      "Iteration 590 : Loss 3178.8252\n",
      "Iteration 600 : Loss 3178.8252\n",
      "Iteration 610 : Loss 3178.8252\n",
      "Iteration 620 : Loss 3178.8252\n",
      "Iteration 630 : Loss 3178.8252\n",
      "Iteration 640 : Loss 3178.8252\n",
      "Iteration 650 : Loss 3178.8252\n",
      "Iteration 660 : Loss 3178.8252\n",
      "Iteration 670 : Loss 3178.8252\n",
      "Iteration 680 : Loss 3178.8252\n",
      "Iteration 690 : Loss 3178.8252\n",
      "Iteration 700 : Loss 3178.8252\n",
      "Iteration 710 : Loss 3178.8252\n",
      "Iteration 720 : Loss 3178.8252\n",
      "Iteration 730 : Loss 3178.8252\n",
      "Iteration 740 : Loss 3178.8252\n",
      "Iteration 750 : Loss 3178.8252\n",
      "Iteration 760 : Loss 3178.8252\n",
      "Iteration 770 : Loss 3178.8252\n",
      "Iteration 780 : Loss 3178.8252\n",
      "Iteration 790 : Loss 3178.8252\n",
      "Iteration 800 : Loss 3178.8252\n",
      "Iteration 810 : Loss 3178.8252\n",
      "Iteration 820 : Loss 3178.8252\n",
      "Iteration 830 : Loss 3178.8252\n",
      "Iteration 840 : Loss 3178.8252\n",
      "Iteration 850 : Loss 3178.8252\n",
      "Iteration 860 : Loss 3178.8252\n",
      "Iteration 870 : Loss 3178.8252\n",
      "Iteration 880 : Loss 3178.8252\n",
      "Iteration 890 : Loss 3178.8252\n",
      "Iteration 900 : Loss 3178.8252\n",
      "Iteration 910 : Loss 3178.8252\n",
      "Iteration 920 : Loss 3178.8252\n",
      "Iteration 930 : Loss 3178.8252\n",
      "Iteration 940 : Loss 3178.8252\n",
      "Iteration 950 : Loss 3178.8252\n",
      "Iteration 960 : Loss 3178.8252\n",
      "Iteration 970 : Loss 3178.8252\n",
      "Iteration 980 : Loss 3178.8252\n",
      "Iteration 990 : Loss 3178.8252\n",
      "Iteration 1000 : Loss 3178.8252\n"
     ]
    }
   ],
   "source": [
    "# case 1: 기본 신체정보와 일반인들이 생활정보로 알만한 혈중 콜레스테롤 수치와 당수치만 넣고 실험\n",
    "df_diabetes_1 = df_diabetes[['age', 'sex', 'bmi', 'bp', 's1', 's4', 's6', 'target']]\n",
    "\n",
    "X = df_diabetes_1[['age', 'sex', 'bmi', 'bp', 's1', 's4', 's6']].values\n",
    "y = df_diabetes_1['target'].values\n",
    "\n",
    "X_train, X_test, y_train, y_test = train_test_split(X, y, test_size=.2, random_state=11)\n",
    "\n",
    "W = np.random.rand(7)\n",
    "b = np.random.rand()\n",
    "\n",
    "LEARNING_RATE = 0.9\n",
    "\n",
    "losses = []\n",
    "for i in range(1, 1001):\n",
    "    dW, db = gradient(X_train, W, b, y_train)\n",
    "    W -= LEARNING_RATE * dW\n",
    "    b -= LEARNING_RATE * db\n",
    "    L = loss(X_train, W, b, y_train)\n",
    "    losses.append(L)\n",
    "    if i % 10 == 0:\n",
    "        print('Iteration %d : Loss %.4f' % (i, L))\n",
    "\n",
    "# LEARNING_RATE = 0.9 가 되도록 3000이하가 안되니 실패."
   ]
  },
  {
   "cell_type": "code",
   "execution_count": 28,
   "id": "14ee2d3f",
   "metadata": {},
   "outputs": [
    {
     "name": "stdout",
     "output_type": "stream",
     "text": [
      "Iteration 10 : Loss 3135.8544\n",
      "Iteration 20 : Loss 2946.7761\n",
      "Iteration 30 : Loss 2906.6458\n",
      "Iteration 40 : Loss 2896.5292\n",
      "Iteration 50 : Loss 2893.8905\n",
      "Iteration 60 : Loss 2893.1807\n",
      "Iteration 70 : Loss 2892.9825\n",
      "Iteration 80 : Loss 2892.9246\n",
      "Iteration 90 : Loss 2892.9067\n",
      "Iteration 100 : Loss 2892.9009\n",
      "Iteration 110 : Loss 2892.8988\n",
      "Iteration 120 : Loss 2892.8981\n",
      "Iteration 130 : Loss 2892.8978\n",
      "Iteration 140 : Loss 2892.8976\n",
      "Iteration 150 : Loss 2892.8976\n",
      "Iteration 160 : Loss 2892.8976\n",
      "Iteration 170 : Loss 2892.8976\n",
      "Iteration 180 : Loss 2892.8976\n",
      "Iteration 190 : Loss 2892.8976\n",
      "Iteration 200 : Loss 2892.8975\n",
      "Iteration 210 : Loss 2892.8975\n",
      "Iteration 220 : Loss 2892.8975\n",
      "Iteration 230 : Loss 2892.8975\n",
      "Iteration 240 : Loss 2892.8975\n",
      "Iteration 250 : Loss 2892.8975\n",
      "Iteration 260 : Loss 2892.8975\n",
      "Iteration 270 : Loss 2892.8975\n",
      "Iteration 280 : Loss 2892.8975\n",
      "Iteration 290 : Loss 2892.8975\n",
      "Iteration 300 : Loss 2892.8975\n",
      "Iteration 310 : Loss 2892.8975\n",
      "Iteration 320 : Loss 2892.8975\n",
      "Iteration 330 : Loss 2892.8975\n",
      "Iteration 340 : Loss 2892.8975\n",
      "Iteration 350 : Loss 2892.8975\n",
      "Iteration 360 : Loss 2892.8975\n",
      "Iteration 370 : Loss 2892.8975\n",
      "Iteration 380 : Loss 2892.8975\n",
      "Iteration 390 : Loss 2892.8975\n",
      "Iteration 400 : Loss 2892.8975\n",
      "Iteration 410 : Loss 2892.8975\n",
      "Iteration 420 : Loss 2892.8975\n",
      "Iteration 430 : Loss 2892.8975\n",
      "Iteration 440 : Loss 2892.8975\n",
      "Iteration 450 : Loss 2892.8975\n",
      "Iteration 460 : Loss 2892.8975\n",
      "Iteration 470 : Loss 2892.8975\n",
      "Iteration 480 : Loss 2892.8975\n",
      "Iteration 490 : Loss 2892.8975\n",
      "Iteration 500 : Loss 2892.8975\n",
      "Iteration 510 : Loss 2892.8975\n",
      "Iteration 520 : Loss 2892.8975\n",
      "Iteration 530 : Loss 2892.8975\n",
      "Iteration 540 : Loss 2892.8975\n",
      "Iteration 550 : Loss 2892.8975\n",
      "Iteration 560 : Loss 2892.8975\n",
      "Iteration 570 : Loss 2892.8975\n",
      "Iteration 580 : Loss 2892.8975\n",
      "Iteration 590 : Loss 2892.8975\n",
      "Iteration 600 : Loss 2892.8975\n",
      "Iteration 610 : Loss 2892.8975\n",
      "Iteration 620 : Loss 2892.8975\n",
      "Iteration 630 : Loss 2892.8975\n",
      "Iteration 640 : Loss 2892.8975\n",
      "Iteration 650 : Loss 2892.8975\n",
      "Iteration 660 : Loss 2892.8975\n",
      "Iteration 670 : Loss 2892.8975\n",
      "Iteration 680 : Loss 2892.8975\n",
      "Iteration 690 : Loss 2892.8975\n",
      "Iteration 700 : Loss 2892.8975\n",
      "Iteration 710 : Loss 2892.8975\n",
      "Iteration 720 : Loss 2892.8975\n",
      "Iteration 730 : Loss 2892.8975\n",
      "Iteration 740 : Loss 2892.8975\n",
      "Iteration 750 : Loss 2892.8975\n",
      "Iteration 760 : Loss 2892.8975\n",
      "Iteration 770 : Loss 2892.8975\n",
      "Iteration 780 : Loss 2892.8975\n",
      "Iteration 790 : Loss 2892.8975\n",
      "Iteration 800 : Loss 2892.8975\n",
      "Iteration 810 : Loss 2892.8975\n",
      "Iteration 820 : Loss 2892.8975\n",
      "Iteration 830 : Loss 2892.8975\n",
      "Iteration 840 : Loss 2892.8975\n",
      "Iteration 850 : Loss 2892.8975\n",
      "Iteration 860 : Loss 2892.8975\n",
      "Iteration 870 : Loss 2892.8975\n",
      "Iteration 880 : Loss 2892.8975\n",
      "Iteration 890 : Loss 2892.8975\n",
      "Iteration 900 : Loss 2892.8975\n",
      "Iteration 910 : Loss 2892.8975\n",
      "Iteration 920 : Loss 2892.8975\n",
      "Iteration 930 : Loss 2892.8975\n",
      "Iteration 940 : Loss 2892.8975\n",
      "Iteration 950 : Loss 2892.8975\n",
      "Iteration 960 : Loss 2892.8975\n",
      "Iteration 970 : Loss 2892.8975\n",
      "Iteration 980 : Loss 2892.8975\n",
      "Iteration 990 : Loss 2892.8975\n",
      "Iteration 1000 : Loss 2892.8975\n"
     ]
    }
   ],
   "source": [
    "# case 2: case 1의 다른 요소들로 테스트\n",
    "df_diabetes_2 = df_diabetes[['age', 'sex', 'bmi', 'bp', 's2', 's3', 's5', 'target']]\n",
    "\n",
    "X = df_diabetes_2[['age', 'sex', 'bmi', 'bp', 's2', 's3', 's5']].values\n",
    "y = df_diabetes_2['target'].values\n",
    "\n",
    "X_train, X_test, y_train, y_test = train_test_split(X, y, test_size=.2, random_state=11)\n",
    "\n",
    "W = np.random.rand(7)\n",
    "b = np.random.rand()\n",
    "\n",
    "LEARNING_RATE = 0.26\n",
    "\n",
    "losses = []\n",
    "for i in range(1, 1001):\n",
    "    dW, db = gradient(X, W, b, y)\n",
    "    W -= LEARNING_RATE * dW\n",
    "    b -= LEARNING_RATE * db\n",
    "    L = loss(X, W, b, y)\n",
    "    losses.append(L)\n",
    "    if i % 10 == 0:\n",
    "        print('Iteration %d : Loss %.4f' % (i, L))\n",
    "\n",
    "# case 1번 보다 긍정적"
   ]
  },
  {
   "cell_type": "code",
   "execution_count": 29,
   "id": "09a8f5d5",
   "metadata": {},
   "outputs": [
    {
     "name": "stdout",
     "output_type": "stream",
     "text": [
      "Iteration 10 : Loss 3057.5925\n",
      "Iteration 20 : Loss 2935.6337\n",
      "Iteration 30 : Loss 2917.6036\n",
      "Iteration 40 : Loss 2914.3063\n",
      "Iteration 50 : Loss 2913.6431\n",
      "Iteration 60 : Loss 2913.4865\n",
      "Iteration 70 : Loss 2913.4403\n",
      "Iteration 80 : Loss 2913.4233\n",
      "Iteration 90 : Loss 2913.4162\n",
      "Iteration 100 : Loss 2913.4129\n",
      "Iteration 110 : Loss 2913.4114\n",
      "Iteration 120 : Loss 2913.4107\n",
      "Iteration 130 : Loss 2913.4104\n",
      "Iteration 140 : Loss 2913.4102\n",
      "Iteration 150 : Loss 2913.4101\n",
      "Iteration 160 : Loss 2913.4101\n",
      "Iteration 170 : Loss 2913.4101\n",
      "Iteration 180 : Loss 2913.4101\n",
      "Iteration 190 : Loss 2913.4101\n",
      "Iteration 200 : Loss 2913.4101\n",
      "Iteration 210 : Loss 2913.4101\n",
      "Iteration 220 : Loss 2913.4101\n",
      "Iteration 230 : Loss 2913.4101\n",
      "Iteration 240 : Loss 2913.4101\n",
      "Iteration 250 : Loss 2913.4101\n",
      "Iteration 260 : Loss 2913.4101\n",
      "Iteration 270 : Loss 2913.4101\n",
      "Iteration 280 : Loss 2913.4101\n",
      "Iteration 290 : Loss 2913.4101\n",
      "Iteration 300 : Loss 2913.4101\n",
      "Iteration 310 : Loss 2913.4101\n",
      "Iteration 320 : Loss 2913.4101\n",
      "Iteration 330 : Loss 2913.4101\n",
      "Iteration 340 : Loss 2913.4101\n",
      "Iteration 350 : Loss 2913.4101\n",
      "Iteration 360 : Loss 2913.4101\n",
      "Iteration 370 : Loss 2913.4101\n",
      "Iteration 380 : Loss 2913.4101\n",
      "Iteration 390 : Loss 2913.4101\n",
      "Iteration 400 : Loss 2913.4101\n",
      "Iteration 410 : Loss 2913.4101\n",
      "Iteration 420 : Loss 2913.4101\n",
      "Iteration 430 : Loss 2913.4101\n",
      "Iteration 440 : Loss 2913.4101\n",
      "Iteration 450 : Loss 2913.4101\n",
      "Iteration 460 : Loss 2913.4101\n",
      "Iteration 470 : Loss 2913.4101\n",
      "Iteration 480 : Loss 2913.4101\n",
      "Iteration 490 : Loss 2913.4101\n",
      "Iteration 500 : Loss 2913.4101\n",
      "Iteration 510 : Loss 2913.4101\n",
      "Iteration 520 : Loss 2913.4101\n",
      "Iteration 530 : Loss 2913.4101\n",
      "Iteration 540 : Loss 2913.4101\n",
      "Iteration 550 : Loss 2913.4101\n",
      "Iteration 560 : Loss 2913.4101\n",
      "Iteration 570 : Loss 2913.4101\n",
      "Iteration 580 : Loss 2913.4101\n",
      "Iteration 590 : Loss 2913.4101\n",
      "Iteration 600 : Loss 2913.4101\n",
      "Iteration 610 : Loss 2913.4101\n",
      "Iteration 620 : Loss 2913.4101\n",
      "Iteration 630 : Loss 2913.4101\n",
      "Iteration 640 : Loss 2913.4101\n",
      "Iteration 650 : Loss 2913.4101\n",
      "Iteration 660 : Loss 2913.4101\n",
      "Iteration 670 : Loss 2913.4101\n",
      "Iteration 680 : Loss 2913.4101\n",
      "Iteration 690 : Loss 2913.4101\n",
      "Iteration 700 : Loss 2913.4101\n",
      "Iteration 710 : Loss 2913.4101\n",
      "Iteration 720 : Loss 2913.4101\n",
      "Iteration 730 : Loss 2913.4101\n",
      "Iteration 740 : Loss 2913.4101\n",
      "Iteration 750 : Loss 2913.4101\n",
      "Iteration 760 : Loss 2913.4101\n",
      "Iteration 770 : Loss 2913.4101\n",
      "Iteration 780 : Loss 2913.4101\n",
      "Iteration 790 : Loss 2913.4101\n",
      "Iteration 800 : Loss 2913.4101\n",
      "Iteration 810 : Loss 2913.4101\n",
      "Iteration 820 : Loss 2913.4101\n",
      "Iteration 830 : Loss 2913.4101\n",
      "Iteration 840 : Loss 2913.4101\n",
      "Iteration 850 : Loss 2913.4101\n",
      "Iteration 860 : Loss 2913.4101\n",
      "Iteration 870 : Loss 2913.4101\n",
      "Iteration 880 : Loss 2913.4101\n",
      "Iteration 890 : Loss 2913.4101\n",
      "Iteration 900 : Loss 2913.4101\n",
      "Iteration 910 : Loss 2913.4101\n",
      "Iteration 920 : Loss 2913.4101\n",
      "Iteration 930 : Loss 2913.4101\n",
      "Iteration 940 : Loss 2913.4101\n",
      "Iteration 950 : Loss 2913.4101\n",
      "Iteration 960 : Loss 2913.4101\n",
      "Iteration 970 : Loss 2913.4101\n",
      "Iteration 980 : Loss 2913.4101\n",
      "Iteration 990 : Loss 2913.4101\n",
      "Iteration 1000 : Loss 2913.4101\n"
     ]
    }
   ],
   "source": [
    "# case 3: 그외 여러 조합을 시도.\n",
    "df_diabetes_3 = df_diabetes[['age', 'sex', 'bmi', 'bp', 's3', 's5', 'target']]\n",
    "\n",
    "X = df_diabetes_3[['age', 'sex', 'bmi', 'bp', 's3', 's5']].values\n",
    "y = df_diabetes_3['target'].values\n",
    "\n",
    "X_train, X_test, y_train, y_test = train_test_split(X, y, test_size=.2, random_state=11)\n",
    "\n",
    "W = np.random.rand(len(X[1]))\n",
    "b = np.random.rand()\n",
    "\n",
    "LEARNING_RATE = 0.26\n",
    "\n",
    "losses = []\n",
    "for i in range(1, 1001):\n",
    "    dW, db = gradient(X, W, b, y)\n",
    "    W -= LEARNING_RATE * dW\n",
    "    b -= LEARNING_RATE * db\n",
    "    L = loss(X, W, b, y)\n",
    "    losses.append(L)\n",
    "    if i % 10 == 0:\n",
    "        print('Iteration %d : Loss %.4f' % (i, L))\n",
    "        \n",
    "# 그외의 조합은 수치가 더 높아지니 테스트 종료."
   ]
  },
  {
   "cell_type": "markdown",
   "id": "09973b2d",
   "metadata": {},
   "source": [
    "## (10) test 데이터에 대한 성능 확인하기"
   ]
  },
  {
   "cell_type": "markdown",
   "id": "5193dcf7",
   "metadata": {},
   "source": [
    "* test 데이터에 대한 성능을 확인해주세요."
   ]
  },
  {
   "cell_type": "code",
   "execution_count": 30,
   "id": "08b9d284",
   "metadata": {},
   "outputs": [
    {
     "data": {
      "text/plain": [
       "3235.1062144790535"
      ]
     },
     "execution_count": 30,
     "metadata": {},
     "output_type": "execute_result"
    }
   ],
   "source": [
    "from sklearn.linear_model import LinearRegression\n",
    "from sklearn.metrics import mean_squared_error\n",
    "\n",
    "model_linear = LinearRegression()\n",
    "model_linear.fit(X_train, y_train)\n",
    "predictions = model_linear.predict(X_test)\n",
    "\n",
    "mse = mean_squared_error(y_test, predictions)\n",
    "mse\n",
    "\n",
    "# 위에서 테스트한 loss와 차이가 좀 있음.\n",
    "# MSE 값이 3238.503214989248 밖에 안됨.\n",
    "# 목표인 3000점 이하를 위해 다른 방법을 탐색."
   ]
  },
  {
   "cell_type": "code",
   "execution_count": 31,
   "id": "0175509f",
   "metadata": {},
   "outputs": [
    {
     "name": "stdout",
     "output_type": "stream",
     "text": [
      "[[-0.04299065]\n",
      " [-0.1376947 ]\n",
      " [-0.05545171]\n",
      " [ 0.02554517]\n",
      " [-0.06292835]\n",
      " [-0.11028037]\n",
      " [-0.05919003]\n",
      " [-0.15264798]\n",
      " [-0.094081  ]\n",
      " [ 0.15514019]\n",
      " [-0.10529595]\n",
      " [-0.14517134]\n",
      " [-0.00809969]\n",
      " [-0.00062305]\n",
      " [-0.08411215]\n",
      " [-0.01806854]\n",
      " [-0.02429907]\n",
      " [-0.0517134 ]\n",
      " [-0.11028037]\n",
      " [-0.02180685]\n",
      " [-0.14641745]\n",
      " [-0.17009346]\n",
      " [-0.14641745]\n",
      " [ 0.0741433 ]\n",
      " [-0.00186916]\n",
      " [ 0.02056075]\n",
      " [-0.06043614]\n",
      " [-0.12523364]\n",
      " [-0.06791277]\n",
      " [ 0.12149533]\n",
      " [-0.07040498]\n",
      " [-0.1576324 ]\n",
      " [ 0.19376947]\n",
      " [-0.12274143]\n",
      " [-0.15015576]\n",
      " [-0.10404984]\n",
      " [ 0.09906542]\n",
      " [ 0.11277259]\n",
      " [ 0.08286604]\n",
      " [-0.11900312]\n",
      " [-0.10654206]\n",
      " [-0.16261682]\n",
      " [-0.15514019]\n",
      " [-0.1165109 ]\n",
      " [ 0.09158879]\n",
      " [-0.16510903]\n",
      " [ 0.00560748]\n",
      " [-0.05420561]\n",
      " [-0.1376947 ]\n",
      " [-0.05420561]\n",
      " [-0.03800623]\n",
      " [ 0.04922118]\n",
      " [-0.1576324 ]\n",
      " [-0.10155763]\n",
      " [-0.00436137]\n",
      " [-0.07165109]\n",
      " [-0.16635514]\n",
      " [-0.18504673]\n",
      " [-0.01931464]\n",
      " [-0.01931464]\n",
      " [-0.15514019]\n",
      " [-0.0517134 ]\n",
      " [-0.16635514]\n",
      " [-0.07165109]\n",
      " [-0.14267913]\n",
      " [-0.02803738]\n",
      " [-0.04423676]\n",
      " [-0.11028037]\n",
      " [-0.0317757 ]\n",
      " [-0.00934579]\n",
      " [-0.17133956]\n",
      " [ 0.10529595]\n",
      " [ 0.02056075]\n",
      " [-0.09283489]\n",
      " [-0.12523364]\n",
      " [-0.1788162 ]\n",
      " [-0.01931464]\n",
      " [ 0.01806854]\n",
      " [ 0.08286604]\n",
      " [-0.09034268]\n",
      " [-0.0529595 ]\n",
      " [-0.16760125]\n",
      " [-0.16635514]\n",
      " [ 0.0305296 ]\n",
      " [-0.15015576]\n",
      " [-0.05545171]\n",
      " [-0.16261682]\n",
      " [-0.06417445]\n",
      " [-0.1788162 ]\n",
      " [-0.09283489]\n",
      " [-0.10903427]\n",
      " [-0.02679128]\n",
      " [-0.17133956]\n",
      " [-0.11152648]\n",
      " [-0.11900312]\n",
      " [-0.02928349]\n",
      " [-0.04423676]\n",
      " [ 0.1165109 ]\n",
      " [-0.1165109 ]\n",
      " [-0.12772586]\n",
      " [-0.07165109]\n",
      " [-0.10404984]\n",
      " [ 0.14517134]\n",
      " [ 0.01557632]\n",
      " [-0.11277259]\n",
      " [-0.16510903]\n",
      " [-0.06417445]\n",
      " [-0.0517134 ]\n",
      " [ 0.05794393]\n",
      " [-0.13021807]\n",
      " [-0.10155763]\n",
      " [-0.1576324 ]\n",
      " [ 0.07538941]\n",
      " [ 0.13894081]\n",
      " [ 0.09034268]\n",
      " [ 0.05420561]\n",
      " [ 0.11152648]\n",
      " [ 0.11900312]\n",
      " [-0.00809969]\n",
      " [ 0.01806854]\n",
      " [ 0.01806854]\n",
      " [-0.01557632]\n",
      " [-0.00685358]\n",
      " [-0.12647975]\n",
      " [-0.08037383]\n",
      " [-0.0305296 ]\n",
      " [-0.10778816]\n",
      " [-0.0953271 ]\n",
      " [-0.08785047]\n",
      " [ 0.10280374]\n",
      " [ 0.11028037]\n",
      " [-0.03426791]\n",
      " [-0.09781931]\n",
      " [-0.12772586]\n",
      " [-0.10280374]\n",
      " [ 0.10778816]\n",
      " [-0.12523364]\n",
      " [ 0.11775701]\n",
      " [ 0.18753894]\n",
      " [ 0.11900312]\n",
      " [-0.08411215]\n",
      " [ 0.16386293]\n",
      " [ 0.06168224]\n",
      " [-0.15638629]\n",
      " [-0.01433022]\n",
      " [ 0.09158879]\n",
      " [-0.00934579]\n",
      " [-0.07165109]\n",
      " [-0.11152648]\n",
      " [-0.0741433 ]\n",
      " [ 0.12772586]\n",
      " [-0.12149533]\n",
      " [ 0.13271028]\n",
      " [-0.14267913]\n",
      " [ 0.01433022]\n",
      " [ 0.00062305]\n",
      " [-0.2       ]\n",
      " [-0.12647975]\n",
      " [-0.11152648]\n",
      " [ 0.01183801]\n",
      " [-0.16510903]\n",
      " [ 0.03925234]\n",
      " [-0.01682243]\n",
      " [-0.06791277]\n",
      " [ 0.03551402]\n",
      " [-0.1576324 ]\n",
      " [-0.14392523]\n",
      " [ 0.04299065]\n",
      " [ 0.10280374]\n",
      " [-0.04174455]\n",
      " [-0.17258567]\n",
      " [-0.13894081]\n",
      " [ 0.1364486 ]\n",
      " [-0.10529595]\n",
      " [-0.04299065]\n",
      " [-0.0728972 ]\n",
      " [ 0.06417445]\n",
      " [ 0.04922118]\n",
      " [-0.13021807]\n",
      " [-0.04299065]\n",
      " [-0.09781931]\n",
      " [-0.15140187]\n",
      " [-0.05919003]\n",
      " [-0.00062305]\n",
      " [ 0.09906542]\n",
      " [-0.10529595]\n",
      " [-0.06043614]\n",
      " [-0.0529595 ]\n",
      " [-0.05545171]\n",
      " [-0.13271028]\n",
      " [ 0.13271028]\n",
      " [-0.00934579]\n",
      " [-0.11775701]\n",
      " [-0.08660436]\n",
      " [-0.12398754]\n",
      " [-0.07912773]\n",
      " [-0.14143302]\n",
      " [-0.07040498]\n",
      " [-0.05420561]\n",
      " [-0.11900312]\n",
      " [-0.03426791]\n",
      " [-0.18255452]\n",
      " [ 0.01308411]\n",
      " [ 0.04548287]\n",
      " [ 0.11401869]\n",
      " [-0.10778816]\n",
      " [ 0.01308411]\n",
      " [ 0.02056075]\n",
      " [-0.03800623]\n",
      " [-0.13520249]\n",
      " [ 0.00685358]\n",
      " [-0.14392523]\n",
      " [-0.14018692]\n",
      " [-0.17009346]\n",
      " [-0.15015576]\n",
      " [ 0.09657321]\n",
      " [ 0.07788162]\n",
      " [ 0.1376947 ]\n",
      " [ 0.03551402]\n",
      " [-0.00062305]\n",
      " [-0.13395639]\n",
      " [-0.1152648 ]\n",
      " [ 0.08286604]\n",
      " [-0.04423676]\n",
      " [-0.13520249]\n",
      " [ 0.02803738]\n",
      " [-0.13520249]\n",
      " [-0.09657321]\n",
      " [-0.0317757 ]\n",
      " [-0.16510903]\n",
      " [ 0.04299065]\n",
      " [-0.03925234]\n",
      " [ 0.09158879]\n",
      " [-0.11900312]\n",
      " [ 0.07538941]\n",
      " [-0.07663551]\n",
      " [-0.14766355]\n",
      " [-0.14143302]\n",
      " [ 0.08909657]\n",
      " [ 0.0953271 ]\n",
      " [ 0.11152648]\n",
      " [-0.0105919 ]\n",
      " [-0.14267913]\n",
      " [-0.17258567]\n",
      " [ 0.00186916]\n",
      " [-0.07538941]\n",
      " [-0.13395639]\n",
      " [-0.16760125]\n",
      " [ 0.09034268]\n",
      " [ 0.03676012]\n",
      " [ 0.14641745]\n",
      " [ 0.07165109]\n",
      " [-0.11775701]\n",
      " [-0.04423676]\n",
      " [ 0.15514019]\n",
      " [-0.04049844]\n",
      " [ 0.2       ]\n",
      " [-0.15264798]\n",
      " [-0.12024922]\n",
      " [-0.16884735]\n",
      " [-0.18255452]\n",
      " [-0.10280374]\n",
      " [ 0.15264798]\n",
      " [-0.08660436]\n",
      " [-0.05046729]\n",
      " [-0.13894081]\n",
      " [-0.17507788]\n",
      " [-0.08785047]\n",
      " [ 0.09781931]\n",
      " [-0.12274143]\n",
      " [ 0.02056075]\n",
      " [-0.0728972 ]\n",
      " [-0.00436137]\n",
      " [ 0.06915888]\n",
      " [-0.14890966]\n",
      " [-0.11401869]\n",
      " [ 0.12149533]\n",
      " [-0.15140187]\n",
      " [-0.10404984]\n",
      " [ 0.01806854]\n",
      " [ 0.09906542]\n",
      " [-0.11401869]\n",
      " [ 0.05545171]\n",
      " [-0.00560748]\n",
      " [-0.03676012]\n",
      " [ 0.05919003]\n",
      " [-0.15638629]\n",
      " [ 0.04174455]\n",
      " [-0.13146417]\n",
      " [-0.14641745]\n",
      " [ 0.18255452]\n",
      " [ 0.07788162]\n",
      " [-0.12647975]\n",
      " [ 0.01806854]\n",
      " [-0.16261682]\n",
      " [-0.12523364]\n",
      " [-0.12024922]\n",
      " [-0.19252336]\n",
      " [-0.07040498]\n",
      " [-0.12772586]\n",
      " [ 0.11152648]\n",
      " [-0.15015576]\n",
      " [ 0.01557632]\n",
      " [ 0.06292835]\n",
      " [ 0.08411215]\n",
      " [-0.07663551]\n",
      " [-0.17632399]\n",
      " [-0.01682243]\n",
      " [-0.08909657]\n",
      " [-0.05420561]\n",
      " [-0.0953271 ]\n",
      " [-0.00685358]\n",
      " [-0.0517134 ]\n",
      " [-0.02803738]\n",
      " [-0.04797508]\n",
      " [-0.11028037]\n",
      " [ 0.04299065]\n",
      " [ 0.00560748]\n",
      " [-0.0953271 ]\n",
      " [ 0.00685358]\n",
      " [-0.07912773]\n",
      " [ 0.05545171]\n",
      " [ 0.07040498]\n",
      " [ 0.07788162]\n",
      " [ 0.07912773]\n",
      " [ 0.00809969]\n",
      " [-0.06791277]\n",
      " [ 0.06417445]\n",
      " [-0.13395639]\n",
      " [-0.06292835]\n",
      " [ 0.0728972 ]\n",
      " [ 0.01682243]\n",
      " [ 0.10529595]\n",
      " [-0.02679128]\n",
      " [-0.14143302]\n",
      " [-0.11152648]\n",
      " [ 0.15015576]\n",
      " [-0.11775701]\n",
      " [ 0.03551402]\n",
      " [-0.11277259]\n",
      " [ 0.03800623]\n",
      " [ 0.09657321]\n",
      " [-0.00934579]\n",
      " [-0.09034268]\n",
      " [ 0.01806854]\n",
      " [-0.05794393]\n",
      " [-0.05794393]\n",
      " [-0.12149533]\n",
      " [-0.04672897]\n",
      " [-0.12149533]\n",
      " [ 0.07165109]\n",
      " [-0.14267913]\n",
      " [-0.13520249]\n",
      " [-0.0953271 ]\n",
      " [ 0.10778816]\n",
      " [-0.15638629]\n",
      " [-0.16386293]\n",
      " [ 0.04423676]\n",
      " [-0.11900312]\n",
      " [ 0.15638629]\n",
      " [ 0.11900312]\n",
      " [-0.00436137]\n",
      " [ 0.16884735]\n",
      " [-0.1588785 ]\n",
      " [ 0.0953271 ]\n",
      " [ 0.02554517]\n",
      " [ 0.05919003]\n",
      " [ 0.07040498]\n",
      " [-0.07788162]\n",
      " [-0.02305296]\n",
      " [-0.15264798]\n",
      " [ 0.01433022]\n",
      " [-0.14267913]\n",
      " [-0.02180685]\n",
      " [-0.05669782]\n",
      " [ 0.03925234]\n",
      " [-0.08037383]\n",
      " [ 0.06168224]\n",
      " [ 0.0741433 ]\n",
      " [-0.18130841]\n",
      " [-0.16635514]\n",
      " [-0.10155763]\n",
      " [-0.06666667]\n",
      " [-0.12149533]\n",
      " [-0.14517134]\n",
      " [ 0.04174455]\n",
      " [-0.14143302]\n",
      " [ 0.01931464]\n",
      " [-0.094081  ]\n",
      " [-0.16760125]\n",
      " [ 0.11401869]\n",
      " [-0.15264798]\n",
      " [-0.08411215]\n",
      " [-0.14517134]\n",
      " [ 0.10903427]\n",
      " [ 0.09034268]\n",
      " [-0.17757009]\n",
      " [ 0.01557632]\n",
      " [ 0.07040498]\n",
      " [ 0.05794393]\n",
      " [-0.01308411]\n",
      " [-0.1152648 ]\n",
      " [-0.02180685]\n",
      " [ 0.11152648]\n",
      " [ 0.13395639]\n",
      " [ 0.11900312]\n",
      " [-0.14143302]\n",
      " [-0.05669782]\n",
      " [ 0.00436137]\n",
      " [-0.00560748]\n",
      " [ 0.02928349]\n",
      " [-0.06168224]\n",
      " [ 0.094081  ]\n",
      " [-0.09034268]\n",
      " [-0.06791277]\n",
      " [-0.01433022]\n",
      " [ 0.08909657]\n",
      " [-0.16261682]\n",
      " [-0.12647975]\n",
      " [-0.1788162 ]\n",
      " [-0.04922118]\n",
      " [ 0.03302181]\n",
      " [ 0.05919003]\n",
      " [-0.11775701]\n",
      " [-0.09283489]\n",
      " [-0.04174455]\n",
      " [-0.08161994]\n",
      " [-0.14766355]\n",
      " [ 0.15514019]\n",
      " [-0.11401869]\n",
      " [-0.00311526]\n",
      " [-0.14890966]\n",
      " [-0.01557632]\n",
      " [-0.14143302]\n",
      " [-0.17009346]\n",
      " [-0.15140187]\n",
      " [-0.17133956]\n",
      " [-0.00934579]\n",
      " [-0.10155763]\n",
      " [-0.06666667]\n",
      " [ 0.04299065]\n",
      " [-0.16012461]]\n",
      "(442, 1) (442,)\n"
     ]
    }
   ],
   "source": [
    "# 정규화(Normalization) 을 하면 loss 값이 낮아진다고 함.\n",
    "# 그 이유는 현재 일반 데이터값들은 나이조차 대체로 -2 ~ 2사이의 값들이 분포되어 있는데\n",
    "# (전체적으로는 약 -9 ~ 4)\n",
    "# 이것은 데이터가 조정되어 있기 때문.\n",
    "# 하여 y도 해주면 loss 값이 더 낮아진다고 합니다.\n",
    "from sklearn.preprocessing import MinMaxScaler\n",
    "\n",
    "# 다른 데이터들과 비슷하게 -2 ~ 2 값으로 대체\n",
    "scaler_data = MinMaxScaler(feature_range=(-0.2, 0.2))\n",
    "scaler_data.fit(y.reshape(-1, 1))\n",
    "\n",
    "scaled_data = scaler_data.transform(y.reshape(-1, 1))\n",
    "print(scaled_data)\n",
    "print(scaled_data.shape, y.shape)"
   ]
  },
  {
   "cell_type": "code",
   "execution_count": 32,
   "id": "f0e2105e",
   "metadata": {},
   "outputs": [
    {
     "data": {
      "text/plain": [
       "(442,)"
      ]
     },
     "execution_count": 32,
     "metadata": {},
     "output_type": "execute_result"
    }
   ],
   "source": [
    "scaled_y = np.ravel(scaled_data)\n",
    "scaled_y.shape"
   ]
  },
  {
   "cell_type": "code",
   "execution_count": 33,
   "id": "5182cb39",
   "metadata": {},
   "outputs": [
    {
     "name": "stdout",
     "output_type": "stream",
     "text": [
      "Iteration 10 : Loss 0.0086\n",
      "Iteration 20 : Loss 0.0061\n",
      "Iteration 30 : Loss 0.0052\n",
      "Iteration 40 : Loss 0.0048\n",
      "Iteration 50 : Loss 0.0046\n",
      "Iteration 60 : Loss 0.0045\n",
      "Iteration 70 : Loss 0.0045\n",
      "Iteration 80 : Loss 0.0044\n",
      "Iteration 90 : Loss 0.0044\n",
      "Iteration 100 : Loss 0.0044\n",
      "Iteration 110 : Loss 0.0044\n",
      "Iteration 120 : Loss 0.0044\n",
      "Iteration 130 : Loss 0.0044\n",
      "Iteration 140 : Loss 0.0044\n",
      "Iteration 150 : Loss 0.0044\n",
      "Iteration 160 : Loss 0.0044\n",
      "Iteration 170 : Loss 0.0044\n",
      "Iteration 180 : Loss 0.0044\n",
      "Iteration 190 : Loss 0.0044\n",
      "Iteration 200 : Loss 0.0044\n",
      "Iteration 210 : Loss 0.0044\n",
      "Iteration 220 : Loss 0.0044\n",
      "Iteration 230 : Loss 0.0044\n",
      "Iteration 240 : Loss 0.0044\n",
      "Iteration 250 : Loss 0.0044\n",
      "Iteration 260 : Loss 0.0044\n",
      "Iteration 270 : Loss 0.0044\n",
      "Iteration 280 : Loss 0.0044\n",
      "Iteration 290 : Loss 0.0044\n",
      "Iteration 300 : Loss 0.0044\n",
      "Iteration 310 : Loss 0.0044\n",
      "Iteration 320 : Loss 0.0044\n",
      "Iteration 330 : Loss 0.0044\n",
      "Iteration 340 : Loss 0.0044\n",
      "Iteration 350 : Loss 0.0044\n",
      "Iteration 360 : Loss 0.0044\n",
      "Iteration 370 : Loss 0.0044\n",
      "Iteration 380 : Loss 0.0044\n",
      "Iteration 390 : Loss 0.0044\n",
      "Iteration 400 : Loss 0.0044\n",
      "Iteration 410 : Loss 0.0044\n",
      "Iteration 420 : Loss 0.0044\n",
      "Iteration 430 : Loss 0.0044\n",
      "Iteration 440 : Loss 0.0044\n",
      "Iteration 450 : Loss 0.0044\n",
      "Iteration 460 : Loss 0.0044\n",
      "Iteration 470 : Loss 0.0044\n",
      "Iteration 480 : Loss 0.0044\n",
      "Iteration 490 : Loss 0.0044\n",
      "Iteration 500 : Loss 0.0044\n",
      "Iteration 510 : Loss 0.0044\n",
      "Iteration 520 : Loss 0.0044\n",
      "Iteration 530 : Loss 0.0044\n",
      "Iteration 540 : Loss 0.0044\n",
      "Iteration 550 : Loss 0.0044\n",
      "Iteration 560 : Loss 0.0044\n",
      "Iteration 570 : Loss 0.0044\n",
      "Iteration 580 : Loss 0.0044\n",
      "Iteration 590 : Loss 0.0044\n",
      "Iteration 600 : Loss 0.0044\n",
      "Iteration 610 : Loss 0.0044\n",
      "Iteration 620 : Loss 0.0044\n",
      "Iteration 630 : Loss 0.0044\n",
      "Iteration 640 : Loss 0.0044\n",
      "Iteration 650 : Loss 0.0044\n",
      "Iteration 660 : Loss 0.0044\n",
      "Iteration 670 : Loss 0.0044\n",
      "Iteration 680 : Loss 0.0044\n",
      "Iteration 690 : Loss 0.0044\n",
      "Iteration 700 : Loss 0.0044\n",
      "Iteration 710 : Loss 0.0044\n",
      "Iteration 720 : Loss 0.0044\n",
      "Iteration 730 : Loss 0.0044\n",
      "Iteration 740 : Loss 0.0044\n",
      "Iteration 750 : Loss 0.0044\n",
      "Iteration 760 : Loss 0.0044\n",
      "Iteration 770 : Loss 0.0044\n",
      "Iteration 780 : Loss 0.0044\n",
      "Iteration 790 : Loss 0.0044\n",
      "Iteration 800 : Loss 0.0044\n",
      "Iteration 810 : Loss 0.0044\n",
      "Iteration 820 : Loss 0.0044\n",
      "Iteration 830 : Loss 0.0044\n",
      "Iteration 840 : Loss 0.0044\n",
      "Iteration 850 : Loss 0.0044\n",
      "Iteration 860 : Loss 0.0044\n",
      "Iteration 870 : Loss 0.0044\n",
      "Iteration 880 : Loss 0.0044\n",
      "Iteration 890 : Loss 0.0044\n",
      "Iteration 900 : Loss 0.0044\n",
      "Iteration 910 : Loss 0.0044\n",
      "Iteration 920 : Loss 0.0044\n",
      "Iteration 930 : Loss 0.0044\n",
      "Iteration 940 : Loss 0.0044\n",
      "Iteration 950 : Loss 0.0044\n",
      "Iteration 960 : Loss 0.0044\n",
      "Iteration 970 : Loss 0.0044\n",
      "Iteration 980 : Loss 0.0044\n",
      "Iteration 990 : Loss 0.0044\n",
      "Iteration 1000 : Loss 0.0044\n"
     ]
    }
   ],
   "source": [
    "df_diabetes_1 = df_diabetes[['age', 'sex', 'bmi', 'bp', 's1', 's2', 's3', 's4', 's5', 's6', 'target']]\n",
    "\n",
    "X = df_diabetes_1[['age', 'sex', 'bmi', 'bp', 's1', 's2', 's3', 's4', 's5', 's6']].values\n",
    "y = df_diabetes_1['target'].values\n",
    "\n",
    "X_train, X_test, y_train, y_test = train_test_split(X, scaled_y, test_size=.2, random_state=11)\n",
    "\n",
    "W = np.random.rand(len(X[1]))\n",
    "b = np.random.rand()\n",
    "\n",
    "LEARNING_RATE = 0.25\n",
    "\n",
    "losses = []\n",
    "for i in range(1, 1001):\n",
    "    dW, db = gradient(X_train, W, b, y_train)\n",
    "    W -= LEARNING_RATE * dW\n",
    "    b -= LEARNING_RATE * db\n",
    "    L = loss(X_train, W, b, y_train)\n",
    "    losses.append(L)\n",
    "    if i % 10 == 0:\n",
    "        print('Iteration %d : Loss %.4f' % (i, L))"
   ]
  },
  {
   "cell_type": "code",
   "execution_count": 34,
   "id": "aa9b3747",
   "metadata": {},
   "outputs": [
    {
     "data": {
      "image/png": "[encoded data removed]",
      "text/plain": [
       "<Figure size 432x288 with 1 Axes>"
      ]
     },
     "metadata": {
      "needs_background": "light"
     },
     "output_type": "display_data"
    }
   ],
   "source": [
    "plt.plot(losses)\n",
    "plt.show()"
   ]
  },
  {
   "cell_type": "code",
   "execution_count": 35,
   "id": "6db0ff89",
   "metadata": {},
   "outputs": [
    {
     "data": {
      "text/plain": [
       "(array([-0.08083999, -0.30397741,  0.63877519,  0.37987173, -0.15312337,\n",
       "        -0.06302895, -0.23385091,  0.03888671,  0.67402997,  0.10115889]),\n",
       " -0.04057972340309915)"
      ]
     },
     "execution_count": 35,
     "metadata": {},
     "output_type": "execute_result"
    }
   ],
   "source": [
    "W, b"
   ]
  },
  {
   "cell_type": "code",
   "execution_count": 36,
   "id": "9602aaa0",
   "metadata": {},
   "outputs": [
    {
     "data": {
      "text/plain": [
       "0.004988448339838797"
      ]
     },
     "execution_count": 36,
     "metadata": {},
     "output_type": "execute_result"
    }
   ],
   "source": [
    "linear_model = LinearRegression()\n",
    "linear_model.fit(X_train, y_train)\n",
    "predictions = linear_model.predict(X_test)\n",
    "\n",
    "mse = mean_squared_error(y_test, predictions)\n",
    "mse"
   ]
  },
  {
   "cell_type": "markdown",
   "id": "6e967238",
   "metadata": {},
   "source": [
    "### ! 목표값인 3000보다 낮아졌음을 확인"
   ]
  },
  {
   "cell_type": "markdown",
   "id": "3d132f8d",
   "metadata": {},
   "source": [
    "## (11) 정답 데이터와 예측한 데이터 시각화하기"
   ]
  },
  {
   "cell_type": "markdown",
   "id": "9c9d4caa",
   "metadata": {},
   "source": [
    "* x 축에는 X 데이터의 첫 번째 컬럼을, y 축에는 정답인 target 데이터를 넣어서 모델이 예측한 데이터를 시각화해 주세요."
   ]
  },
  {
   "cell_type": "code",
   "execution_count": 37,
   "id": "225d713f",
   "metadata": {},
   "outputs": [
    {
     "data": {
      "text/plain": [
       "0.004988448339838797"
      ]
     },
     "execution_count": 37,
     "metadata": {},
     "output_type": "execute_result"
    }
   ],
   "source": [
    "prediction = model(X_test, W, b)\n",
    "mse = mean_squared_error(y_test, predictions)\n",
    "mse"
   ]
  },
  {
   "cell_type": "code",
   "execution_count": 38,
   "id": "0936df03",
   "metadata": {},
   "outputs": [
    {
     "data": {
      "image/png": "[encoded data removed]",
      "text/plain": [
       "<Figure size 432x288 with 1 Axes>"
      ]
     },
     "metadata": {
      "needs_background": "light"
     },
     "output_type": "display_data"
    }
   ],
   "source": [
    "plt.scatter(X_test[:, 0], y_test)\n",
    "plt.scatter(X_test[:, 0], prediction)\n",
    "plt.show()"
   ]
  },
  {
   "cell_type": "markdown",
   "id": "3d834ef3",
   "metadata": {},
   "source": [
    "## (1) 데이터 가져오기"
   ]
  },
  {
   "cell_type": "markdown",
   "id": "7d21bc9f",
   "metadata": {},
   "source": [
    "* 터미널에서 ~/data/data/bike-sharing-demand 경로에 train.csv 데이터를 train 변수로 가져 옵니다."
   ]
  },
  {
   "cell_type": "code",
   "execution_count": 39,
   "id": "9a6806b2",
   "metadata": {},
   "outputs": [],
   "source": [
    "train = pd.read_csv('../data/data/bike-sharing-demand/train.csv')"
   ]
  },
  {
   "cell_type": "code",
   "execution_count": 40,
   "id": "570396fe",
   "metadata": {},
   "outputs": [
    {
     "data": {
      "text/html": [
       "<div>\n",
       "<style scoped>\n",
       "    .dataframe tbody tr th:only-of-type {\n",
       "        vertical-align: middle;\n",
       "    }\n",
       "\n",
       "    .dataframe tbody tr th {\n",
       "        vertical-align: top;\n",
       "    }\n",
       "\n",
       "    .dataframe thead th {\n",
       "        text-align: right;\n",
       "    }\n",
       "</style>\n",
       "<table border=\"1\" class=\"dataframe\">\n",
       "  <thead>\n",
       "    <tr style=\"text-align: right;\">\n",
       "      <th></th>\n",
       "      <th>datetime</th>\n",
       "      <th>season</th>\n",
       "      <th>holiday</th>\n",
       "      <th>workingday</th>\n",
       "      <th>weather</th>\n",
       "      <th>temp</th>\n",
       "      <th>atemp</th>\n",
       "      <th>humidity</th>\n",
       "      <th>windspeed</th>\n",
       "      <th>casual</th>\n",
       "      <th>registered</th>\n",
       "      <th>count</th>\n",
       "    </tr>\n",
       "  </thead>\n",
       "  <tbody>\n",
       "    <tr>\n",
       "      <th>0</th>\n",
       "      <td>2011-01-01 00:00:00</td>\n",
       "      <td>1</td>\n",
       "      <td>0</td>\n",
       "      <td>0</td>\n",
       "      <td>1</td>\n",
       "      <td>9.84</td>\n",
       "      <td>14.395</td>\n",
       "      <td>81</td>\n",
       "      <td>0.0</td>\n",
       "      <td>3</td>\n",
       "      <td>13</td>\n",
       "      <td>16</td>\n",
       "    </tr>\n",
       "    <tr>\n",
       "      <th>1</th>\n",
       "      <td>2011-01-01 01:00:00</td>\n",
       "      <td>1</td>\n",
       "      <td>0</td>\n",
       "      <td>0</td>\n",
       "      <td>1</td>\n",
       "      <td>9.02</td>\n",
       "      <td>13.635</td>\n",
       "      <td>80</td>\n",
       "      <td>0.0</td>\n",
       "      <td>8</td>\n",
       "      <td>32</td>\n",
       "      <td>40</td>\n",
       "    </tr>\n",
       "    <tr>\n",
       "      <th>2</th>\n",
       "      <td>2011-01-01 02:00:00</td>\n",
       "      <td>1</td>\n",
       "      <td>0</td>\n",
       "      <td>0</td>\n",
       "      <td>1</td>\n",
       "      <td>9.02</td>\n",
       "      <td>13.635</td>\n",
       "      <td>80</td>\n",
       "      <td>0.0</td>\n",
       "      <td>5</td>\n",
       "      <td>27</td>\n",
       "      <td>32</td>\n",
       "    </tr>\n",
       "    <tr>\n",
       "      <th>3</th>\n",
       "      <td>2011-01-01 03:00:00</td>\n",
       "      <td>1</td>\n",
       "      <td>0</td>\n",
       "      <td>0</td>\n",
       "      <td>1</td>\n",
       "      <td>9.84</td>\n",
       "      <td>14.395</td>\n",
       "      <td>75</td>\n",
       "      <td>0.0</td>\n",
       "      <td>3</td>\n",
       "      <td>10</td>\n",
       "      <td>13</td>\n",
       "    </tr>\n",
       "    <tr>\n",
       "      <th>4</th>\n",
       "      <td>2011-01-01 04:00:00</td>\n",
       "      <td>1</td>\n",
       "      <td>0</td>\n",
       "      <td>0</td>\n",
       "      <td>1</td>\n",
       "      <td>9.84</td>\n",
       "      <td>14.395</td>\n",
       "      <td>75</td>\n",
       "      <td>0.0</td>\n",
       "      <td>0</td>\n",
       "      <td>1</td>\n",
       "      <td>1</td>\n",
       "    </tr>\n",
       "  </tbody>\n",
       "</table>\n",
       "</div>"
      ],
      "text/plain": [
       "              datetime  season  holiday  workingday  weather  temp   atemp  \\\n",
       "0  2011-01-01 00:00:00       1        0           0        1  9.84  14.395   \n",
       "1  2011-01-01 01:00:00       1        0           0        1  9.02  13.635   \n",
       "2  2011-01-01 02:00:00       1        0           0        1  9.02  13.635   \n",
       "3  2011-01-01 03:00:00       1        0           0        1  9.84  14.395   \n",
       "4  2011-01-01 04:00:00       1        0           0        1  9.84  14.395   \n",
       "\n",
       "   humidity  windspeed  casual  registered  count  \n",
       "0        81        0.0       3          13     16  \n",
       "1        80        0.0       8          32     40  \n",
       "2        80        0.0       5          27     32  \n",
       "3        75        0.0       3          10     13  \n",
       "4        75        0.0       0           1      1  "
      ]
     },
     "execution_count": 40,
     "metadata": {},
     "output_type": "execute_result"
    }
   ],
   "source": [
    "train.head()"
   ]
  },
  {
   "cell_type": "code",
   "execution_count": 41,
   "id": "292f5402",
   "metadata": {},
   "outputs": [
    {
     "data": {
      "text/html": [
       "<div>\n",
       "<style scoped>\n",
       "    .dataframe tbody tr th:only-of-type {\n",
       "        vertical-align: middle;\n",
       "    }\n",
       "\n",
       "    .dataframe tbody tr th {\n",
       "        vertical-align: top;\n",
       "    }\n",
       "\n",
       "    .dataframe thead th {\n",
       "        text-align: right;\n",
       "    }\n",
       "</style>\n",
       "<table border=\"1\" class=\"dataframe\">\n",
       "  <thead>\n",
       "    <tr style=\"text-align: right;\">\n",
       "      <th></th>\n",
       "      <th>datetime</th>\n",
       "      <th>season</th>\n",
       "      <th>holiday</th>\n",
       "      <th>workingday</th>\n",
       "      <th>weather</th>\n",
       "      <th>temp</th>\n",
       "      <th>atemp</th>\n",
       "      <th>humidity</th>\n",
       "      <th>windspeed</th>\n",
       "      <th>casual</th>\n",
       "      <th>registered</th>\n",
       "      <th>count</th>\n",
       "    </tr>\n",
       "  </thead>\n",
       "  <tbody>\n",
       "    <tr>\n",
       "      <th>10881</th>\n",
       "      <td>2012-12-19 19:00:00</td>\n",
       "      <td>4</td>\n",
       "      <td>0</td>\n",
       "      <td>1</td>\n",
       "      <td>1</td>\n",
       "      <td>15.58</td>\n",
       "      <td>19.695</td>\n",
       "      <td>50</td>\n",
       "      <td>26.0027</td>\n",
       "      <td>7</td>\n",
       "      <td>329</td>\n",
       "      <td>336</td>\n",
       "    </tr>\n",
       "    <tr>\n",
       "      <th>10882</th>\n",
       "      <td>2012-12-19 20:00:00</td>\n",
       "      <td>4</td>\n",
       "      <td>0</td>\n",
       "      <td>1</td>\n",
       "      <td>1</td>\n",
       "      <td>14.76</td>\n",
       "      <td>17.425</td>\n",
       "      <td>57</td>\n",
       "      <td>15.0013</td>\n",
       "      <td>10</td>\n",
       "      <td>231</td>\n",
       "      <td>241</td>\n",
       "    </tr>\n",
       "    <tr>\n",
       "      <th>10883</th>\n",
       "      <td>2012-12-19 21:00:00</td>\n",
       "      <td>4</td>\n",
       "      <td>0</td>\n",
       "      <td>1</td>\n",
       "      <td>1</td>\n",
       "      <td>13.94</td>\n",
       "      <td>15.910</td>\n",
       "      <td>61</td>\n",
       "      <td>15.0013</td>\n",
       "      <td>4</td>\n",
       "      <td>164</td>\n",
       "      <td>168</td>\n",
       "    </tr>\n",
       "    <tr>\n",
       "      <th>10884</th>\n",
       "      <td>2012-12-19 22:00:00</td>\n",
       "      <td>4</td>\n",
       "      <td>0</td>\n",
       "      <td>1</td>\n",
       "      <td>1</td>\n",
       "      <td>13.94</td>\n",
       "      <td>17.425</td>\n",
       "      <td>61</td>\n",
       "      <td>6.0032</td>\n",
       "      <td>12</td>\n",
       "      <td>117</td>\n",
       "      <td>129</td>\n",
       "    </tr>\n",
       "    <tr>\n",
       "      <th>10885</th>\n",
       "      <td>2012-12-19 23:00:00</td>\n",
       "      <td>4</td>\n",
       "      <td>0</td>\n",
       "      <td>1</td>\n",
       "      <td>1</td>\n",
       "      <td>13.12</td>\n",
       "      <td>16.665</td>\n",
       "      <td>66</td>\n",
       "      <td>8.9981</td>\n",
       "      <td>4</td>\n",
       "      <td>84</td>\n",
       "      <td>88</td>\n",
       "    </tr>\n",
       "  </tbody>\n",
       "</table>\n",
       "</div>"
      ],
      "text/plain": [
       "                  datetime  season  holiday  workingday  weather   temp  \\\n",
       "10881  2012-12-19 19:00:00       4        0           1        1  15.58   \n",
       "10882  2012-12-19 20:00:00       4        0           1        1  14.76   \n",
       "10883  2012-12-19 21:00:00       4        0           1        1  13.94   \n",
       "10884  2012-12-19 22:00:00       4        0           1        1  13.94   \n",
       "10885  2012-12-19 23:00:00       4        0           1        1  13.12   \n",
       "\n",
       "        atemp  humidity  windspeed  casual  registered  count  \n",
       "10881  19.695        50    26.0027       7         329    336  \n",
       "10882  17.425        57    15.0013      10         231    241  \n",
       "10883  15.910        61    15.0013       4         164    168  \n",
       "10884  17.425        61     6.0032      12         117    129  \n",
       "10885  16.665        66     8.9981       4          84     88  "
      ]
     },
     "execution_count": 41,
     "metadata": {},
     "output_type": "execute_result"
    }
   ],
   "source": [
    "train.tail()"
   ]
  },
  {
   "cell_type": "code",
   "execution_count": 42,
   "id": "80660a71",
   "metadata": {},
   "outputs": [
    {
     "name": "stdout",
     "output_type": "stream",
     "text": [
      "<class 'pandas.core.frame.DataFrame'>\n",
      "RangeIndex: 10886 entries, 0 to 10885\n",
      "Data columns (total 12 columns):\n",
      " #   Column      Non-Null Count  Dtype  \n",
      "---  ------      --------------  -----  \n",
      " 0   datetime    10886 non-null  object \n",
      " 1   season      10886 non-null  int64  \n",
      " 2   holiday     10886 non-null  int64  \n",
      " 3   workingday  10886 non-null  int64  \n",
      " 4   weather     10886 non-null  int64  \n",
      " 5   temp        10886 non-null  float64\n",
      " 6   atemp       10886 non-null  float64\n",
      " 7   humidity    10886 non-null  int64  \n",
      " 8   windspeed   10886 non-null  float64\n",
      " 9   casual      10886 non-null  int64  \n",
      " 10  registered  10886 non-null  int64  \n",
      " 11  count       10886 non-null  int64  \n",
      "dtypes: float64(3), int64(8), object(1)\n",
      "memory usage: 1020.7+ KB\n"
     ]
    }
   ],
   "source": [
    "train.info()"
   ]
  },
  {
   "cell_type": "markdown",
   "id": "0a5ae01d",
   "metadata": {},
   "source": [
    "datetime이 object형, 널값 없음."
   ]
  },
  {
   "cell_type": "code",
   "execution_count": 43,
   "id": "659e4a55",
   "metadata": {},
   "outputs": [
    {
     "data": {
      "text/html": [
       "<div>\n",
       "<style scoped>\n",
       "    .dataframe tbody tr th:only-of-type {\n",
       "        vertical-align: middle;\n",
       "    }\n",
       "\n",
       "    .dataframe tbody tr th {\n",
       "        vertical-align: top;\n",
       "    }\n",
       "\n",
       "    .dataframe thead th {\n",
       "        text-align: right;\n",
       "    }\n",
       "</style>\n",
       "<table border=\"1\" class=\"dataframe\">\n",
       "  <thead>\n",
       "    <tr style=\"text-align: right;\">\n",
       "      <th></th>\n",
       "      <th>season</th>\n",
       "      <th>holiday</th>\n",
       "      <th>workingday</th>\n",
       "      <th>weather</th>\n",
       "      <th>temp</th>\n",
       "      <th>atemp</th>\n",
       "      <th>humidity</th>\n",
       "      <th>windspeed</th>\n",
       "      <th>casual</th>\n",
       "      <th>registered</th>\n",
       "      <th>count</th>\n",
       "    </tr>\n",
       "  </thead>\n",
       "  <tbody>\n",
       "    <tr>\n",
       "      <th>count</th>\n",
       "      <td>10886.000000</td>\n",
       "      <td>10886.000000</td>\n",
       "      <td>10886.000000</td>\n",
       "      <td>10886.000000</td>\n",
       "      <td>10886.00000</td>\n",
       "      <td>10886.000000</td>\n",
       "      <td>10886.000000</td>\n",
       "      <td>10886.000000</td>\n",
       "      <td>10886.000000</td>\n",
       "      <td>10886.000000</td>\n",
       "      <td>10886.000000</td>\n",
       "    </tr>\n",
       "    <tr>\n",
       "      <th>mean</th>\n",
       "      <td>2.506614</td>\n",
       "      <td>0.028569</td>\n",
       "      <td>0.680875</td>\n",
       "      <td>1.418427</td>\n",
       "      <td>20.23086</td>\n",
       "      <td>23.655084</td>\n",
       "      <td>61.886460</td>\n",
       "      <td>12.799395</td>\n",
       "      <td>36.021955</td>\n",
       "      <td>155.552177</td>\n",
       "      <td>191.574132</td>\n",
       "    </tr>\n",
       "    <tr>\n",
       "      <th>std</th>\n",
       "      <td>1.116174</td>\n",
       "      <td>0.166599</td>\n",
       "      <td>0.466159</td>\n",
       "      <td>0.633839</td>\n",
       "      <td>7.79159</td>\n",
       "      <td>8.474601</td>\n",
       "      <td>19.245033</td>\n",
       "      <td>8.164537</td>\n",
       "      <td>49.960477</td>\n",
       "      <td>151.039033</td>\n",
       "      <td>181.144454</td>\n",
       "    </tr>\n",
       "    <tr>\n",
       "      <th>min</th>\n",
       "      <td>1.000000</td>\n",
       "      <td>0.000000</td>\n",
       "      <td>0.000000</td>\n",
       "      <td>1.000000</td>\n",
       "      <td>0.82000</td>\n",
       "      <td>0.760000</td>\n",
       "      <td>0.000000</td>\n",
       "      <td>0.000000</td>\n",
       "      <td>0.000000</td>\n",
       "      <td>0.000000</td>\n",
       "      <td>1.000000</td>\n",
       "    </tr>\n",
       "    <tr>\n",
       "      <th>25%</th>\n",
       "      <td>2.000000</td>\n",
       "      <td>0.000000</td>\n",
       "      <td>0.000000</td>\n",
       "      <td>1.000000</td>\n",
       "      <td>13.94000</td>\n",
       "      <td>16.665000</td>\n",
       "      <td>47.000000</td>\n",
       "      <td>7.001500</td>\n",
       "      <td>4.000000</td>\n",
       "      <td>36.000000</td>\n",
       "      <td>42.000000</td>\n",
       "    </tr>\n",
       "    <tr>\n",
       "      <th>50%</th>\n",
       "      <td>3.000000</td>\n",
       "      <td>0.000000</td>\n",
       "      <td>1.000000</td>\n",
       "      <td>1.000000</td>\n",
       "      <td>20.50000</td>\n",
       "      <td>24.240000</td>\n",
       "      <td>62.000000</td>\n",
       "      <td>12.998000</td>\n",
       "      <td>17.000000</td>\n",
       "      <td>118.000000</td>\n",
       "      <td>145.000000</td>\n",
       "    </tr>\n",
       "    <tr>\n",
       "      <th>75%</th>\n",
       "      <td>4.000000</td>\n",
       "      <td>0.000000</td>\n",
       "      <td>1.000000</td>\n",
       "      <td>2.000000</td>\n",
       "      <td>26.24000</td>\n",
       "      <td>31.060000</td>\n",
       "      <td>77.000000</td>\n",
       "      <td>16.997900</td>\n",
       "      <td>49.000000</td>\n",
       "      <td>222.000000</td>\n",
       "      <td>284.000000</td>\n",
       "    </tr>\n",
       "    <tr>\n",
       "      <th>max</th>\n",
       "      <td>4.000000</td>\n",
       "      <td>1.000000</td>\n",
       "      <td>1.000000</td>\n",
       "      <td>4.000000</td>\n",
       "      <td>41.00000</td>\n",
       "      <td>45.455000</td>\n",
       "      <td>100.000000</td>\n",
       "      <td>56.996900</td>\n",
       "      <td>367.000000</td>\n",
       "      <td>886.000000</td>\n",
       "      <td>977.000000</td>\n",
       "    </tr>\n",
       "  </tbody>\n",
       "</table>\n",
       "</div>"
      ],
      "text/plain": [
       "             season       holiday    workingday       weather         temp  \\\n",
       "count  10886.000000  10886.000000  10886.000000  10886.000000  10886.00000   \n",
       "mean       2.506614      0.028569      0.680875      1.418427     20.23086   \n",
       "std        1.116174      0.166599      0.466159      0.633839      7.79159   \n",
       "min        1.000000      0.000000      0.000000      1.000000      0.82000   \n",
       "25%        2.000000      0.000000      0.000000      1.000000     13.94000   \n",
       "50%        3.000000      0.000000      1.000000      1.000000     20.50000   \n",
       "75%        4.000000      0.000000      1.000000      2.000000     26.24000   \n",
       "max        4.000000      1.000000      1.000000      4.000000     41.00000   \n",
       "\n",
       "              atemp      humidity     windspeed        casual    registered  \\\n",
       "count  10886.000000  10886.000000  10886.000000  10886.000000  10886.000000   \n",
       "mean      23.655084     61.886460     12.799395     36.021955    155.552177   \n",
       "std        8.474601     19.245033      8.164537     49.960477    151.039033   \n",
       "min        0.760000      0.000000      0.000000      0.000000      0.000000   \n",
       "25%       16.665000     47.000000      7.001500      4.000000     36.000000   \n",
       "50%       24.240000     62.000000     12.998000     17.000000    118.000000   \n",
       "75%       31.060000     77.000000     16.997900     49.000000    222.000000   \n",
       "max       45.455000    100.000000     56.996900    367.000000    886.000000   \n",
       "\n",
       "              count  \n",
       "count  10886.000000  \n",
       "mean     191.574132  \n",
       "std      181.144454  \n",
       "min        1.000000  \n",
       "25%       42.000000  \n",
       "50%      145.000000  \n",
       "75%      284.000000  \n",
       "max      977.000000  "
      ]
     },
     "execution_count": 43,
     "metadata": {},
     "output_type": "execute_result"
    }
   ],
   "source": [
    "train.describe()"
   ]
  },
  {
   "cell_type": "markdown",
   "id": "86294462",
   "metadata": {},
   "source": [
    "## (2) datetime 컬럼을 datetime 자료형으로 변환하고 연, 월, 일, 시, 분, 초까지 6가지 컬럼 생성하기"
   ]
  },
  {
   "cell_type": "markdown",
   "id": "2cbb06e5",
   "metadata": {},
   "source": [
    "* to_datetime 활용"
   ]
  },
  {
   "cell_type": "code",
   "execution_count": 44,
   "id": "acd2fbba",
   "metadata": {},
   "outputs": [
    {
     "data": {
      "text/plain": [
       "0       2011-01-01 00:00:00\n",
       "1       2011-01-01 01:00:00\n",
       "2       2011-01-01 02:00:00\n",
       "3       2011-01-01 03:00:00\n",
       "4       2011-01-01 04:00:00\n",
       "                ...        \n",
       "10881   2012-12-19 19:00:00\n",
       "10882   2012-12-19 20:00:00\n",
       "10883   2012-12-19 21:00:00\n",
       "10884   2012-12-19 22:00:00\n",
       "10885   2012-12-19 23:00:00\n",
       "Name: datetime, Length: 10886, dtype: datetime64[ns]"
      ]
     },
     "execution_count": 44,
     "metadata": {},
     "output_type": "execute_result"
    }
   ],
   "source": [
    "train['datetime'] = pd.to_datetime(train['datetime'])\n",
    "train['datetime']"
   ]
  },
  {
   "cell_type": "markdown",
   "id": "4cc9b0b8",
   "metadata": {},
   "source": [
    "* pandas datetime extract year month day 키워드로 검색해 보기"
   ]
  },
  {
   "cell_type": "code",
   "execution_count": 45,
   "id": "bfb5378c",
   "metadata": {},
   "outputs": [
    {
     "data": {
      "text/html": [
       "<div>\n",
       "<style scoped>\n",
       "    .dataframe tbody tr th:only-of-type {\n",
       "        vertical-align: middle;\n",
       "    }\n",
       "\n",
       "    .dataframe tbody tr th {\n",
       "        vertical-align: top;\n",
       "    }\n",
       "\n",
       "    .dataframe thead th {\n",
       "        text-align: right;\n",
       "    }\n",
       "</style>\n",
       "<table border=\"1\" class=\"dataframe\">\n",
       "  <thead>\n",
       "    <tr style=\"text-align: right;\">\n",
       "      <th></th>\n",
       "      <th>datetime</th>\n",
       "      <th>season</th>\n",
       "      <th>holiday</th>\n",
       "      <th>workingday</th>\n",
       "      <th>weather</th>\n",
       "      <th>temp</th>\n",
       "      <th>atemp</th>\n",
       "      <th>humidity</th>\n",
       "      <th>windspeed</th>\n",
       "      <th>casual</th>\n",
       "      <th>registered</th>\n",
       "      <th>count</th>\n",
       "      <th>year</th>\n",
       "      <th>month</th>\n",
       "      <th>day</th>\n",
       "      <th>hour</th>\n",
       "      <th>minute</th>\n",
       "      <th>second</th>\n",
       "    </tr>\n",
       "  </thead>\n",
       "  <tbody>\n",
       "    <tr>\n",
       "      <th>0</th>\n",
       "      <td>2011-01-01 00:00:00</td>\n",
       "      <td>1</td>\n",
       "      <td>0</td>\n",
       "      <td>0</td>\n",
       "      <td>1</td>\n",
       "      <td>9.84</td>\n",
       "      <td>14.395</td>\n",
       "      <td>81</td>\n",
       "      <td>0.0</td>\n",
       "      <td>3</td>\n",
       "      <td>13</td>\n",
       "      <td>16</td>\n",
       "      <td>2011</td>\n",
       "      <td>1</td>\n",
       "      <td>1</td>\n",
       "      <td>0</td>\n",
       "      <td>0</td>\n",
       "      <td>0</td>\n",
       "    </tr>\n",
       "    <tr>\n",
       "      <th>1</th>\n",
       "      <td>2011-01-01 01:00:00</td>\n",
       "      <td>1</td>\n",
       "      <td>0</td>\n",
       "      <td>0</td>\n",
       "      <td>1</td>\n",
       "      <td>9.02</td>\n",
       "      <td>13.635</td>\n",
       "      <td>80</td>\n",
       "      <td>0.0</td>\n",
       "      <td>8</td>\n",
       "      <td>32</td>\n",
       "      <td>40</td>\n",
       "      <td>2011</td>\n",
       "      <td>1</td>\n",
       "      <td>1</td>\n",
       "      <td>1</td>\n",
       "      <td>0</td>\n",
       "      <td>0</td>\n",
       "    </tr>\n",
       "    <tr>\n",
       "      <th>2</th>\n",
       "      <td>2011-01-01 02:00:00</td>\n",
       "      <td>1</td>\n",
       "      <td>0</td>\n",
       "      <td>0</td>\n",
       "      <td>1</td>\n",
       "      <td>9.02</td>\n",
       "      <td>13.635</td>\n",
       "      <td>80</td>\n",
       "      <td>0.0</td>\n",
       "      <td>5</td>\n",
       "      <td>27</td>\n",
       "      <td>32</td>\n",
       "      <td>2011</td>\n",
       "      <td>1</td>\n",
       "      <td>1</td>\n",
       "      <td>2</td>\n",
       "      <td>0</td>\n",
       "      <td>0</td>\n",
       "    </tr>\n",
       "    <tr>\n",
       "      <th>3</th>\n",
       "      <td>2011-01-01 03:00:00</td>\n",
       "      <td>1</td>\n",
       "      <td>0</td>\n",
       "      <td>0</td>\n",
       "      <td>1</td>\n",
       "      <td>9.84</td>\n",
       "      <td>14.395</td>\n",
       "      <td>75</td>\n",
       "      <td>0.0</td>\n",
       "      <td>3</td>\n",
       "      <td>10</td>\n",
       "      <td>13</td>\n",
       "      <td>2011</td>\n",
       "      <td>1</td>\n",
       "      <td>1</td>\n",
       "      <td>3</td>\n",
       "      <td>0</td>\n",
       "      <td>0</td>\n",
       "    </tr>\n",
       "    <tr>\n",
       "      <th>4</th>\n",
       "      <td>2011-01-01 04:00:00</td>\n",
       "      <td>1</td>\n",
       "      <td>0</td>\n",
       "      <td>0</td>\n",
       "      <td>1</td>\n",
       "      <td>9.84</td>\n",
       "      <td>14.395</td>\n",
       "      <td>75</td>\n",
       "      <td>0.0</td>\n",
       "      <td>0</td>\n",
       "      <td>1</td>\n",
       "      <td>1</td>\n",
       "      <td>2011</td>\n",
       "      <td>1</td>\n",
       "      <td>1</td>\n",
       "      <td>4</td>\n",
       "      <td>0</td>\n",
       "      <td>0</td>\n",
       "    </tr>\n",
       "  </tbody>\n",
       "</table>\n",
       "</div>"
      ],
      "text/plain": [
       "             datetime  season  holiday  workingday  weather  temp   atemp  \\\n",
       "0 2011-01-01 00:00:00       1        0           0        1  9.84  14.395   \n",
       "1 2011-01-01 01:00:00       1        0           0        1  9.02  13.635   \n",
       "2 2011-01-01 02:00:00       1        0           0        1  9.02  13.635   \n",
       "3 2011-01-01 03:00:00       1        0           0        1  9.84  14.395   \n",
       "4 2011-01-01 04:00:00       1        0           0        1  9.84  14.395   \n",
       "\n",
       "   humidity  windspeed  casual  registered  count  year  month  day  hour  \\\n",
       "0        81        0.0       3          13     16  2011      1    1     0   \n",
       "1        80        0.0       8          32     40  2011      1    1     1   \n",
       "2        80        0.0       5          27     32  2011      1    1     2   \n",
       "3        75        0.0       3          10     13  2011      1    1     3   \n",
       "4        75        0.0       0           1      1  2011      1    1     4   \n",
       "\n",
       "   minute  second  \n",
       "0       0       0  \n",
       "1       0       0  \n",
       "2       0       0  \n",
       "3       0       0  \n",
       "4       0       0  "
      ]
     },
     "execution_count": 45,
     "metadata": {},
     "output_type": "execute_result"
    }
   ],
   "source": [
    "train['year'] = pd.DatetimeIndex(train['datetime']).year\n",
    "train['month'] = pd.DatetimeIndex(train['datetime']).month\n",
    "train['day'] = pd.DatetimeIndex(train['datetime']).day\n",
    "train['hour'] = pd.DatetimeIndex(train['datetime']).hour\n",
    "train['minute'] = pd.DatetimeIndex(train['datetime']).minute\n",
    "train['second'] = pd.DatetimeIndex(train['datetime']).second\n",
    "\n",
    "train.head()"
   ]
  },
  {
   "cell_type": "markdown",
   "id": "f65a231e",
   "metadata": {},
   "source": [
    "## (3) year, month, day, hour, minute, second 데이터 개수 시각화하기"
   ]
  },
  {
   "cell_type": "markdown",
   "id": "de209730",
   "metadata": {},
   "source": [
    "* sns.countplot 활용해서 시각화하기"
   ]
  },
  {
   "cell_type": "code",
   "execution_count": 46,
   "id": "96d79657",
   "metadata": {},
   "outputs": [
    {
     "data": {
      "image/png": "[encoded data removed]",
      "text/plain": [
       "<Figure size 432x288 with 1 Axes>"
      ]
     },
     "metadata": {
      "needs_background": "light"
     },
     "output_type": "display_data"
    }
   ],
   "source": [
    "ax = sns.countplot(data=train, x='year')\n",
    "containers = ax.containers[0]\n",
    "ax.bar_label(containers, label=[f'{x:,.0f}' for x in containers.datavalues], label_type='center')\n",
    "plt.title(\"Year\")\n",
    "plt.show()"
   ]
  },
  {
   "cell_type": "code",
   "execution_count": 47,
   "id": "3c5764d3",
   "metadata": {},
   "outputs": [
    {
     "data": {
      "image/png": "[encoded data removed]",
      "text/plain": [
       "<Figure size 432x288 with 1 Axes>"
      ]
     },
     "metadata": {
      "needs_background": "light"
     },
     "output_type": "display_data"
    }
   ],
   "source": [
    "ax = sns.countplot(data=train, x='month')\n",
    "containers = ax.containers[0]\n",
    "ax.bar_label(containers, label=[f'{x:,.0f}' for x in containers.datavalues], label_type='center')\n",
    "plt.title('Month')\n",
    "plt.show()"
   ]
  },
  {
   "cell_type": "code",
   "execution_count": 48,
   "id": "003eff70",
   "metadata": {},
   "outputs": [
    {
     "data": {
      "image/png": "[encoded data removed]",
      "text/plain": [
       "<Figure size 720x432 with 1 Axes>"
      ]
     },
     "metadata": {},
     "output_type": "display_data"
    }
   ],
   "source": [
    "sns.set(rc = {'figure.figsize':(10,6)})\n",
    "ax = sns.countplot(data=train, x='day')\n",
    "containers = ax.containers[0]\n",
    "ax.bar_label(containers, label=[f'{x:,.0f}' for x in containers.datavalues], label_type='center')\n",
    "plt.title('Day')\n",
    "plt.show()"
   ]
  },
  {
   "cell_type": "code",
   "execution_count": 49,
   "id": "8332b572",
   "metadata": {},
   "outputs": [
    {
     "data": {
      "image/png": "[encoded data removed]",
      "text/plain": [
       "<Figure size 720x432 with 1 Axes>"
      ]
     },
     "metadata": {},
     "output_type": "display_data"
    }
   ],
   "source": [
    "ax = sns.countplot(data=train, x='hour')\n",
    "containers = ax.containers[0]\n",
    "ax.bar_label(containers, label=['f{x:,.0f}'for x in containers.datavalues], label_type='center')\n",
    "plt.title('Hour')\n",
    "plt.show()"
   ]
  },
  {
   "cell_type": "code",
   "execution_count": 50,
   "id": "75104d2b",
   "metadata": {},
   "outputs": [
    {
     "data": {
      "image/png": "[encoded data removed]",
      "text/plain": [
       "<Figure size 720x432 with 1 Axes>"
      ]
     },
     "metadata": {},
     "output_type": "display_data"
    }
   ],
   "source": [
    "ax = sns.countplot(data=train, x='minute')\n",
    "containers = ax.containers[0]\n",
    "ax.bar_label(containers, label=[f'{x:,.0f}' for x in containers.datavalues], label_type='center')\n",
    "plt.title('Minute')\n",
    "plt.show()"
   ]
  },
  {
   "cell_type": "code",
   "execution_count": 51,
   "id": "c7095cca",
   "metadata": {},
   "outputs": [
    {
     "data": {
      "image/png": "[encoded data removed]",
      "text/plain": [
       "<Figure size 720x432 with 1 Axes>"
      ]
     },
     "metadata": {},
     "output_type": "display_data"
    }
   ],
   "source": [
    "ax = sns.countplot(data=train, x='second')\n",
    "containers = ax.containers[0]\n",
    "ax.bar_label(containers, label=['f{x:,.0f}' for x in containers.datavalues], label_type='center')\n",
    "plt.title('Second')\n",
    "plt.show()"
   ]
  },
  {
   "cell_type": "markdown",
   "id": "a335c81c",
   "metadata": {},
   "source": [
    "minute과 second는 0밖에 없음."
   ]
  },
  {
   "cell_type": "markdown",
   "id": "8debe99e",
   "metadata": {},
   "source": [
    "* subplot 을 활용해서 한 번에 6개의 그래프 함께 시각화하기"
   ]
  },
  {
   "cell_type": "code",
   "execution_count": 52,
   "id": "b11b3ed7",
   "metadata": {},
   "outputs": [
    {
     "name": "stdout",
     "output_type": "stream",
     "text": [
      "year\n",
      "month\n",
      "day\n",
      "hour\n",
      "minute\n",
      "second\n"
     ]
    }
   ],
   "source": [
    "for i in range(12, 18):\n",
    "    print(train.columns[i])"
   ]
  },
  {
   "cell_type": "code",
   "execution_count": 53,
   "id": "8deb11ae",
   "metadata": {},
   "outputs": [
    {
     "data": {
      "image/png": "[encoded data removed]",
      "text/plain": [
       "<Figure size 864x576 with 6 Axes>"
      ]
     },
     "metadata": {},
     "output_type": "display_data"
    }
   ],
   "source": [
    "fig = plt.figure(figsize = (12, 8))\n",
    "plt.suptitle(\"Datetime\")\n",
    "for i in range(6):\n",
    "    plt.subplot(321+i)\n",
    "    plt.title(train.columns[12+i])\n",
    "    sns.countplot(data=train, x=train.columns[12+i])\n",
    "plt.tight_layout()\n",
    "plt.show()"
   ]
  },
  {
   "cell_type": "markdown",
   "id": "03c77d17",
   "metadata": {},
   "source": [
    "## (4) X, y 컬럼 선택 및 train/test 데이터 분리"
   ]
  },
  {
   "cell_type": "markdown",
   "id": "b36bfd69",
   "metadata": {},
   "source": [
    "* X (feature) 에는 어떤 데이터 컬럼을 넣어야 될지 고민해 봅시다 데이터 컬럼을 추가하거나 빼면서 잘 조합하여 데이터를  \n",
    "  넣기 바랍니다. 만일 모든 데이터 컬럼(특징)을 넣는다면 오차 값이 말도 안 되게 적게 나올 수도 있습니다. ex) count를  \n",
    "  예측하는데 casual, registered 컬럼이 필요할까요?"
   ]
  },
  {
   "cell_type": "code",
   "execution_count": 54,
   "id": "fcc6f262",
   "metadata": {},
   "outputs": [
    {
     "data": {
      "text/html": [
       "<div>\n",
       "<style scoped>\n",
       "    .dataframe tbody tr th:only-of-type {\n",
       "        vertical-align: middle;\n",
       "    }\n",
       "\n",
       "    .dataframe tbody tr th {\n",
       "        vertical-align: top;\n",
       "    }\n",
       "\n",
       "    .dataframe thead th {\n",
       "        text-align: right;\n",
       "    }\n",
       "</style>\n",
       "<table border=\"1\" class=\"dataframe\">\n",
       "  <thead>\n",
       "    <tr style=\"text-align: right;\">\n",
       "      <th></th>\n",
       "      <th>datetime</th>\n",
       "      <th>season</th>\n",
       "      <th>holiday</th>\n",
       "      <th>workingday</th>\n",
       "      <th>weather</th>\n",
       "      <th>temp</th>\n",
       "      <th>atemp</th>\n",
       "      <th>humidity</th>\n",
       "      <th>windspeed</th>\n",
       "      <th>casual</th>\n",
       "      <th>registered</th>\n",
       "      <th>count</th>\n",
       "      <th>year</th>\n",
       "      <th>month</th>\n",
       "      <th>day</th>\n",
       "      <th>hour</th>\n",
       "      <th>minute</th>\n",
       "      <th>second</th>\n",
       "    </tr>\n",
       "  </thead>\n",
       "  <tbody>\n",
       "    <tr>\n",
       "      <th>0</th>\n",
       "      <td>2011-01-01 00:00:00</td>\n",
       "      <td>1</td>\n",
       "      <td>0</td>\n",
       "      <td>0</td>\n",
       "      <td>1</td>\n",
       "      <td>9.84</td>\n",
       "      <td>14.395</td>\n",
       "      <td>81</td>\n",
       "      <td>0.0</td>\n",
       "      <td>3</td>\n",
       "      <td>13</td>\n",
       "      <td>16</td>\n",
       "      <td>2011</td>\n",
       "      <td>1</td>\n",
       "      <td>1</td>\n",
       "      <td>0</td>\n",
       "      <td>0</td>\n",
       "      <td>0</td>\n",
       "    </tr>\n",
       "    <tr>\n",
       "      <th>1</th>\n",
       "      <td>2011-01-01 01:00:00</td>\n",
       "      <td>1</td>\n",
       "      <td>0</td>\n",
       "      <td>0</td>\n",
       "      <td>1</td>\n",
       "      <td>9.02</td>\n",
       "      <td>13.635</td>\n",
       "      <td>80</td>\n",
       "      <td>0.0</td>\n",
       "      <td>8</td>\n",
       "      <td>32</td>\n",
       "      <td>40</td>\n",
       "      <td>2011</td>\n",
       "      <td>1</td>\n",
       "      <td>1</td>\n",
       "      <td>1</td>\n",
       "      <td>0</td>\n",
       "      <td>0</td>\n",
       "    </tr>\n",
       "    <tr>\n",
       "      <th>2</th>\n",
       "      <td>2011-01-01 02:00:00</td>\n",
       "      <td>1</td>\n",
       "      <td>0</td>\n",
       "      <td>0</td>\n",
       "      <td>1</td>\n",
       "      <td>9.02</td>\n",
       "      <td>13.635</td>\n",
       "      <td>80</td>\n",
       "      <td>0.0</td>\n",
       "      <td>5</td>\n",
       "      <td>27</td>\n",
       "      <td>32</td>\n",
       "      <td>2011</td>\n",
       "      <td>1</td>\n",
       "      <td>1</td>\n",
       "      <td>2</td>\n",
       "      <td>0</td>\n",
       "      <td>0</td>\n",
       "    </tr>\n",
       "    <tr>\n",
       "      <th>3</th>\n",
       "      <td>2011-01-01 03:00:00</td>\n",
       "      <td>1</td>\n",
       "      <td>0</td>\n",
       "      <td>0</td>\n",
       "      <td>1</td>\n",
       "      <td>9.84</td>\n",
       "      <td>14.395</td>\n",
       "      <td>75</td>\n",
       "      <td>0.0</td>\n",
       "      <td>3</td>\n",
       "      <td>10</td>\n",
       "      <td>13</td>\n",
       "      <td>2011</td>\n",
       "      <td>1</td>\n",
       "      <td>1</td>\n",
       "      <td>3</td>\n",
       "      <td>0</td>\n",
       "      <td>0</td>\n",
       "    </tr>\n",
       "    <tr>\n",
       "      <th>4</th>\n",
       "      <td>2011-01-01 04:00:00</td>\n",
       "      <td>1</td>\n",
       "      <td>0</td>\n",
       "      <td>0</td>\n",
       "      <td>1</td>\n",
       "      <td>9.84</td>\n",
       "      <td>14.395</td>\n",
       "      <td>75</td>\n",
       "      <td>0.0</td>\n",
       "      <td>0</td>\n",
       "      <td>1</td>\n",
       "      <td>1</td>\n",
       "      <td>2011</td>\n",
       "      <td>1</td>\n",
       "      <td>1</td>\n",
       "      <td>4</td>\n",
       "      <td>0</td>\n",
       "      <td>0</td>\n",
       "    </tr>\n",
       "  </tbody>\n",
       "</table>\n",
       "</div>"
      ],
      "text/plain": [
       "             datetime  season  holiday  workingday  weather  temp   atemp  \\\n",
       "0 2011-01-01 00:00:00       1        0           0        1  9.84  14.395   \n",
       "1 2011-01-01 01:00:00       1        0           0        1  9.02  13.635   \n",
       "2 2011-01-01 02:00:00       1        0           0        1  9.02  13.635   \n",
       "3 2011-01-01 03:00:00       1        0           0        1  9.84  14.395   \n",
       "4 2011-01-01 04:00:00       1        0           0        1  9.84  14.395   \n",
       "\n",
       "   humidity  windspeed  casual  registered  count  year  month  day  hour  \\\n",
       "0        81        0.0       3          13     16  2011      1    1     0   \n",
       "1        80        0.0       8          32     40  2011      1    1     1   \n",
       "2        80        0.0       5          27     32  2011      1    1     2   \n",
       "3        75        0.0       3          10     13  2011      1    1     3   \n",
       "4        75        0.0       0           1      1  2011      1    1     4   \n",
       "\n",
       "   minute  second  \n",
       "0       0       0  \n",
       "1       0       0  \n",
       "2       0       0  \n",
       "3       0       0  \n",
       "4       0       0  "
      ]
     },
     "execution_count": 54,
     "metadata": {},
     "output_type": "execute_result"
    }
   ],
   "source": [
    "train.head()"
   ]
  },
  {
   "cell_type": "markdown",
   "id": "98c050a8",
   "metadata": {},
   "source": [
    "datetime은 6개의 컬럼으로 분해했으니 제거, 그중 minute, second는 모든 컬럼이 0 이므로 무의미한 데이터라 제거.  \n",
    "casual, registered 값의 합이 count값이므로 제거."
   ]
  },
  {
   "cell_type": "code",
   "execution_count": 55,
   "id": "90fffd23",
   "metadata": {},
   "outputs": [
    {
     "data": {
      "text/plain": [
       "(10886, 12)"
      ]
     },
     "execution_count": 55,
     "metadata": {},
     "output_type": "execute_result"
    }
   ],
   "source": [
    "X = train[['season', 'holiday', 'workingday', 'weather', 'temp', 'atemp', \n",
    "           'humidity', 'windspeed', 'year', 'month', 'day', 'hour']].values\n",
    "X.shape"
   ]
  },
  {
   "cell_type": "markdown",
   "id": "d65bdd48",
   "metadata": {},
   "source": [
    "* count 값을 맞추고자 하므로, y 변수에 count 컬럼의 데이터 넣기"
   ]
  },
  {
   "cell_type": "code",
   "execution_count": 56,
   "id": "0c67a889",
   "metadata": {},
   "outputs": [
    {
     "data": {
      "text/plain": [
       "(10886,)"
      ]
     },
     "execution_count": 56,
     "metadata": {},
     "output_type": "execute_result"
    }
   ],
   "source": [
    "y = train['count'].values\n",
    "y.shape"
   ]
  },
  {
   "cell_type": "code",
   "execution_count": 57,
   "id": "ac9278a6",
   "metadata": {},
   "outputs": [
    {
     "data": {
      "text/plain": [
       "((8164, 12), (2722, 12), (8164,), (2722,))"
      ]
     },
     "execution_count": 57,
     "metadata": {},
     "output_type": "execute_result"
    }
   ],
   "source": [
    "from sklearn.model_selection import train_test_split\n",
    "\n",
    "X_train, X_test, y_train, y_test = train_test_split(X, y, random_state=43)\n",
    "\n",
    "X_train.shape, X_test.shape, y_train.shape, y_test.shape"
   ]
  },
  {
   "cell_type": "markdown",
   "id": "f9838186",
   "metadata": {},
   "source": [
    "## (5) LinearRegression 모델 학습"
   ]
  },
  {
   "cell_type": "markdown",
   "id": "2da432ab",
   "metadata": {},
   "source": [
    "* sklearn 의 LinearRegression 모델 불러오기 및 학습하기"
   ]
  },
  {
   "cell_type": "code",
   "execution_count": 58,
   "id": "cd3e63b6",
   "metadata": {},
   "outputs": [
    {
     "name": "stdout",
     "output_type": "stream",
     "text": [
      "regressor\n"
     ]
    },
    {
     "data": {
      "text/plain": [
       "LinearRegression()"
      ]
     },
     "execution_count": 58,
     "metadata": {},
     "output_type": "execute_result"
    }
   ],
   "source": [
    "from sklearn.linear_model import LinearRegression\n",
    "\n",
    "linear_regression = LinearRegression()\n",
    "print(linear_regression._estimator_type)\n",
    "linear_regression.fit(X_train, y_train)"
   ]
  },
  {
   "cell_type": "markdown",
   "id": "5292b3f8",
   "metadata": {},
   "source": [
    "## (6) 학습된 모델로 X_test 에 대한 예측값 출력 및 손실함수값 계산"
   ]
  },
  {
   "cell_type": "markdown",
   "id": "6942445d",
   "metadata": {},
   "source": [
    "* 학습된 모델에 X_test 를 입력해서 예측값 출력하기"
   ]
  },
  {
   "cell_type": "code",
   "execution_count": 59,
   "id": "ea38903a",
   "metadata": {},
   "outputs": [
    {
     "data": {
      "text/plain": [
       "array([210.69855399,  82.21924672, 137.75986555, ..., 192.3930281 ,\n",
       "       280.05427463, 271.55432232])"
      ]
     },
     "execution_count": 59,
     "metadata": {},
     "output_type": "execute_result"
    }
   ],
   "source": [
    "from sklearn.metrics import classification_report\n",
    "\n",
    "y_pred = linear_regression.predict(X_test)\n",
    "y_pred"
   ]
  },
  {
   "cell_type": "markdown",
   "id": "344dc5bc",
   "metadata": {},
   "source": [
    "* 모델이 예측한 값과 정답 target 간의 손실함수 값 계산하기\n",
    "* mse 값과 함께 rmse 값도 계산하기"
   ]
  },
  {
   "cell_type": "code",
   "execution_count": 60,
   "id": "d0cbf7f9",
   "metadata": {},
   "outputs": [
    {
     "name": "stdout",
     "output_type": "stream",
     "text": [
      "21050.754895870148 145.0887828051161\n"
     ]
    }
   ],
   "source": [
    "from sklearn.metrics import mean_squared_error\n",
    "\n",
    "mse = mean_squared_error(y_test, y_pred)\n",
    "rmse = np.sqrt(mse)\n",
    "print(mse, rmse)"
   ]
  },
  {
   "cell_type": "code",
   "execution_count": 61,
   "id": "ced911a6",
   "metadata": {},
   "outputs": [
    {
     "name": "stdout",
     "output_type": "stream",
     "text": [
      "145.0887828051161\n"
     ]
    }
   ],
   "source": [
    "RMSE = mean_squared_error(y_test, y_pred, squared=False)\n",
    "print(RMSE)"
   ]
  },
  {
   "cell_type": "markdown",
   "id": "a15c5acd",
   "metadata": {},
   "source": [
    "### !목표값인 RMSE 150이하 달성."
   ]
  },
  {
   "cell_type": "markdown",
   "id": "7ed7cfda",
   "metadata": {},
   "source": [
    "## (7) x축은 temp 또는 humidity로, y축은 count로 예측 결과 시각화하기"
   ]
  },
  {
   "cell_type": "markdown",
   "id": "b17fff97",
   "metadata": {},
   "source": [
    "* x축에 X 데이터 중 temp 데이터를, y축에는 count 데이터를 넣어서 시각화하기"
   ]
  },
  {
   "cell_type": "code",
   "execution_count": 62,
   "id": "dbce9996",
   "metadata": {},
   "outputs": [
    {
     "data": {
      "image/png": "[encoded data removed]",
      "text/plain": [
       "<Figure size 720x432 with 1 Axes>"
      ]
     },
     "metadata": {},
     "output_type": "display_data"
    }
   ],
   "source": [
    "plt.scatter(X_test[:, 4], y_test, label='True')\n",
    "plt.scatter(X_test[:, 4], y_pred, label='pred')\n",
    "plt.title('temp')\n",
    "plt.legend()\n",
    "plt.show()"
   ]
  },
  {
   "cell_type": "markdown",
   "id": "da95a5e1",
   "metadata": {},
   "source": [
    "* x축에 X 데이터 중 humidity 데이터를, y축에는 count 데이터를 넣어서 시각화하기"
   ]
  },
  {
   "cell_type": "code",
   "execution_count": 63,
   "id": "fc0c3a30",
   "metadata": {},
   "outputs": [
    {
     "data": {
      "image/png": "[encoded data removed]",
      "text/plain": [
       "<Figure size 720x432 with 1 Axes>"
      ]
     },
     "metadata": {},
     "output_type": "display_data"
    }
   ],
   "source": [
    "plt.scatter(X_test[:, 6], y_test, label='True')\n",
    "plt.scatter(X_test[:, 6], y_pred, label='pred')\n",
    "plt.title('humidity')\n",
    "plt.legend()\n",
    "plt.show()"
   ]
  },
  {
   "cell_type": "markdown",
   "id": "24e7b431",
   "metadata": {},
   "source": [
    "## 회고\n",
    "\n",
    "첫번째 프로젝트 diabetes 데이터셋은 당뇨병 환자의 age, bmi 등 신체정보와 s1~s6의 혈액성분 데이터로 이루어져 있고, 해당 데이터셋으로 LinearRegression에 학습시킨 데이터로 MSE 손실함수 값이 3000이하로 나올 수 있게 하는것이 목표고.  \n",
    "두번째 프로젝트 Bike Sharing 데이터셋은 kaggle에서 열린 Bike Sharing Demand의 데이터 셋이고, 날짜, 시간, 기상상황 등 데이터들이 주어졌을때 대여된 자전거의 수를 측정하는 대회였지만, LinearRegression이 학습한 모델로 RMSE 값 150이하로 달성하는게 이번 프로젝트의 목표가 되었습니다.  \n",
    "\n",
    "각각 프로젝트 진행하면서 첫번째는 맨 마지막에, 두번째는 전체적으로 진행하면서 데이터를 좀 더 직관적이게 볼 수 있도록 시각화를 해보았습니다.\n",
    "\n",
    "첫번째 프로젝트를 진행하면서 코드에 문제가 없는것 같지만 계속 broadcasting 에러가 뜨길래 찾아보니, numpy의 (N,)과  (N,1)는 다른 차원인게 문제였습니다. 전자는 1차원이지만 후자는 2차원 이었습니다. DataFrame을 numpy array로 변환할때 np.array로 변환시 (N,1) 형태지만 train['name'].values 형식이나 np.ravel은 (N,)형태로 변환되니 주의해야 합니다. ([참고 링크](https://code4human.tistory.com/entry/%EB%B3%B4%EC%B6%A9-numpy-%ED%96%89%EB%A0%AC%EC%9D%98-%ED%98%95%EC%83%81-%EC%B0%A8%EC%9D%B4-%EC%A0%95%EB%A6%AC%ED%95%98%EA%B8%B0-N-N11N))  \n",
    "추가로 MSE 손실함수값이 3000이하로 내려가지 못해서 시도했던 Min-Max Normalization ([참고 링크](https://colinch4.github.io/2020-12-04/min_max_normal/))도 첨부합니다.\n",
    "\n",
    "두번째 프로젝트는 데이터 시각화부분에서 데이터들의 상관관계를 도표로 표시하는것이 데이터 분석에 큰 이점이 있음을 체감하게되었습니다.  "
   ]
  }
 ],
 "metadata": {
  "kernelspec": {
   "display_name": "Python 3 (ipykernel)",
   "language": "python",
   "name": "python3"
  },
  "language_info": {
   "codemirror_mode": {
    "name": "ipython",
    "version": 3
   },
   "file_extension": ".py",
   "mimetype": "text/x-python",
   "name": "python",
   "nbconvert_exporter": "python",
   "pygments_lexer": "ipython3",
   "version": "3.9.7"
  }
 },
 "nbformat": 4,
 "nbformat_minor": 5
}
