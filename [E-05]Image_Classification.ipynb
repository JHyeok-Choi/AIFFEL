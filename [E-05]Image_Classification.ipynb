{
 "cells": [
  {
   "cell_type": "markdown",
   "id": "1eb49520",
   "metadata": {},
   "source": [
    "# 1. 데이터 불러오기 + Resize 하기   "
   ]
  },
  {
   "cell_type": "markdown",
   "id": "9914ca47",
   "metadata": {},
   "source": [
    "## 데이터를 준비하자"
   ]
  },
  {
   "cell_type": "code",
   "execution_count": 83,
   "id": "51df08aa",
   "metadata": {},
   "outputs": [
    {
     "name": "stdout",
     "output_type": "stream",
     "text": [
      "PIL 라이브러리 import 완료!\n"
     ]
    }
   ],
   "source": [
    "from PIL import Image\n",
    "import glob\n",
    "import matplotlib.pyplot as plt\n",
    "\n",
    "print(\"PIL 라이브러리 import 완료!\")"
   ]
  },
  {
   "cell_type": "code",
   "execution_count": 84,
   "id": "f6a98156",
   "metadata": {},
   "outputs": [
    {
     "name": "stdout",
     "output_type": "stream",
     "text": [
      "750  images to be resized.\n",
      "750  images resized.\n",
      "가위 이미지 resize 완료!\n"
     ]
    }
   ],
   "source": [
    "def resize_images(img_path):\n",
    "    images = glob.glob(img_path + \"/*.png\")\n",
    "    \n",
    "    print(len(images), \" images to be resized.\")\n",
    "    \n",
    "    # 파일마다 모두 28X28 사이즈로 바꾸어 저장합니다.\n",
    "    target_size = (28, 28)\n",
    "    for img in images:\n",
    "        old_img = Image.open(img)\n",
    "        new_img = old_img.resize(target_size, Image.ANTIALIAS)\n",
    "        new_img.save(img, \"png\")\n",
    "    \n",
    "    print(len(images), \" images resized.\")\n",
    "\n",
    "# 가위 이미지가 저장된 디렉토리 아래의 모든 jpg 파일을 읽어들여서\n",
    "image_dir_path = \"./rock_scissor_paper/scissor\"\n",
    "resize_images(image_dir_path)\n",
    "\n",
    "print(\"가위 이미지 resize 완료!\")"
   ]
  },
  {
   "cell_type": "code",
   "execution_count": null,
   "id": "60080448",
   "metadata": {},
   "outputs": [],
   "source": []
  },
  {
   "cell_type": "code",
   "execution_count": 85,
   "id": "9e33b0bb",
   "metadata": {},
   "outputs": [
    {
     "name": "stdout",
     "output_type": "stream",
     "text": [
      "750  images to be resized.\n",
      "750  images resized.\n"
     ]
    }
   ],
   "source": [
    "# 바위 이미지가 저장된 디렉토리 아래의 모든 jpg 파일을 읽어들여서\n",
    "image_dir_path = \"./rock_scissor_paper/rock\"\n",
    "\n",
    "# 파일마다 모두 28x28 사이즈로 바꾸어 저장합니다.\n",
    "resize_images(image_dir_path)"
   ]
  },
  {
   "cell_type": "code",
   "execution_count": 86,
   "id": "2babfbff",
   "metadata": {},
   "outputs": [
    {
     "name": "stdout",
     "output_type": "stream",
     "text": [
      "750  images to be resized.\n",
      "750  images resized.\n"
     ]
    }
   ],
   "source": [
    "# 보 이미지가 저장된 디렉토리 아래의 모든 jpg 파일을 읽어들여서\n",
    "image_dir_path = \"./rock_scissor_paper/paper\"\n",
    "\n",
    "# 파일마다 모두 28x28 사이즈로 바꾸어 저장합니다.\n",
    "resize_images(image_dir_path)"
   ]
  },
  {
   "cell_type": "code",
   "execution_count": 87,
   "id": "8b3242b0",
   "metadata": {},
   "outputs": [
    {
     "name": "stdout",
     "output_type": "stream",
     "text": [
      "학습 데이터(x_train)의 이미지 개수는 2250 입니다.\n",
      "최소값: 0  최대값: 255\n",
      "x_train shape: (2250, 28, 28, 3)\n",
      "y_train shape: (2250,)\n"
     ]
    }
   ],
   "source": [
    "import numpy as np\n",
    "\n",
    "def load_data(img_path, number_of_data=2250): # 가위 바위 보 이미지 개수 총합에 주의하세요.\n",
    "    # 가위:0, 바위: 1, 보: 2\n",
    "    img_size = 28\n",
    "    color = 3\n",
    "    # 이미지 데이터와 라벨(가위: 0, 바위: 1, 보: 2) 데이터를 담을 행렬(matrix) 영역을 생성\n",
    "    imgs = np.zeros(number_of_data * img_size * img_size * color, dtype = np.int32).reshape(number_of_data, img_size, img_size, color)\n",
    "    labels = np.zeros(number_of_data, dtype = np.int32)\n",
    "    \n",
    "    idx = 0\n",
    "    for file in glob.iglob(img_path + '/scissor/*.png'):\n",
    "        img = np.array(Image.open(file), dtype = np.int32)\n",
    "        imgs[idx, :, :, :] = img # 데이터 영역에 이미지 행렬을 복사\n",
    "        labels[idx] = 0 # 가위: 0\n",
    "        idx = idx + 1\n",
    "    \n",
    "    for file in glob.iglob(img_path + '/rock/*.png'):\n",
    "        img = np.array(Image.open(file), dtype = np.int32)\n",
    "        imgs[idx, :, :, :] = img # 데이터 영역에 이미지 행렬을 복사\n",
    "        labels[idx] = 1 # 바위: 1\n",
    "        idx = idx + 1\n",
    "    \n",
    "    for file in glob.iglob(img_path + '/paper/*.png'):\n",
    "        img = np.array(Image.open(file), dtype = np.int32)\n",
    "        imgs[idx, :, :, :] = img # 데이터 영역에 이미지 행렬을 복사\n",
    "        labels[idx] = 2 # 보: 2\n",
    "        idx = idx + 1\n",
    "    \n",
    "    print(\"학습 데이터(x_train)의 이미지 개수는\", idx, \"입니다.\")\n",
    "    return imgs, labels\n",
    "\n",
    "image_dir_path = \"./rock_scissor_paper\"\n",
    "(x_train, y_train) = load_data(image_dir_path)\n",
    "print('최소값:',np.min(x_train), ' 최대값:',np.max(x_train))\n",
    "# 최소값: 0  최대값: 213\n",
    "# 입력은 0~1 사이의 값으로 정규화\n",
    "x_train_norm = x_train / 213.0\n",
    "\n",
    "print(\"x_train shape: {}\".format(x_train.shape))\n",
    "print(\"y_train shape: {}\".format(y_train.shape))"
   ]
  },
  {
   "cell_type": "code",
   "execution_count": 88,
   "id": "f7ce8a91",
   "metadata": {},
   "outputs": [
    {
     "name": "stdout",
     "output_type": "stream",
     "text": [
      "라벨:  0\n"
     ]
    },
    {
     "data": {
      "image/png": "[encoded data removed]",
      "text/plain": [
       "<Figure size 432x288 with 1 Axes>"
      ]
     },
     "metadata": {
      "needs_background": "light"
     },
     "output_type": "display_data"
    }
   ],
   "source": [
    "plt.imshow(x_train[100])\n",
    "print('라벨: ', y_train[100])"
   ]
  },
  {
   "cell_type": "code",
   "execution_count": 89,
   "id": "265ae71a",
   "metadata": {},
   "outputs": [
    {
     "name": "stdout",
     "output_type": "stream",
     "text": [
      "라벨:  0\n"
     ]
    },
    {
     "data": {
      "image/png": "[encoded data removed]",
      "text/plain": [
       "<Figure size 432x288 with 1 Axes>"
      ]
     },
     "metadata": {
      "needs_background": "light"
     },
     "output_type": "display_data"
    }
   ],
   "source": [
    "plt.imshow(x_train[800])\n",
    "print('라벨: ', y_train[100])"
   ]
  },
  {
   "cell_type": "code",
   "execution_count": 90,
   "id": "935236d2",
   "metadata": {},
   "outputs": [
    {
     "name": "stdout",
     "output_type": "stream",
     "text": [
      "라벨:  0\n"
     ]
    },
    {
     "data": {
      "image/png": "[encoded data removed]",
      "text/plain": [
       "<Figure size 432x288 with 1 Axes>"
      ]
     },
     "metadata": {
      "needs_background": "light"
     },
     "output_type": "display_data"
    }
   ],
   "source": [
    "plt.imshow(x_train[1600])\n",
    "print('라벨: ', y_train[200])"
   ]
  },
  {
   "cell_type": "markdown",
   "id": "6c43f4ba",
   "metadata": {},
   "source": [
    "## 2. 딥러닝 네트워크 설계하기"
   ]
  },
  {
   "cell_type": "markdown",
   "id": "8f6827a6",
   "metadata": {},
   "source": [
    "### Sequential Model을 사용해 보자"
   ]
  },
  {
   "cell_type": "code",
   "execution_count": 91,
   "id": "40c61d01",
   "metadata": {},
   "outputs": [
    {
     "name": "stdout",
     "output_type": "stream",
     "text": [
      "7\n",
      "Model: \"sequential_37\"\n",
      "_________________________________________________________________\n",
      "Layer (type)                 Output Shape              Param #   \n",
      "=================================================================\n",
      "conv2d_97 (Conv2D)           (None, 26, 26, 16)        448       \n",
      "_________________________________________________________________\n",
      "max_pooling2d_70 (MaxPooling (None, 13, 13, 16)        0         \n",
      "_________________________________________________________________\n",
      "conv2d_98 (Conv2D)           (None, 11, 11, 32)        4640      \n",
      "_________________________________________________________________\n",
      "max_pooling2d_71 (MaxPooling (None, 5, 5, 32)          0         \n",
      "_________________________________________________________________\n",
      "flatten_35 (Flatten)         (None, 800)               0         \n",
      "_________________________________________________________________\n",
      "dense_70 (Dense)             (None, 32)                25632     \n",
      "_________________________________________________________________\n",
      "dense_71 (Dense)             (None, 3)                 99        \n",
      "=================================================================\n",
      "Total params: 30,819\n",
      "Trainable params: 30,819\n",
      "Non-trainable params: 0\n",
      "_________________________________________________________________\n"
     ]
    }
   ],
   "source": [
    "import tensorflow as tf\n",
    "from tensorflow import keras\n",
    "import numpy as np\n",
    "\n",
    "# model을 직접 만들어 보세요.\n",
    "model = keras.models.Sequential()\n",
    "model.add(keras.layers.Conv2D(16, (3,3), activation='relu', input_shape=(28,28,3)))\n",
    "model.add(keras.layers.MaxPool2D(2,2))\n",
    "model.add(keras.layers.Conv2D(32, (3,3), activation='relu'))\n",
    "model.add(keras.layers.MaxPooling2D((2,2)))\n",
    "model.add(keras.layers.Flatten())\n",
    "model.add(keras.layers.Dense(32, activation='relu'))\n",
    "model.add(keras.layers.Dense(3, activation='softmax'))\n",
    "\n",
    "\n",
    "print(len(model.layers))\n",
    "model.summary()"
   ]
  },
  {
   "cell_type": "markdown",
   "id": "64143bce",
   "metadata": {},
   "source": [
    "## 3. 딥러닝 네트워크 학습시키기"
   ]
  },
  {
   "cell_type": "code",
   "execution_count": 92,
   "id": "f0bc5f06",
   "metadata": {
    "scrolled": false
   },
   "outputs": [
    {
     "name": "stdout",
     "output_type": "stream",
     "text": [
      "(2250, 28, 28, 3)\n",
      "(2250, 28, 28, 3)\n",
      "Epoch 1/10\n",
      "71/71 [==============================] - 1s 5ms/step - loss: 0.7768 - accuracy: 0.6947\n",
      "Epoch 2/10\n",
      "71/71 [==============================] - 0s 5ms/step - loss: 0.2883 - accuracy: 0.9107\n",
      "Epoch 3/10\n",
      "71/71 [==============================] - 0s 6ms/step - loss: 0.1452 - accuracy: 0.9516\n",
      "Epoch 4/10\n",
      "71/71 [==============================] - 0s 5ms/step - loss: 0.0982 - accuracy: 0.9698\n",
      "Epoch 5/10\n",
      "71/71 [==============================] - 0s 5ms/step - loss: 0.0681 - accuracy: 0.9796\n",
      "Epoch 6/10\n",
      "71/71 [==============================] - 0s 5ms/step - loss: 0.0611 - accuracy: 0.9809\n",
      "Epoch 7/10\n",
      "71/71 [==============================] - 0s 5ms/step - loss: 0.0488 - accuracy: 0.9853\n",
      "Epoch 8/10\n",
      "71/71 [==============================] - 0s 5ms/step - loss: 0.0544 - accuracy: 0.9844: 0s - loss: 0.0645 - accura\n",
      "Epoch 9/10\n",
      "71/71 [==============================] - 0s 5ms/step - loss: 0.0402 - accuracy: 0.9867\n",
      "Epoch 10/10\n",
      "71/71 [==============================] - 0s 5ms/step - loss: 0.0332 - accuracy: 0.9920\n"
     ]
    },
    {
     "data": {
      "text/plain": [
       "<tensorflow.python.keras.callbacks.History at 0x2c5041808b0>"
      ]
     },
     "execution_count": 92,
     "metadata": {},
     "output_type": "execute_result"
    }
   ],
   "source": [
    "# model을 학습시키는 코드를 직접 작성해 보세요.\n",
    "print(x_train_norm.shape)\n",
    "\n",
    "x_train_reshaped = x_train_norm.reshape( -1, 28, 28, 3)\n",
    "\n",
    "print(x_train_reshaped.shape)\n",
    "\n",
    "model.compile(optimizer='adam', loss='sparse_categorical_crossentropy', metrics=['accuracy'])\n",
    "model.fit(x_train_reshaped, y_train, epochs=10)"
   ]
  },
  {
   "cell_type": "markdown",
   "id": "07839df7",
   "metadata": {},
   "source": [
    "## 4. test 만들기"
   ]
  },
  {
   "cell_type": "code",
   "execution_count": 93,
   "id": "bee3b4e9",
   "metadata": {},
   "outputs": [
    {
     "name": "stdout",
     "output_type": "stream",
     "text": [
      "100  images to be resized.\n",
      "100  images resized.\n",
      "100  images to be resized.\n",
      "100  images resized.\n",
      "100  images to be resized.\n",
      "100  images resized.\n",
      "이미지 resize 완료!\n",
      "----------------------------------------\n",
      "학습데이터(x_train)의 이미지 개수는 300 입니다.\n",
      "x_test shape: (300, 28, 28, 3)\n",
      "y_test shape: (300,)\n",
      "----------------------------------------\n",
      "(300, 28, 28, 3)\n",
      "(300, 28, 28, 3)\n"
     ]
    }
   ],
   "source": [
    "# x_test, y_test를 만드는 방법은 x_train, y_train을 만드는 방법과 아주 유사합니다.\n",
    "def resize_images(img_path):\n",
    "\timages=glob.glob(img_path + \"/*.jpg\")  \n",
    "    \n",
    "\tprint(len(images), \" images to be resized.\")\n",
    "\n",
    "    # 파일마다 모두 28x28 사이즈로 바꾸어 저장합니다.\n",
    "\ttarget_size=(28,28)\n",
    "\tfor img in images:\n",
    "\t\told_img=Image.open(img)\n",
    "\t\tnew_img=old_img.resize(target_size,Image.ANTIALIAS)\n",
    "\t\tnew_img.save(img, \"JPEG\")\n",
    "    \n",
    "\tprint(len(images), \" images resized.\")\n",
    "\t\n",
    "# 가위 이미지가 저장된 디렉토리 아래의 모든 jpg 파일을 읽어들여서\n",
    "image_dir_path = \"./rock_scissor_paper/test/scissor\"\n",
    "resize_images(image_dir_path)\n",
    "image_dir_path = \"./rock_scissor_paper/test/rock\"\n",
    "resize_images(image_dir_path)\n",
    "image_dir_path = \"./rock_scissor_paper/test/paper\"\n",
    "resize_images(image_dir_path)\n",
    "print(\"이미지 resize 완료!\")\n",
    "\n",
    "print(\"-\"*40)\n",
    "\n",
    "def load_data(img_path, number_of_data=300):  # 가위바위보 이미지 개수 총합에 주의하세요.\n",
    "    # 가위 : 0, 바위 : 1, 보 : 2\n",
    "    img_size=28\n",
    "    color=3\n",
    "    #이미지 데이터와 라벨(가위 : 0, 바위 : 1, 보 : 2) 데이터를 담을 행렬(matrix) 영역을 생성합니다.\n",
    "    imgs=np.zeros(number_of_data*img_size*img_size*color,dtype=np.int32).reshape(number_of_data,img_size,img_size,color)\n",
    "    labels=np.zeros(number_of_data,dtype=np.int32)\n",
    "\n",
    "    idx=0\n",
    "    for file in glob.iglob(img_path+'/scissor/*.jpg'):\n",
    "        img = np.array(Image.open(file),dtype=np.int32)\n",
    "        imgs[idx,:,:,:]=img    # 데이터 영역에 이미지 행렬을 복사\n",
    "        labels[idx]=0   # 가위 : 0\n",
    "        idx=idx+1\n",
    "\n",
    "    for file in glob.iglob(img_path+'/rock/*.jpg'):\n",
    "        img = np.array(Image.open(file),dtype=np.int32)\n",
    "        imgs[idx,:,:,:]=img    # 데이터 영역에 이미지 행렬을 복사\n",
    "        labels[idx]=1   # 바위 : 1\n",
    "        idx=idx+1  \n",
    "    \n",
    "    for file in glob.iglob(img_path+'/paper/*.jpg'):\n",
    "        img = np.array(Image.open(file),dtype=np.int32)\n",
    "        imgs[idx,:,:,:]=img    # 데이터 영역에 이미지 행렬을 복사\n",
    "        labels[idx]=2   # 보 : 2\n",
    "        idx=idx+1\n",
    "        \n",
    "    print(\"학습데이터(x_train)의 이미지 개수는\", idx,\"입니다.\")\n",
    "    return imgs, labels\n",
    "\n",
    "image_dir_path = \"./rock_scissor_paper/test\"\n",
    "(x_test, y_test)=load_data(image_dir_path)\n",
    "# 입력은 0~1 사이의 값으로 정규화\n",
    "x_test_norm = x_test/213.0\n",
    "\n",
    "print(\"x_test shape: {}\".format(x_test.shape))\n",
    "print(\"y_test shape: {}\".format(y_test.shape))\n",
    "\n",
    "print(\"-\"*40)\n",
    "\n",
    "print(x_test_norm.shape)\n",
    "\n",
    "x_test_reshaped = x_test_norm.reshape( -1, 28, 28, 3)\n",
    "\n",
    "print(x_test_reshaped.shape)\n",
    "\n",
    "#model.compile(optimizer='adam', loss='sparse_categorical_crossentropy', metrics=['accuracy'])\n",
    "#model.fit(x_test_reshaped, y_test, epochs=10)"
   ]
  },
  {
   "cell_type": "markdown",
   "id": "6eea15b0",
   "metadata": {},
   "source": [
    "## 5. 얼마나 잘 만들었는지 확인하기"
   ]
  },
  {
   "cell_type": "markdown",
   "id": "3d2dd34d",
   "metadata": {},
   "source": [
    "### 테스트 데이터로 성능을 확인해 보자"
   ]
  },
  {
   "cell_type": "code",
   "execution_count": 94,
   "id": "38c319d2",
   "metadata": {},
   "outputs": [
    {
     "name": "stdout",
     "output_type": "stream",
     "text": [
      "10/10 - 0s - loss: 0.4177 - accuracy: 0.8700\n",
      "test_loss: 0.4177241623401642\n",
      "test_accuracy: 0.8700000047683716\n"
     ]
    }
   ],
   "source": [
    "test_loss, test_accuracy = model.evaluate(x_test_reshaped, y_test, verbose=2)\n",
    "print(f\"test_loss: {test_loss}\")\n",
    "print(f\"test_accuracy: {test_accuracy}\")"
   ]
  },
  {
   "cell_type": "code",
   "execution_count": null,
   "id": "c46827bc",
   "metadata": {},
   "outputs": [],
   "source": []
  },
  {
   "cell_type": "markdown",
   "id": "e43f1b1b",
   "metadata": {},
   "source": [
    "# 6. 어떤 데이터를 잘못 추론했을까? 눈으로 확인해 보자"
   ]
  },
  {
   "cell_type": "code",
   "execution_count": 95,
   "id": "0c52a2ea",
   "metadata": {},
   "outputs": [
    {
     "name": "stdout",
     "output_type": "stream",
     "text": [
      "model.predict() 결과 :  [0.5430387  0.00279377 0.4541675 ]\n",
      "model이 추론한 가장 가능성이 높은 결과 :  0\n",
      "실제 데이터의 라벨 :  0\n"
     ]
    }
   ],
   "source": [
    "predicted_result = model.predict(x_test_reshaped) # model이 추론한 확률값.\n",
    "predicted_labels = np.argmax(predicted_result, axis=1)\n",
    "\n",
    "idx=0  # 1번째 x_test를 살펴보자.\n",
    "print('model.predict() 결과 : ', predicted_result[idx])\n",
    "print('model이 추론한 가장 가능성이 높은 결과 : ', predicted_labels[idx])\n",
    "print('실제 데이터의 라벨 : ', y_test[idx])"
   ]
  },
  {
   "cell_type": "code",
   "execution_count": 96,
   "id": "60e159c5",
   "metadata": {},
   "outputs": [
    {
     "data": {
      "image/png": "[encoded data removed]",
      "text/plain": [
       "<Figure size 432x288 with 1 Axes>"
      ]
     },
     "metadata": {
      "needs_background": "light"
     },
     "output_type": "display_data"
    }
   ],
   "source": [
    "plt.imshow(x_test[idx], cmap=plt.cm.binary)\n",
    "plt.show()"
   ]
  },
  {
   "cell_type": "code",
   "execution_count": 97,
   "id": "28d4254b",
   "metadata": {},
   "outputs": [
    {
     "name": "stdout",
     "output_type": "stream",
     "text": [
      "예측확률분포: [0.16677772 0.03500987 0.79821247]\n",
      "라벨: 0, 예측결과: 2\n"
     ]
    },
    {
     "data": {
      "image/png": "[encoded data removed]",
      "text/plain": [
       "<Figure size 432x288 with 1 Axes>"
      ]
     },
     "metadata": {
      "needs_background": "light"
     },
     "output_type": "display_data"
    },
    {
     "name": "stdout",
     "output_type": "stream",
     "text": [
      "예측확률분포: [0.15850599 0.01557621 0.82591784]\n",
      "라벨: 0, 예측결과: 2\n"
     ]
    },
    {
     "data": {
      "image/png": "[encoded data removed]",
      "text/plain": [
       "<Figure size 432x288 with 1 Axes>"
      ]
     },
     "metadata": {
      "needs_background": "light"
     },
     "output_type": "display_data"
    },
    {
     "name": "stdout",
     "output_type": "stream",
     "text": [
      "예측확률분포: [0.05292787 0.09197792 0.85509425]\n",
      "라벨: 0, 예측결과: 2\n"
     ]
    },
    {
     "data": {
      "image/png": "[encoded data removed]",
      "text/plain": [
       "<Figure size 432x288 with 1 Axes>"
      ]
     },
     "metadata": {
      "needs_background": "light"
     },
     "output_type": "display_data"
    },
    {
     "name": "stdout",
     "output_type": "stream",
     "text": [
      "예측확률분포: [0.0575266  0.03687225 0.90560114]\n",
      "라벨: 0, 예측결과: 2\n"
     ]
    },
    {
     "data": {
      "image/png": "[encoded data removed]",
      "text/plain": [
       "<Figure size 432x288 with 1 Axes>"
      ]
     },
     "metadata": {
      "needs_background": "light"
     },
     "output_type": "display_data"
    },
    {
     "name": "stdout",
     "output_type": "stream",
     "text": [
      "예측확률분포: [0.11922278 0.05030474 0.83047247]\n",
      "라벨: 0, 예측결과: 2\n"
     ]
    },
    {
     "data": {
      "image/png": "[encoded data removed]",
      "text/plain": [
       "<Figure size 432x288 with 1 Axes>"
      ]
     },
     "metadata": {
      "needs_background": "light"
     },
     "output_type": "display_data"
    }
   ],
   "source": [
    "import random\n",
    "wrong_predict_list = []\n",
    "for i, _ in enumerate(predicted_labels):\n",
    "\t# i번째 test_labels과 y_test이 다른 경우만 모아 봅시다.\n",
    "\tif predicted_labels[i] != y_test[i]:\n",
    "\t\twrong_predict_list.append(i)\n",
    "\n",
    "# wrong_predict_list 에서 랜덤하게 5개만 뽑아봅시다.\n",
    "samples = random.choices(population=wrong_predict_list, k=5)\n",
    "\n",
    "for n in samples:\n",
    "\tprint(\"예측확률분포: \" + str(predicted_result[n]))\n",
    "\tprint(\"라벨: \" + str(y_test[n]) + \", 예측결과: \" + str(predicted_labels[n]))\n",
    "\tplt.imshow(x_test[n], cmap=plt.cm.binary)\n",
    "\tplt.show()"
   ]
  },
  {
   "cell_type": "markdown",
   "id": "3234c903",
   "metadata": {},
   "source": [
    "train 데이터와 test의 손가락 모양 차이일까요? 유독 가위에서 문제가 있네요."
   ]
  },
  {
   "cell_type": "markdown",
   "id": "389549a5",
   "metadata": {},
   "source": [
    "# 7. 더 좋은 네트워크 만들어 보기"
   ]
  },
  {
   "cell_type": "code",
   "execution_count": 98,
   "id": "efd8d3e4",
   "metadata": {
    "scrolled": false
   },
   "outputs": [
    {
     "name": "stdout",
     "output_type": "stream",
     "text": [
      "Model: \"sequential_38\"\n",
      "_________________________________________________________________\n",
      "Layer (type)                 Output Shape              Param #   \n",
      "=================================================================\n",
      "conv2d_99 (Conv2D)           (None, 26, 26, 16)        448       \n",
      "_________________________________________________________________\n",
      "batch_normalization_89 (Batc (None, 26, 26, 16)        64        \n",
      "_________________________________________________________________\n",
      "activation_54 (Activation)   (None, 26, 26, 16)        0         \n",
      "_________________________________________________________________\n",
      "conv2d_100 (Conv2D)          (None, 24, 24, 32)        4640      \n",
      "_________________________________________________________________\n",
      "batch_normalization_90 (Batc (None, 24, 24, 32)        128       \n",
      "_________________________________________________________________\n",
      "max_pooling2d_72 (MaxPooling (None, 12, 12, 32)        0         \n",
      "_________________________________________________________________\n",
      "dropout_64 (Dropout)         (None, 12, 12, 32)        0         \n",
      "_________________________________________________________________\n",
      "conv2d_101 (Conv2D)          (None, 10, 10, 64)        18496     \n",
      "_________________________________________________________________\n",
      "batch_normalization_91 (Batc (None, 10, 10, 64)        256       \n",
      "_________________________________________________________________\n",
      "activation_55 (Activation)   (None, 10, 10, 64)        0         \n",
      "_________________________________________________________________\n",
      "max_pooling2d_73 (MaxPooling (None, 5, 5, 64)          0         \n",
      "_________________________________________________________________\n",
      "dropout_65 (Dropout)         (None, 5, 5, 64)          0         \n",
      "_________________________________________________________________\n",
      "flatten_36 (Flatten)         (None, 1600)              0         \n",
      "_________________________________________________________________\n",
      "dense_72 (Dense)             (None, 64)                102464    \n",
      "_________________________________________________________________\n",
      "dense_73 (Dense)             (None, 3)                 195       \n",
      "=================================================================\n",
      "Total params: 126,691\n",
      "Trainable params: 126,467\n",
      "Non-trainable params: 224\n",
      "_________________________________________________________________\n",
      "Epoch 1/10\n",
      "71/71 [==============================] - 2s 15ms/step - loss: 0.7229 - accuracy: 0.7284\n",
      "Epoch 2/10\n",
      "71/71 [==============================] - 1s 15ms/step - loss: 0.2458 - accuracy: 0.9151\n",
      "Epoch 3/10\n",
      "71/71 [==============================] - 1s 15ms/step - loss: 0.1700 - accuracy: 0.9427 0s - loss: 0.159\n",
      "Epoch 4/10\n",
      "71/71 [==============================] - 1s 16ms/step - loss: 0.1182 - accuracy: 0.9596 0s - los\n",
      "Epoch 5/10\n",
      "71/71 [==============================] - 1s 15ms/step - loss: 0.0968 - accuracy: 0.9667\n",
      "Epoch 6/10\n",
      "71/71 [==============================] - 1s 15ms/step - loss: 0.0775 - accuracy: 0.9733\n",
      "Epoch 7/10\n",
      "71/71 [==============================] - 1s 15ms/step - loss: 0.0594 - accuracy: 0.9822\n",
      "Epoch 8/10\n",
      "71/71 [==============================] - 1s 16ms/step - loss: 0.0484 - accuracy: 0.9840\n",
      "Epoch 9/10\n",
      "71/71 [==============================] - 1s 15ms/step - loss: 0.0463 - accuracy: 0.9840\n",
      "Epoch 10/10\n",
      "71/71 [==============================] - 1s 15ms/step - loss: 0.0390 - accuracy: 0.9858 0s - loss: 0.0360 - \n",
      "10/10 - 0s - loss: 0.2225 - accuracy: 0.8533\n",
      "test loss: 0.22245147824287415 \n",
      "test_accuracy: 0.8533333539962769\n"
     ]
    }
   ],
   "source": [
    "# 바꿔 볼 수 있는 하이퍼파라미터들\n",
    "n_channel_1 = 16\n",
    "n_channel_2 = 32\n",
    "n_channel_3 = 64\n",
    "n_dense = 64\n",
    "n_train_epoch = 10\n",
    "\n",
    "model = keras.models.Sequential()\n",
    "\n",
    "model.add(keras.layers.Conv2D(input_shape=(28,28,3), filters=n_channel_1, kernel_size=(3,3), kernel_initializer='he_normal'))\n",
    "model.add(keras.layers.BatchNormalization())\n",
    "model.add(keras.layers.Activation('relu'))\n",
    "model.add(keras.layers.Conv2D(n_channel_2, (3,3), kernel_initializer='he_normal'))\n",
    "model.add(keras.layers.BatchNormalization())\n",
    "model.add(keras.layers.MaxPool2D(2,2))\n",
    "model.add(keras.layers.Dropout(0.5))\n",
    "\n",
    "model.add(keras.layers.Conv2D(n_channel_3, (3,3), kernel_initializer='he_normal'))\n",
    "model.add(keras.layers.BatchNormalization())\n",
    "model.add(keras.layers.Activation('relu'))\n",
    "model.add(keras.layers.MaxPooling2D((2,2)))\n",
    "model.add(keras.layers.Dropout(0.5))\n",
    "\n",
    "model.add(keras.layers.Flatten())\n",
    "model.add(keras.layers.Dense(n_dense, activation='relu', kernel_initializer='he_normal'))\n",
    "model.add(keras.layers.Dense(3, activation='softmax'))\n",
    "\n",
    "model.summary()\n",
    "model.compile(optimizer='adam',loss='sparse_categorical_crossentropy',metrics=['accuracy'])\n",
    "\n",
    "# 모델 훈련/\n",
    "history = model.fit(x_train_reshaped, y_train, epochs=n_train_epoch)\n",
    "\n",
    "# 모델 시험\n",
    "test_loss, test_accuracy = model.evaluate(x_test_reshaped, y_test, verbose=2)\n",
    "print(f\"test loss: {test_loss} \")\n",
    "print(f\"test_accuracy: {test_accuracy}\")"
   ]
  },
  {
   "cell_type": "markdown",
   "id": "7562e283",
   "metadata": {},
   "source": [
    "train 여러 데이터를 추가했고, test 에서 배경에 다른 그림들이 같이 잡혀서 정확도가 떨어지는것 같아서 최대한 깔끔하게 찍어보았습니다.  \n",
    "과적합을 막기위해 dropout에 0.5를 설정했습니다.  \n",
    "활성화 함수로 ReLU를 사용하여 활성화값들의 균일한 분포를 위해 He 초깃값을 설정해 주었습니다.  "
   ]
  },
  {
   "cell_type": "markdown",
   "id": "64e59242",
   "metadata": {},
   "source": [
    "## 시각화"
   ]
  },
  {
   "cell_type": "code",
   "execution_count": 99,
   "id": "fb50dc12",
   "metadata": {},
   "outputs": [
    {
     "data": {
      "image/png": "[encoded data removed]",
      "text/plain": [
       "<Figure size 432x288 with 2 Axes>"
      ]
     },
     "metadata": {
      "needs_background": "light"
     },
     "output_type": "display_data"
    }
   ],
   "source": [
    "plt.subplot(121)\n",
    "plt.title('test_loss')\n",
    "plt.plot(history.history['loss'], label='test')\n",
    "plt.subplot(122)\n",
    "plt.title('test_accuracy')\n",
    "plt.plot(history.history['accuracy'], label='test')\n",
    "plt.show()"
   ]
  },
  {
   "cell_type": "markdown",
   "id": "3133400f",
   "metadata": {},
   "source": [
    "# 회고"
   ]
  },
  {
   "cell_type": "markdown",
   "id": "f0a7eccd",
   "metadata": {},
   "source": [
    "처음에 모델의 하이퍼 파라미터를 잘 조절한다면 어느정도 성능의 개선이 있을 줄 알았지만 그렇지 않았고,  \n",
    "학습의 정확도나 오버피팅을 방지하는것에는 다양한 데이터를 추가하는게 큰 영향을 미친다는것을 알게되었습니다.  \n",
    "데이터 정규화를 할때도 처음에는 이전의 예제처럼 255로 나누었다가 천천히 다시한번 읽어보니 데이터마다 다르고,  \n",
    "해당 데이터는 213으로 고쳐야한다는 것을 뒤늦게 알게되었고,  \n",
    "이미지 인식이 수월하게 되기위해 배경의 색감이나 이미지에 신경써야함을 알게되었습니다.  \n",
    "데이터 갯수를 늘려보니 하이퍼 파라미터를 조절할때 변화가 커지는것을 확인할 수 있었습니다.  \n",
    "활성화값들의 균일한 분포를 위해 ReLU에 초기값으로 He를 사용했는데 여기에 배치정규화까지 적용시키는 것은 유의미한 행동일지 의문이 생겼습니다."
   ]
  },
  {
   "cell_type": "markdown",
   "id": "581e132e",
   "metadata": {},
   "source": []
  }
 ],
 "metadata": {
  "interpreter": {
   "hash": "9952796633dec55c7325ce4d0cc68b86a4ef33d7b609123d10cd507c3aaa540d"
  },
  "kernelspec": {
   "display_name": "Python 3.8.12 ('tf_2_5')",
   "language": "python",
   "name": "python3"
  },
  "language_info": {
   "codemirror_mode": {
    "name": "ipython",
    "version": 3
   },
   "file_extension": ".py",
   "mimetype": "text/x-python",
   "name": "python",
   "nbconvert_exporter": "python",
   "pygments_lexer": "ipython3",
   "version": "3.8.12"
  }
 },
 "nbformat": 4,
 "nbformat_minor": 5
}
