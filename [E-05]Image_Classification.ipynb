{
 "cells": [
  {
   "cell_type": "markdown",
   "id": "1eb49520",
   "metadata": {},
   "source": [
    "# 1. 데이터 불러오기 + Resize 하기   "
   ]
  },
  {
   "cell_type": "markdown",
   "id": "9914ca47",
   "metadata": {},
   "source": [
    "## 데이터를 준비하자"
   ]
  },
  {
   "cell_type": "code",
   "execution_count": 192,
   "id": "51df08aa",
   "metadata": {},
   "outputs": [
    {
     "name": "stdout",
     "output_type": "stream",
     "text": [
      "PIL 라이브러리 import 완료!\n"
     ]
    }
   ],
   "source": [
    "from PIL import Image\n",
    "import glob\n",
    "import matplotlib.pyplot as plt\n",
    "\n",
    "print(\"PIL 라이브러리 import 완료!\")"
   ]
  },
  {
   "cell_type": "code",
   "execution_count": 193,
   "id": "f6a98156",
   "metadata": {},
   "outputs": [
    {
     "name": "stdout",
     "output_type": "stream",
     "text": [
      "750  images to be resized.\n",
      "750  images resized.\n",
      "가위 이미지 resize 완료!\n"
     ]
    }
   ],
   "source": [
    "def resize_images(img_path):\n",
    "    images = glob.glob(img_path + \"/*.png\")\n",
    "    \n",
    "    print(len(images), \" images to be resized.\")\n",
    "    \n",
    "    # 파일마다 모두 28X28 사이즈로 바꾸어 저장합니다.\n",
    "    target_size = (28, 28)\n",
    "    for img in images:\n",
    "        old_img = Image.open(img)\n",
    "        new_img = old_img.resize(target_size, Image.ANTIALIAS)\n",
    "        new_img.save(img, \"png\")\n",
    "    \n",
    "    print(len(images), \" images resized.\")\n",
    "\n",
    "# 가위 이미지가 저장된 디렉토리 아래의 모든 jpg 파일을 읽어들여서\n",
    "image_dir_path = \"./rock_scissor_paper/scissor\"\n",
    "resize_images(image_dir_path)\n",
    "\n",
    "print(\"가위 이미지 resize 완료!\")"
   ]
  },
  {
   "cell_type": "code",
   "execution_count": null,
   "id": "60080448",
   "metadata": {},
   "outputs": [],
   "source": []
  },
  {
   "cell_type": "code",
   "execution_count": 194,
   "id": "9e33b0bb",
   "metadata": {},
   "outputs": [
    {
     "name": "stdout",
     "output_type": "stream",
     "text": [
      "750  images to be resized.\n",
      "750  images resized.\n"
     ]
    }
   ],
   "source": [
    "# 바위 이미지가 저장된 디렉토리 아래의 모든 jpg 파일을 읽어들여서\n",
    "image_dir_path = \"./rock_scissor_paper/rock\"\n",
    "\n",
    "# 파일마다 모두 28x28 사이즈로 바꾸어 저장합니다.\n",
    "resize_images(image_dir_path)"
   ]
  },
  {
   "cell_type": "code",
   "execution_count": 195,
   "id": "2babfbff",
   "metadata": {},
   "outputs": [
    {
     "name": "stdout",
     "output_type": "stream",
     "text": [
      "750  images to be resized.\n",
      "750  images resized.\n"
     ]
    }
   ],
   "source": [
    "# 보 이미지가 저장된 디렉토리 아래의 모든 jpg 파일을 읽어들여서\n",
    "image_dir_path = \"./rock_scissor_paper/paper\"\n",
    "\n",
    "# 파일마다 모두 28x28 사이즈로 바꾸어 저장합니다.\n",
    "resize_images(image_dir_path)"
   ]
  },
  {
   "cell_type": "code",
   "execution_count": 196,
   "id": "8b3242b0",
   "metadata": {},
   "outputs": [
    {
     "name": "stdout",
     "output_type": "stream",
     "text": [
      "학습 데이터(x_train)의 이미지 개수는 2250 입니다.\n",
      "최소값: 0  최대값: 255\n",
      "x_train shape: (2250, 28, 28, 3)\n",
      "y_train shape: (2250,)\n"
     ]
    }
   ],
   "source": [
    "import numpy as np\n",
    "\n",
    "def load_data(img_path, number_of_data=2250): # 가위 바위 보 이미지 개수 총합에 주의하세요.\n",
    "    # 가위:0, 바위: 1, 보: 2\n",
    "    img_size = 28\n",
    "    color = 3\n",
    "    # 이미지 데이터와 라벨(가위: 0, 바위: 1, 보: 2) 데이터를 담을 행렬(matrix) 영역을 생성\n",
    "    imgs = np.zeros(number_of_data * img_size * img_size * color, dtype = np.int32).reshape(number_of_data, img_size, img_size, color)\n",
    "    labels = np.zeros(number_of_data, dtype = np.int32)\n",
    "    \n",
    "    idx = 0\n",
    "    for file in glob.iglob(img_path + '/scissor/*.png'):\n",
    "        img = np.array(Image.open(file), dtype = np.int32)\n",
    "        imgs[idx, :, :, :] = img # 데이터 영역에 이미지 행렬을 복사\n",
    "        labels[idx] = 0 # 가위: 0\n",
    "        idx = idx + 1\n",
    "    \n",
    "    for file in glob.iglob(img_path + '/rock/*.png'):\n",
    "        img = np.array(Image.open(file), dtype = np.int32)\n",
    "        imgs[idx, :, :, :] = img # 데이터 영역에 이미지 행렬을 복사\n",
    "        labels[idx] = 1 # 바위: 1\n",
    "        idx = idx + 1\n",
    "    \n",
    "    for file in glob.iglob(img_path + '/paper/*.png'):\n",
    "        img = np.array(Image.open(file), dtype = np.int32)\n",
    "        imgs[idx, :, :, :] = img # 데이터 영역에 이미지 행렬을 복사\n",
    "        labels[idx] = 2 # 보: 2\n",
    "        idx = idx + 1\n",
    "    \n",
    "    print(\"학습 데이터(x_train)의 이미지 개수는\", idx, \"입니다.\")\n",
    "    return imgs, labels\n",
    "\n",
    "image_dir_path = \"./rock_scissor_paper\"\n",
    "(x_train, y_train) = load_data(image_dir_path)\n",
    "print('최소값:',np.min(x_train), ' 최대값:',np.max(x_train))\n",
    "# 최소값: 0  최대값: 213\n",
    "# 입력은 0~1 사이의 값으로 정규화\n",
    "x_train_norm = x_train / 213.0\n",
    "\n",
    "print(\"x_train shape: {}\".format(x_train.shape))\n",
    "print(\"y_train shape: {}\".format(y_train.shape))"
   ]
  },
  {
   "cell_type": "code",
   "execution_count": 209,
   "id": "f7ce8a91",
   "metadata": {},
   "outputs": [
    {
     "name": "stdout",
     "output_type": "stream",
     "text": [
      "라벨:  0\n"
     ]
    },
    {
     "data": {
      "image/png": "[encoded data removed]",
      "text/plain": [
       "<Figure size 432x288 with 1 Axes>"
      ]
     },
     "metadata": {
      "needs_background": "light"
     },
     "output_type": "display_data"
    }
   ],
   "source": [
    "plt.imshow(x_train[100])\n",
    "print('라벨: ', y_train[100])"
   ]
  },
  {
   "cell_type": "code",
   "execution_count": 198,
   "id": "265ae71a",
   "metadata": {},
   "outputs": [
    {
     "name": "stdout",
     "output_type": "stream",
     "text": [
      "라벨:  0\n"
     ]
    },
    {
     "data": {
      "image/png": "[encoded data removed]",
      "text/plain": [
       "<Figure size 432x288 with 1 Axes>"
      ]
     },
     "metadata": {
      "needs_background": "light"
     },
     "output_type": "display_data"
    }
   ],
   "source": [
    "plt.imshow(x_train[800])\n",
    "print('라벨: ', y_train[100])"
   ]
  },
  {
   "cell_type": "code",
   "execution_count": 199,
   "id": "935236d2",
   "metadata": {},
   "outputs": [
    {
     "name": "stdout",
     "output_type": "stream",
     "text": [
      "라벨:  0\n"
     ]
    },
    {
     "data": {
      "image/png": "[encoded data removed]",
      "text/plain": [
       "<Figure size 432x288 with 1 Axes>"
      ]
     },
     "metadata": {
      "needs_background": "light"
     },
     "output_type": "display_data"
    }
   ],
   "source": [
    "plt.imshow(x_train[1600])\n",
    "print('라벨: ', y_train[200])"
   ]
  },
  {
   "cell_type": "markdown",
   "id": "6c43f4ba",
   "metadata": {},
   "source": [
    "## 2. 딥러닝 네트워크 설계하기"
   ]
  },
  {
   "cell_type": "markdown",
   "id": "8f6827a6",
   "metadata": {},
   "source": [
    "### Sequential Model을 사용해 보자"
   ]
  },
  {
   "cell_type": "code",
   "execution_count": 200,
   "id": "40c61d01",
   "metadata": {},
   "outputs": [
    {
     "name": "stdout",
     "output_type": "stream",
     "text": [
      "7\n",
      "Model: \"sequential_77\"\n",
      "_________________________________________________________________\n",
      "Layer (type)                 Output Shape              Param #   \n",
      "=================================================================\n",
      "conv2d_154 (Conv2D)          (None, 26, 26, 16)        448       \n",
      "_________________________________________________________________\n",
      "max_pooling2d_154 (MaxPoolin (None, 13, 13, 16)        0         \n",
      "_________________________________________________________________\n",
      "conv2d_155 (Conv2D)          (None, 11, 11, 32)        4640      \n",
      "_________________________________________________________________\n",
      "max_pooling2d_155 (MaxPoolin (None, 5, 5, 32)          0         \n",
      "_________________________________________________________________\n",
      "flatten_77 (Flatten)         (None, 800)               0         \n",
      "_________________________________________________________________\n",
      "dense_154 (Dense)            (None, 32)                25632     \n",
      "_________________________________________________________________\n",
      "dense_155 (Dense)            (None, 3)                 99        \n",
      "=================================================================\n",
      "Total params: 30,819\n",
      "Trainable params: 30,819\n",
      "Non-trainable params: 0\n",
      "_________________________________________________________________\n"
     ]
    }
   ],
   "source": [
    "import tensorflow as tf\n",
    "from tensorflow import keras\n",
    "import numpy as np\n",
    "\n",
    "# model을 직접 만들어 보세요.\n",
    "model = keras.models.Sequential()\n",
    "model.add(keras.layers.Conv2D(16, (3,3), activation='relu', input_shape=(28,28,3)))\n",
    "model.add(keras.layers.MaxPool2D(2,2))\n",
    "model.add(keras.layers.Conv2D(32, (3,3), activation='relu'))\n",
    "model.add(keras.layers.MaxPooling2D((2,2)))\n",
    "model.add(keras.layers.Flatten())\n",
    "model.add(keras.layers.Dense(32, activation='relu'))\n",
    "model.add(keras.layers.Dense(3, activation='softmax'))\n",
    "\n",
    "\n",
    "print(len(model.layers))\n",
    "model.summary()"
   ]
  },
  {
   "cell_type": "markdown",
   "id": "64143bce",
   "metadata": {},
   "source": [
    "## 3. 딥러닝 네트워크 학습시키기"
   ]
  },
  {
   "cell_type": "code",
   "execution_count": 201,
   "id": "f0bc5f06",
   "metadata": {
    "scrolled": false
   },
   "outputs": [
    {
     "name": "stdout",
     "output_type": "stream",
     "text": [
      "(2250, 28, 28, 3)\n",
      "(2250, 28, 28, 3)\n",
      "Epoch 1/10\n",
      "71/71 [==============================] - 2s 8ms/step - loss: 0.7609 - accuracy: 0.7138\n",
      "Epoch 2/10\n",
      "71/71 [==============================] - 1s 11ms/step - loss: 0.3582 - accuracy: 0.8836\n",
      "Epoch 3/10\n",
      "71/71 [==============================] - 1s 8ms/step - loss: 0.1915 - accuracy: 0.9431\n",
      "Epoch 4/10\n",
      "71/71 [==============================] - 1s 8ms/step - loss: 0.1186 - accuracy: 0.9680\n",
      "Epoch 5/10\n",
      "71/71 [==============================] - 1s 12ms/step - loss: 0.1067 - accuracy: 0.9644\n",
      "Epoch 6/10\n",
      "71/71 [==============================] - 1s 14ms/step - loss: 0.0770 - accuracy: 0.9769\n",
      "Epoch 7/10\n",
      "71/71 [==============================] - 1s 7ms/step - loss: 0.0642 - accuracy: 0.9773: 0s - loss: 0.0632 \n",
      "Epoch 8/10\n",
      "71/71 [==============================] - 1s 8ms/step - loss: 0.0524 - accuracy: 0.9836\n",
      "Epoch 9/10\n",
      "71/71 [==============================] - 1s 9ms/step - loss: 0.0465 - accuracy: 0.9862\n",
      "Epoch 10/10\n",
      "71/71 [==============================] - 1s 8ms/step - loss: 0.0386 - accuracy: 0.9893\n"
     ]
    },
    {
     "data": {
      "text/plain": [
       "<tensorflow.python.keras.callbacks.History at 0x23521eb7400>"
      ]
     },
     "execution_count": 201,
     "metadata": {},
     "output_type": "execute_result"
    }
   ],
   "source": [
    "# model을 학습시키는 코드를 직접 작성해 보세요.\n",
    "print(x_train_norm.shape)\n",
    "\n",
    "x_train_reshaped = x_train_norm.reshape( -1, 28, 28, 3)\n",
    "\n",
    "print(x_train_reshaped.shape)\n",
    "\n",
    "model.compile(optimizer='adam', loss='sparse_categorical_crossentropy', metrics=['accuracy'])\n",
    "model.fit(x_train_reshaped, y_train, epochs=10)"
   ]
  },
  {
   "cell_type": "markdown",
   "id": "07839df7",
   "metadata": {},
   "source": [
    "## 4. test 만들기"
   ]
  },
  {
   "cell_type": "code",
   "execution_count": 202,
   "id": "bee3b4e9",
   "metadata": {},
   "outputs": [
    {
     "name": "stdout",
     "output_type": "stream",
     "text": [
      "100  images to be resized.\n",
      "100  images resized.\n",
      "100  images to be resized.\n",
      "100  images resized.\n",
      "100  images to be resized.\n",
      "100  images resized.\n",
      "이미지 resize 완료!\n",
      "----------------------------------------\n",
      "학습데이터(x_train)의 이미지 개수는 300 입니다.\n",
      "x_test shape: (300, 28, 28, 3)\n",
      "y_test shape: (300,)\n",
      "----------------------------------------\n",
      "(300, 28, 28, 3)\n",
      "(300, 28, 28, 3)\n"
     ]
    }
   ],
   "source": [
    "# x_test, y_test를 만드는 방법은 x_train, y_train을 만드는 방법과 아주 유사합니다.\n",
    "def resize_images(img_path):\n",
    "\timages=glob.glob(img_path + \"/*.jpg\")  \n",
    "    \n",
    "\tprint(len(images), \" images to be resized.\")\n",
    "\n",
    "    # 파일마다 모두 28x28 사이즈로 바꾸어 저장합니다.\n",
    "\ttarget_size=(28,28)\n",
    "\tfor img in images:\n",
    "\t\told_img=Image.open(img)\n",
    "\t\tnew_img=old_img.resize(target_size,Image.ANTIALIAS)\n",
    "\t\tnew_img.save(img, \"JPEG\")\n",
    "    \n",
    "\tprint(len(images), \" images resized.\")\n",
    "\t\n",
    "# 가위 이미지가 저장된 디렉토리 아래의 모든 jpg 파일을 읽어들여서\n",
    "image_dir_path = \"./rock_scissor_paper/test/scissor\"\n",
    "resize_images(image_dir_path)\n",
    "image_dir_path = \"./rock_scissor_paper/test/rock\"\n",
    "resize_images(image_dir_path)\n",
    "image_dir_path = \"./rock_scissor_paper/test/paper\"\n",
    "resize_images(image_dir_path)\n",
    "print(\"이미지 resize 완료!\")\n",
    "\n",
    "print(\"-\"*40)\n",
    "\n",
    "def load_data(img_path, number_of_data=300):  # 가위바위보 이미지 개수 총합에 주의하세요.\n",
    "    # 가위 : 0, 바위 : 1, 보 : 2\n",
    "    img_size=28\n",
    "    color=3\n",
    "    #이미지 데이터와 라벨(가위 : 0, 바위 : 1, 보 : 2) 데이터를 담을 행렬(matrix) 영역을 생성합니다.\n",
    "    imgs=np.zeros(number_of_data*img_size*img_size*color,dtype=np.int32).reshape(number_of_data,img_size,img_size,color)\n",
    "    labels=np.zeros(number_of_data,dtype=np.int32)\n",
    "\n",
    "    idx=0\n",
    "    for file in glob.iglob(img_path+'/scissor/*.jpg'):\n",
    "        img = np.array(Image.open(file),dtype=np.int32)\n",
    "        imgs[idx,:,:,:]=img    # 데이터 영역에 이미지 행렬을 복사\n",
    "        labels[idx]=0   # 가위 : 0\n",
    "        idx=idx+1\n",
    "\n",
    "    for file in glob.iglob(img_path+'/rock/*.jpg'):\n",
    "        img = np.array(Image.open(file),dtype=np.int32)\n",
    "        imgs[idx,:,:,:]=img    # 데이터 영역에 이미지 행렬을 복사\n",
    "        labels[idx]=1   # 바위 : 1\n",
    "        idx=idx+1  \n",
    "    \n",
    "    for file in glob.iglob(img_path+'/paper/*.jpg'):\n",
    "        img = np.array(Image.open(file),dtype=np.int32)\n",
    "        imgs[idx,:,:,:]=img    # 데이터 영역에 이미지 행렬을 복사\n",
    "        labels[idx]=2   # 보 : 2\n",
    "        idx=idx+1\n",
    "        \n",
    "    print(\"학습데이터(x_train)의 이미지 개수는\", idx,\"입니다.\")\n",
    "    return imgs, labels\n",
    "\n",
    "image_dir_path = \"./rock_scissor_paper/test\"\n",
    "(x_test, y_test)=load_data(image_dir_path)\n",
    "# 입력은 0~1 사이의 값으로 정규화\n",
    "x_test_norm = x_test/213.0\n",
    "\n",
    "print(\"x_test shape: {}\".format(x_test.shape))\n",
    "print(\"y_test shape: {}\".format(y_test.shape))\n",
    "\n",
    "print(\"-\"*40)\n",
    "\n",
    "print(x_test_norm.shape)\n",
    "\n",
    "x_test_reshaped = x_test_norm.reshape( -1, 28, 28, 3)\n",
    "\n",
    "print(x_test_reshaped.shape)\n",
    "\n",
    "#model.compile(optimizer='adam', loss='sparse_categorical_crossentropy', metrics=['accuracy'])\n",
    "#model.fit(x_test_reshaped, y_test, epochs=10)"
   ]
  },
  {
   "cell_type": "markdown",
   "id": "6eea15b0",
   "metadata": {},
   "source": [
    "## 5. 얼마나 잘 만들었는지 확인하기"
   ]
  },
  {
   "cell_type": "markdown",
   "id": "3d2dd34d",
   "metadata": {},
   "source": [
    "### 테스트 데이터로 성능을 확인해 보자"
   ]
  },
  {
   "cell_type": "code",
   "execution_count": 203,
   "id": "38c319d2",
   "metadata": {},
   "outputs": [
    {
     "name": "stdout",
     "output_type": "stream",
     "text": [
      "10/10 - 0s - loss: 2.0584 - accuracy: 0.6667\n",
      "test_loss: 2.058405876159668\n",
      "test_accuracy: 0.6666666865348816\n"
     ]
    }
   ],
   "source": [
    "test_loss, test_accuracy = model.evaluate(x_test_reshaped, y_test, verbose=2)\n",
    "print(f\"test_loss: {test_loss}\")\n",
    "print(f\"test_accuracy: {test_accuracy}\")"
   ]
  },
  {
   "cell_type": "code",
   "execution_count": null,
   "id": "c46827bc",
   "metadata": {},
   "outputs": [],
   "source": []
  },
  {
   "cell_type": "markdown",
   "id": "e43f1b1b",
   "metadata": {},
   "source": [
    "# 6. 어떤 데이터를 잘못 추론했을까? 눈으로 확인해 보자"
   ]
  },
  {
   "cell_type": "code",
   "execution_count": 204,
   "id": "0c52a2ea",
   "metadata": {},
   "outputs": [
    {
     "name": "stdout",
     "output_type": "stream",
     "text": [
      "model.predict() 결과 :  [0.00333638 0.00863399 0.98802966]\n",
      "model이 추론한 가장 가능성이 높은 결과 :  2\n",
      "실제 데이터의 라벨 :  0\n"
     ]
    }
   ],
   "source": [
    "predicted_result = model.predict(x_test_reshaped) # model이 추론한 확률값.\n",
    "predicted_labels = np.argmax(predicted_result, axis=1)\n",
    "\n",
    "idx=0  # 1번째 x_test를 살펴보자.\n",
    "print('model.predict() 결과 : ', predicted_result[idx])\n",
    "print('model이 추론한 가장 가능성이 높은 결과 : ', predicted_labels[idx])\n",
    "print('실제 데이터의 라벨 : ', y_test[idx])"
   ]
  },
  {
   "cell_type": "code",
   "execution_count": 205,
   "id": "60e159c5",
   "metadata": {},
   "outputs": [
    {
     "data": {
      "image/png": "[encoded data removed]",
      "text/plain": [
       "<Figure size 432x288 with 1 Axes>"
      ]
     },
     "metadata": {
      "needs_background": "light"
     },
     "output_type": "display_data"
    }
   ],
   "source": [
    "plt.imshow(x_test[idx], cmap=plt.cm.binary)\n",
    "plt.show()"
   ]
  },
  {
   "cell_type": "code",
   "execution_count": 206,
   "id": "28d4254b",
   "metadata": {},
   "outputs": [
    {
     "name": "stdout",
     "output_type": "stream",
     "text": [
      "예측확률분포: [2.0318644e-04 3.3375945e-02 9.6642095e-01]\n",
      "라벨: 0, 예측결과: 2\n"
     ]
    },
    {
     "data": {
      "image/png": "[encoded data removed]",
      "text/plain": [
       "<Figure size 432x288 with 1 Axes>"
      ]
     },
     "metadata": {
      "needs_background": "light"
     },
     "output_type": "display_data"
    },
    {
     "name": "stdout",
     "output_type": "stream",
     "text": [
      "예측확률분포: [0.00333638 0.00863399 0.98802966]\n",
      "라벨: 0, 예측결과: 2\n"
     ]
    },
    {
     "data": {
      "image/png": "[encoded data removed]",
      "text/plain": [
       "<Figure size 432x288 with 1 Axes>"
      ]
     },
     "metadata": {
      "needs_background": "light"
     },
     "output_type": "display_data"
    },
    {
     "name": "stdout",
     "output_type": "stream",
     "text": [
      "예측확률분포: [7.3087562e-05 1.0273916e-01 8.9718777e-01]\n",
      "라벨: 0, 예측결과: 2\n"
     ]
    },
    {
     "data": {
      "image/png": "[encoded data removed]",
      "text/plain": [
       "<Figure size 432x288 with 1 Axes>"
      ]
     },
     "metadata": {
      "needs_background": "light"
     },
     "output_type": "display_data"
    },
    {
     "name": "stdout",
     "output_type": "stream",
     "text": [
      "예측확률분포: [9.2606369e-04 1.1300415e-02 9.8777348e-01]\n",
      "라벨: 0, 예측결과: 2\n"
     ]
    },
    {
     "data": {
      "image/png": "[encoded data removed]",
      "text/plain": [
       "<Figure size 432x288 with 1 Axes>"
      ]
     },
     "metadata": {
      "needs_background": "light"
     },
     "output_type": "display_data"
    },
    {
     "name": "stdout",
     "output_type": "stream",
     "text": [
      "예측확률분포: [2.4262935e-04 2.2662425e-02 9.7709489e-01]\n",
      "라벨: 0, 예측결과: 2\n"
     ]
    },
    {
     "data": {
      "image/png": "[encoded data removed]",
      "text/plain": [
       "<Figure size 432x288 with 1 Axes>"
      ]
     },
     "metadata": {
      "needs_background": "light"
     },
     "output_type": "display_data"
    }
   ],
   "source": [
    "import random\n",
    "wrong_predict_list = []\n",
    "for i, _ in enumerate(predicted_labels):\n",
    "\t# i번째 test_labels과 y_test이 다른 경우만 모아 봅시다.\n",
    "\tif predicted_labels[i] != y_test[i]:\n",
    "\t\twrong_predict_list.append(i)\n",
    "\n",
    "# wrong_predict_list 에서 랜덤하게 5개만 뽑아봅시다.\n",
    "samples = random.choices(population=wrong_predict_list, k=5)\n",
    "\n",
    "for n in samples:\n",
    "\tprint(\"예측확률분포: \" + str(predicted_result[n]))\n",
    "\tprint(\"라벨: \" + str(y_test[n]) + \", 예측결과: \" + str(predicted_labels[n]))\n",
    "\tplt.imshow(x_test[n], cmap=plt.cm.binary)\n",
    "\tplt.show()"
   ]
  },
  {
   "cell_type": "markdown",
   "id": "3234c903",
   "metadata": {},
   "source": [
    "train 데이터와 test의 손가락 모양 차이일까요? 유독 가위에서 문제가 있네요."
   ]
  },
  {
   "cell_type": "markdown",
   "id": "389549a5",
   "metadata": {},
   "source": [
    "# 7. 더 좋은 네트워크 만들어 보기"
   ]
  },
  {
   "cell_type": "code",
   "execution_count": 207,
   "id": "efd8d3e4",
   "metadata": {
    "scrolled": false
   },
   "outputs": [
    {
     "name": "stdout",
     "output_type": "stream",
     "text": [
      "Model: \"sequential_78\"\n",
      "_________________________________________________________________\n",
      "Layer (type)                 Output Shape              Param #   \n",
      "=================================================================\n",
      "conv2d_156 (Conv2D)          (None, 26, 26, 16)        448       \n",
      "_________________________________________________________________\n",
      "max_pooling2d_156 (MaxPoolin (None, 13, 13, 16)        0         \n",
      "_________________________________________________________________\n",
      "conv2d_157 (Conv2D)          (None, 11, 11, 32)        4640      \n",
      "_________________________________________________________________\n",
      "max_pooling2d_157 (MaxPoolin (None, 5, 5, 32)          0         \n",
      "_________________________________________________________________\n",
      "flatten_78 (Flatten)         (None, 800)               0         \n",
      "_________________________________________________________________\n",
      "dense_156 (Dense)            (None, 32)                25632     \n",
      "_________________________________________________________________\n",
      "dense_157 (Dense)            (None, 3)                 99        \n",
      "=================================================================\n",
      "Total params: 30,819\n",
      "Trainable params: 30,819\n",
      "Non-trainable params: 0\n",
      "_________________________________________________________________\n",
      "Epoch 1/10\n",
      "71/71 [==============================] - 2s 10ms/step - loss: 0.7009 - accuracy: 0.7347\n",
      "Epoch 2/10\n",
      "71/71 [==============================] - 1s 8ms/step - loss: 0.2814 - accuracy: 0.9107\n",
      "Epoch 3/10\n",
      "71/71 [==============================] - 1s 8ms/step - loss: 0.1578 - accuracy: 0.9458\n",
      "Epoch 4/10\n",
      "71/71 [==============================] - 1s 8ms/step - loss: 0.1128 - accuracy: 0.9613\n",
      "Epoch 5/10\n",
      "71/71 [==============================] - 1s 8ms/step - loss: 0.0922 - accuracy: 0.9716\n",
      "Epoch 6/10\n",
      "71/71 [==============================] - 1s 9ms/step - loss: 0.0758 - accuracy: 0.9787\n",
      "Epoch 7/10\n",
      "71/71 [==============================] - 1s 10ms/step - loss: 0.0653 - accuracy: 0.9800\n",
      "Epoch 8/10\n",
      "71/71 [==============================] - 1s 8ms/step - loss: 0.0646 - accuracy: 0.9813: 0s - loss: 0.1090 \n",
      "Epoch 9/10\n",
      "71/71 [==============================] - 1s 10ms/step - loss: 0.0488 - accuracy: 0.9840\n",
      "Epoch 10/10\n",
      "71/71 [==============================] - 1s 8ms/step - loss: 0.0411 - accuracy: 0.9916\n",
      "10/10 - 0s - loss: 0.4586 - accuracy: 0.8733\n",
      "test loss: 0.45858311653137207 \n",
      "test_accuracy: 0.8733333349227905\n"
     ]
    }
   ],
   "source": [
    "# 바꿔 볼 수 있는 하이퍼파라미터들\n",
    "n_channel_1 = 16\n",
    "n_channel_2 = 32\n",
    "n_dense = 32\n",
    "n_train_epoch = 10\n",
    "\n",
    "model = keras.models.Sequential()\n",
    "model.add(keras.layers.Conv2D(n_channel_1, (3,3), activation='relu', input_shape=(28,28,3)))\n",
    "model.add(keras.layers.MaxPool2D(2,2))\n",
    "model.add(keras.layers.Conv2D(n_channel_2, (3,3), activation='relu'))\n",
    "model.add(keras.layers.MaxPooling2D((2,2)))\n",
    "model.add(keras.layers.Flatten())\n",
    "model.add(keras.layers.Dense(n_dense, activation='relu'))\n",
    "model.add(keras.layers.Dense(3, activation='softmax'))\n",
    "\n",
    "model.summary()\n",
    "model.compile(optimizer='adam',loss='sparse_categorical_crossentropy',metrics=['accuracy'])\n",
    "\n",
    "# 모델 훈련\n",
    "history = model.fit(x_train_reshaped, y_train, epochs=n_train_epoch)\n",
    "\n",
    "# 모델 시험\n",
    "test_loss, test_accuracy = model.evaluate(x_test_reshaped, y_test, verbose=2)\n",
    "print(f\"test loss: {test_loss} \")\n",
    "print(f\"test_accuracy: {test_accuracy}\")"
   ]
  },
  {
   "cell_type": "markdown",
   "id": "7562e283",
   "metadata": {},
   "source": [
    "4개의 파라미터를 계속 건드려봤지만 값을 높인다고 잘나오는건 아닌거 같아서 크게 건드리지 않았습니다.  \n",
    "대신 train 여러 데이터를 추가했고, test 에서 배경에 다른 그림들이 같이 잡혀서 정확도가 떨어지는것 같아서 최대한 깔끔하게 찍어보았습니다."
   ]
  },
  {
   "cell_type": "markdown",
   "id": "64e59242",
   "metadata": {},
   "source": [
    "## 시각화"
   ]
  },
  {
   "cell_type": "code",
   "execution_count": 208,
   "id": "fb50dc12",
   "metadata": {},
   "outputs": [
    {
     "data": {
      "image/png": "[encoded data removed]",
      "text/plain": [
       "<Figure size 432x288 with 2 Axes>"
      ]
     },
     "metadata": {
      "needs_background": "light"
     },
     "output_type": "display_data"
    }
   ],
   "source": [
    "plt.subplot(121)\n",
    "plt.title('test_loss')\n",
    "plt.plot(history.history['loss'], label='test')\n",
    "plt.subplot(122)\n",
    "plt.title('test_accuracy')\n",
    "plt.plot(history.history['accuracy'], label='test')\n",
    "plt.show()"
   ]
  },
  {
   "cell_type": "markdown",
   "id": "3133400f",
   "metadata": {},
   "source": [
    "# 회고"
   ]
  },
  {
   "cell_type": "markdown",
   "id": "f0a7eccd",
   "metadata": {},
   "source": [
    "처음에 모델의 하이퍼 파라미터를 잘 조절한다면 어느정도 성능의 개선이 있을 줄 알았지만 그렇지 않았고,  \n",
    "학습의 정확도나 오버피팅을 방지하는것에는 다양한 데이터를 추가하는게 큰 영향을 미친다는것을 알게되었습니다.  \n",
    "데이터 정규화를 할때도 처음에는 이전의 예제처럼 255로 나누었다가 천천히 다시한번 읽어보니 해당 데이터는 213으로 고쳐야한다는 것을 뒤늦게 알게되었고,\n",
    "이미지 인식이 수월하게 되기위해 배경의 색감이나 이미지에 신경써야함을 알게되었습니다.\n",
    "데이터가 더 많이 있다면 덜 신경써도 잘 인식이 되는지 테스트를 못해본게 좀 아쉽습니다."
   ]
  }
 ],
 "metadata": {
  "interpreter": {
   "hash": "9952796633dec55c7325ce4d0cc68b86a4ef33d7b609123d10cd507c3aaa540d"
  },
  "kernelspec": {
   "display_name": "Python 3.8.12 ('tf_2_5')",
   "language": "python",
   "name": "python3"
  },
  "language_info": {
   "codemirror_mode": {
    "name": "ipython",
    "version": 3
   },
   "file_extension": ".py",
   "mimetype": "text/x-python",
   "name": "python",
   "nbconvert_exporter": "python",
   "pygments_lexer": "ipython3",
   "version": "3.8.12"
  }
 },
 "nbformat": 4,
 "nbformat_minor": 5
}
