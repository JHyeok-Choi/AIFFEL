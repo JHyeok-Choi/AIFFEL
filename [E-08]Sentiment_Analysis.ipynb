{
 "cells": [
  {
   "cell_type": "code",
   "execution_count": 1,
   "id": "c66a1f31",
   "metadata": {},
   "outputs": [],
   "source": [
    "import tensorflow as tf\n",
    "import matplotlib.pyplot as plt\n",
    "from gensim.models.keyedvectors import Word2VecKeyedVectors\n",
    "import os"
   ]
  },
  {
   "cell_type": "markdown",
   "id": "59fb3aa5",
   "metadata": {},
   "source": [
    "## 데이터 준비와 확인"
   ]
  },
  {
   "cell_type": "code",
   "execution_count": 2,
   "id": "0037a8be",
   "metadata": {},
   "outputs": [
    {
     "data": {
      "text/html": [
       "<div>\n",
       "<style scoped>\n",
       "    .dataframe tbody tr th:only-of-type {\n",
       "        vertical-align: middle;\n",
       "    }\n",
       "\n",
       "    .dataframe tbody tr th {\n",
       "        vertical-align: top;\n",
       "    }\n",
       "\n",
       "    .dataframe thead th {\n",
       "        text-align: right;\n",
       "    }\n",
       "</style>\n",
       "<table border=\"1\" class=\"dataframe\">\n",
       "  <thead>\n",
       "    <tr style=\"text-align: right;\">\n",
       "      <th></th>\n",
       "      <th>id</th>\n",
       "      <th>document</th>\n",
       "      <th>label</th>\n",
       "    </tr>\n",
       "  </thead>\n",
       "  <tbody>\n",
       "    <tr>\n",
       "      <th>0</th>\n",
       "      <td>9976970</td>\n",
       "      <td>아 더빙.. 진짜 짜증나네요 목소리</td>\n",
       "      <td>0</td>\n",
       "    </tr>\n",
       "    <tr>\n",
       "      <th>1</th>\n",
       "      <td>3819312</td>\n",
       "      <td>흠...포스터보고 초딩영화줄....오버연기조차 가볍지 않구나</td>\n",
       "      <td>1</td>\n",
       "    </tr>\n",
       "    <tr>\n",
       "      <th>2</th>\n",
       "      <td>10265843</td>\n",
       "      <td>너무재밓었다그래서보는것을추천한다</td>\n",
       "      <td>0</td>\n",
       "    </tr>\n",
       "    <tr>\n",
       "      <th>3</th>\n",
       "      <td>9045019</td>\n",
       "      <td>교도소 이야기구먼 ..솔직히 재미는 없다..평점 조정</td>\n",
       "      <td>0</td>\n",
       "    </tr>\n",
       "    <tr>\n",
       "      <th>4</th>\n",
       "      <td>6483659</td>\n",
       "      <td>사이몬페그의 익살스런 연기가 돋보였던 영화!스파이더맨에서 늙어보이기만 했던 커스틴 ...</td>\n",
       "      <td>1</td>\n",
       "    </tr>\n",
       "  </tbody>\n",
       "</table>\n",
       "</div>"
      ],
      "text/plain": [
       "         id                                           document  label\n",
       "0   9976970                                아 더빙.. 진짜 짜증나네요 목소리      0\n",
       "1   3819312                  흠...포스터보고 초딩영화줄....오버연기조차 가볍지 않구나      1\n",
       "2  10265843                                  너무재밓었다그래서보는것을추천한다      0\n",
       "3   9045019                      교도소 이야기구먼 ..솔직히 재미는 없다..평점 조정      0\n",
       "4   6483659  사이몬페그의 익살스런 연기가 돋보였던 영화!스파이더맨에서 늙어보이기만 했던 커스틴 ...      1"
      ]
     },
     "execution_count": 2,
     "metadata": {},
     "output_type": "execute_result"
    }
   ],
   "source": [
    "import pandas as pd\n",
    "\n",
    "# 데이터를 읽어봅시다.\n",
    "train_data = pd.read_table('~/aiffel/sentiment_classification/data/ratings_train.txt')\n",
    "test_data = pd.read_table('~/aiffel/sentiment_classification/data/ratings_test.txt')\n",
    "\n",
    "train_data.head()"
   ]
  },
  {
   "cell_type": "markdown",
   "id": "5014cd38",
   "metadata": {},
   "source": [
    "## 데이터로더 구성"
   ]
  },
  {
   "cell_type": "code",
   "execution_count": 3,
   "id": "a7b49252",
   "metadata": {},
   "outputs": [],
   "source": [
    "from konlpy.tag import Mecab\n",
    "import numpy as np\n",
    "from collections import Counter\n",
    "\n",
    "tokenizer = Mecab()\n",
    "stopwords = ['의','가','이','은','들','는','좀','잘','걍','과','도','를','으로','자','에','와','한','하다']\n",
    "\n",
    "def load_data(train_data, test_data, num_words=10000):\n",
    "    \n",
    "    train_data.drop_duplicates(subset=['document'], inplace=True)\n",
    "    train_data = train_data.dropna(how = 'any')\n",
    "    test_data.drop_duplicates(subset=['document'], inplace=True)\n",
    "    test_data = test_data.dropna(how = 'any')\n",
    "    \n",
    "    X_train = []\n",
    "    for sentence in train_data['document']:\n",
    "        temp_X = tokenizer.morphs(sentence) # 토큰화\n",
    "        temp_X = [word for word in temp_X if not word in stopwords] # 불용어\n",
    "        X_train.append(temp_X)\n",
    "    \n",
    "    X_test = []\n",
    "    for sentence in test_data['document']:\n",
    "        temp_X = tokenizer.morphs(sentence) # 토큰화\n",
    "        temp_X = [word for word in temp_X if not word in stopwords] # 불용어\n",
    "        X_test.append(temp_X)\n",
    "    \n",
    "    words = np.concatenate(X_train).tolist()\n",
    "    counter = Counter(words)\n",
    "    counter = counter.most_common(10000-4)\n",
    "    vocab = ['', '', '' ,''] + [key for key, _ in counter]\n",
    "    word_to_index = {word:index for index, word in enumerate(vocab)}\n",
    "    \n",
    "    def wordlist_to_indexlist(wordlist):\n",
    "        return [word_to_index[word] if word in word_to_index else word_to_index[''] for word in wordlist]\n",
    "    \n",
    "    X_train = list(map(wordlist_to_indexlist, X_train))\n",
    "    X_test = list(map(wordlist_to_indexlist, X_test))\n",
    "    \n",
    "    return X_train, np.array(list(train_data['label'])), X_test, np.array(list(test_data['label'])), word_to_index\n",
    "    \n",
    "X_train, y_train, X_test, y_test, word_to_index = load_data(train_data, test_data)"
   ]
  },
  {
   "cell_type": "code",
   "execution_count": 4,
   "id": "c8d02419",
   "metadata": {},
   "outputs": [],
   "source": [
    "index_to_word = {index:word for word, index in word_to_index.items()}"
   ]
  },
  {
   "cell_type": "code",
   "execution_count": 5,
   "id": "adc97bed",
   "metadata": {},
   "outputs": [],
   "source": [
    "# 문장 1개를 활용할 딕셔너리와 함께 주면, 단어 인덱스 리스트 벡터로 변환해 주는 함수\n",
    "# 단, 모든 문장은 <BOS>로 시작하는 것으로 합니다.\n",
    "def get_encoded_sentence(sentence, word_to_index):\n",
    "    return [word_to_index['<BOS>']] +[word_to_index[word] if word in word_to_index else word_to_index['<UNK>'] for word in sentence.split()]\n",
    "\n",
    "# 여러 개의 문장 리스트를 한꺼번에 단어 인덱스 리스트 벡터로 encode해 주는 함수입니다.\n",
    "def get_encoded_sentences(sentences, word_to_index):\n",
    "    return [get_encoded_sentence(sentence, word_to_index) for sentence in sentences]\n",
    "\n",
    "# 숫자 벡터로 encode된 문장을 원래대로 decode하는 함수입니다.\n",
    "def get_decoded_sentence(encoded_sentence, index_to_word):\n",
    "    return ' '.join(index_to_word[index] if index in index_to_word else '<UNK>' for index in encoded_sentence[1:]) #[1:]를 통해 <BOS>  를 제외\n",
    "\n",
    "# 여러 개의 숫자 벡터로 encode된 문잘을 한꺼번에 원래대로 decode하는 함수입니다.\n",
    "def get_decoded_sentences(encoded_sentences, index_to_word):\n",
    "    return [get_decoded_sentence(encoded_sentence, index_to_word) for encoded_sentence in encoded_sentences]"
   ]
  },
  {
   "cell_type": "markdown",
   "id": "fa3ab926",
   "metadata": {},
   "source": [
    "## 3) 모델 구성을 위한 데이터 분석 및 가공"
   ]
  },
  {
   "cell_type": "markdown",
   "id": "f7b2d7a8",
   "metadata": {},
   "source": [
    "---"
   ]
  },
  {
   "cell_type": "markdown",
   "id": "8b6e768d",
   "metadata": {},
   "source": [
    "* 데이터셋 내 문장 길이 분포\n",
    "* 적절한 최대 문장 길이 지정\n",
    "* keras.preprocessing.sequence.pad_sequences 을 활용한 패딩 추가"
   ]
  },
  {
   "cell_type": "code",
   "execution_count": 6,
   "id": "652c684a",
   "metadata": {},
   "outputs": [
    {
     "data": {
      "text/plain": [
       "[32, 74, 919, 4, 4, 39, 228, 20, 33, 748]"
      ]
     },
     "execution_count": 6,
     "metadata": {},
     "output_type": "execute_result"
    }
   ],
   "source": [
    "X_train[0]"
   ]
  },
  {
   "cell_type": "code",
   "execution_count": 7,
   "id": "ca2b3b4b",
   "metadata": {},
   "outputs": [
    {
     "name": "stdout",
     "output_type": "stream",
     "text": [
      "더 빙 . . 진짜 짜증 나 네요 목소리\n"
     ]
    }
   ],
   "source": [
    "print(get_decoded_sentence(X_train[0], index_to_word))"
   ]
  },
  {
   "cell_type": "code",
   "execution_count": 8,
   "id": "1770d8b1",
   "metadata": {},
   "outputs": [],
   "source": [
    "word_to_index[\"<PAD>\"] = 0\n",
    "word_to_index[\"<BOS>\"] = 1\n",
    "word_to_index[\"<UNK>\"] = 2\n",
    "word_to_index[\"<UNUSED>\"] = 3\n"
   ]
  },
  {
   "cell_type": "code",
   "execution_count": 9,
   "id": "ea3563b9",
   "metadata": {},
   "outputs": [],
   "source": [
    "#index_to_word[3]"
   ]
  },
  {
   "cell_type": "code",
   "execution_count": 10,
   "id": "ab26548a",
   "metadata": {},
   "outputs": [
    {
     "name": "stdout",
     "output_type": "stream",
     "text": [
      "문장길이 평균 :  15.96940191154864\n",
      "문장길이 최대 :  116\n",
      "문장길이 표준펀차 :  12.843571191092\n",
      "pad_sequences maxlen :  41\n",
      "전체 문장의 0.9342988343341575%가 maxlen 설정값 이내에 포함됩니다. \n"
     ]
    }
   ],
   "source": [
    "total_data_text = list(X_train) + list(X_test)\n",
    "# 텍스트데이터 문장길이의 리스트를 생성한 후\n",
    "num_tokens = [len(tokens) for tokens in total_data_text]\n",
    "num_tikens = np.array(num_tokens)\n",
    "# 문장길이의 평균값, 최대값, 표준편차를 계산해 본다.\n",
    "print('문장길이 평균 : ', np.mean(num_tokens))\n",
    "print('문장길이 최대 : ', np.max(num_tokens))\n",
    "print('문장길이 표준펀차 : ', np.std(num_tokens))\n",
    "\n",
    "# 예를들어, 최대 길이를 (평균 + 2 * 표준편차)로 한다면,\n",
    "max_tokens = np.mean(num_tokens) + 2 * np.std(num_tokens)\n",
    "maxlen = int(max_tokens)\n",
    "print('pad_sequences maxlen : ', maxlen)\n",
    "print('전체 문장의 {}%가 maxlen 설정값 이내에 포함됩니다. '.format(np.sum(num_tokens < max_tokens) / len(num_tokens)))"
   ]
  },
  {
   "cell_type": "code",
   "execution_count": 11,
   "id": "9c6ab349",
   "metadata": {},
   "outputs": [
    {
     "name": "stdout",
     "output_type": "stream",
     "text": [
      "(146182, 41)\n",
      "(49157, 41)\n"
     ]
    }
   ],
   "source": [
    "X_train_post = tf.keras.preprocessing.sequence.pad_sequences(X_train, value=word_to_index[\"<PAD>\"], padding='post', maxlen=maxlen)\n",
    "X_test_post = tf.keras.preprocessing.sequence.pad_sequences(X_test, value=word_to_index[\"<PAD>\"], padding='post', maxlen=maxlen)\n",
    "print(X_train_post.shape)\n",
    "print(X_test_post.shape)"
   ]
  },
  {
   "cell_type": "code",
   "execution_count": 12,
   "id": "27841d6a",
   "metadata": {},
   "outputs": [
    {
     "name": "stdout",
     "output_type": "stream",
     "text": [
      "(146182, 41)\n",
      "(49157, 41)\n"
     ]
    }
   ],
   "source": [
    "X_train_pre = tf.keras.preprocessing.sequence.pad_sequences(X_train, value=word_to_index[\"<PAD>\"], padding='pre', maxlen=maxlen)\n",
    "X_test_pre = tf.keras.preprocessing.sequence.pad_sequences(X_test, value=word_to_index[\"<PAD>\"], padding='pre', maxlen=maxlen)\n",
    "print(X_train_pre.shape)\n",
    "print(X_test_pre.shape)"
   ]
  },
  {
   "cell_type": "markdown",
   "id": "1301768a",
   "metadata": {},
   "source": [
    "## 4) 모델 구성 및 validation set 구성"
   ]
  },
  {
   "cell_type": "markdown",
   "id": "21d2ab9b",
   "metadata": {},
   "source": [
    "---"
   ]
  },
  {
   "cell_type": "markdown",
   "id": "8037e146",
   "metadata": {},
   "source": [
    "모델은 3가지 이상 다양하게 구성하여 실험해 보세요."
   ]
  },
  {
   "cell_type": "markdown",
   "id": "bec9a405",
   "metadata": {},
   "source": [
    "### RNN"
   ]
  },
  {
   "cell_type": "code",
   "execution_count": 13,
   "id": "57f5f725",
   "metadata": {},
   "outputs": [
    {
     "name": "stdout",
     "output_type": "stream",
     "text": [
      "Model: \"sequential\"\n",
      "_________________________________________________________________\n",
      "Layer (type)                 Output Shape              Param #   \n",
      "=================================================================\n",
      "embedding (Embedding)        (None, None, 16)          160000    \n",
      "_________________________________________________________________\n",
      "lstm (LSTM)                  (None, 8)                 800       \n",
      "_________________________________________________________________\n",
      "dense (Dense)                (None, 8)                 72        \n",
      "_________________________________________________________________\n",
      "dense_1 (Dense)              (None, 1)                 9         \n",
      "=================================================================\n",
      "Total params: 160,881\n",
      "Trainable params: 160,881\n",
      "Non-trainable params: 0\n",
      "_________________________________________________________________\n",
      "(136182, 41)\n",
      "(136182,)\n"
     ]
    }
   ],
   "source": [
    "vocab_size = 10000  # 어휘 사전의 크기입니다(10,000개의 단어)\n",
    "word_vector_dim = 16  # 워드 벡터의 차원 수 (변경 가능 하이파라미터)\n",
    "\n",
    "model_RNN = tf.keras.Sequential()\n",
    "model_RNN.add(tf.keras.layers.Embedding(vocab_size, word_vector_dim, input_shape=(None,)))\n",
    "model_RNN.add(tf.keras.layers.LSTM(8))  # 가장 널리 쓰이는 RNN인 LSTM 레이어를 사용하였습니다. 이때 LSTM state 벡터의 차원수는 8로 하였습니다. (변경가능)\n",
    "model_RNN.add(tf.keras.layers.Dense(8, activation='relu'))\n",
    "model_RNN.add(tf.keras.layers.Dense(1, activation='sigmoid'))  # 최종 출력은 긍정/부정을 나타내는 1dim 입니다.\n",
    "model_RNN.summary()\n",
    "\n",
    " #\n",
    "# validation set 10000건 분리\n",
    "X_val_post = X_train_post[:10000]\n",
    "y_val = y_train[:10000]\n",
    "\n",
    "# validation set을 제외한 나머지 15000건\n",
    "partial_X_train_post = X_train_post[10000:]\n",
    "partial_y_train = y_train[10000:]\n",
    "\n",
    "print(partial_X_train_post.shape)\n",
    "print(partial_y_train.shape)"
   ]
  },
  {
   "cell_type": "markdown",
   "id": "8a58c392",
   "metadata": {},
   "source": [
    "### CNN"
   ]
  },
  {
   "cell_type": "code",
   "execution_count": 14,
   "id": "9a3c8ef9",
   "metadata": {},
   "outputs": [
    {
     "name": "stdout",
     "output_type": "stream",
     "text": [
      "Model: \"sequential_1\"\n",
      "_________________________________________________________________\n",
      "Layer (type)                 Output Shape              Param #   \n",
      "=================================================================\n",
      "embedding_1 (Embedding)      (None, None, 16)          160000    \n",
      "_________________________________________________________________\n",
      "conv1d (Conv1D)              (None, None, 16)          1808      \n",
      "_________________________________________________________________\n",
      "max_pooling1d (MaxPooling1D) (None, None, 16)          0         \n",
      "_________________________________________________________________\n",
      "conv1d_1 (Conv1D)            (None, None, 16)          1808      \n",
      "_________________________________________________________________\n",
      "global_max_pooling1d (Global (None, 16)                0         \n",
      "_________________________________________________________________\n",
      "dense_2 (Dense)              (None, 8)                 136       \n",
      "_________________________________________________________________\n",
      "dense_3 (Dense)              (None, 1)                 9         \n",
      "=================================================================\n",
      "Total params: 163,761\n",
      "Trainable params: 163,761\n",
      "Non-trainable params: 0\n",
      "_________________________________________________________________\n",
      "(136182, 41)\n",
      "(136182,)\n"
     ]
    }
   ],
   "source": [
    "vocab_size = 10000  # 어휘 사전의 크기입니다(10,000개의 단어)\n",
    "word_vector_dim = 16  # 워드 벡터의 차원 수 (변경 가능 하이파라미터)\n",
    "\n",
    "model_CNN = tf.keras.Sequential()\n",
    "model_CNN.add(tf.keras.layers.Embedding(vocab_size, word_vector_dim, input_shape=(None,)))\n",
    "model_CNN.add(tf.keras.layers.Conv1D(16, 7, activation='relu'))\n",
    "model_CNN.add(tf.keras.layers.MaxPooling1D(5))\n",
    "model_CNN.add(tf.keras.layers.Conv1D(16, 7, activation='relu'))\n",
    "model_CNN.add(tf.keras.layers.GlobalMaxPooling1D())\n",
    "model_CNN.add(tf.keras.layers.Dense(8, activation='relu'))\n",
    "model_CNN.add(tf.keras.layers.Dense(1, activation='sigmoid'))\n",
    "model_CNN.summary()\n",
    "\n",
    " #\n",
    "# validation set 10000건 분리\n",
    "X_val_post = X_train_post[:10000]\n",
    "y_val = y_train[:10000]\n",
    "\n",
    "# validation set을 제외한 나머지 15000건\n",
    "partial_X_train_post = X_train_post[10000:]\n",
    "partial_y_train = y_train[10000:]\n",
    "\n",
    "print(partial_X_train_post.shape)\n",
    "print(partial_y_train.shape)"
   ]
  },
  {
   "cell_type": "markdown",
   "id": "d0da8ca7",
   "metadata": {},
   "source": [
    "### 단일 GlobalMaxPooling1D()"
   ]
  },
  {
   "cell_type": "code",
   "execution_count": 15,
   "id": "8df50b62",
   "metadata": {},
   "outputs": [
    {
     "name": "stdout",
     "output_type": "stream",
     "text": [
      "Model: \"sequential_2\"\n",
      "_________________________________________________________________\n",
      "Layer (type)                 Output Shape              Param #   \n",
      "=================================================================\n",
      "embedding_2 (Embedding)      (None, None, 16)          160000    \n",
      "_________________________________________________________________\n",
      "global_max_pooling1d_1 (Glob (None, 16)                0         \n",
      "_________________________________________________________________\n",
      "dense_4 (Dense)              (None, 8)                 136       \n",
      "_________________________________________________________________\n",
      "dense_5 (Dense)              (None, 1)                 9         \n",
      "=================================================================\n",
      "Total params: 160,145\n",
      "Trainable params: 160,145\n",
      "Non-trainable params: 0\n",
      "_________________________________________________________________\n",
      "(136182, 41)\n",
      "(136182,)\n"
     ]
    }
   ],
   "source": [
    "vocab_size = 10000  # 어휘 사전의 크기입니다(10,000개의 단어)\n",
    "word_vector_dim = 16  # 워드 벡터의 차원 수 (변경 가능 하이파라미터)\n",
    "\n",
    "# model 설계 - 딥러닝 모델 코드를 직접 작성해 주세요.\n",
    "model_SG = tf.keras.Sequential()\n",
    "model_SG.add(tf.keras.layers.Embedding(vocab_size, word_vector_dim, input_shape=(None,)))\n",
    "model_SG.add(tf.keras.layers.GlobalMaxPooling1D())\n",
    "model_SG.add(tf.keras.layers.Dense(8, activation='relu'))\n",
    "model_SG.add(tf.keras.layers.Dense(1, activation='sigmoid'))  # 최종 출력은 긍정/부정을 나타내는 1dim 입니다.\n",
    "model_SG.summary()\n",
    " #\n",
    "# validation set 10000건 분리\n",
    "X_val_post = X_train_post[:10000]\n",
    "y_val = y_train[:10000]\n",
    "\n",
    "# validation set을 제외한 나머지 15000건\n",
    "partial_X_train_post = X_train_post[10000:]\n",
    "partial_y_train = y_train[10000:]\n",
    "\n",
    "print(partial_X_train_post.shape)\n",
    "print(partial_y_train.shape)"
   ]
  },
  {
   "cell_type": "code",
   "execution_count": null,
   "id": "f285956a",
   "metadata": {},
   "outputs": [],
   "source": []
  },
  {
   "cell_type": "code",
   "execution_count": 16,
   "id": "0e1c8ff4",
   "metadata": {},
   "outputs": [],
   "source": [
    "#vocab_size = 10000  # 어휘 사전의 크기입니다(10,000개이 단어)\n",
    "#word_vector_dim = 16  # 워드 벡터의 차원 수 (변경 가능 하이파라미터)\n",
    "\n",
    "# model 설계 - 딥러닝 모델 코드를 직접 작성해 주세요.\n",
    "#model = tf.keras.Sequential()"
   ]
  },
  {
   "cell_type": "code",
   "execution_count": 17,
   "id": "2c5b2ef6",
   "metadata": {},
   "outputs": [],
   "source": [
    "# validation set 10000건 분리\n",
    "#X_val_post = X_train_post[:10000]\n",
    "#y_val = y_train[:10000]\n",
    "\n",
    "# validation set을 제외한 나머지 15000건\n",
    "#partial_X_train_post = X_train_post[10000:]\n",
    "#partial_y_train = y_train[10000:]\n",
    "\n",
    "#print(partial_X_train_post.shape)\n",
    "#print(partial_y_train.shape)"
   ]
  },
  {
   "cell_type": "markdown",
   "id": "75fb5c3f",
   "metadata": {},
   "source": [
    "## 5) 모델 훈련 개시"
   ]
  },
  {
   "cell_type": "markdown",
   "id": "fbb0bd2b",
   "metadata": {},
   "source": [
    "---"
   ]
  },
  {
   "cell_type": "markdown",
   "id": "676cad49",
   "metadata": {},
   "source": [
    "## RNN"
   ]
  },
  {
   "cell_type": "code",
   "execution_count": 18,
   "id": "b997d15a",
   "metadata": {},
   "outputs": [
    {
     "name": "stdout",
     "output_type": "stream",
     "text": [
      "Epoch 1/20\n",
      "266/266 [==============================] - 5s 7ms/step - loss: 0.5444 - accuracy: 0.7044 - val_loss: 0.3684 - val_accuracy: 0.8442\n",
      "Epoch 2/20\n",
      "266/266 [==============================] - 1s 5ms/step - loss: 0.3451 - accuracy: 0.8540 - val_loss: 0.3442 - val_accuracy: 0.8505\n",
      "Epoch 3/20\n",
      "266/266 [==============================] - 1s 5ms/step - loss: 0.3192 - accuracy: 0.8657 - val_loss: 0.3401 - val_accuracy: 0.8521\n",
      "Epoch 4/20\n",
      "266/266 [==============================] - 1s 6ms/step - loss: 0.3041 - accuracy: 0.8719 - val_loss: 0.3437 - val_accuracy: 0.8518\n",
      "Epoch 5/20\n",
      "266/266 [==============================] - 1s 5ms/step - loss: 0.2937 - accuracy: 0.8758 - val_loss: 0.3509 - val_accuracy: 0.8519\n",
      "Epoch 6/20\n",
      "266/266 [==============================] - 1s 5ms/step - loss: 0.2815 - accuracy: 0.8809 - val_loss: 0.3550 - val_accuracy: 0.8521\n",
      "Epoch 7/20\n",
      "266/266 [==============================] - 1s 5ms/step - loss: 0.2710 - accuracy: 0.8839 - val_loss: 0.3691 - val_accuracy: 0.8513\n",
      "Epoch 8/20\n",
      "266/266 [==============================] - 1s 5ms/step - loss: 0.2614 - accuracy: 0.8881 - val_loss: 0.3734 - val_accuracy: 0.8478\n",
      "Epoch 9/20\n",
      "266/266 [==============================] - 1s 5ms/step - loss: 0.2544 - accuracy: 0.8911 - val_loss: 0.3888 - val_accuracy: 0.8484\n",
      "Epoch 10/20\n",
      "266/266 [==============================] - 1s 5ms/step - loss: 0.2465 - accuracy: 0.8938 - val_loss: 0.4052 - val_accuracy: 0.8450\n",
      "Epoch 11/20\n",
      "266/266 [==============================] - 1s 5ms/step - loss: 0.2402 - accuracy: 0.8956 - val_loss: 0.4018 - val_accuracy: 0.8465\n",
      "Epoch 12/20\n",
      "266/266 [==============================] - 1s 5ms/step - loss: 0.2335 - accuracy: 0.8986 - val_loss: 0.4028 - val_accuracy: 0.8461\n",
      "Epoch 13/20\n",
      "266/266 [==============================] - 1s 5ms/step - loss: 0.2291 - accuracy: 0.9006 - val_loss: 0.4263 - val_accuracy: 0.8429\n",
      "Epoch 14/20\n",
      "266/266 [==============================] - 1s 5ms/step - loss: 0.2235 - accuracy: 0.9032 - val_loss: 0.4291 - val_accuracy: 0.8415\n",
      "Epoch 15/20\n",
      "266/266 [==============================] - 1s 5ms/step - loss: 0.2188 - accuracy: 0.9055 - val_loss: 0.4378 - val_accuracy: 0.8412\n",
      "Epoch 16/20\n",
      "266/266 [==============================] - 1s 5ms/step - loss: 0.2147 - accuracy: 0.9072 - val_loss: 0.4473 - val_accuracy: 0.8398\n",
      "Epoch 17/20\n",
      "266/266 [==============================] - 1s 5ms/step - loss: 0.2097 - accuracy: 0.9098 - val_loss: 0.4548 - val_accuracy: 0.8414\n",
      "Epoch 18/20\n",
      "266/266 [==============================] - 1s 5ms/step - loss: 0.2064 - accuracy: 0.9109 - val_loss: 0.4680 - val_accuracy: 0.8343\n",
      "Epoch 19/20\n",
      "266/266 [==============================] - 1s 5ms/step - loss: 0.2036 - accuracy: 0.9127 - val_loss: 0.4673 - val_accuracy: 0.8385\n",
      "Epoch 20/20\n",
      "266/266 [==============================] - 1s 5ms/step - loss: 0.1993 - accuracy: 0.9145 - val_loss: 0.4763 - val_accuracy: 0.8392\n",
      "----------------------------------------\n",
      "1537/1537 - 3s - loss: 0.4862 - accuracy: 0.8329\n",
      "[0.4862152934074402, 0.8328824043273926]\n"
     ]
    }
   ],
   "source": [
    "model_RNN.compile(optimizer='adam', loss='binary_crossentropy', metrics=['accuracy'])\n",
    "\n",
    "epochs=20  # 몇 epoch를 훈련하면 좋을지 결과를 보면서 바꾸어 봅시다.\n",
    "\n",
    "history_RNN = model_RNN.fit(partial_X_train_post, partial_y_train, epochs=epochs, batch_size=512, validation_data=(X_val_post, y_val), verbose=1)\n",
    "\n",
    "print('-'*40)\n",
    "\n",
    "results_RNN = model_RNN.evaluate(X_test_post, y_test, verbose=2)\n",
    "print(results_RNN)"
   ]
  },
  {
   "cell_type": "markdown",
   "id": "4190b857",
   "metadata": {},
   "source": [
    "## CNN"
   ]
  },
  {
   "cell_type": "code",
   "execution_count": 19,
   "id": "426dd167",
   "metadata": {},
   "outputs": [
    {
     "name": "stdout",
     "output_type": "stream",
     "text": [
      "Epoch 1/20\n",
      "266/266 [==============================] - 3s 6ms/step - loss: 0.4678 - accuracy: 0.7714 - val_loss: 0.3486 - val_accuracy: 0.8484\n",
      "Epoch 2/20\n",
      "266/266 [==============================] - 1s 5ms/step - loss: 0.3275 - accuracy: 0.8600 - val_loss: 0.3388 - val_accuracy: 0.8513\n",
      "Epoch 3/20\n",
      "266/266 [==============================] - 1s 5ms/step - loss: 0.2982 - accuracy: 0.8757 - val_loss: 0.3354 - val_accuracy: 0.8531\n",
      "Epoch 4/20\n",
      "266/266 [==============================] - 1s 5ms/step - loss: 0.2731 - accuracy: 0.8885 - val_loss: 0.3404 - val_accuracy: 0.8491\n",
      "Epoch 5/20\n",
      "266/266 [==============================] - 1s 5ms/step - loss: 0.2451 - accuracy: 0.9032 - val_loss: 0.3551 - val_accuracy: 0.8464\n",
      "Epoch 6/20\n",
      "266/266 [==============================] - 1s 5ms/step - loss: 0.2146 - accuracy: 0.9183 - val_loss: 0.3787 - val_accuracy: 0.8434\n",
      "Epoch 7/20\n",
      "266/266 [==============================] - 1s 5ms/step - loss: 0.1844 - accuracy: 0.9320 - val_loss: 0.3988 - val_accuracy: 0.8427\n",
      "Epoch 8/20\n",
      "266/266 [==============================] - 1s 5ms/step - loss: 0.1553 - accuracy: 0.9457 - val_loss: 0.4459 - val_accuracy: 0.8399\n",
      "Epoch 9/20\n",
      "266/266 [==============================] - 1s 5ms/step - loss: 0.1318 - accuracy: 0.9560 - val_loss: 0.4834 - val_accuracy: 0.8390\n",
      "Epoch 10/20\n",
      "266/266 [==============================] - 1s 5ms/step - loss: 0.1123 - accuracy: 0.9634 - val_loss: 0.5164 - val_accuracy: 0.8361\n",
      "Epoch 11/20\n",
      "266/266 [==============================] - 1s 5ms/step - loss: 0.0971 - accuracy: 0.9691 - val_loss: 0.5616 - val_accuracy: 0.8306\n",
      "Epoch 12/20\n",
      "266/266 [==============================] - 1s 5ms/step - loss: 0.0850 - accuracy: 0.9736 - val_loss: 0.6029 - val_accuracy: 0.8295\n",
      "Epoch 13/20\n",
      "266/266 [==============================] - 1s 5ms/step - loss: 0.0750 - accuracy: 0.9768 - val_loss: 0.6609 - val_accuracy: 0.8258\n",
      "Epoch 14/20\n",
      "266/266 [==============================] - 1s 5ms/step - loss: 0.0677 - accuracy: 0.9796 - val_loss: 0.7094 - val_accuracy: 0.8249\n",
      "Epoch 15/20\n",
      "266/266 [==============================] - 1s 5ms/step - loss: 0.0627 - accuracy: 0.9805 - val_loss: 0.7375 - val_accuracy: 0.8205\n",
      "Epoch 16/20\n",
      "266/266 [==============================] - 1s 5ms/step - loss: 0.0579 - accuracy: 0.9821 - val_loss: 0.7659 - val_accuracy: 0.8230\n",
      "Epoch 17/20\n",
      "266/266 [==============================] - 1s 5ms/step - loss: 0.0531 - accuracy: 0.9838 - val_loss: 0.7981 - val_accuracy: 0.8175\n",
      "Epoch 18/20\n",
      "266/266 [==============================] - 1s 5ms/step - loss: 0.0499 - accuracy: 0.9846 - val_loss: 0.8322 - val_accuracy: 0.8180\n",
      "Epoch 19/20\n",
      "266/266 [==============================] - 1s 5ms/step - loss: 0.0462 - accuracy: 0.9860 - val_loss: 0.8622 - val_accuracy: 0.8214\n",
      "Epoch 20/20\n",
      "266/266 [==============================] - 1s 5ms/step - loss: 0.0429 - accuracy: 0.9869 - val_loss: 0.9019 - val_accuracy: 0.8181\n",
      "----------------------------------------\n",
      "1537/1537 - 3s - loss: 0.8996 - accuracy: 0.8178\n",
      "[0.8995826840400696, 0.8177878856658936]\n"
     ]
    }
   ],
   "source": [
    "model_CNN.compile(optimizer='adam', loss='binary_crossentropy', metrics=['accuracy'])\n",
    "\n",
    "epochs=20  # 몇 epoch를 훈련하면 좋을지 결과를 보면서 바꾸어 봅시다.\n",
    "\n",
    "history_CNN = model_CNN.fit(partial_X_train_post, partial_y_train, epochs=epochs, batch_size=512, validation_data=(X_val_post, y_val), verbose=1)\n",
    "\n",
    "print('-'*40)\n",
    "\n",
    "results_CNN = model_CNN.evaluate(X_test_post, y_test, verbose=2)\n",
    "print(results_CNN)"
   ]
  },
  {
   "cell_type": "markdown",
   "id": "56f1a922",
   "metadata": {},
   "source": [
    "### 단일 GlobalMaxPooling1D()"
   ]
  },
  {
   "cell_type": "code",
   "execution_count": 20,
   "id": "6ed4a515",
   "metadata": {},
   "outputs": [
    {
     "name": "stdout",
     "output_type": "stream",
     "text": [
      "Epoch 1/20\n",
      "266/266 [==============================] - 1s 4ms/step - loss: 0.5757 - accuracy: 0.7382 - val_loss: 0.4180 - val_accuracy: 0.8268\n",
      "Epoch 2/20\n",
      "266/266 [==============================] - 1s 3ms/step - loss: 0.3706 - accuracy: 0.8426 - val_loss: 0.3544 - val_accuracy: 0.8428\n",
      "Epoch 3/20\n",
      "266/266 [==============================] - 1s 3ms/step - loss: 0.3235 - accuracy: 0.8638 - val_loss: 0.3454 - val_accuracy: 0.8456\n",
      "Epoch 4/20\n",
      "266/266 [==============================] - 1s 3ms/step - loss: 0.2978 - accuracy: 0.8759 - val_loss: 0.3455 - val_accuracy: 0.8486\n",
      "Epoch 5/20\n",
      "266/266 [==============================] - 1s 3ms/step - loss: 0.2786 - accuracy: 0.8857 - val_loss: 0.3503 - val_accuracy: 0.8458\n",
      "Epoch 6/20\n",
      "266/266 [==============================] - 1s 3ms/step - loss: 0.2629 - accuracy: 0.8935 - val_loss: 0.3548 - val_accuracy: 0.8466\n",
      "Epoch 7/20\n",
      "266/266 [==============================] - 1s 3ms/step - loss: 0.2493 - accuracy: 0.9000 - val_loss: 0.3626 - val_accuracy: 0.8465\n",
      "Epoch 8/20\n",
      "266/266 [==============================] - 1s 3ms/step - loss: 0.2376 - accuracy: 0.9055 - val_loss: 0.3720 - val_accuracy: 0.8447\n",
      "Epoch 9/20\n",
      "266/266 [==============================] - 1s 4ms/step - loss: 0.2270 - accuracy: 0.9112 - val_loss: 0.3814 - val_accuracy: 0.8440\n",
      "Epoch 10/20\n",
      "266/266 [==============================] - 1s 4ms/step - loss: 0.2175 - accuracy: 0.9154 - val_loss: 0.3902 - val_accuracy: 0.8422\n",
      "Epoch 11/20\n",
      "266/266 [==============================] - 1s 3ms/step - loss: 0.2091 - accuracy: 0.9193 - val_loss: 0.4021 - val_accuracy: 0.8408\n",
      "Epoch 12/20\n",
      "266/266 [==============================] - 1s 3ms/step - loss: 0.2014 - accuracy: 0.9222 - val_loss: 0.4131 - val_accuracy: 0.8403\n",
      "Epoch 13/20\n",
      "266/266 [==============================] - 1s 3ms/step - loss: 0.1942 - accuracy: 0.9265 - val_loss: 0.4219 - val_accuracy: 0.8417\n",
      "Epoch 14/20\n",
      "266/266 [==============================] - 1s 3ms/step - loss: 0.1875 - accuracy: 0.9294 - val_loss: 0.4334 - val_accuracy: 0.8401\n",
      "Epoch 15/20\n",
      "266/266 [==============================] - 1s 3ms/step - loss: 0.1816 - accuracy: 0.9329 - val_loss: 0.4439 - val_accuracy: 0.8380\n",
      "Epoch 16/20\n",
      "266/266 [==============================] - 1s 3ms/step - loss: 0.1761 - accuracy: 0.9353 - val_loss: 0.4548 - val_accuracy: 0.8373\n",
      "Epoch 17/20\n",
      "266/266 [==============================] - 1s 3ms/step - loss: 0.1709 - accuracy: 0.9375 - val_loss: 0.4663 - val_accuracy: 0.8330\n",
      "Epoch 18/20\n",
      "266/266 [==============================] - 1s 3ms/step - loss: 0.1661 - accuracy: 0.9406 - val_loss: 0.4753 - val_accuracy: 0.8326\n",
      "Epoch 19/20\n",
      "266/266 [==============================] - 1s 3ms/step - loss: 0.1616 - accuracy: 0.9424 - val_loss: 0.4841 - val_accuracy: 0.8326\n",
      "Epoch 20/20\n",
      "266/266 [==============================] - 1s 3ms/step - loss: 0.1574 - accuracy: 0.9441 - val_loss: 0.4985 - val_accuracy: 0.8316\n",
      "----------------------------------------\n",
      "1537/1537 - 2s - loss: 0.5150 - accuracy: 0.8267\n",
      "[0.5149960517883301, 0.8267388343811035]\n"
     ]
    }
   ],
   "source": [
    "model_SG.compile(optimizer='adam', loss='binary_crossentropy', metrics=['accuracy'])\n",
    "\n",
    "epochs=20  # 몇 epoch를 훈련하면 좋을지 결과를 보면서 바꾸어 봅시다.\n",
    "\n",
    "history_SG = model_SG.fit(partial_X_train_post, partial_y_train, epochs=epochs, batch_size=512, validation_data=(X_val_post, y_val), verbose=1)\n",
    "\n",
    "print('-'*40)\n",
    "\n",
    "results_SG = model_SG.evaluate(X_test_post, y_test, verbose=2)\n",
    "print(results_SG)"
   ]
  },
  {
   "cell_type": "markdown",
   "id": "7f5c9bb2",
   "metadata": {},
   "source": [
    "## 6) Loss, Accuracy 그래프 시각화"
   ]
  },
  {
   "cell_type": "markdown",
   "id": "ab0f0ee8",
   "metadata": {},
   "source": [
    "---"
   ]
  },
  {
   "cell_type": "code",
   "execution_count": null,
   "id": "c43766dc",
   "metadata": {},
   "outputs": [],
   "source": []
  },
  {
   "cell_type": "code",
   "execution_count": 21,
   "id": "ac0a915b",
   "metadata": {},
   "outputs": [],
   "source": [
    "def history_chart(history):\n",
    "    history_dict = history.history\n",
    "#print(history_dict_RNN.keys())  # epoch에 따른 그래프를 그려 볼 수 있는 항목들.\n",
    "\n",
    "    acc = history_dict['accuracy']\n",
    "    val_acc = history_dict['val_accuracy']\n",
    "    loss = history_dict['loss']\n",
    "    val_loss = history_dict['val_loss']\n",
    "\n",
    "    epochs = range(1, len(acc) + 1)\n",
    "\n",
    "    plt.subplot(121)\n",
    "# \"bo\" \"파란색 점\"입니다.\n",
    "    plt.plot(epochs, loss, 'bo', label='Training loss')\n",
    "# b는 \"파란 실선\"입니다.\n",
    "    plt.plot(epochs, val_loss, 'b', label='Validation loss')\n",
    "    plt.title('Training and validation loss')\n",
    "    plt.xlabel('Epochs')\n",
    "    plt.ylabel('Loss')\n",
    "    plt.legend()\n",
    "\n",
    "    plt.subplot(122)\n",
    "    plt.plot(epochs, acc, 'bo', label='Training acc')\n",
    "    plt.plot(epochs, val_acc, 'b', label='Validation acc')\n",
    "    plt.title('Training and validation accuracy')\n",
    "    plt.xlabel('Epochs')\n",
    "    plt.ylabel('Accuracy')\n",
    "    plt.legend()\n",
    "    plt.show()"
   ]
  },
  {
   "cell_type": "markdown",
   "id": "ab7f066c",
   "metadata": {},
   "source": [
    "## RNN"
   ]
  },
  {
   "cell_type": "code",
   "execution_count": 22,
   "id": "2583fdaa",
   "metadata": {},
   "outputs": [
    {
     "data": {
      "image/png": "[encoded data removed]",
      "text/plain": [
       "<Figure size 432x288 with 2 Axes>"
      ]
     },
     "metadata": {
      "needs_background": "light"
     },
     "output_type": "display_data"
    }
   ],
   "source": [
    "history_chart(history_RNN)"
   ]
  },
  {
   "cell_type": "markdown",
   "id": "6e92d4de",
   "metadata": {},
   "source": [
    "## CNN"
   ]
  },
  {
   "cell_type": "code",
   "execution_count": 23,
   "id": "cc228630",
   "metadata": {},
   "outputs": [
    {
     "data": {
      "image/png": "[encoded data removed]",
      "text/plain": [
       "<Figure size 432x288 with 2 Axes>"
      ]
     },
     "metadata": {
      "needs_background": "light"
     },
     "output_type": "display_data"
    }
   ],
   "source": [
    "history_chart(history_CNN)"
   ]
  },
  {
   "cell_type": "markdown",
   "id": "1660b617",
   "metadata": {},
   "source": [
    "## SG"
   ]
  },
  {
   "cell_type": "code",
   "execution_count": 24,
   "id": "14258ffb",
   "metadata": {},
   "outputs": [
    {
     "data": {
      "image/png": "[encoded data removed]",
      "text/plain": [
       "<Figure size 432x288 with 2 Axes>"
      ]
     },
     "metadata": {
      "needs_background": "light"
     },
     "output_type": "display_data"
    }
   ],
   "source": [
    "history_chart(history_SG)"
   ]
  },
  {
   "cell_type": "markdown",
   "id": "dbbb3ef0",
   "metadata": {},
   "source": [
    "## 7) 학습된 Embedding 레이어 분석"
   ]
  },
  {
   "cell_type": "markdown",
   "id": "5b295a71",
   "metadata": {},
   "source": [
    "---"
   ]
  },
  {
   "cell_type": "code",
   "execution_count": 25,
   "id": "971e4ea6",
   "metadata": {},
   "outputs": [],
   "source": [
    "def Embedding_view(model, word2vec_file_path):\n",
    "    embedding_layer = model.layers[0]\n",
    "    weights = embedding_layer.get_weights()[0]\n",
    "    print(weights.shape)\n",
    "    \n",
    "    # 학습한 Embedding 파라미터를 파일에 써서 저장합니다.\n",
    "    f = open(word2vec_file_path, 'w')\n",
    "    f.write('{} {}\\n'.format(vocab_size-4, word_vector_dim))  # 몇개의 벡터를 얼마 사이즈로 기재할지 타이틀을 씁니다.\n",
    "\n",
    "    # 단어 개수(에서 특수문자 4개는 제외하고) 만큼의 워드 벡터를 파일에 기록합니다.\n",
    "    vectors = model.get_weights()[0]\n",
    "    for i in range(4, vocab_size):\n",
    "        f.write('{} {}\\n'.format(index_to_word[i], ' '.join(map(str, list(vectors[i, :])))))\n",
    "    f.close()\n",
    "    \n",
    "    word_vectors = Word2VecKeyedVectors.load_word2vec_format(word2vec_file_path, binary=False)\n",
    "    vector = word_vectors['끝']\n",
    "    print(vector)\n",
    "    \n",
    "    print(word_vectors.similar_by_word(\"시작\"))"
   ]
  },
  {
   "cell_type": "code",
   "execution_count": 26,
   "id": "035d786b",
   "metadata": {},
   "outputs": [
    {
     "name": "stdout",
     "output_type": "stream",
     "text": [
      "(10000, 16)\n",
      "[ 0.09467404 -0.01140078 -0.09107124 -0.0844694  -0.00354988 -0.00922442\n",
      "  0.00553751  0.02592501  0.0404499   0.01340989  0.08548209  0.016622\n",
      " -0.17229372  0.09045765  0.09469508 -0.04252502]\n",
      "[('알아듣', 0.8411113619804382), ('호소', 0.8313730955123901), ('얼마나', 0.8294188976287842), ('몸매', 0.8279208540916443), ('원생', 0.8191584944725037), ('뒷맛', 0.8107785582542419), ('됨', 0.8106456398963928), ('늘어놓', 0.807174801826477), ('적응', 0.8040225505828857), ('준거', 0.8022049069404602)]\n"
     ]
    }
   ],
   "source": [
    "word2vec_file_path_RNN = os.getenv(\"HOME\") + '/aiffel/sentiment_classification/data/word2vec_RNN.txt'\n",
    "\n",
    "Embedding_view(model_RNN, word2vec_file_path_RNN)"
   ]
  },
  {
   "cell_type": "code",
   "execution_count": 27,
   "id": "cc89c276",
   "metadata": {},
   "outputs": [
    {
     "name": "stdout",
     "output_type": "stream",
     "text": [
      "(10000, 16)\n",
      "[-0.10729147  0.04498094  0.03333443  0.0185763  -0.03564327  0.02409968\n",
      "  0.09802046  0.03560832 -0.09469935  0.11438164  0.06317323  0.06442397\n",
      " -0.00484771  0.0681879   0.15067454 -0.02401253]\n",
      "[('잖', 0.8213895559310913), ('찍히', 0.8087561726570129), ('러시아', 0.7860298156738281), ('관리', 0.7689337730407715), ('코난', 0.7612724900245667), ('하하', 0.748289942741394), ('백만', 0.7385641932487488), ('블루', 0.7374067902565002), ('.;;;', 0.7365757822990417), ('노래방', 0.7361742854118347)]\n"
     ]
    }
   ],
   "source": [
    "word2vec_file_path_CNN = os.getenv(\"HOME\") + '/aiffel/sentiment_classification/data/word2vec_CNN.txt'\n",
    "\n",
    "Embedding_view(model_CNN, word2vec_file_path_CNN)"
   ]
  },
  {
   "cell_type": "code",
   "execution_count": 28,
   "id": "2d504304",
   "metadata": {},
   "outputs": [
    {
     "name": "stdout",
     "output_type": "stream",
     "text": [
      "(10000, 16)\n",
      "[-0.26686004 -0.07958845 -0.23931485 -0.12407016 -0.187509   -0.09633507\n",
      "  0.13420299 -0.02100142 -0.03263157 -0.12726192 -0.00792963 -0.19201834\n",
      " -0.23268418 -0.02033907 -0.2456175  -0.04158546]\n",
      "[('는데', 0.9607604146003723), ('베티', 0.9578509330749512), ('오호', 0.9477537870407104), ('에겐', 0.9460930228233337), ('여인', 0.9414403438568115), ('었', 0.9394529461860657), ('고', 0.9376373887062073), ('팬', 0.9375709891319275), ('보', 0.929472029209137), ('두', 0.9247490763664246)]\n"
     ]
    }
   ],
   "source": [
    "word2vec_file_path_SG = os.getenv(\"HOME\") + '/aiffel/sentiment_classification/data/word2vec_SG.txt'\n",
    "\n",
    "Embedding_view(model_SG, word2vec_file_path_SG)"
   ]
  },
  {
   "cell_type": "markdown",
   "id": "151fd1ee",
   "metadata": {},
   "source": [
    "## 8) 한국어 Word2Vec 임베딩 활용하여 성능 개선"
   ]
  },
  {
   "cell_type": "markdown",
   "id": "7c6cab43",
   "metadata": {},
   "source": [
    "---"
   ]
  },
  {
   "cell_type": "markdown",
   "id": "cd963915",
   "metadata": {},
   "source": [
    "* 한국어 Word2Vec은 /data 폴더 안에 있는 word2vec_ko.model을 활용하세요.\n",
    "* 한국어 Word2Vec을 활용할 때는 load_word2vec_format() 형태가 아닌 load() 형태로 모델을 불러와주세요. 또한 모델을 활용할 때에는 아래 예시와 같이 .wv를 붙여서 활용합니다. 좀더 자세한 활용법에 대해선 다음 링크들을 참조해주세요.\n",
    "[참고 링크1](https://radimrehurek.com/gensim/auto_examples/tutorials/run_word2vec.html#storing-and-loading-models),\n",
    "[참고 링크2](https://radimrehurek.com/gensim/models/keyedvectors.html)"
   ]
  },
  {
   "cell_type": "code",
   "execution_count": 29,
   "id": "3786fb6f",
   "metadata": {},
   "outputs": [
    {
     "data": {
      "text/plain": [
       "array([ 1.038851  , -1.1634965 ,  2.2386286 ,  0.8971453 , -2.088168  ,\n",
       "       -4.1942534 , -0.02519768, -0.69813883, -0.2908033 , -1.4651134 ,\n",
       "       -2.6863668 ,  0.7999443 , -0.6957915 , -0.5018775 ,  3.5025773 ,\n",
       "        0.21326113, -0.6588098 , -1.1900496 ,  0.61399573,  2.1247969 ,\n",
       "        0.1549463 ,  3.0840218 ,  3.1680267 , -3.9143991 ,  3.6073153 ,\n",
       "        0.5315545 , -0.3511633 , -1.107248  ,  1.7767181 , -0.95981866,\n",
       "        2.6072454 , -0.00697957, -3.27628   ,  1.558644  ,  0.81922376,\n",
       "        1.9231955 ,  3.7026553 , -0.53824735, -0.4920138 ,  2.4657123 ,\n",
       "       -2.620749  , -0.08950733,  0.61453176,  1.8866426 ,  0.257866  ,\n",
       "       -2.7827141 ,  2.9129577 , -0.6313133 ,  2.0387425 , -4.222685  ,\n",
       "       -2.7560544 ,  1.7903243 , -1.3080189 , -2.5531402 , -0.43849912,\n",
       "       -3.1073573 , -0.29090825,  5.1817617 ,  1.9604833 , -5.1421604 ,\n",
       "       -0.71431434,  4.5624633 , -0.55525815, -3.3019137 ,  1.6761336 ,\n",
       "       -1.9606539 , -0.2726863 ,  0.2465995 ,  1.2685091 ,  1.6055685 ,\n",
       "        1.8344896 ,  1.2752469 ,  0.99503314, -2.3348706 , -0.9290329 ,\n",
       "       -1.5920266 ,  5.693834  ,  1.1132814 , -0.9603875 , -1.970055  ,\n",
       "       -1.0120267 , -2.7289615 , -2.7759619 ,  3.214084  ,  1.8573734 ,\n",
       "       -1.3495721 , -0.10321241,  3.434593  , -2.8573685 , -1.9004927 ,\n",
       "       -1.6801298 , -2.805677  ,  1.7723105 , -0.41865307, -2.310913  ,\n",
       "       -6.2761464 , -0.8376036 ,  2.4590037 ,  2.1697695 , -4.440443  ],\n",
       "      dtype=float32)"
      ]
     },
     "execution_count": 29,
     "metadata": {},
     "output_type": "execute_result"
    }
   ],
   "source": [
    "# 예시 코드\n",
    "word_vectors = Word2VecKeyedVectors.load('../../data/word2vec_ko.model')\n",
    "vector = word_vectors.wv['끝']\n",
    "vector"
   ]
  },
  {
   "cell_type": "code",
   "execution_count": 30,
   "id": "0598cf07",
   "metadata": {},
   "outputs": [
    {
     "data": {
      "text/plain": [
       "[('재개', 0.7113743424415588),\n",
       " ('개시', 0.6964776515960693),\n",
       " ('계속', 0.6593127846717834),\n",
       " ('중단', 0.6464443206787109),\n",
       " ('진행', 0.6105296611785889),\n",
       " ('마무리', 0.5996001958847046),\n",
       " ('실시', 0.5984620451927185),\n",
       " ('완료', 0.5883207321166992),\n",
       " ('전개', 0.5819582343101501),\n",
       " ('완성', 0.5794826745986938)]"
      ]
     },
     "execution_count": 30,
     "metadata": {},
     "output_type": "execute_result"
    }
   ],
   "source": [
    "word_vectors.wv.most_similar('시작')"
   ]
  },
  {
   "cell_type": "code",
   "execution_count": 31,
   "id": "4077893d",
   "metadata": {},
   "outputs": [
    {
     "name": "stderr",
     "output_type": "stream",
     "text": [
      "/tmp/ipykernel_47/3341942690.py:7: FutureWarning: elementwise comparison failed; returning scalar instead, but in the future will perform elementwise comparison\n",
      "  if index_to_word[i] in vector:\n"
     ]
    }
   ],
   "source": [
    "vocab_size = 10000  # 어휘 사전의 크기입니다(10,000개의 단어)\n",
    "word_vector_dim = 100  # 워드 벡터의 차원수\n",
    "embedding_metrix = np.random.rand(vocab_size, word_vector_dim)\n",
    "\n",
    "# embedding_matrix에 Word2Vec 워드 벡터를 단어 하나씩마다 차례차례 복사한다.\n",
    "for i in range(4, vocab_size):\n",
    "    if index_to_word[i] in vector:\n",
    "        embedding_matrix[i] = vector[index_to_word[i]]"
   ]
  },
  {
   "cell_type": "code",
   "execution_count": 32,
   "id": "2ca753b7",
   "metadata": {},
   "outputs": [
    {
     "name": "stdout",
     "output_type": "stream",
     "text": [
      "Model: \"sequential_3\"\n",
      "_________________________________________________________________\n",
      "Layer (type)                 Output Shape              Param #   \n",
      "=================================================================\n",
      "embedding_3 (Embedding)      (None, 41, 100)           1000000   \n",
      "_________________________________________________________________\n",
      "conv1d_2 (Conv1D)            (None, 35, 32)            22432     \n",
      "_________________________________________________________________\n",
      "max_pooling1d_1 (MaxPooling1 (None, 7, 32)             0         \n",
      "_________________________________________________________________\n",
      "conv1d_3 (Conv1D)            (None, 1, 32)             7200      \n",
      "_________________________________________________________________\n",
      "global_max_pooling1d_2 (Glob (None, 32)                0         \n",
      "_________________________________________________________________\n",
      "dense_6 (Dense)              (None, 64)                2112      \n",
      "_________________________________________________________________\n",
      "dense_7 (Dense)              (None, 1)                 65        \n",
      "=================================================================\n",
      "Total params: 1,031,809\n",
      "Trainable params: 1,031,809\n",
      "Non-trainable params: 0\n",
      "_________________________________________________________________\n"
     ]
    }
   ],
   "source": [
    "from tensorflow.keras.initializers import Constant\n",
    "\n",
    "vocab_size = 10000\n",
    "word_vector_dim = 100\n",
    "\n",
    "model = tf.keras.Sequential()\n",
    "model.add(tf.keras.layers.Embedding(vocab_size,\n",
    "                                   word_vector_dim,\n",
    "                                   embeddings_initializer=Constant(embedding_metrix),  # 복사한 임베딩을 여기서 활용\n",
    "                                   input_length=maxlen,\n",
    "                                   trainable=True))  # trainable을 True로 주면 Fine-tuning\n",
    "model.add(tf.keras.layers.Conv1D(32, 7, activation='relu', kernel_initializer='he_normal'))\n",
    "model.add(tf.keras.layers.MaxPooling1D(5))\n",
    "#model.add(tf.keras.layers.Dropout(0.2))\n",
    "\n",
    "model.add(tf.keras.layers.Conv1D(32, 7, activation='relu', kernel_initializer='he_normal'))\n",
    "model.add(tf.keras.layers.GlobalMaxPooling1D())\n",
    "#model.add(tf.keras.layers.Dropout(0.2))\n",
    "\n",
    "model.add(tf.keras.layers.Dense(64, activation='relu'))\n",
    "model.add(tf.keras.layers.Dense(1, activation='sigmoid'))\n",
    "model.summary()"
   ]
  },
  {
   "cell_type": "code",
   "execution_count": 33,
   "id": "67099f08",
   "metadata": {},
   "outputs": [
    {
     "name": "stdout",
     "output_type": "stream",
     "text": [
      "Epoch 1/10\n",
      "1064/1064 [==============================] - 6s 5ms/step - loss: 0.4868 - accuracy: 0.7405 - val_loss: 0.3931 - val_accuracy: 0.8217\n",
      "Epoch 2/10\n",
      "1064/1064 [==============================] - 5s 5ms/step - loss: 0.3373 - accuracy: 0.8538 - val_loss: 0.3506 - val_accuracy: 0.8452\n",
      "Epoch 3/10\n",
      "1064/1064 [==============================] - 5s 5ms/step - loss: 0.3034 - accuracy: 0.8730 - val_loss: 0.3397 - val_accuracy: 0.8510\n",
      "Epoch 4/10\n",
      "1064/1064 [==============================] - 5s 5ms/step - loss: 0.2739 - accuracy: 0.8884 - val_loss: 0.3572 - val_accuracy: 0.8450\n",
      "Epoch 5/10\n",
      "1064/1064 [==============================] - 5s 5ms/step - loss: 0.2437 - accuracy: 0.9042 - val_loss: 0.3889 - val_accuracy: 0.8348\n",
      "Epoch 6/10\n",
      "1064/1064 [==============================] - 5s 5ms/step - loss: 0.2104 - accuracy: 0.9193 - val_loss: 0.3832 - val_accuracy: 0.8457\n",
      "Epoch 7/10\n",
      "1064/1064 [==============================] - 5s 5ms/step - loss: 0.1775 - accuracy: 0.9349 - val_loss: 0.4345 - val_accuracy: 0.8456\n",
      "Epoch 8/10\n",
      "1064/1064 [==============================] - 5s 5ms/step - loss: 0.1479 - accuracy: 0.9476 - val_loss: 0.4784 - val_accuracy: 0.8380\n",
      "Epoch 9/10\n",
      "1064/1064 [==============================] - 5s 5ms/step - loss: 0.1245 - accuracy: 0.9569 - val_loss: 0.5146 - val_accuracy: 0.8369\n",
      "Epoch 10/10\n",
      "1064/1064 [==============================] - 5s 5ms/step - loss: 0.1041 - accuracy: 0.9648 - val_loss: 0.5599 - val_accuracy: 0.8351\n"
     ]
    }
   ],
   "source": [
    "model.compile(optimizer='adam',\n",
    "             loss='binary_crossentropy',\n",
    "             metrics=['accuracy'])\n",
    "\n",
    "epochs=10  # 몇 epoch를 훈련하면 좋을지, 조정해봅시다.\n",
    "\n",
    "history = model.fit(partial_X_train_post,\n",
    "                   partial_y_train,\n",
    "                   epochs=epochs,\n",
    "                   batch_size=128,\n",
    "                   validation_data=(X_val_post, y_val),\n",
    "                   verbose=1)"
   ]
  },
  {
   "cell_type": "code",
   "execution_count": 34,
   "id": "81dd4f06",
   "metadata": {},
   "outputs": [
    {
     "name": "stdout",
     "output_type": "stream",
     "text": [
      "1537/1537 - 3s - loss: 0.5797 - accuracy: 0.8258\n",
      "[0.5796947479248047, 0.8257827162742615]\n"
     ]
    }
   ],
   "source": [
    "results = model.evaluate(X_test_post, y_test, verbose=2)\n",
    "\n",
    "print(results)"
   ]
  },
  {
   "cell_type": "code",
   "execution_count": 35,
   "id": "82ecd267",
   "metadata": {},
   "outputs": [
    {
     "name": "stdout",
     "output_type": "stream",
     "text": [
      "Model: \"sequential_4\"\n",
      "_________________________________________________________________\n",
      "Layer (type)                 Output Shape              Param #   \n",
      "=================================================================\n",
      "embedding_4 (Embedding)      (None, 41, 100)           1000000   \n",
      "_________________________________________________________________\n",
      "lstm_1 (LSTM)                (None, 64)                42240     \n",
      "_________________________________________________________________\n",
      "dense_8 (Dense)              (None, 128)               8320      \n",
      "_________________________________________________________________\n",
      "dense_9 (Dense)              (None, 1)                 129       \n",
      "=================================================================\n",
      "Total params: 1,050,689\n",
      "Trainable params: 1,050,689\n",
      "Non-trainable params: 0\n",
      "_________________________________________________________________\n"
     ]
    }
   ],
   "source": [
    "vocab_size = 10000  # 어휘 사전의 크기입니다(10,000개의 단어)\n",
    "word_vector_dim = 100  # 워드 벡터의 차원 수 (변경 가능 하이파라미터)\n",
    "\n",
    "LSTM_model = tf.keras.Sequential()\n",
    "LSTM_model.add(tf.keras.layers.Embedding(vocab_size,\n",
    "                                   word_vector_dim,\n",
    "                                   embeddings_initializer=Constant(embedding_metrix),  # 복사한 임베딩을 여기서 활용\n",
    "                                   input_length=maxlen,\n",
    "                                   trainable=True))\n",
    "LSTM_model.add(tf.keras.layers.LSTM(64))  # 가장 널리 쓰이는 RNN인 LSTM 레이어를 사용하였습니다. 이때 LSTM state 벡터의 차원수는 8로 하였습니다. (변경가능)\n",
    "LSTM_model.add(tf.keras.layers.Dense(128, activation='relu', kernel_initializer='he_normal'))\n",
    "LSTM_model.add(tf.keras.layers.Dense(1, activation='sigmoid'))  # 최종 출력은 긍정/부정을 나타내는 1dim 입니다.\n",
    "LSTM_model.summary()"
   ]
  },
  {
   "cell_type": "code",
   "execution_count": 36,
   "id": "11170db2",
   "metadata": {},
   "outputs": [
    {
     "name": "stdout",
     "output_type": "stream",
     "text": [
      "Epoch 1/10\n",
      "1064/1064 [==============================] - 8s 6ms/step - loss: 0.6543 - accuracy: 0.5564 - val_loss: 0.3853 - val_accuracy: 0.8261\n",
      "Epoch 2/10\n",
      "1064/1064 [==============================] - 6s 6ms/step - loss: 0.3498 - accuracy: 0.8475 - val_loss: 0.3215 - val_accuracy: 0.8579\n",
      "Epoch 3/10\n",
      "1064/1064 [==============================] - 6s 6ms/step - loss: 0.2951 - accuracy: 0.8759 - val_loss: 0.3142 - val_accuracy: 0.8637\n",
      "Epoch 4/10\n",
      "1064/1064 [==============================] - 6s 6ms/step - loss: 0.2683 - accuracy: 0.8886 - val_loss: 0.3173 - val_accuracy: 0.8600\n",
      "Epoch 5/10\n",
      "1064/1064 [==============================] - 6s 6ms/step - loss: 0.2461 - accuracy: 0.8995 - val_loss: 0.3230 - val_accuracy: 0.8579\n",
      "Epoch 6/10\n",
      "1064/1064 [==============================] - 6s 6ms/step - loss: 0.2274 - accuracy: 0.9086 - val_loss: 0.3394 - val_accuracy: 0.8606\n",
      "Epoch 7/10\n",
      "1064/1064 [==============================] - 6s 6ms/step - loss: 0.2090 - accuracy: 0.9171 - val_loss: 0.3566 - val_accuracy: 0.8559\n",
      "Epoch 8/10\n",
      "1064/1064 [==============================] - 6s 6ms/step - loss: 0.1918 - accuracy: 0.9257 - val_loss: 0.3683 - val_accuracy: 0.8484\n",
      "Epoch 9/10\n",
      "1064/1064 [==============================] - 6s 6ms/step - loss: 0.1745 - accuracy: 0.9330 - val_loss: 0.3937 - val_accuracy: 0.8525\n",
      "Epoch 10/10\n",
      "1064/1064 [==============================] - 6s 6ms/step - loss: 0.1588 - accuracy: 0.9403 - val_loss: 0.4194 - val_accuracy: 0.8497\n"
     ]
    }
   ],
   "source": [
    "LSTM_model.compile(optimizer='adam',\n",
    "             loss='binary_crossentropy',\n",
    "             metrics=['accuracy'])\n",
    "\n",
    "epochs=10  # 몇 epoch를 훈련하면 좋을지, 조정해봅시다.\n",
    "\n",
    "LSTM_history = LSTM_model.fit(partial_X_train_post,\n",
    "                   partial_y_train,\n",
    "                   epochs=epochs,\n",
    "                   batch_size=128,\n",
    "                   validation_data=(X_val_post, y_val),\n",
    "                   verbose=1)"
   ]
  },
  {
   "cell_type": "code",
   "execution_count": 37,
   "id": "4aaf7367",
   "metadata": {},
   "outputs": [
    {
     "name": "stdout",
     "output_type": "stream",
     "text": [
      "1537/1537 - 3s - loss: 0.4199 - accuracy: 0.8507\n",
      "[0.41988405585289, 0.8506824970245361]\n"
     ]
    }
   ],
   "source": [
    "results = LSTM_model.evaluate(X_test_post, y_test, verbose=2)\n",
    "\n",
    "print(results)"
   ]
  },
  {
   "cell_type": "code",
   "execution_count": 38,
   "id": "79d5cd5b",
   "metadata": {},
   "outputs": [
    {
     "data": {
      "image/png": "[encoded data removed]",
      "text/plain": [
       "<Figure size 432x288 with 2 Axes>"
      ]
     },
     "metadata": {
      "needs_background": "light"
     },
     "output_type": "display_data"
    }
   ],
   "source": [
    "history_chart(LSTM_history)"
   ]
  },
  {
   "cell_type": "code",
   "execution_count": null,
   "id": "c2524c06",
   "metadata": {},
   "outputs": [],
   "source": []
  },
  {
   "cell_type": "code",
   "execution_count": null,
   "id": "559decf1",
   "metadata": {},
   "outputs": [],
   "source": []
  },
  {
   "cell_type": "markdown",
   "id": "8f75159b",
   "metadata": {},
   "source": [
    "## 루브릭"
   ]
  },
  {
   "cell_type": "markdown",
   "id": "8a80fa11",
   "metadata": {},
   "source": [
    "평가문항\t상세기준\n",
    "1. 다양한 방법으로 Text Classification 태스크를 성공적으로 구현하였다.\t\n",
    "3가지 이상의 모델이 성공적으로 시도됨\n",
    "---\n",
    "2. gensim을 활용하여 자체학습된 혹은 사전학습된 임베딩 레이어를 분석하였다.\t\n",
    "gensim의 유사단어 찾기를 활용하여 자체학습한 임베딩과 사전학습 임베딩을 비교 분석함   \n",
    "-> 만들어진 Ebedding layer로 비교분석해야함.  \n",
    "( 모델은 3개지만 최종적으로는 정확도가 좋은것을 뽑아야하니, 가장 정확도가 높은 모델의 Embedding layer와 비교분석 해야함?)\n",
    "\n",
    "---\n",
    "3. 한국어 Word2Vec을 활용하여 가시적인 성능향상을 달성했다.\t\n",
    "네이버 영화리뷰 데이터 감성분석 정확도를 85% 이상 달성함  \n",
    "-> 1개의 모델만 통과하면 됨."
   ]
  },
  {
   "cell_type": "code",
   "execution_count": null,
   "id": "82ad4286",
   "metadata": {},
   "outputs": [],
   "source": []
  }
 ],
 "metadata": {
  "kernelspec": {
   "display_name": "Python 3 (ipykernel)",
   "language": "python",
   "name": "python3"
  },
  "language_info": {
   "codemirror_mode": {
    "name": "ipython",
    "version": 3
   },
   "file_extension": ".py",
   "mimetype": "text/x-python",
   "name": "python",
   "nbconvert_exporter": "python",
   "pygments_lexer": "ipython3",
   "version": "3.9.7"
  }
 },
 "nbformat": 4,
 "nbformat_minor": 5
}
