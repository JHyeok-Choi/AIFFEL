{
 "cells": [
  {
   "cell_type": "code",
   "execution_count": 1,
   "id": "de6991ec",
   "metadata": {},
   "outputs": [],
   "source": [
    "import tensorflow as tf\n",
    "import matplotlib.pyplot as plt\n",
    "from gensim.models.keyedvectors import Word2VecKeyedVectors\n",
    "import os\n",
    "import sys\n",
    "import pandas as pd"
   ]
  },
  {
   "cell_type": "markdown",
   "id": "5a437633",
   "metadata": {},
   "source": [
    "## 데이터 준비와 확인"
   ]
  },
  {
   "cell_type": "code",
   "execution_count": 2,
   "id": "487bd72d",
   "metadata": {},
   "outputs": [
    {
     "data": {
      "text/html": [
       "<div>\n",
       "<style scoped>\n",
       "    .dataframe tbody tr th:only-of-type {\n",
       "        vertical-align: middle;\n",
       "    }\n",
       "\n",
       "    .dataframe tbody tr th {\n",
       "        vertical-align: top;\n",
       "    }\n",
       "\n",
       "    .dataframe thead th {\n",
       "        text-align: right;\n",
       "    }\n",
       "</style>\n",
       "<table border=\"1\" class=\"dataframe\">\n",
       "  <thead>\n",
       "    <tr style=\"text-align: right;\">\n",
       "      <th></th>\n",
       "      <th>id</th>\n",
       "      <th>document</th>\n",
       "      <th>label</th>\n",
       "    </tr>\n",
       "  </thead>\n",
       "  <tbody>\n",
       "    <tr>\n",
       "      <th>0</th>\n",
       "      <td>9976970</td>\n",
       "      <td>아 더빙.. 진짜 짜증나네요 목소리</td>\n",
       "      <td>0</td>\n",
       "    </tr>\n",
       "    <tr>\n",
       "      <th>1</th>\n",
       "      <td>3819312</td>\n",
       "      <td>흠...포스터보고 초딩영화줄....오버연기조차 가볍지 않구나</td>\n",
       "      <td>1</td>\n",
       "    </tr>\n",
       "    <tr>\n",
       "      <th>2</th>\n",
       "      <td>10265843</td>\n",
       "      <td>너무재밓었다그래서보는것을추천한다</td>\n",
       "      <td>0</td>\n",
       "    </tr>\n",
       "    <tr>\n",
       "      <th>3</th>\n",
       "      <td>9045019</td>\n",
       "      <td>교도소 이야기구먼 ..솔직히 재미는 없다..평점 조정</td>\n",
       "      <td>0</td>\n",
       "    </tr>\n",
       "    <tr>\n",
       "      <th>4</th>\n",
       "      <td>6483659</td>\n",
       "      <td>사이몬페그의 익살스런 연기가 돋보였던 영화!스파이더맨에서 늙어보이기만 했던 커스틴 ...</td>\n",
       "      <td>1</td>\n",
       "    </tr>\n",
       "  </tbody>\n",
       "</table>\n",
       "</div>"
      ],
      "text/plain": [
       "         id                                           document  label\n",
       "0   9976970                                아 더빙.. 진짜 짜증나네요 목소리      0\n",
       "1   3819312                  흠...포스터보고 초딩영화줄....오버연기조차 가볍지 않구나      1\n",
       "2  10265843                                  너무재밓었다그래서보는것을추천한다      0\n",
       "3   9045019                      교도소 이야기구먼 ..솔직히 재미는 없다..평점 조정      0\n",
       "4   6483659  사이몬페그의 익살스런 연기가 돋보였던 영화!스파이더맨에서 늙어보이기만 했던 커스틴 ...      1"
      ]
     },
     "execution_count": 2,
     "metadata": {},
     "output_type": "execute_result"
    }
   ],
   "source": [
    "# 데이터를 읽어봅시다.\n",
    "train_data = pd.read_table('~/aiffel/sentiment_classification/data/ratings_train.txt')\n",
    "test_data = pd.read_table('~/aiffel/sentiment_classification/data/ratings_test.txt')\n",
    "\n",
    "train_data.head()"
   ]
  },
  {
   "cell_type": "markdown",
   "id": "484f13bd",
   "metadata": {},
   "source": [
    "## 데이터로더 구성"
   ]
  },
  {
   "cell_type": "code",
   "execution_count": 3,
   "id": "72f6e5ca",
   "metadata": {},
   "outputs": [],
   "source": [
    "from konlpy.tag import Mecab\n",
    "import numpy as np\n",
    "from collections import Counter\n",
    "\n",
    "tokenizer = Mecab()\n",
    "stopwords = ['의','가','이','은','들','는','좀','잘','걍','과','도','를','으로','자','에','와','한','하다']\n",
    "\n",
    "def load_data(train_data, test_data, num_words=10000):\n",
    "    \n",
    "    train_data.drop_duplicates(subset=['document'], inplace=True)\n",
    "    train_data = train_data.dropna(how = 'any')\n",
    "    test_data.drop_duplicates(subset=['document'], inplace=True)\n",
    "    test_data = test_data.dropna(how = 'any')\n",
    "    \n",
    "    X_train = []\n",
    "    for sentence in train_data['document']:\n",
    "        temp_X = tokenizer.morphs(sentence) # 토큰화\n",
    "        temp_X = [word for word in temp_X if not word in stopwords] # 불용어\n",
    "        X_train.append(temp_X)\n",
    "    \n",
    "    X_test = []\n",
    "    for sentence in test_data['document']:\n",
    "        temp_X = tokenizer.morphs(sentence) # 토큰화\n",
    "        temp_X = [word for word in temp_X if not word in stopwords] # 불용어\n",
    "        X_test.append(temp_X)\n",
    "    \n",
    "    words = np.concatenate(X_train).tolist()\n",
    "    counter = Counter(words)\n",
    "    counter = counter.most_common(10000-4)\n",
    "    vocab = ['', '', '' ,''] + [key for key, _ in counter]\n",
    "    word_to_index = {word:index for index, word in enumerate(vocab)}\n",
    "    \n",
    "    def wordlist_to_indexlist(wordlist):\n",
    "        return [word_to_index[word] if word in word_to_index else word_to_index[''] for word in wordlist]\n",
    "    \n",
    "    X_train = list(map(wordlist_to_indexlist, X_train))\n",
    "    X_test = list(map(wordlist_to_indexlist, X_test))\n",
    "    \n",
    "    return X_train, np.array(list(train_data['label'])), X_test, np.array(list(test_data['label'])), word_to_index\n",
    "    \n",
    "X_train, y_train, X_test, y_test, word_to_index = load_data(train_data, test_data)"
   ]
  },
  {
   "cell_type": "code",
   "execution_count": 4,
   "id": "e3b769e0",
   "metadata": {},
   "outputs": [],
   "source": [
    "index_to_word = {index:word for word, index in word_to_index.items()}"
   ]
  },
  {
   "cell_type": "code",
   "execution_count": 5,
   "id": "60646c59",
   "metadata": {},
   "outputs": [],
   "source": [
    "# 문장 1개를 활용할 딕셔너리와 함께 주면, 단어 인덱스 리스트 벡터로 변환해 주는 함수\n",
    "# 단, 모든 문장은 <BOS>로 시작하는 것으로 합니다.\n",
    "def get_encoded_sentence(sentence, word_to_index):\n",
    "    return [word_to_index['<BOS>']] +[word_to_index[word] if word in word_to_index else word_to_index['<UNK>'] for word in sentence.split()]\n",
    "\n",
    "# 여러 개의 문장 리스트를 한꺼번에 단어 인덱스 리스트 벡터로 encode해 주는 함수입니다.\n",
    "def get_encoded_sentences(sentences, word_to_index):\n",
    "    return [get_encoded_sentence(sentence, word_to_index) for sentence in sentences]\n",
    "\n",
    "# 숫자 벡터로 encode된 문장을 원래대로 decode하는 함수입니다.\n",
    "def get_decoded_sentence(encoded_sentence, index_to_word):\n",
    "    return ' '.join(index_to_word[index] if index in index_to_word else '<UNK>' for index in encoded_sentence[1:]) #[1:]를 통해 <BOS>  를 제외\n",
    "\n",
    "# 여러 개의 숫자 벡터로 encode된 문잘을 한꺼번에 원래대로 decode하는 함수입니다.\n",
    "def get_decoded_sentences(encoded_sentences, index_to_word):\n",
    "    return [get_decoded_sentence(encoded_sentence, index_to_word) for encoded_sentence in encoded_sentences]"
   ]
  },
  {
   "cell_type": "markdown",
   "id": "4064f139",
   "metadata": {},
   "source": [
    "## 모델 구성을 위한 데이터 분석 및 가공"
   ]
  },
  {
   "cell_type": "markdown",
   "id": "462a07d7",
   "metadata": {},
   "source": [
    "---"
   ]
  },
  {
   "cell_type": "markdown",
   "id": "c47adc4d",
   "metadata": {},
   "source": [
    "* 데이터셋 내 문장 길이 분포\n",
    "* 적절한 최대 문장 길이 지정\n",
    "* keras.preprocessing.sequence.pad_sequences 을 활용한 패딩 추가"
   ]
  },
  {
   "cell_type": "code",
   "execution_count": 6,
   "id": "f60ce5ce",
   "metadata": {},
   "outputs": [
    {
     "data": {
      "text/plain": [
       "[32, 74, 919, 4, 4, 39, 228, 20, 33, 748]"
      ]
     },
     "execution_count": 6,
     "metadata": {},
     "output_type": "execute_result"
    }
   ],
   "source": [
    "X_train[0]"
   ]
  },
  {
   "cell_type": "code",
   "execution_count": 7,
   "id": "ebbe848a",
   "metadata": {},
   "outputs": [
    {
     "name": "stdout",
     "output_type": "stream",
     "text": [
      "더 빙 . . 진짜 짜증 나 네요 목소리\n"
     ]
    }
   ],
   "source": [
    "print(get_decoded_sentence(X_train[0], index_to_word))"
   ]
  },
  {
   "cell_type": "code",
   "execution_count": 8,
   "id": "ac842c84",
   "metadata": {},
   "outputs": [],
   "source": [
    "word_to_index[\"<PAD>\"] = 0\n",
    "word_to_index[\"<BOS>\"] = 1\n",
    "word_to_index[\"<UNK>\"] = 2\n",
    "word_to_index[\"<UNUSED>\"] = 3\n"
   ]
  },
  {
   "cell_type": "code",
   "execution_count": 9,
   "id": "2a3db923",
   "metadata": {},
   "outputs": [],
   "source": [
    "#index_to_word[3]"
   ]
  },
  {
   "cell_type": "code",
   "execution_count": 10,
   "id": "e4a2b8f9",
   "metadata": {},
   "outputs": [
    {
     "name": "stdout",
     "output_type": "stream",
     "text": [
      "문장길이 평균 :  15.96940191154864\n",
      "문장길이 최대 :  116\n",
      "문장길이 표준펀차 :  12.843571191092\n",
      "pad_sequences maxlen :  41\n",
      "전체 문장의 0.9342988343341575%가 maxlen 설정값 이내에 포함됩니다. \n"
     ]
    }
   ],
   "source": [
    "total_data_text = list(X_train) + list(X_test)\n",
    "# 텍스트데이터 문장길이의 리스트를 생성한 후\n",
    "num_tokens = [len(tokens) for tokens in total_data_text]\n",
    "num_tikens = np.array(num_tokens)\n",
    "# 문장길이의 평균값, 최대값, 표준편차를 계산해 본다.\n",
    "print('문장길이 평균 : ', np.mean(num_tokens))\n",
    "print('문장길이 최대 : ', np.max(num_tokens))\n",
    "print('문장길이 표준펀차 : ', np.std(num_tokens))\n",
    "\n",
    "# 예를들어, 최대 길이를 (평균 + 2 * 표준편차)로 한다면,\n",
    "max_tokens = np.mean(num_tokens) + 2 * np.std(num_tokens)\n",
    "maxlen = int(max_tokens)\n",
    "print('pad_sequences maxlen : ', maxlen)\n",
    "print('전체 문장의 {}%가 maxlen 설정값 이내에 포함됩니다. '.format(np.sum(num_tokens < max_tokens) / len(num_tokens)))"
   ]
  },
  {
   "cell_type": "code",
   "execution_count": 11,
   "id": "fcf00ab3",
   "metadata": {},
   "outputs": [
    {
     "name": "stdout",
     "output_type": "stream",
     "text": [
      "(146182, 41)\n",
      "(49157, 41)\n"
     ]
    }
   ],
   "source": [
    "X_train_post = tf.keras.preprocessing.sequence.pad_sequences(X_train, value=word_to_index[\"<PAD>\"], padding='post', maxlen=maxlen)\n",
    "X_test_post = tf.keras.preprocessing.sequence.pad_sequences(X_test, value=word_to_index[\"<PAD>\"], padding='post', maxlen=maxlen)\n",
    "print(X_train_post.shape)\n",
    "print(X_test_post.shape)"
   ]
  },
  {
   "cell_type": "code",
   "execution_count": 12,
   "id": "12d5df38",
   "metadata": {},
   "outputs": [
    {
     "name": "stdout",
     "output_type": "stream",
     "text": [
      "(146182, 41)\n",
      "(49157, 41)\n"
     ]
    }
   ],
   "source": [
    "X_train_pre = tf.keras.preprocessing.sequence.pad_sequences(X_train, value=word_to_index[\"<PAD>\"], padding='pre', maxlen=maxlen)\n",
    "X_test_pre = tf.keras.preprocessing.sequence.pad_sequences(X_test, value=word_to_index[\"<PAD>\"], padding='pre', maxlen=maxlen)\n",
    "print(X_train_pre.shape)\n",
    "print(X_test_pre.shape)"
   ]
  },
  {
   "cell_type": "markdown",
   "id": "20576551",
   "metadata": {},
   "source": [
    "## 모델 구성 및 validation set 구성"
   ]
  },
  {
   "cell_type": "markdown",
   "id": "5178b27a",
   "metadata": {},
   "source": [
    "---"
   ]
  },
  {
   "cell_type": "markdown",
   "id": "eba11517",
   "metadata": {},
   "source": [
    "### RNN"
   ]
  },
  {
   "cell_type": "code",
   "execution_count": 13,
   "id": "8890f5c9",
   "metadata": {},
   "outputs": [
    {
     "name": "stdout",
     "output_type": "stream",
     "text": [
      "Model: \"sequential\"\n",
      "_________________________________________________________________\n",
      "Layer (type)                 Output Shape              Param #   \n",
      "=================================================================\n",
      "embedding (Embedding)        (None, None, 16)          160000    \n",
      "_________________________________________________________________\n",
      "lstm (LSTM)                  (None, 8)                 800       \n",
      "_________________________________________________________________\n",
      "dense (Dense)                (None, 8)                 72        \n",
      "_________________________________________________________________\n",
      "dense_1 (Dense)              (None, 1)                 9         \n",
      "=================================================================\n",
      "Total params: 160,881\n",
      "Trainable params: 160,881\n",
      "Non-trainable params: 0\n",
      "_________________________________________________________________\n",
      "(136182, 41)\n",
      "(136182,)\n"
     ]
    }
   ],
   "source": [
    "vocab_size = 10000  # 어휘 사전의 크기입니다(10,000개의 단어)\n",
    "word_vector_dim = 16  # 워드 벡터의 차원 수 (변경 가능 하이파라미터)\n",
    "\n",
    "model_RNN = tf.keras.Sequential()\n",
    "model_RNN.add(tf.keras.layers.Embedding(vocab_size, word_vector_dim, input_shape=(None,)))\n",
    "model_RNN.add(tf.keras.layers.LSTM(8))  # 가장 널리 쓰이는 RNN인 LSTM 레이어를 사용하였습니다. 이때 LSTM state 벡터의 차원수는 8로 하였습니다. (변경가능)\n",
    "model_RNN.add(tf.keras.layers.Dense(8, activation='relu'))\n",
    "model_RNN.add(tf.keras.layers.Dense(1, activation='sigmoid'))  # 최종 출력은 긍정/부정을 나타내는 1dim 입니다.\n",
    "model_RNN.summary()\n",
    "\n",
    " #\n",
    "# validation set 10000건 분리\n",
    "X_val_post = X_train_post[:10000]\n",
    "y_val = y_train[:10000]\n",
    "\n",
    "# validation set을 제외한 나머지 15000건\n",
    "partial_X_train_post = X_train_post[10000:]\n",
    "partial_y_train = y_train[10000:]\n",
    "\n",
    "print(partial_X_train_post.shape)\n",
    "print(partial_y_train.shape)"
   ]
  },
  {
   "cell_type": "markdown",
   "id": "67a95098",
   "metadata": {},
   "source": [
    "### CNN"
   ]
  },
  {
   "cell_type": "code",
   "execution_count": 14,
   "id": "67ed1358",
   "metadata": {},
   "outputs": [
    {
     "name": "stdout",
     "output_type": "stream",
     "text": [
      "Model: \"sequential_1\"\n",
      "_________________________________________________________________\n",
      "Layer (type)                 Output Shape              Param #   \n",
      "=================================================================\n",
      "embedding_1 (Embedding)      (None, None, 16)          160000    \n",
      "_________________________________________________________________\n",
      "conv1d (Conv1D)              (None, None, 16)          1808      \n",
      "_________________________________________________________________\n",
      "max_pooling1d (MaxPooling1D) (None, None, 16)          0         \n",
      "_________________________________________________________________\n",
      "conv1d_1 (Conv1D)            (None, None, 16)          1808      \n",
      "_________________________________________________________________\n",
      "global_max_pooling1d (Global (None, 16)                0         \n",
      "_________________________________________________________________\n",
      "dense_2 (Dense)              (None, 8)                 136       \n",
      "_________________________________________________________________\n",
      "dense_3 (Dense)              (None, 1)                 9         \n",
      "=================================================================\n",
      "Total params: 163,761\n",
      "Trainable params: 163,761\n",
      "Non-trainable params: 0\n",
      "_________________________________________________________________\n",
      "(136182, 41)\n",
      "(136182,)\n"
     ]
    }
   ],
   "source": [
    "vocab_size = 10000  # 어휘 사전의 크기입니다(10,000개의 단어)\n",
    "word_vector_dim = 16  # 워드 벡터의 차원 수 (변경 가능 하이파라미터)\n",
    "\n",
    "model_CNN = tf.keras.Sequential()\n",
    "model_CNN.add(tf.keras.layers.Embedding(vocab_size, word_vector_dim, input_shape=(None,)))\n",
    "model_CNN.add(tf.keras.layers.Conv1D(16, 7, activation='relu'))\n",
    "model_CNN.add(tf.keras.layers.MaxPooling1D(5))\n",
    "model_CNN.add(tf.keras.layers.Conv1D(16, 7, activation='relu'))\n",
    "model_CNN.add(tf.keras.layers.GlobalMaxPooling1D())\n",
    "model_CNN.add(tf.keras.layers.Dense(8, activation='relu'))\n",
    "model_CNN.add(tf.keras.layers.Dense(1, activation='sigmoid'))\n",
    "model_CNN.summary()\n",
    "\n",
    " #\n",
    "# validation set 10000건 분리\n",
    "X_val_post = X_train_post[:10000]\n",
    "y_val = y_train[:10000]\n",
    "\n",
    "# validation set을 제외한 나머지 15000건\n",
    "partial_X_train_post = X_train_post[10000:]\n",
    "partial_y_train = y_train[10000:]\n",
    "\n",
    "print(partial_X_train_post.shape)\n",
    "print(partial_y_train.shape)"
   ]
  },
  {
   "cell_type": "markdown",
   "id": "3b49f6d1",
   "metadata": {},
   "source": [
    "### 단일 GlobalMaxPooling1D"
   ]
  },
  {
   "cell_type": "code",
   "execution_count": 15,
   "id": "66704676",
   "metadata": {},
   "outputs": [
    {
     "name": "stdout",
     "output_type": "stream",
     "text": [
      "Model: \"sequential_2\"\n",
      "_________________________________________________________________\n",
      "Layer (type)                 Output Shape              Param #   \n",
      "=================================================================\n",
      "embedding_2 (Embedding)      (None, None, 16)          160000    \n",
      "_________________________________________________________________\n",
      "global_max_pooling1d_1 (Glob (None, 16)                0         \n",
      "_________________________________________________________________\n",
      "dense_4 (Dense)              (None, 8)                 136       \n",
      "_________________________________________________________________\n",
      "dense_5 (Dense)              (None, 1)                 9         \n",
      "=================================================================\n",
      "Total params: 160,145\n",
      "Trainable params: 160,145\n",
      "Non-trainable params: 0\n",
      "_________________________________________________________________\n",
      "(136182, 41)\n",
      "(136182,)\n"
     ]
    }
   ],
   "source": [
    "vocab_size = 10000  # 어휘 사전의 크기입니다(10,000개의 단어)\n",
    "word_vector_dim = 16  # 워드 벡터의 차원 수 (변경 가능 하이파라미터)\n",
    "\n",
    "# model 설계 - 딥러닝 모델 코드를 직접 작성해 주세요.\n",
    "model_SG = tf.keras.Sequential()\n",
    "model_SG.add(tf.keras.layers.Embedding(vocab_size, word_vector_dim, input_shape=(None,)))\n",
    "model_SG.add(tf.keras.layers.GlobalMaxPooling1D())\n",
    "model_SG.add(tf.keras.layers.Dense(8, activation='relu'))\n",
    "model_SG.add(tf.keras.layers.Dense(1, activation='sigmoid'))  # 최종 출력은 긍정/부정을 나타내는 1dim 입니다.\n",
    "model_SG.summary()\n",
    " #\n",
    "# validation set 10000건 분리\n",
    "X_val_post = X_train_post[:10000]\n",
    "y_val = y_train[:10000]\n",
    "\n",
    "# validation set을 제외한 나머지 15000건\n",
    "partial_X_train_post = X_train_post[10000:]\n",
    "partial_y_train = y_train[10000:]\n",
    "\n",
    "print(partial_X_train_post.shape)\n",
    "print(partial_y_train.shape)"
   ]
  },
  {
   "cell_type": "markdown",
   "id": "9e736bf8",
   "metadata": {},
   "source": [
    "## 모델 훈련 개시"
   ]
  },
  {
   "cell_type": "markdown",
   "id": "9ea6b8e6",
   "metadata": {},
   "source": [
    "---"
   ]
  },
  {
   "cell_type": "markdown",
   "id": "ab4760dc",
   "metadata": {},
   "source": [
    "## RNN"
   ]
  },
  {
   "cell_type": "code",
   "execution_count": 16,
   "id": "6b1cfa71",
   "metadata": {},
   "outputs": [
    {
     "name": "stdout",
     "output_type": "stream",
     "text": [
      "Epoch 1/20\n",
      "266/266 [==============================] - 5s 7ms/step - loss: 0.5653 - accuracy: 0.6702 - val_loss: 0.3653 - val_accuracy: 0.8426\n",
      "Epoch 2/20\n",
      "266/266 [==============================] - 1s 5ms/step - loss: 0.3441 - accuracy: 0.8539 - val_loss: 0.3440 - val_accuracy: 0.8503\n",
      "Epoch 3/20\n",
      "266/266 [==============================] - 1s 5ms/step - loss: 0.3181 - accuracy: 0.8657 - val_loss: 0.3440 - val_accuracy: 0.8504\n",
      "Epoch 4/20\n",
      "266/266 [==============================] - 1s 5ms/step - loss: 0.3058 - accuracy: 0.8709 - val_loss: 0.3399 - val_accuracy: 0.8517\n",
      "Epoch 5/20\n",
      "266/266 [==============================] - 1s 5ms/step - loss: 0.2960 - accuracy: 0.8753 - val_loss: 0.3406 - val_accuracy: 0.8525\n",
      "Epoch 6/20\n",
      "266/266 [==============================] - 1s 5ms/step - loss: 0.2876 - accuracy: 0.8784 - val_loss: 0.3465 - val_accuracy: 0.8530\n",
      "Epoch 7/20\n",
      "266/266 [==============================] - 1s 5ms/step - loss: 0.2771 - accuracy: 0.8828 - val_loss: 0.3483 - val_accuracy: 0.8538\n",
      "Epoch 8/20\n",
      "266/266 [==============================] - 1s 5ms/step - loss: 0.2655 - accuracy: 0.8866 - val_loss: 0.3624 - val_accuracy: 0.8512\n",
      "Epoch 9/20\n",
      "266/266 [==============================] - 1s 5ms/step - loss: 0.2545 - accuracy: 0.8913 - val_loss: 0.3614 - val_accuracy: 0.8544\n",
      "Epoch 10/20\n",
      "266/266 [==============================] - 1s 5ms/step - loss: 0.2447 - accuracy: 0.8963 - val_loss: 0.3764 - val_accuracy: 0.8525\n",
      "Epoch 11/20\n",
      "266/266 [==============================] - 1s 5ms/step - loss: 0.2350 - accuracy: 0.9002 - val_loss: 0.3815 - val_accuracy: 0.8398\n",
      "Epoch 12/20\n",
      "266/266 [==============================] - 1s 5ms/step - loss: 0.2267 - accuracy: 0.9042 - val_loss: 0.3940 - val_accuracy: 0.8511\n",
      "Epoch 13/20\n",
      "266/266 [==============================] - 1s 6ms/step - loss: 0.2180 - accuracy: 0.9089 - val_loss: 0.4024 - val_accuracy: 0.8429\n",
      "Epoch 14/20\n",
      "266/266 [==============================] - 1s 5ms/step - loss: 0.2115 - accuracy: 0.9119 - val_loss: 0.4109 - val_accuracy: 0.8471\n",
      "Epoch 15/20\n",
      "266/266 [==============================] - 1s 5ms/step - loss: 0.2028 - accuracy: 0.9165 - val_loss: 0.4300 - val_accuracy: 0.8502\n",
      "Epoch 16/20\n",
      "266/266 [==============================] - 1s 5ms/step - loss: 0.1968 - accuracy: 0.9190 - val_loss: 0.4293 - val_accuracy: 0.8397\n",
      "Epoch 17/20\n",
      "266/266 [==============================] - 1s 5ms/step - loss: 0.1932 - accuracy: 0.9216 - val_loss: 0.4159 - val_accuracy: 0.8394\n",
      "Epoch 18/20\n",
      "266/266 [==============================] - 1s 5ms/step - loss: 0.1856 - accuracy: 0.9257 - val_loss: 0.4511 - val_accuracy: 0.8385\n",
      "Epoch 19/20\n",
      "266/266 [==============================] - 1s 5ms/step - loss: 0.1784 - accuracy: 0.9290 - val_loss: 0.4546 - val_accuracy: 0.8422\n",
      "Epoch 20/20\n",
      "266/266 [==============================] - 1s 5ms/step - loss: 0.1768 - accuracy: 0.9299 - val_loss: 0.4748 - val_accuracy: 0.8429\n",
      "----------------------------------------\n",
      "1537/1537 - 3s - loss: 0.4801 - accuracy: 0.8406\n",
      "[0.4800828695297241, 0.8406127095222473]\n"
     ]
    }
   ],
   "source": [
    "model_RNN.compile(optimizer='adam', loss='binary_crossentropy', metrics=['accuracy'])\n",
    "\n",
    "epochs=20  # 몇 epoch를 훈련하면 좋을지 결과를 보면서 바꾸어 봅시다.\n",
    "\n",
    "history_RNN = model_RNN.fit(partial_X_train_post, partial_y_train, epochs=epochs, batch_size=512, validation_data=(X_val_post, y_val), verbose=1)\n",
    "\n",
    "print('-'*40)\n",
    "\n",
    "results_RNN = model_RNN.evaluate(X_test_post, y_test, verbose=2)\n",
    "print(results_RNN)"
   ]
  },
  {
   "cell_type": "markdown",
   "id": "f036d144",
   "metadata": {},
   "source": [
    "## CNN"
   ]
  },
  {
   "cell_type": "code",
   "execution_count": 17,
   "id": "2f1f5cb9",
   "metadata": {},
   "outputs": [
    {
     "name": "stdout",
     "output_type": "stream",
     "text": [
      "Epoch 1/20\n",
      "266/266 [==============================] - 3s 6ms/step - loss: 0.4806 - accuracy: 0.7653 - val_loss: 0.3545 - val_accuracy: 0.8469\n",
      "Epoch 2/20\n",
      "266/266 [==============================] - 1s 5ms/step - loss: 0.3308 - accuracy: 0.8595 - val_loss: 0.3399 - val_accuracy: 0.8528\n",
      "Epoch 3/20\n",
      "266/266 [==============================] - 1s 5ms/step - loss: 0.3006 - accuracy: 0.8749 - val_loss: 0.3374 - val_accuracy: 0.8542\n",
      "Epoch 4/20\n",
      "266/266 [==============================] - 1s 5ms/step - loss: 0.2759 - accuracy: 0.8875 - val_loss: 0.3403 - val_accuracy: 0.8519\n",
      "Epoch 5/20\n",
      "266/266 [==============================] - 1s 5ms/step - loss: 0.2499 - accuracy: 0.9004 - val_loss: 0.3455 - val_accuracy: 0.8526\n",
      "Epoch 6/20\n",
      "266/266 [==============================] - 1s 5ms/step - loss: 0.2209 - accuracy: 0.9155 - val_loss: 0.3629 - val_accuracy: 0.8537\n",
      "Epoch 7/20\n",
      "266/266 [==============================] - 1s 5ms/step - loss: 0.1911 - accuracy: 0.9294 - val_loss: 0.3874 - val_accuracy: 0.8499\n",
      "Epoch 8/20\n",
      "266/266 [==============================] - 1s 5ms/step - loss: 0.1627 - accuracy: 0.9425 - val_loss: 0.4215 - val_accuracy: 0.8482\n",
      "Epoch 9/20\n",
      "266/266 [==============================] - 1s 5ms/step - loss: 0.1374 - accuracy: 0.9534 - val_loss: 0.4492 - val_accuracy: 0.8451\n",
      "Epoch 10/20\n",
      "266/266 [==============================] - 1s 5ms/step - loss: 0.1171 - accuracy: 0.9612 - val_loss: 0.4854 - val_accuracy: 0.8427\n",
      "Epoch 11/20\n",
      "266/266 [==============================] - 1s 5ms/step - loss: 0.1003 - accuracy: 0.9677 - val_loss: 0.5438 - val_accuracy: 0.8383\n",
      "Epoch 12/20\n",
      "266/266 [==============================] - 1s 5ms/step - loss: 0.0866 - accuracy: 0.9730 - val_loss: 0.5921 - val_accuracy: 0.8338\n",
      "Epoch 13/20\n",
      "266/266 [==============================] - 1s 5ms/step - loss: 0.0767 - accuracy: 0.9763 - val_loss: 0.6518 - val_accuracy: 0.8331\n",
      "Epoch 14/20\n",
      "266/266 [==============================] - 1s 5ms/step - loss: 0.0697 - accuracy: 0.9784 - val_loss: 0.6820 - val_accuracy: 0.8350\n",
      "Epoch 15/20\n",
      "266/266 [==============================] - 1s 5ms/step - loss: 0.0618 - accuracy: 0.9818 - val_loss: 0.7253 - val_accuracy: 0.8357\n",
      "Epoch 16/20\n",
      "266/266 [==============================] - 1s 5ms/step - loss: 0.0560 - accuracy: 0.9837 - val_loss: 0.7439 - val_accuracy: 0.8290\n",
      "Epoch 17/20\n",
      "266/266 [==============================] - 1s 5ms/step - loss: 0.0528 - accuracy: 0.9845 - val_loss: 0.7998 - val_accuracy: 0.8284\n",
      "Epoch 18/20\n",
      "266/266 [==============================] - 1s 5ms/step - loss: 0.0494 - accuracy: 0.9853 - val_loss: 0.8419 - val_accuracy: 0.8309\n",
      "Epoch 19/20\n",
      "266/266 [==============================] - 1s 5ms/step - loss: 0.0475 - accuracy: 0.9859 - val_loss: 0.8512 - val_accuracy: 0.8230\n",
      "Epoch 20/20\n",
      "266/266 [==============================] - 1s 5ms/step - loss: 0.0466 - accuracy: 0.9858 - val_loss: 0.9051 - val_accuracy: 0.8272\n",
      "----------------------------------------\n",
      "1537/1537 - 2s - loss: 0.9582 - accuracy: 0.8172\n",
      "[0.9581575989723206, 0.8172386288642883]\n"
     ]
    }
   ],
   "source": [
    "model_CNN.compile(optimizer='adam', loss='binary_crossentropy', metrics=['accuracy'])\n",
    "\n",
    "epochs=20  # 몇 epoch를 훈련하면 좋을지 결과를 보면서 바꾸어 봅시다.\n",
    "\n",
    "history_CNN = model_CNN.fit(partial_X_train_post, partial_y_train, epochs=epochs, batch_size=512, validation_data=(X_val_post, y_val), verbose=1)\n",
    "\n",
    "print('-'*40)\n",
    "\n",
    "results_CNN = model_CNN.evaluate(X_test_post, y_test, verbose=2)\n",
    "print(results_CNN)"
   ]
  },
  {
   "cell_type": "markdown",
   "id": "3583eaef",
   "metadata": {},
   "source": [
    "### 단일 GlobalMaxPooling1D()"
   ]
  },
  {
   "cell_type": "code",
   "execution_count": 18,
   "id": "b757785a",
   "metadata": {},
   "outputs": [
    {
     "name": "stdout",
     "output_type": "stream",
     "text": [
      "Epoch 1/20\n",
      "266/266 [==============================] - 1s 4ms/step - loss: 0.5536 - accuracy: 0.7690 - val_loss: 0.3974 - val_accuracy: 0.8283\n",
      "Epoch 2/20\n",
      "266/266 [==============================] - 1s 4ms/step - loss: 0.3641 - accuracy: 0.8438 - val_loss: 0.3507 - val_accuracy: 0.8431\n",
      "Epoch 3/20\n",
      "266/266 [==============================] - 1s 3ms/step - loss: 0.3210 - accuracy: 0.8631 - val_loss: 0.3426 - val_accuracy: 0.8488\n",
      "Epoch 4/20\n",
      "266/266 [==============================] - 1s 4ms/step - loss: 0.2953 - accuracy: 0.8764 - val_loss: 0.3421 - val_accuracy: 0.8496\n",
      "Epoch 5/20\n",
      "266/266 [==============================] - 1s 3ms/step - loss: 0.2761 - accuracy: 0.8858 - val_loss: 0.3472 - val_accuracy: 0.8483\n",
      "Epoch 6/20\n",
      "266/266 [==============================] - 1s 3ms/step - loss: 0.2605 - accuracy: 0.8937 - val_loss: 0.3535 - val_accuracy: 0.8479\n",
      "Epoch 7/20\n",
      "266/266 [==============================] - 1s 3ms/step - loss: 0.2469 - accuracy: 0.9004 - val_loss: 0.3608 - val_accuracy: 0.8477\n",
      "Epoch 8/20\n",
      "266/266 [==============================] - 1s 3ms/step - loss: 0.2349 - accuracy: 0.9064 - val_loss: 0.3694 - val_accuracy: 0.8451\n",
      "Epoch 9/20\n",
      "266/266 [==============================] - 1s 3ms/step - loss: 0.2240 - accuracy: 0.9116 - val_loss: 0.3783 - val_accuracy: 0.8468\n",
      "Epoch 10/20\n",
      "266/266 [==============================] - 1s 4ms/step - loss: 0.2143 - accuracy: 0.9163 - val_loss: 0.3884 - val_accuracy: 0.8443\n",
      "Epoch 11/20\n",
      "266/266 [==============================] - 1s 3ms/step - loss: 0.2053 - accuracy: 0.9207 - val_loss: 0.3997 - val_accuracy: 0.8426\n",
      "Epoch 12/20\n",
      "266/266 [==============================] - 1s 3ms/step - loss: 0.1972 - accuracy: 0.9242 - val_loss: 0.4085 - val_accuracy: 0.8415\n",
      "Epoch 13/20\n",
      "266/266 [==============================] - 1s 4ms/step - loss: 0.1900 - accuracy: 0.9274 - val_loss: 0.4197 - val_accuracy: 0.8405\n",
      "Epoch 14/20\n",
      "266/266 [==============================] - 1s 3ms/step - loss: 0.1829 - accuracy: 0.9314 - val_loss: 0.4305 - val_accuracy: 0.8402\n",
      "Epoch 15/20\n",
      "266/266 [==============================] - 1s 3ms/step - loss: 0.1766 - accuracy: 0.9338 - val_loss: 0.4410 - val_accuracy: 0.8383\n",
      "Epoch 16/20\n",
      "266/266 [==============================] - 1s 3ms/step - loss: 0.1705 - accuracy: 0.9373 - val_loss: 0.4536 - val_accuracy: 0.8352\n",
      "Epoch 17/20\n",
      "266/266 [==============================] - 1s 3ms/step - loss: 0.1651 - accuracy: 0.9394 - val_loss: 0.4652 - val_accuracy: 0.8333\n",
      "Epoch 18/20\n",
      "266/266 [==============================] - 1s 3ms/step - loss: 0.1602 - accuracy: 0.9418 - val_loss: 0.4771 - val_accuracy: 0.8330\n",
      "Epoch 19/20\n",
      "266/266 [==============================] - 1s 3ms/step - loss: 0.1555 - accuracy: 0.9440 - val_loss: 0.4872 - val_accuracy: 0.8325\n",
      "Epoch 20/20\n",
      "266/266 [==============================] - 1s 3ms/step - loss: 0.1510 - accuracy: 0.9459 - val_loss: 0.5013 - val_accuracy: 0.8287\n",
      "----------------------------------------\n",
      "1537/1537 - 2s - loss: 0.5282 - accuracy: 0.8260\n",
      "[0.5281992554664612, 0.8259861469268799]\n"
     ]
    }
   ],
   "source": [
    "model_SG.compile(optimizer='adam', loss='binary_crossentropy', metrics=['accuracy'])\n",
    "\n",
    "epochs=20  # 몇 epoch를 훈련하면 좋을지 결과를 보면서 바꾸어 봅시다.\n",
    "\n",
    "history_SG = model_SG.fit(partial_X_train_post, partial_y_train, epochs=epochs, batch_size=512, validation_data=(X_val_post, y_val), verbose=1)\n",
    "\n",
    "print('-'*40)\n",
    "\n",
    "results_SG = model_SG.evaluate(X_test_post, y_test, verbose=2)\n",
    "print(results_SG)"
   ]
  },
  {
   "cell_type": "markdown",
   "id": "3543b31b",
   "metadata": {},
   "source": [
    "## Loss, Accuracy 그래프 시각화"
   ]
  },
  {
   "cell_type": "markdown",
   "id": "bc90b75c",
   "metadata": {},
   "source": [
    "---"
   ]
  },
  {
   "cell_type": "code",
   "execution_count": 19,
   "id": "a51f777a",
   "metadata": {},
   "outputs": [],
   "source": [
    "def history_chart(history):\n",
    "    history_dict = history.history\n",
    "#print(history_dict_RNN.keys())  # epoch에 따른 그래프를 그려 볼 수 있는 항목들.\n",
    "\n",
    "    acc = history_dict['accuracy']\n",
    "    val_acc = history_dict['val_accuracy']\n",
    "    loss = history_dict['loss']\n",
    "    val_loss = history_dict['val_loss']\n",
    "\n",
    "    epochs = range(1, len(acc) + 1)\n",
    "\n",
    "    plt.subplot(121)\n",
    "# \"bo\" \"파란색 점\"입니다.\n",
    "    plt.plot(epochs, loss, 'bo', label='Training loss')\n",
    "# b는 \"파란 실선\"입니다.\n",
    "    plt.plot(epochs, val_loss, 'b', label='Validation loss')\n",
    "    plt.title('Training and validation loss')\n",
    "    plt.xlabel('Epochs')\n",
    "    plt.ylabel('Loss')\n",
    "    plt.legend()\n",
    "\n",
    "    plt.subplot(122)\n",
    "    plt.plot(epochs, acc, 'bo', label='Training acc')\n",
    "    plt.plot(epochs, val_acc, 'b', label='Validation acc')\n",
    "    plt.title('Training and validation accuracy')\n",
    "    plt.xlabel('Epochs')\n",
    "    plt.ylabel('Accuracy')\n",
    "    plt.legend()\n",
    "    plt.show()"
   ]
  },
  {
   "cell_type": "markdown",
   "id": "759d42eb",
   "metadata": {},
   "source": [
    "## RNN"
   ]
  },
  {
   "cell_type": "code",
   "execution_count": 20,
   "id": "484f5254",
   "metadata": {},
   "outputs": [
    {
     "data": {
      "image/png": "[encoded data removed]",
      "text/plain": [
       "<Figure size 432x288 with 2 Axes>"
      ]
     },
     "metadata": {
      "needs_background": "light"
     },
     "output_type": "display_data"
    }
   ],
   "source": [
    "history_chart(history_RNN)"
   ]
  },
  {
   "cell_type": "markdown",
   "id": "b9790105",
   "metadata": {},
   "source": [
    "## CNN"
   ]
  },
  {
   "cell_type": "code",
   "execution_count": 21,
   "id": "4f74fd88",
   "metadata": {},
   "outputs": [
    {
     "data": {
      "image/png": "[encoded data removed]",
      "text/plain": [
       "<Figure size 432x288 with 2 Axes>"
      ]
     },
     "metadata": {
      "needs_background": "light"
     },
     "output_type": "display_data"
    }
   ],
   "source": [
    "history_chart(history_CNN)"
   ]
  },
  {
   "cell_type": "markdown",
   "id": "0baf92e2",
   "metadata": {},
   "source": [
    "## 단일 GlobalMaxPooling1D"
   ]
  },
  {
   "cell_type": "code",
   "execution_count": 22,
   "id": "91eaa9eb",
   "metadata": {},
   "outputs": [
    {
     "data": {
      "image/png": "[encoded data removed]",
      "text/plain": [
       "<Figure size 432x288 with 2 Axes>"
      ]
     },
     "metadata": {
      "needs_background": "light"
     },
     "output_type": "display_data"
    }
   ],
   "source": [
    "history_chart(history_SG)"
   ]
  },
  {
   "cell_type": "markdown",
   "id": "54657b06",
   "metadata": {},
   "source": [
    "## 학습된 Embedding 레이어 분석"
   ]
  },
  {
   "cell_type": "markdown",
   "id": "4cea4684",
   "metadata": {},
   "source": [
    "---"
   ]
  },
  {
   "cell_type": "code",
   "execution_count": 23,
   "id": "a12af5dc",
   "metadata": {},
   "outputs": [],
   "source": [
    "def Embedding_view(model, word2vec_file_path):\n",
    "    embedding_layer = model.layers[0]\n",
    "    weights = embedding_layer.get_weights()[0]\n",
    "    #print(weights.shape)\n",
    "    \n",
    "    # 학습한 Embedding 파라미터를 파일에 써서 저장합니다.\n",
    "    f = open(word2vec_file_path, 'w')\n",
    "    f.write('{} {}\\n'.format(vocab_size-4, word_vector_dim))  # 몇개의 벡터를 얼마 사이즈로 기재할지 타이틀을 씁니다.\n",
    "\n",
    "    # 단어 개수(에서 특수문자 4개는 제외하고) 만큼의 워드 벡터를 파일에 기록합니다.\n",
    "    vectors = model.get_weights()[0]\n",
    "    for i in range(4, vocab_size):\n",
    "        f.write('{} {}\\n'.format(index_to_word[i], ' '.join(map(str, list(vectors[i, :])))))\n",
    "    f.close()\n",
    "    \n",
    "    word_vectors = Word2VecKeyedVectors.load_word2vec_format(word2vec_file_path, binary=False)\n",
    "    vector = word_vectors['끝']\n",
    "    print(vector)\n",
    "    \n",
    "    print(word_vectors.similar_by_word(\"시작\"))"
   ]
  },
  {
   "cell_type": "code",
   "execution_count": 24,
   "id": "3a893e60",
   "metadata": {},
   "outputs": [
    {
     "name": "stdout",
     "output_type": "stream",
     "text": [
      "[-0.0225656  -0.11432522 -0.05289702  0.02507941  0.09901541 -0.00503873\n",
      " -0.3952395  -0.07768479 -0.01952215  0.18937129 -0.08081175 -0.07066838\n",
      " -0.02362394 -0.00814318  0.12650637  0.14739458]\n",
      "[('멈추', 0.9325096607208252), ('평타', 0.9226831793785095), ('19', 0.9177981019020081), ('싸', 0.9143806099891663), ('도라에몽', 0.9134595990180969), ('숙제', 0.8975455164909363), ('몸짓', 0.896268367767334), ('짐', 0.892193078994751), ('경향', 0.891718864440918), ('잖아', 0.8893961310386658)]\n"
     ]
    }
   ],
   "source": [
    "word2vec_file_path_RNN = os.getenv(\"HOME\") + '/aiffel/sentiment_classification/data/word2vec_RNN.txt'\n",
    "\n",
    "Embedding_view(model_RNN, word2vec_file_path_RNN)"
   ]
  },
  {
   "cell_type": "code",
   "execution_count": 25,
   "id": "377722cb",
   "metadata": {},
   "outputs": [
    {
     "name": "stdout",
     "output_type": "stream",
     "text": [
      "[ 0.02588657  0.05012567  0.13944983 -0.00324306 -0.00162057 -0.05429179\n",
      " -0.05023568 -0.04196244 -0.09263866  0.02397274  0.0163419  -0.15332821\n",
      "  0.06318948 -0.05005454  0.053023    0.07134331]\n",
      "[('연애', 0.7875933051109314), ('어쩔', 0.7854821085929871), ('나미', 0.775702953338623), ('복수', 0.7697166800498962), ('아래', 0.7590108513832092), ('한반도', 0.7513594031333923), ('박스', 0.7222198843955994), ('스승', 0.7141463756561279), ('비치', 0.6968357563018799), ('링컨', 0.6918320059776306)]\n"
     ]
    }
   ],
   "source": [
    "word2vec_file_path_CNN = os.getenv(\"HOME\") + '/aiffel/sentiment_classification/data/word2vec_CNN.txt'\n",
    "\n",
    "Embedding_view(model_CNN, word2vec_file_path_CNN)"
   ]
  },
  {
   "cell_type": "code",
   "execution_count": 26,
   "id": "f760afcb",
   "metadata": {},
   "outputs": [
    {
     "name": "stdout",
     "output_type": "stream",
     "text": [
      "[-0.01706699  0.03058548 -0.22266284  0.02175904 -0.21262023 -0.1870273\n",
      " -0.1424742  -0.23010091 -0.02962578 -0.0261709  -0.25251228  0.05013477\n",
      " -0.04830922 -0.17677586  0.00091432  0.11950373]\n",
      "[('분위기', 0.9569226503372192), ('두', 0.9498953223228455), ('차승원', 0.9350754022598267), ('우주', 0.9327581524848938), ('완전', 0.9325703382492065), ('팬', 0.9236316680908203), ('스런', 0.9186592698097229), ('개인', 0.9157602190971375), ('스럽', 0.9111407399177551), ('곱', 0.8975821733474731)]\n"
     ]
    }
   ],
   "source": [
    "word2vec_file_path_SG = os.getenv(\"HOME\") + '/aiffel/sentiment_classification/data/word2vec_SG.txt'\n",
    "\n",
    "Embedding_view(model_SG, word2vec_file_path_SG)"
   ]
  },
  {
   "cell_type": "markdown",
   "id": "d35e6dcb",
   "metadata": {},
   "source": [
    "직접 만들어서 학습시킨 Embedding 들은 3가지 모델 전부 '시작'라는 단어와는 좀 동떨어진 단어들만 보이는것 같습니다."
   ]
  },
  {
   "cell_type": "markdown",
   "id": "e49e4a34",
   "metadata": {},
   "source": [
    "## 한국어 Word2Vec 임베딩 활용하여 성능 개선"
   ]
  },
  {
   "cell_type": "markdown",
   "id": "8f7244b4",
   "metadata": {},
   "source": [
    "---"
   ]
  },
  {
   "cell_type": "markdown",
   "id": "400ad06a",
   "metadata": {},
   "source": [
    "* 한국어 Word2Vec은 /data 폴더 안에 있는 word2vec_ko.model을 활용하세요.\n",
    "* 한국어 Word2Vec을 활용할 때는 load_word2vec_format() 형태가 아닌 load() 형태로 모델을 불러와주세요. 또한 모델을 활용할 때에는 아래 예시와 같이 .wv를 붙여서 활용합니다. 좀더 자세한 활용법에 대해선 다음 링크들을 참조해주세요.\n",
    "[참고 링크1](https://radimrehurek.com/gensim/auto_examples/tutorials/run_word2vec.html#storing-and-loading-models),\n",
    "[참고 링크2](https://radimrehurek.com/gensim/models/keyedvectors.html)"
   ]
  },
  {
   "cell_type": "code",
   "execution_count": 27,
   "id": "e5ef5b28",
   "metadata": {},
   "outputs": [
    {
     "data": {
      "text/plain": [
       "array([-1.16053   ,  3.2086124 , -0.8464585 , -0.21354361,  5.7969356 ,\n",
       "        0.18993846, -2.6679456 ,  5.1422763 ,  0.70769715,  0.67083716,\n",
       "       -2.8080425 ,  1.1404599 , -1.367787  , -1.4466493 ,  7.5045366 ,\n",
       "       -0.9983406 ,  1.5922157 ,  0.59020776,  6.3408074 ,  3.0450768 ,\n",
       "       -2.4441054 ,  4.4043674 ,  1.6067554 , -4.8582635 ,  0.49741057,\n",
       "        1.5097246 , -1.6164384 , -2.6722224 ,  1.9465922 ,  4.988424  ,\n",
       "       -3.884758  ,  2.6203034 ,  3.2578673 ,  1.5888767 , -0.49142   ,\n",
       "        1.0968636 , -3.5188727 ,  0.17855728,  3.7370596 , -2.685119  ,\n",
       "        1.320543  , -1.9419105 ,  4.5419254 , -3.970305  ,  0.6959733 ,\n",
       "       -4.1972575 ,  1.4016238 ,  2.9008312 ,  3.3938718 , -1.2880683 ,\n",
       "       -1.4832399 , -1.1575463 , -3.10531   , -3.2233114 , -2.1278367 ,\n",
       "       -4.0140653 , -2.222649  ,  0.9956357 ,  2.4712307 ,  0.32640433,\n",
       "        0.904556  ,  4.7066073 , -1.6040367 ,  4.9517636 , -1.4919065 ,\n",
       "       -0.08459547,  2.105639  , -4.060081  , -1.1459922 , -1.192083  ,\n",
       "        5.2167716 ,  0.74829286,  5.0756283 ,  3.0295906 , -1.9970044 ,\n",
       "       -0.67282915,  2.6018038 , -3.58331   , -5.8072667 ,  3.0633488 ,\n",
       "       -1.4246012 ,  5.914458  , -0.7998901 ,  5.2735276 ,  2.859821  ,\n",
       "       -2.1537035 ,  0.7385227 ,  3.1671567 , -4.7380934 , -4.724232  ,\n",
       "       -3.1779714 , -1.2573018 ,  2.0711277 ,  2.4285755 , -0.84483325,\n",
       "        0.22463651,  0.6757601 ,  4.298911  ,  4.2210517 , -1.181708  ],\n",
       "      dtype=float32)"
      ]
     },
     "execution_count": 27,
     "metadata": {},
     "output_type": "execute_result"
    }
   ],
   "source": [
    "# 예시 코드\n",
    "word_vectors = Word2VecKeyedVectors.load('../../data/word2vec_ko.model')\n",
    "vector = word_vectors.wv['시작']\n",
    "vector"
   ]
  },
  {
   "cell_type": "code",
   "execution_count": 28,
   "id": "852b9bc1",
   "metadata": {},
   "outputs": [
    {
     "data": {
      "text/plain": [
       "[('재개', 0.7113743424415588),\n",
       " ('개시', 0.6964776515960693),\n",
       " ('계속', 0.6593127846717834),\n",
       " ('중단', 0.6464443206787109),\n",
       " ('진행', 0.6105296611785889),\n",
       " ('마무리', 0.5996001958847046),\n",
       " ('실시', 0.5984620451927185),\n",
       " ('완료', 0.5883207321166992),\n",
       " ('전개', 0.5819582343101501),\n",
       " ('완성', 0.5794826745986938)]"
      ]
     },
     "execution_count": 28,
     "metadata": {},
     "output_type": "execute_result"
    }
   ],
   "source": [
    "word_vectors.wv.most_similar('시작')"
   ]
  },
  {
   "cell_type": "markdown",
   "id": "0e0d0c7a",
   "metadata": {},
   "source": [
    "Word2Vec Embedding 은 상대적으로 유사성이 높은 단어들이 나오고 있습니다.  \n",
    "가장 높은 유사도에 다시 시작한다는 뜻의 '재개' 가 있네요, 무언가를 시작한다는 뜻의 '개시' 도 있는 것을 보니  \n",
    "잘 학습된 Embedding 인것 같습니다."
   ]
  },
  {
   "cell_type": "markdown",
   "id": "169ebb95",
   "metadata": {},
   "source": [
    "## CNN"
   ]
  },
  {
   "cell_type": "code",
   "execution_count": 29,
   "id": "2c7c0780",
   "metadata": {},
   "outputs": [
    {
     "name": "stderr",
     "output_type": "stream",
     "text": [
      "/tmp/ipykernel_11614/1597991925.py:7: FutureWarning: elementwise comparison failed; returning scalar instead, but in the future will perform elementwise comparison\n",
      "  if index_to_word[i] in vector:\n"
     ]
    }
   ],
   "source": [
    "vocab_size = 10000  # 어휘 사전의 크기입니다(10,000개의 단어)\n",
    "word_vector_dim = 90  # 워드 벡터의 차원수\n",
    "embedding_metrix = np.random.rand(vocab_size, word_vector_dim)\n",
    "\n",
    "# embedding_matrix에 Word2Vec 워드 벡터를 단어 하나씩마다 차례차례 복사한다.\n",
    "for i in range(4, vocab_size):\n",
    "    if index_to_word[i] in vector:\n",
    "        embedding_matrix[i] = vector[index_to_word[i]]"
   ]
  },
  {
   "cell_type": "code",
   "execution_count": 30,
   "id": "2719c8a0",
   "metadata": {},
   "outputs": [
    {
     "name": "stdout",
     "output_type": "stream",
     "text": [
      "Model: \"sequential_3\"\n",
      "_________________________________________________________________\n",
      "Layer (type)                 Output Shape              Param #   \n",
      "=================================================================\n",
      "embedding_3 (Embedding)      (None, 41, 90)            900000    \n",
      "_________________________________________________________________\n",
      "conv1d_2 (Conv1D)            (None, 35, 128)           80768     \n",
      "_________________________________________________________________\n",
      "max_pooling1d_1 (MaxPooling1 (None, 7, 128)            0         \n",
      "_________________________________________________________________\n",
      "conv1d_3 (Conv1D)            (None, 1, 128)            114816    \n",
      "_________________________________________________________________\n",
      "global_max_pooling1d_2 (Glob (None, 128)               0         \n",
      "_________________________________________________________________\n",
      "dense_6 (Dense)              (None, 256)               33024     \n",
      "_________________________________________________________________\n",
      "dense_7 (Dense)              (None, 1)                 257       \n",
      "=================================================================\n",
      "Total params: 1,128,865\n",
      "Trainable params: 1,128,865\n",
      "Non-trainable params: 0\n",
      "_________________________________________________________________\n"
     ]
    }
   ],
   "source": [
    "from tensorflow.keras.initializers import Constant\n",
    "\n",
    "model = tf.keras.Sequential()\n",
    "model.add(tf.keras.layers.Embedding(vocab_size,\n",
    "                                   word_vector_dim,\n",
    "                                   embeddings_initializer=Constant(embedding_metrix),  # 복사한 임베딩을 여기서 활용\n",
    "                                   input_length=maxlen,\n",
    "                                   trainable=True))  # trainable을 True로 주면 Fine-tuning\n",
    "model.add(tf.keras.layers.Conv1D(128, 7, activation='relu', kernel_initializer='he_normal'))\n",
    "model.add(tf.keras.layers.MaxPooling1D(5))\n",
    "\n",
    "model.add(tf.keras.layers.Conv1D(128, 7, activation='relu', kernel_initializer='he_normal'))\n",
    "model.add(tf.keras.layers.GlobalMaxPooling1D())\n",
    "\n",
    "model.add(tf.keras.layers.Dense(256, activation='relu', kernel_initializer='he_normal'))\n",
    "model.add(tf.keras.layers.Dense(1, activation='sigmoid'))\n",
    "model.summary()"
   ]
  },
  {
   "cell_type": "code",
   "execution_count": 31,
   "id": "29c840c1",
   "metadata": {},
   "outputs": [
    {
     "name": "stdout",
     "output_type": "stream",
     "text": [
      "Epoch 1/5\n",
      "532/532 [==============================] - 5s 7ms/step - loss: 0.5274 - accuracy: 0.7102 - val_loss: 0.3782 - val_accuracy: 0.8347\n",
      "Epoch 2/5\n",
      "532/532 [==============================] - 3s 6ms/step - loss: 0.3504 - accuracy: 0.8479 - val_loss: 0.3553 - val_accuracy: 0.8428\n",
      "Epoch 3/5\n",
      "532/532 [==============================] - 3s 6ms/step - loss: 0.3076 - accuracy: 0.8705 - val_loss: 0.3698 - val_accuracy: 0.8340\n",
      "Epoch 4/5\n",
      "532/532 [==============================] - 3s 6ms/step - loss: 0.2788 - accuracy: 0.8865 - val_loss: 0.3699 - val_accuracy: 0.8427\n",
      "Epoch 5/5\n",
      "532/532 [==============================] - 3s 6ms/step - loss: 0.2485 - accuracy: 0.9017 - val_loss: 0.3860 - val_accuracy: 0.8333\n"
     ]
    }
   ],
   "source": [
    "model.compile(optimizer='adam',\n",
    "             loss='binary_crossentropy',\n",
    "             metrics=['accuracy'])\n",
    "\n",
    "epochs=5\n",
    "\n",
    "history = model.fit(partial_X_train_post,\n",
    "                   partial_y_train,\n",
    "                   epochs=epochs,\n",
    "                   batch_size=256,\n",
    "                   validation_data=(X_val_post, y_val),\n",
    "                   verbose=1)"
   ]
  },
  {
   "cell_type": "code",
   "execution_count": 32,
   "id": "9d95edf8",
   "metadata": {},
   "outputs": [
    {
     "name": "stdout",
     "output_type": "stream",
     "text": [
      "1537/1537 - 3s - loss: 0.3977 - accuracy: 0.8354\n",
      "[0.397654265165329, 0.8353642225265503]\n"
     ]
    }
   ],
   "source": [
    "results = model.evaluate(X_test_post, y_test, verbose=2)\n",
    "\n",
    "print(results)"
   ]
  },
  {
   "cell_type": "markdown",
   "id": "ae8c077a",
   "metadata": {},
   "source": [
    "CNN 쪽은 많이 시도해봤는데 0.85를 잘 못넘네요"
   ]
  },
  {
   "cell_type": "markdown",
   "id": "ef7eee87",
   "metadata": {},
   "source": [
    "### 단일 GlobalMaxPooling1D"
   ]
  },
  {
   "cell_type": "code",
   "execution_count": 33,
   "id": "a9364cf2",
   "metadata": {},
   "outputs": [
    {
     "name": "stdout",
     "output_type": "stream",
     "text": [
      "Model: \"sequential_4\"\n",
      "_________________________________________________________________\n",
      "Layer (type)                 Output Shape              Param #   \n",
      "=================================================================\n",
      "embedding_4 (Embedding)      (None, 41, 90)            900000    \n",
      "_________________________________________________________________\n",
      "global_max_pooling1d_3 (Glob (None, 90)                0         \n",
      "_________________________________________________________________\n",
      "dense_8 (Dense)              (None, 128)               11648     \n",
      "_________________________________________________________________\n",
      "dense_9 (Dense)              (None, 1)                 129       \n",
      "=================================================================\n",
      "Total params: 911,777\n",
      "Trainable params: 911,777\n",
      "Non-trainable params: 0\n",
      "_________________________________________________________________\n"
     ]
    }
   ],
   "source": [
    "SG_model = tf.keras.Sequential()\n",
    "SG_model.add(tf.keras.layers.Embedding(vocab_size,\n",
    "                                   word_vector_dim,\n",
    "                                   embeddings_initializer=Constant(embedding_metrix),  # 복사한 임베딩을 여기서 활용\n",
    "                                   input_length=maxlen,\n",
    "                                   trainable=True))\n",
    "SG_model.add(tf.keras.layers.GlobalMaxPooling1D())\n",
    "SG_model.add(tf.keras.layers.Dense(128, activation='relu', kernel_initializer=('he_normal')))\n",
    "SG_model.add(tf.keras.layers.Dense(1, activation='sigmoid'))  # 최종 출력은 긍정/부정을 나타내는 1dim 입니다.\n",
    "SG_model.summary()"
   ]
  },
  {
   "cell_type": "code",
   "execution_count": 34,
   "id": "e263b543",
   "metadata": {},
   "outputs": [
    {
     "name": "stdout",
     "output_type": "stream",
     "text": [
      "Epoch 1/5\n",
      "532/532 [==============================] - 2s 4ms/step - loss: 0.5015 - accuracy: 0.7572 - val_loss: 0.3680 - val_accuracy: 0.8361\n",
      "Epoch 2/5\n",
      "532/532 [==============================] - 2s 3ms/step - loss: 0.3404 - accuracy: 0.8514 - val_loss: 0.3471 - val_accuracy: 0.8468\n",
      "Epoch 3/5\n",
      "532/532 [==============================] - 2s 3ms/step - loss: 0.3022 - accuracy: 0.8722 - val_loss: 0.3427 - val_accuracy: 0.8509\n",
      "Epoch 4/5\n",
      "532/532 [==============================] - 2s 4ms/step - loss: 0.2769 - accuracy: 0.8849 - val_loss: 0.3397 - val_accuracy: 0.8522\n",
      "Epoch 5/5\n",
      "532/532 [==============================] - 2s 4ms/step - loss: 0.2524 - accuracy: 0.8976 - val_loss: 0.3588 - val_accuracy: 0.8488\n"
     ]
    }
   ],
   "source": [
    "SG_model.compile(optimizer='adam',\n",
    "             loss='binary_crossentropy',\n",
    "             metrics=['accuracy'])\n",
    "\n",
    "epochs=5\n",
    "\n",
    "SG_history = SG_model.fit(partial_X_train_post,\n",
    "                   partial_y_train,\n",
    "                   epochs=epochs,\n",
    "                   batch_size=256,\n",
    "                   validation_data=(X_val_post, y_val),\n",
    "                   verbose=1)"
   ]
  },
  {
   "cell_type": "code",
   "execution_count": 35,
   "id": "004033ea",
   "metadata": {},
   "outputs": [
    {
     "name": "stdout",
     "output_type": "stream",
     "text": [
      "1537/1537 - 2s - loss: 0.3765 - accuracy: 0.8429\n",
      "[0.3764837682247162, 0.842870831489563]\n"
     ]
    }
   ],
   "source": [
    "SG_results = SG_model.evaluate(X_test_post, y_test, verbose=2)\n",
    "\n",
    "print(SG_results)"
   ]
  },
  {
   "cell_type": "markdown",
   "id": "fa0d2269",
   "metadata": {},
   "source": [
    "단일 GlobalMaxPooling1D도 조금 부족한것같습니다."
   ]
  },
  {
   "cell_type": "code",
   "execution_count": 36,
   "id": "6df740ec",
   "metadata": {},
   "outputs": [
    {
     "data": {
      "image/png": "[encoded data removed]",
      "text/plain": [
       "<Figure size 432x288 with 2 Axes>"
      ]
     },
     "metadata": {
      "needs_background": "light"
     },
     "output_type": "display_data"
    }
   ],
   "source": [
    "history_chart(SG_history)"
   ]
  },
  {
   "cell_type": "markdown",
   "id": "539f933c",
   "metadata": {},
   "source": [
    "## LSTM"
   ]
  },
  {
   "cell_type": "code",
   "execution_count": 37,
   "id": "cdfebc1f",
   "metadata": {},
   "outputs": [
    {
     "name": "stdout",
     "output_type": "stream",
     "text": [
      "Model: \"sequential_5\"\n",
      "_________________________________________________________________\n",
      "Layer (type)                 Output Shape              Param #   \n",
      "=================================================================\n",
      "embedding_5 (Embedding)      (None, 41, 90)            900000    \n",
      "_________________________________________________________________\n",
      "lstm_1 (LSTM)                (None, 128)               112128    \n",
      "_________________________________________________________________\n",
      "dense_10 (Dense)             (None, 256)               33024     \n",
      "_________________________________________________________________\n",
      "dense_11 (Dense)             (None, 1)                 257       \n",
      "=================================================================\n",
      "Total params: 1,045,409\n",
      "Trainable params: 1,045,409\n",
      "Non-trainable params: 0\n",
      "_________________________________________________________________\n"
     ]
    }
   ],
   "source": [
    "LSTM_model = tf.keras.Sequential()\n",
    "LSTM_model.add(tf.keras.layers.Embedding(vocab_size,\n",
    "                                   word_vector_dim,\n",
    "                                   embeddings_initializer=Constant(embedding_metrix),  # 복사한 임베딩을 여기서 활용\n",
    "                                   input_length=maxlen,\n",
    "                                   trainable=True))\n",
    "LSTM_model.add(tf.keras.layers.LSTM(128))  # 가장 널리 쓰이는 RNN인 LSTM 레이어를 사용하였습니다. 이때 LSTM state 벡터의 차원수는 8로 하였습니다.\n",
    "LSTM_model.add(tf.keras.layers.Dense(256, activation='relu', kernel_initializer='he_normal'))\n",
    "LSTM_model.add(tf.keras.layers.Dense(1, activation='sigmoid'))  # 최종 출력은 긍정/부정을 나타내는 1dim 입니다.\n",
    "LSTM_model.summary()"
   ]
  },
  {
   "cell_type": "code",
   "execution_count": 38,
   "id": "217db401",
   "metadata": {},
   "outputs": [
    {
     "name": "stdout",
     "output_type": "stream",
     "text": [
      "Epoch 1/5\n",
      "532/532 [==============================] - 6s 8ms/step - loss: 0.5882 - accuracy: 0.6325 - val_loss: 0.3751 - val_accuracy: 0.8359\n",
      "Epoch 2/5\n",
      "532/532 [==============================] - 4s 7ms/step - loss: 0.3464 - accuracy: 0.8498 - val_loss: 0.3435 - val_accuracy: 0.8469\n",
      "Epoch 3/5\n",
      "532/532 [==============================] - 4s 7ms/step - loss: 0.3063 - accuracy: 0.8700 - val_loss: 0.3275 - val_accuracy: 0.8578\n",
      "Epoch 4/5\n",
      "532/532 [==============================] - 4s 7ms/step - loss: 0.2841 - accuracy: 0.8816 - val_loss: 0.3302 - val_accuracy: 0.8592\n",
      "Epoch 5/5\n",
      "532/532 [==============================] - 4s 7ms/step - loss: 0.2669 - accuracy: 0.8891 - val_loss: 0.3335 - val_accuracy: 0.8580\n"
     ]
    }
   ],
   "source": [
    "LSTM_model.compile(optimizer='adam',\n",
    "             loss='binary_crossentropy',\n",
    "             metrics=['accuracy'])\n",
    "\n",
    "epochs=5\n",
    "\n",
    "LSTM_history = LSTM_model.fit(partial_X_train_post,\n",
    "                   partial_y_train,\n",
    "                   epochs=epochs,\n",
    "                   batch_size=256,\n",
    "                   validation_data=(X_val_post, y_val),\n",
    "                   verbose=1)"
   ]
  },
  {
   "cell_type": "code",
   "execution_count": 39,
   "id": "37860c39",
   "metadata": {},
   "outputs": [
    {
     "name": "stdout",
     "output_type": "stream",
     "text": [
      "1537/1537 - 3s - loss: 0.3426 - accuracy: 0.8519\n",
      "[0.34258607029914856, 0.851923406124115]\n"
     ]
    }
   ],
   "source": [
    "results = LSTM_model.evaluate(X_test_post, y_test, verbose=2)\n",
    "\n",
    "print(results)"
   ]
  },
  {
   "cell_type": "code",
   "execution_count": 40,
   "id": "0b1b2c38",
   "metadata": {},
   "outputs": [
    {
     "data": {
      "image/png": "[encoded data removed]",
      "text/plain": [
       "<Figure size 432x288 with 2 Axes>"
      ]
     },
     "metadata": {
      "needs_background": "light"
     },
     "output_type": "display_data"
    }
   ],
   "source": [
    "history_chart(LSTM_history)"
   ]
  },
  {
   "cell_type": "markdown",
   "id": "d4ea1236",
   "metadata": {},
   "source": [
    "LSTM은 목표치인 0.85를 넘었습니다."
   ]
  },
  {
   "cell_type": "markdown",
   "id": "0de61cf5",
   "metadata": {},
   "source": [
    "## BiLSTM"
   ]
  },
  {
   "cell_type": "code",
   "execution_count": 41,
   "id": "ec92314e",
   "metadata": {},
   "outputs": [
    {
     "name": "stdout",
     "output_type": "stream",
     "text": [
      "Model: \"sequential_6\"\n",
      "_________________________________________________________________\n",
      "Layer (type)                 Output Shape              Param #   \n",
      "=================================================================\n",
      "embedding_6 (Embedding)      (None, 41, 90)            900000    \n",
      "_________________________________________________________________\n",
      "bidirectional (Bidirectional (None, 41, 256)           224256    \n",
      "_________________________________________________________________\n",
      "dense_12 (Dense)             (None, 41, 256)           65792     \n",
      "_________________________________________________________________\n",
      "time_distributed (TimeDistri (None, 41, 1)             257       \n",
      "=================================================================\n",
      "Total params: 1,190,305\n",
      "Trainable params: 1,190,305\n",
      "Non-trainable params: 0\n",
      "_________________________________________________________________\n"
     ]
    }
   ],
   "source": [
    "LSTM_B_model = tf.keras.Sequential()\n",
    "LSTM_B_model.add(tf.keras.layers.Embedding(vocab_size,\n",
    "                                   word_vector_dim,\n",
    "                                   embeddings_initializer=Constant(embedding_metrix),  # 복사한 임베딩을 여기서 활용\n",
    "                                   input_length=maxlen,\n",
    "                                   trainable=True))\n",
    "LSTM_B_model.add(tf.keras.layers.Bidirectional(tf.keras.layers.LSTM(128, return_sequences=True)))  # 가장 널리 쓰이는 RNN인 LSTM 레이어를 사용하였습니다. 이때 LSTM state 벡터의 차원수는 8로 하였습니다. (변경가능)\n",
    "LSTM_B_model.add(tf.keras.layers.Dense(256, activation='relu', kernel_initializer='he_normal'))\n",
    "LSTM_B_model.add(tf.keras.layers.TimeDistributed(tf.keras.layers.Dense(1, activation='sigmoid')))  # 최종 출력은 긍정/부정을 나타내는 1dim 입니다.\n",
    "LSTM_B_model.summary()"
   ]
  },
  {
   "cell_type": "code",
   "execution_count": 42,
   "id": "5aa26b2f",
   "metadata": {},
   "outputs": [
    {
     "name": "stdout",
     "output_type": "stream",
     "text": [
      "Epoch 1/5\n",
      "532/532 [==============================] - 10s 15ms/step - loss: 0.4958 - accuracy: 0.7393 - val_loss: 0.3583 - val_accuracy: 0.8432\n",
      "Epoch 2/5\n",
      "532/532 [==============================] - 7s 14ms/step - loss: 0.3444 - accuracy: 0.8511 - val_loss: 0.3342 - val_accuracy: 0.8519\n",
      "Epoch 3/5\n",
      "532/532 [==============================] - 7s 14ms/step - loss: 0.3124 - accuracy: 0.8667 - val_loss: 0.3233 - val_accuracy: 0.8584\n",
      "Epoch 4/5\n",
      "532/532 [==============================] - 7s 14ms/step - loss: 0.2881 - accuracy: 0.8787 - val_loss: 0.3264 - val_accuracy: 0.8573\n",
      "Epoch 5/5\n",
      "532/532 [==============================] - 7s 14ms/step - loss: 0.2712 - accuracy: 0.8859 - val_loss: 0.3199 - val_accuracy: 0.8586\n"
     ]
    }
   ],
   "source": [
    "LSTM_B_model.compile(optimizer='adam',\n",
    "             loss='binary_crossentropy',\n",
    "             metrics=['accuracy'])\n",
    "\n",
    "epochs=5\n",
    "\n",
    "LSTM_B_history = LSTM_B_model.fit(partial_X_train_post,\n",
    "                   partial_y_train,\n",
    "                   epochs=epochs,\n",
    "                   batch_size=256,\n",
    "                   validation_data=(X_val_post, y_val),\n",
    "                   verbose=1)"
   ]
  },
  {
   "cell_type": "code",
   "execution_count": 43,
   "id": "b8a19ceb",
   "metadata": {},
   "outputs": [
    {
     "name": "stdout",
     "output_type": "stream",
     "text": [
      "1537/1537 - 5s - loss: 0.3272 - accuracy: 0.8553\n",
      "[0.3271730840206146, 0.8553208112716675]\n"
     ]
    }
   ],
   "source": [
    "results = LSTM_B_model.evaluate(X_test_post, y_test, verbose=2)\n",
    "\n",
    "print(results)"
   ]
  },
  {
   "cell_type": "code",
   "execution_count": 44,
   "id": "06c1959a",
   "metadata": {},
   "outputs": [
    {
     "data": {
      "image/png": "[encoded data removed]",
      "text/plain": [
       "<Figure size 432x288 with 2 Axes>"
      ]
     },
     "metadata": {
      "needs_background": "light"
     },
     "output_type": "display_data"
    }
   ],
   "source": [
    "history_chart(LSTM_B_history)"
   ]
  },
  {
   "cell_type": "markdown",
   "id": "151ed178",
   "metadata": {},
   "source": [
    "LSTM에 Bidirectional을 추가해봤는데 좀 더 양호하네요."
   ]
  },
  {
   "cell_type": "markdown",
   "id": "34e99b43",
   "metadata": {},
   "source": [
    "## BiLSTM with Attention mechanism"
   ]
  },
  {
   "cell_type": "code",
   "execution_count": 45,
   "id": "4e810068",
   "metadata": {},
   "outputs": [],
   "source": [
    "class BahdanauAttention(tf.keras.Model):\n",
    "  def __init__(self, units):\n",
    "    super(BahdanauAttention, self).__init__()\n",
    "    self.W1 = tf.keras.layers.Dense(units)\n",
    "    self.W2 = tf.keras.layers.Dense(units)\n",
    "    self.V = tf.keras.layers.Dense(1)\n",
    "\n",
    "  def call(self, values, query): # 단, key와 value는 같음\n",
    "    # query shape == (batch_size, hidden size)\n",
    "    # hidden_with_time_axis shape == (batch_size, 1, hidden size)\n",
    "    # score 계산을 위해 뒤에서 할 덧셈을 위해서 차원을 변경해줍니다.\n",
    "    hidden_with_time_axis = tf.expand_dims(query, 1)\n",
    "\n",
    "    # score shape == (batch_size, max_length, 1)\n",
    "    # we get 1 at the last axis because we are applying score to self.V\n",
    "    # the shape of the tensor before applying self.V is (batch_size, max_length, units)\n",
    "    score = self.V(tf.nn.tanh(\n",
    "        self.W1(values) + self.W2(hidden_with_time_axis)))\n",
    "\n",
    "    # attention_weights shape == (batch_size, max_length, 1)\n",
    "    attention_weights = tf.nn.softmax(score, axis=1)\n",
    "\n",
    "    # context_vector shape after sum == (batch_size, hidden_size)\n",
    "    context_vector = attention_weights * values\n",
    "    context_vector = tf.reduce_sum(context_vector, axis=1)\n",
    "\n",
    "    return context_vector, attention_weights"
   ]
  },
  {
   "cell_type": "code",
   "execution_count": 46,
   "id": "0167acd2",
   "metadata": {},
   "outputs": [],
   "source": [
    "sequence_input = tf.keras.Input(shape=(maxlen,), dtype='int32')\n",
    "embedded_sequences = tf.keras.layers.Embedding(vocab_size, 128, input_length=maxlen, mask_zero = True)(sequence_input)\n",
    "lstm = tf.keras.layers.Bidirectional(tf.keras.layers.LSTM(64, dropout=0.5, return_sequences = True))(embedded_sequences)\n",
    "\n",
    "lstm, forward_h, forward_c, backward_h, backward_c = tf.keras.layers.Bidirectional(tf.keras.layers.LSTM(64, return_sequences=True, return_state=True))(lstm)"
   ]
  },
  {
   "cell_type": "code",
   "execution_count": 47,
   "id": "c2d668cf",
   "metadata": {},
   "outputs": [
    {
     "name": "stdout",
     "output_type": "stream",
     "text": [
      "(None, 41, 128) (None, 64) (None, 64) (None, 64) (None, 64)\n"
     ]
    }
   ],
   "source": [
    "print(lstm.shape, forward_h.shape, forward_c.shape, backward_h.shape, backward_c.shape)"
   ]
  },
  {
   "cell_type": "code",
   "execution_count": 48,
   "id": "6d956350",
   "metadata": {},
   "outputs": [],
   "source": [
    "state_h = tf.keras.layers.Concatenate()([forward_h, backward_h]) # 은닉 상태\n",
    "state_c = tf.keras.layers.Concatenate()([forward_c, backward_c]) # 셀 상태\n",
    "\n",
    "attention = BahdanauAttention(64) # 가중치 크기 정의\n",
    "context_vector, attention_weights = attention(lstm, state_h)\n",
    "\n",
    "dense1 = tf.keras.layers.Dense(20, activation=\"relu\", kernel_initializer='he_normal')(context_vector)\n",
    "#dropout = tf.keras.layers.Dropout(0.3)(dense1)\n",
    "output = tf.keras.layers.Dense(1, activation=\"sigmoid\")(dense1)\n",
    "model_a = tf.keras.Model(inputs=sequence_input, outputs=output)"
   ]
  },
  {
   "cell_type": "code",
   "execution_count": 49,
   "id": "b3227bd8",
   "metadata": {},
   "outputs": [
    {
     "name": "stdout",
     "output_type": "stream",
     "text": [
      "Epoch 1/3\n",
      "532/532 [==============================] - 31s 35ms/step - loss: 0.3959 - accuracy: 0.8197 - val_loss: 0.3336 - val_accuracy: 0.8533\n",
      "Epoch 2/3\n",
      "532/532 [==============================] - 14s 27ms/step - loss: 0.3188 - accuracy: 0.8618 - val_loss: 0.3225 - val_accuracy: 0.8589\n",
      "Epoch 3/3\n",
      "532/532 [==============================] - 15s 28ms/step - loss: 0.2856 - accuracy: 0.8774 - val_loss: 0.3186 - val_accuracy: 0.8623\n"
     ]
    }
   ],
   "source": [
    "model_a.compile(loss='binary_crossentropy', optimizer='adam', metrics=['accuracy'])\n",
    "\n",
    "history_a = model_a.fit(partial_X_train_post,\n",
    "                   partial_y_train, epochs=3, batch_size = 256, validation_data=(X_val_post, y_val), verbose=1)"
   ]
  },
  {
   "cell_type": "code",
   "execution_count": 50,
   "id": "190f2e2e",
   "metadata": {},
   "outputs": [
    {
     "name": "stdout",
     "output_type": "stream",
     "text": [
      "1537/1537 [==============================] - 12s 8ms/step - loss: 0.3289 - accuracy: 0.8578\n",
      "\n",
      " 테스트 정확도: 0.8578\n"
     ]
    }
   ],
   "source": [
    "print(\"\\n 테스트 정확도: %.4f\" % (model_a.evaluate(X_test_post, y_test)[1]))"
   ]
  },
  {
   "cell_type": "code",
   "execution_count": 51,
   "id": "99644464",
   "metadata": {},
   "outputs": [
    {
     "data": {
      "image/png": "[encoded data removed]",
      "text/plain": [
       "<Figure size 432x288 with 2 Axes>"
      ]
     },
     "metadata": {
      "needs_background": "light"
     },
     "output_type": "display_data"
    }
   ],
   "source": [
    "history_chart(history_a)"
   ]
  },
  {
   "cell_type": "markdown",
   "id": "bf4ca12c",
   "metadata": {},
   "source": [
    "# 회고"
   ]
  },
  {
   "cell_type": "markdown",
   "id": "b4f206f0",
   "metadata": {},
   "source": [
    "* CNN, 단일 GlobalMaxPooling1D를 사용할때는 목표치인 85%에 아슬아슬한데, LSTM은 약 1% 성능이 좋아서 높아서 85%를 넘을 수 있었습니다.\n",
    "* BiLSTM과 Attention mechanism을 같이 사용하는 방법을 시도해 봤습니다. 해당 방법은 RNN의 마지막 은닉 상태까지 도달하면서 소실된 정보들을  다시 참고하기 위해 RNN의 모든 은닉 상태들을 다시 참고해서 정확도를 높이는 방법입니다.\n",
    "    * 해당 방법으로 시도했을 때, BiLSTM보다 조금 더 좋은 성능을 보여주고 있습니다.\n",
    "\n",
    "### 참고자료\n",
    "\n",
    "* BiLSTM with Attention mechanism  \n",
    "https://wikidocs.net/22893  \n",
    "https://wikidocs.net/73161  \n",
    "https://wikidocs.net/48920"
   ]
  }
 ],
 "metadata": {
  "kernelspec": {
   "display_name": "Python 3 (ipykernel)",
   "language": "python",
   "name": "python3"
  },
  "language_info": {
   "codemirror_mode": {
    "name": "ipython",
    "version": 3
   },
   "file_extension": ".py",
   "mimetype": "text/x-python",
   "name": "python",
   "nbconvert_exporter": "python",
   "pygments_lexer": "ipython3",
   "version": "3.9.7"
  }
 },
 "nbformat": 4,
 "nbformat_minor": 5
}
