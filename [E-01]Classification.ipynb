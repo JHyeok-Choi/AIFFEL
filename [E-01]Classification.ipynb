{
 "cells": [
  {
   "cell_type": "markdown",
   "id": "52d7d1a0",
   "metadata": {},
   "source": [
    "# 1-11. 프로젝트 (1) load_digits: 손글씨를 분류해 봅시다"
   ]
  },
  {
   "cell_type": "markdown",
   "id": "0887b166",
   "metadata": {},
   "source": [
    "라이브러리 버전 확인하기."
   ]
  },
  {
   "cell_type": "code",
   "execution_count": 1,
   "id": "21943dae",
   "metadata": {},
   "outputs": [
    {
     "name": "stdout",
     "output_type": "stream",
     "text": [
      "0.24.2\n"
     ]
    }
   ],
   "source": [
    "import sklearn\n",
    "\n",
    "print(sklearn.__version__)"
   ]
  },
  {
   "cell_type": "markdown",
   "id": "b26a0f75",
   "metadata": {},
   "source": [
    "## (1) 필요한 모듈 import하기"
   ]
  },
  {
   "cell_type": "code",
   "execution_count": 2,
   "id": "963f261d",
   "metadata": {},
   "outputs": [],
   "source": [
    "from sklearn.datasets import load_digits\n",
    "from sklearn.model_selection import train_test_split\n",
    "from sklearn.metrics import classification_report\n",
    "import numpy as np\n",
    "import warnings\n",
    "warnings.filterwarnings('ignore')"
   ]
  },
  {
   "cell_type": "markdown",
   "id": "e712f9e0",
   "metadata": {},
   "source": [
    "## (2) 데이터 준비"
   ]
  },
  {
   "cell_type": "code",
   "execution_count": 3,
   "id": "80ef4e32",
   "metadata": {},
   "outputs": [],
   "source": [
    "# load_digits 메서드 사용 및 지정\n",
    "digits_dataset = load_digits()"
   ]
  },
  {
   "cell_type": "code",
   "execution_count": 4,
   "id": "050434ba",
   "metadata": {},
   "outputs": [
    {
     "data": {
      "text/plain": [
       "dict_keys(['data', 'target', 'frame', 'feature_names', 'target_names', 'images', 'DESCR'])"
      ]
     },
     "execution_count": 4,
     "metadata": {},
     "output_type": "execute_result"
    }
   ],
   "source": [
    "# digits의 데이터 종류\n",
    "digits_dataset.keys()"
   ]
  },
  {
   "cell_type": "code",
   "execution_count": 5,
   "id": "ae130b6d",
   "metadata": {},
   "outputs": [
    {
     "data": {
      "text/plain": [
       "array([[ 0.,  0.,  5., ...,  0.,  0.,  0.],\n",
       "       [ 0.,  0.,  0., ..., 10.,  0.,  0.],\n",
       "       [ 0.,  0.,  0., ..., 16.,  9.,  0.],\n",
       "       ...,\n",
       "       [ 0.,  0.,  1., ...,  6.,  0.,  0.],\n",
       "       [ 0.,  0.,  2., ..., 12.,  0.,  0.],\n",
       "       [ 0.,  0., 10., ..., 12.,  1.,  0.]])"
      ]
     },
     "execution_count": 5,
     "metadata": {},
     "output_type": "execute_result"
    }
   ],
   "source": [
    "# digits 의 data 형태\n",
    "digits_dataset.data"
   ]
  },
  {
   "cell_type": "code",
   "execution_count": 6,
   "id": "38f1b30f",
   "metadata": {},
   "outputs": [
    {
     "data": {
      "text/plain": [
       "numpy.ndarray"
      ]
     },
     "execution_count": 6,
     "metadata": {},
     "output_type": "execute_result"
    }
   ],
   "source": [
    "type(digits_dataset.data)"
   ]
  },
  {
   "cell_type": "code",
   "execution_count": 7,
   "id": "e9f81fea",
   "metadata": {},
   "outputs": [
    {
     "data": {
      "text/plain": [
       "(1797, 64)"
      ]
     },
     "execution_count": 7,
     "metadata": {},
     "output_type": "execute_result"
    }
   ],
   "source": [
    "# digits의 데이터는 64개의 numpy.ndarray 형태 자료가 1797개 있음을 확인.\n",
    "digits_dataset.data.shape"
   ]
  },
  {
   "cell_type": "code",
   "execution_count": 8,
   "id": "930452bd",
   "metadata": {},
   "outputs": [
    {
     "data": {
      "text/plain": [
       "list"
      ]
     },
     "execution_count": 8,
     "metadata": {},
     "output_type": "execute_result"
    }
   ],
   "source": [
    "type(digits_dataset.feature_names)"
   ]
  },
  {
   "cell_type": "code",
   "execution_count": 9,
   "id": "73721ebb",
   "metadata": {},
   "outputs": [
    {
     "data": {
      "text/plain": [
       "['pixel_0_0',\n",
       " 'pixel_0_1',\n",
       " 'pixel_0_2',\n",
       " 'pixel_0_3',\n",
       " 'pixel_0_4',\n",
       " 'pixel_0_5',\n",
       " 'pixel_0_6',\n",
       " 'pixel_0_7',\n",
       " 'pixel_1_0',\n",
       " 'pixel_1_1',\n",
       " 'pixel_1_2',\n",
       " 'pixel_1_3',\n",
       " 'pixel_1_4',\n",
       " 'pixel_1_5',\n",
       " 'pixel_1_6',\n",
       " 'pixel_1_7',\n",
       " 'pixel_2_0',\n",
       " 'pixel_2_1',\n",
       " 'pixel_2_2',\n",
       " 'pixel_2_3',\n",
       " 'pixel_2_4',\n",
       " 'pixel_2_5',\n",
       " 'pixel_2_6',\n",
       " 'pixel_2_7',\n",
       " 'pixel_3_0',\n",
       " 'pixel_3_1',\n",
       " 'pixel_3_2',\n",
       " 'pixel_3_3',\n",
       " 'pixel_3_4',\n",
       " 'pixel_3_5',\n",
       " 'pixel_3_6',\n",
       " 'pixel_3_7',\n",
       " 'pixel_4_0',\n",
       " 'pixel_4_1',\n",
       " 'pixel_4_2',\n",
       " 'pixel_4_3',\n",
       " 'pixel_4_4',\n",
       " 'pixel_4_5',\n",
       " 'pixel_4_6',\n",
       " 'pixel_4_7',\n",
       " 'pixel_5_0',\n",
       " 'pixel_5_1',\n",
       " 'pixel_5_2',\n",
       " 'pixel_5_3',\n",
       " 'pixel_5_4',\n",
       " 'pixel_5_5',\n",
       " 'pixel_5_6',\n",
       " 'pixel_5_7',\n",
       " 'pixel_6_0',\n",
       " 'pixel_6_1',\n",
       " 'pixel_6_2',\n",
       " 'pixel_6_3',\n",
       " 'pixel_6_4',\n",
       " 'pixel_6_5',\n",
       " 'pixel_6_6',\n",
       " 'pixel_6_7',\n",
       " 'pixel_7_0',\n",
       " 'pixel_7_1',\n",
       " 'pixel_7_2',\n",
       " 'pixel_7_3',\n",
       " 'pixel_7_4',\n",
       " 'pixel_7_5',\n",
       " 'pixel_7_6',\n",
       " 'pixel_7_7']"
      ]
     },
     "execution_count": 9,
     "metadata": {},
     "output_type": "execute_result"
    }
   ],
   "source": [
    "digits_dataset.feature_names"
   ]
  },
  {
   "cell_type": "code",
   "execution_count": 10,
   "id": "fa541353",
   "metadata": {},
   "outputs": [
    {
     "data": {
      "text/plain": [
       "array([0, 1, 2, ..., 8, 9, 8])"
      ]
     },
     "execution_count": 10,
     "metadata": {},
     "output_type": "execute_result"
    }
   ],
   "source": [
    "digits_dataset.target"
   ]
  },
  {
   "cell_type": "code",
   "execution_count": 11,
   "id": "8628aa30",
   "metadata": {},
   "outputs": [
    {
     "data": {
      "text/plain": [
       "(1797,)"
      ]
     },
     "execution_count": 11,
     "metadata": {},
     "output_type": "execute_result"
    }
   ],
   "source": [
    "digits_dataset.target.shape"
   ]
  },
  {
   "cell_type": "code",
   "execution_count": 12,
   "id": "390a73a1",
   "metadata": {},
   "outputs": [
    {
     "data": {
      "text/plain": [
       "array([0, 1, 2, 3, 4, 5, 6, 7, 8, 9])"
      ]
     },
     "execution_count": 12,
     "metadata": {},
     "output_type": "execute_result"
    }
   ],
   "source": [
    "# digits의 target_names 는 10가지\n",
    "digits_dataset.target_names"
   ]
  },
  {
   "cell_type": "markdown",
   "id": "00d0b128",
   "metadata": {},
   "source": [
    "## (3) 데이터 이해하기"
   ]
  },
  {
   "cell_type": "code",
   "execution_count": 13,
   "id": "f29a4c18",
   "metadata": {},
   "outputs": [],
   "source": [
    "# Feature Data 지정하기\n",
    "digits_data = digits_dataset.data"
   ]
  },
  {
   "cell_type": "code",
   "execution_count": 14,
   "id": "04f22bba",
   "metadata": {},
   "outputs": [
    {
     "data": {
      "text/plain": [
       "(1797, 64)"
      ]
     },
     "execution_count": 14,
     "metadata": {},
     "output_type": "execute_result"
    }
   ],
   "source": [
    "digits_data.shape\n",
    "# digits의 데이터는 손글씨 이미지 데이터이므로 array 64 형태의 픽셀값 이 저장."
   ]
  },
  {
   "cell_type": "code",
   "execution_count": 15,
   "id": "92467ffb",
   "metadata": {},
   "outputs": [
    {
     "data": {
      "text/plain": [
       "numpy.ndarray"
      ]
     },
     "execution_count": 15,
     "metadata": {},
     "output_type": "execute_result"
    }
   ],
   "source": [
    "type(digits_data)"
   ]
  },
  {
   "cell_type": "code",
   "execution_count": 16,
   "id": "ff362770",
   "metadata": {},
   "outputs": [
    {
     "data": {
      "text/plain": [
       "<function matplotlib.pyplot.show(close=None, block=None)>"
      ]
     },
     "execution_count": 16,
     "metadata": {},
     "output_type": "execute_result"
    },
    {
     "data": {
      "image/png": "[encoded data removed]",
      "text/plain": [
       "<Figure size 432x288 with 1 Axes>"
      ]
     },
     "metadata": {
      "needs_background": "light"
     },
     "output_type": "display_data"
    }
   ],
   "source": [
    "import matplotlib.pyplot as plt\n",
    "%matplotlib inline\n",
    "\n",
    "plt.imshow(digits_data[0].reshape(8, 8), cmap='gray')\n",
    "plt.axis('off')\n",
    "plt.show"
   ]
  },
  {
   "cell_type": "code",
   "execution_count": 17,
   "id": "700d9102",
   "metadata": {},
   "outputs": [
    {
     "data": {
      "image/png": "[encoded data removed]",
      "text/plain": [
       "<Figure size 432x288 with 10 Axes>"
      ]
     },
     "metadata": {
      "needs_background": "light"
     },
     "output_type": "display_data"
    }
   ],
   "source": [
    "for i in range(10):\n",
    "    # 10개의 이미지를 2행 5열로 표시\n",
    "    plt.subplot(2, 5, i+1)\n",
    "    # plt.imshow()는 (m,n) 형태의 데이터를 입력으로 받기 때문에 reshape로 형태를 바꿔줘야 함.\n",
    "    # 데이터 셋에 64개의 데이터가 일렬로 늘어져있으니 (8,8) 형태로 변형시켜줘야 함.\n",
    "    plt.imshow(digits_data[i].reshape(8, 8), cmap='gray')\n",
    "    plt.axis('off')\n",
    "plt.show()"
   ]
  },
  {
   "cell_type": "code",
   "execution_count": 18,
   "id": "920525f8",
   "metadata": {},
   "outputs": [],
   "source": [
    "# label Data 지정하기\n",
    "digits_label = digits_dataset.target"
   ]
  },
  {
   "cell_type": "code",
   "execution_count": 19,
   "id": "d93c8550",
   "metadata": {},
   "outputs": [
    {
     "data": {
      "text/plain": [
       "(1797,)"
      ]
     },
     "execution_count": 19,
     "metadata": {},
     "output_type": "execute_result"
    }
   ],
   "source": [
    "digits_label.shape\n",
    "# digits label 형태"
   ]
  },
  {
   "cell_type": "code",
   "execution_count": 20,
   "id": "dd3aac8e",
   "metadata": {},
   "outputs": [
    {
     "data": {
      "text/plain": [
       "array([0, 1, 2, 3, 4, 5, 6, 7, 8, 9])"
      ]
     },
     "execution_count": 20,
     "metadata": {},
     "output_type": "execute_result"
    }
   ],
   "source": [
    "# Target Names 출력해 보기\n",
    "digits_dataset.target_names\n",
    "# digits label의 분류"
   ]
  },
  {
   "cell_type": "code",
   "execution_count": 21,
   "id": "dde9506b",
   "metadata": {},
   "outputs": [
    {
     "name": "stdout",
     "output_type": "stream",
     "text": [
      "0 : 178\n",
      "1 : 182\n",
      "2 : 177\n",
      "3 : 183\n",
      "4 : 181\n",
      "5 : 182\n",
      "6 : 181\n",
      "7 : 179\n",
      "8 : 174\n",
      "9 : 180\n"
     ]
    }
   ],
   "source": [
    "for i in range(10):\n",
    "    print(f'{i} :', len(digits_label[digits_label == i]))\n",
    "    \n",
    "# 각 target_names마다 데이터가 올바르게 분포해있음을 확인할 수 있음."
   ]
  },
  {
   "cell_type": "code",
   "execution_count": 22,
   "id": "a86c8a3f",
   "metadata": {},
   "outputs": [
    {
     "name": "stdout",
     "output_type": "stream",
     "text": [
      ".. _digits_dataset:\n",
      "\n",
      "Optical recognition of handwritten digits dataset\n",
      "--------------------------------------------------\n",
      "\n",
      "**Data Set Characteristics:**\n",
      "\n",
      "    :Number of Instances: 1797\n",
      "    :Number of Attributes: 64\n",
      "    :Attribute Information: 8x8 image of integer pixels in the range 0..16.\n",
      "    :Missing Attribute Values: None\n",
      "    :Creator: E. Alpaydin (alpaydin '@' boun.edu.tr)\n",
      "    :Date: July; 1998\n",
      "\n",
      "This is a copy of the test set of the UCI ML hand-written digits datasets\n",
      "https://archive.ics.uci.edu/ml/datasets/Optical+Recognition+of+Handwritten+Digits\n",
      "\n",
      "The data set contains images of hand-written digits: 10 classes where\n",
      "each class refers to a digit.\n",
      "\n",
      "Preprocessing programs made available by NIST were used to extract\n",
      "normalized bitmaps of handwritten digits from a preprinted form. From a\n",
      "total of 43 people, 30 contributed to the training set and different 13\n",
      "to the test set. 32x32 bitmaps are divided into nonoverlapping blocks of\n",
      "4x4 and the number of on pixels are counted in each block. This generates\n",
      "an input matrix of 8x8 where each element is an integer in the range\n",
      "0..16. This reduces dimensionality and gives invariance to small\n",
      "distortions.\n",
      "\n",
      "For info on NIST preprocessing routines, see M. D. Garris, J. L. Blue, G.\n",
      "T. Candela, D. L. Dimmick, J. Geist, P. J. Grother, S. A. Janet, and C.\n",
      "L. Wilson, NIST Form-Based Handprint Recognition System, NISTIR 5469,\n",
      "1994.\n",
      "\n",
      ".. topic:: References\n",
      "\n",
      "  - C. Kaynak (1995) Methods of Combining Multiple Classifiers and Their\n",
      "    Applications to Handwritten Digit Recognition, MSc Thesis, Institute of\n",
      "    Graduate Studies in Science and Engineering, Bogazici University.\n",
      "  - E. Alpaydin, C. Kaynak (1998) Cascading Classifiers, Kybernetika.\n",
      "  - Ken Tang and Ponnuthurai N. Suganthan and Xi Yao and A. Kai Qin.\n",
      "    Linear dimensionalityreduction using relevance weighted LDA. School of\n",
      "    Electrical and Electronic Engineering Nanyang Technological University.\n",
      "    2005.\n",
      "  - Claudio Gentile. A New Approximate Maximal Margin Classification\n",
      "    Algorithm. NIPS. 2000.\n",
      "\n"
     ]
    }
   ],
   "source": [
    "# 데이터 Describe 해 보기\n",
    "print(digits_dataset.DESCR)\n",
    "# digits 의 데이터 셋 설명문."
   ]
  },
  {
   "cell_type": "markdown",
   "id": "b2773544",
   "metadata": {},
   "source": [
    "## (4) train, test 데이터 분리"
   ]
  },
  {
   "cell_type": "code",
   "execution_count": 23,
   "id": "645ba026",
   "metadata": {},
   "outputs": [],
   "source": [
    "# 나눠야 할 데이터 dgits_data, 라벨 digits_label, data와 label을 각각 train:test = 7.5:2.5 비율로 나눠서 저장.\n",
    "X_train, X_test, y_train, y_test = train_test_split(digits_data, digits_label, random_state=0, stratify=digits_label)"
   ]
  },
  {
   "cell_type": "code",
   "execution_count": 24,
   "id": "8e15404c",
   "metadata": {},
   "outputs": [
    {
     "name": "stdout",
     "output_type": "stream",
     "text": [
      "1347 450 1347 450\n"
     ]
    }
   ],
   "source": [
    "# 7.5:2.5로 잘 나뉘어져 있음을 확인.\n",
    "print(len(X_train), len(X_test), len(y_train), len(y_test))"
   ]
  },
  {
   "cell_type": "code",
   "execution_count": 25,
   "id": "7d1641b8",
   "metadata": {},
   "outputs": [
    {
     "name": "stdout",
     "output_type": "stream",
     "text": [
      "-----train_target-----\n",
      "0: 133\n",
      "1: 136\n",
      "2: 133\n",
      "3: 137\n",
      "4: 136\n",
      "5: 136\n",
      "6: 136\n",
      "7: 134\n",
      "8: 131\n",
      "9: 135\n",
      "-----test_target-----\n",
      "0: 45\n",
      "1: 46\n",
      "2: 44\n",
      "3: 46\n",
      "4: 45\n",
      "5: 46\n",
      "6: 45\n",
      "7: 45\n",
      "8: 43\n",
      "9: 45\n"
     ]
    }
   ],
   "source": [
    "label_name, count = np.unique(y_train, return_counts=True)\n",
    "print('-----train_target-----')\n",
    "for i in label_name:\n",
    "    print(f'{label_name[i]}: {count[i]}')\n",
    "label_name, count = np.unique(y_test, return_counts=True)\n",
    "print('-----test_target-----')\n",
    "for i in label_name:\n",
    "    print(f'{label_name[i]}: {count[i]}')"
   ]
  },
  {
   "cell_type": "markdown",
   "id": "7238aff3",
   "metadata": {},
   "source": [
    "## (5) 다양한 모델로 학습시켜보기"
   ]
  },
  {
   "cell_type": "code",
   "execution_count": 26,
   "id": "5f40fe65",
   "metadata": {},
   "outputs": [
    {
     "name": "stdout",
     "output_type": "stream",
     "text": [
      "              precision    recall  f1-score   support\n",
      "\n",
      "           0       0.93      0.93      0.93        45\n",
      "           1       0.93      0.80      0.86        46\n",
      "           2       0.89      0.89      0.89        44\n",
      "           3       0.75      0.83      0.78        46\n",
      "           4       0.82      0.82      0.82        45\n",
      "           5       0.85      0.87      0.86        46\n",
      "           6       0.95      0.91      0.93        45\n",
      "           7       0.84      0.91      0.87        45\n",
      "           8       0.76      0.81      0.79        43\n",
      "           9       0.88      0.78      0.82        45\n",
      "\n",
      "    accuracy                           0.86       450\n",
      "   macro avg       0.86      0.86      0.86       450\n",
      "weighted avg       0.86      0.86      0.86       450\n",
      "\n"
     ]
    }
   ],
   "source": [
    "# Decision Tree 사용해 보기\n",
    "from sklearn.tree import DecisionTreeClassifier\n",
    "\n",
    "decision_tree = DecisionTreeClassifier(random_state=0)\n",
    "decision_tree.fit(X_train, y_train)\n",
    "y_pred = decision_tree.predict(X_test)\n",
    "\n",
    "print(classification_report(y_test, y_pred))"
   ]
  },
  {
   "cell_type": "markdown",
   "id": "96cb96d5",
   "metadata": {},
   "source": [
    "* 총 10개의 target 중 1,2,3,9번 4개에 해당되는 정확도가 낮아서 해당 모델은 digits 데이터 셋에 적합하지 않다고 판단합니다."
   ]
  },
  {
   "cell_type": "code",
   "execution_count": 27,
   "id": "9dc51c3d",
   "metadata": {},
   "outputs": [
    {
     "name": "stdout",
     "output_type": "stream",
     "text": [
      "              precision    recall  f1-score   support\n",
      "\n",
      "           0       1.00      0.98      0.99        45\n",
      "           1       0.96      1.00      0.98        46\n",
      "           2       1.00      0.98      0.99        44\n",
      "           3       0.98      0.96      0.97        46\n",
      "           4       0.98      0.98      0.98        45\n",
      "           5       1.00      0.98      0.99        46\n",
      "           6       1.00      1.00      1.00        45\n",
      "           7       0.98      1.00      0.99        45\n",
      "           8       0.93      0.98      0.95        43\n",
      "           9       1.00      0.98      0.99        45\n",
      "\n",
      "    accuracy                           0.98       450\n",
      "   macro avg       0.98      0.98      0.98       450\n",
      "weighted avg       0.98      0.98      0.98       450\n",
      "\n"
     ]
    }
   ],
   "source": [
    "# Random Forest 사용해 보기\n",
    "from sklearn.ensemble import RandomForestClassifier\n",
    "\n",
    "random_forest = RandomForestClassifier(random_state=0)\n",
    "random_forest.fit(X_train, y_train)\n",
    "y_pred = random_forest.predict(X_test)\n",
    "\n",
    "print(classification_report(y_test, y_pred))"
   ]
  },
  {
   "cell_type": "markdown",
   "id": "9db9279e",
   "metadata": {},
   "source": [
    "* 모든 target에 고르게 정확도가 높으니 digits 데이터 셋에 적합한 모델이라고 판단됩니다."
   ]
  },
  {
   "cell_type": "code",
   "execution_count": 28,
   "id": "f29b198a",
   "metadata": {},
   "outputs": [
    {
     "name": "stdout",
     "output_type": "stream",
     "text": [
      "              precision    recall  f1-score   support\n",
      "\n",
      "           0       1.00      1.00      1.00        45\n",
      "           1       0.96      1.00      0.98        46\n",
      "           2       1.00      1.00      1.00        44\n",
      "           3       1.00      0.98      0.99        46\n",
      "           4       1.00      0.96      0.98        45\n",
      "           5       0.98      1.00      0.99        46\n",
      "           6       1.00      1.00      1.00        45\n",
      "           7       0.98      1.00      0.99        45\n",
      "           8       0.95      0.95      0.95        43\n",
      "           9       1.00      0.98      0.99        45\n",
      "\n",
      "    accuracy                           0.99       450\n",
      "   macro avg       0.99      0.99      0.99       450\n",
      "weighted avg       0.99      0.99      0.99       450\n",
      "\n"
     ]
    }
   ],
   "source": [
    "# SVM 사용해 보기\n",
    "from sklearn.svm import SVC\n",
    "\n",
    "svm_model = SVC(random_state=0)\n",
    "svm_model.fit(X_train, y_train)\n",
    "y_pred = svm_model.predict(X_test)\n",
    "\n",
    "print(classification_report(y_test, y_pred))"
   ]
  },
  {
   "cell_type": "markdown",
   "id": "8c1b8b4f",
   "metadata": {},
   "source": [
    "* 앞서 실행한 높은 정확도를 가진 Random Forest보다도 정확도가 더 양호하여 digits 데이터 셋에 매우 적합한 모델이라고 생각합니다.  \n",
    "* SVM의 일대다 이진 분류 알고리즘이 digits 데이터 셋의 다중 클래스 분류에 유용한 모델이라서 그런것일까 생각해 봅니다."
   ]
  },
  {
   "cell_type": "code",
   "execution_count": 29,
   "id": "ac5f4914",
   "metadata": {},
   "outputs": [
    {
     "name": "stdout",
     "output_type": "stream",
     "text": [
      "              precision    recall  f1-score   support\n",
      "\n",
      "           0       1.00      0.98      0.99        45\n",
      "           1       0.82      0.98      0.89        46\n",
      "           2       1.00      0.98      0.99        44\n",
      "           3       0.96      0.96      0.96        46\n",
      "           4       0.98      0.96      0.97        45\n",
      "           5       0.98      0.96      0.97        46\n",
      "           6       0.98      0.98      0.98        45\n",
      "           7       1.00      0.93      0.97        45\n",
      "           8       0.97      0.81      0.89        43\n",
      "           9       0.86      0.96      0.91        45\n",
      "\n",
      "    accuracy                           0.95       450\n",
      "   macro avg       0.95      0.95      0.95       450\n",
      "weighted avg       0.95      0.95      0.95       450\n",
      "\n"
     ]
    }
   ],
   "source": [
    "# SGD Classifier 사용해 보기\n",
    "from sklearn.linear_model import SGDClassifier\n",
    "\n",
    "sgd_model = SGDClassifier(random_state=0)\n",
    "sgd_model.fit(X_train, y_train)\n",
    "y_pred = sgd_model.predict(X_test)\n",
    "\n",
    "print(classification_report(y_test, y_pred))"
   ]
  },
  {
   "cell_type": "markdown",
   "id": "e1117ea2",
   "metadata": {},
   "source": [
    "* SGDClassifier 모델도 전체적으로 digits 데이터 셋에 준수한 모델 성능을 찾추고 있는것 같습니다."
   ]
  },
  {
   "cell_type": "code",
   "execution_count": 30,
   "id": "736cb3db",
   "metadata": {},
   "outputs": [
    {
     "name": "stdout",
     "output_type": "stream",
     "text": [
      "              precision    recall  f1-score   support\n",
      "\n",
      "           0       1.00      1.00      1.00        45\n",
      "           1       0.85      0.98      0.91        46\n",
      "           2       1.00      0.98      0.99        44\n",
      "           3       0.94      1.00      0.97        46\n",
      "           4       1.00      0.96      0.98        45\n",
      "           5       0.98      0.93      0.96        46\n",
      "           6       0.98      0.98      0.98        45\n",
      "           7       0.98      0.93      0.95        45\n",
      "           8       0.95      0.86      0.90        43\n",
      "           9       0.93      0.96      0.95        45\n",
      "\n",
      "    accuracy                           0.96       450\n",
      "   macro avg       0.96      0.96      0.96       450\n",
      "weighted avg       0.96      0.96      0.96       450\n",
      "\n"
     ]
    }
   ],
   "source": [
    "# Logistic Regression 사용해 보기\n",
    "from sklearn.linear_model import LogisticRegression\n",
    "\n",
    "logistic_regression = LogisticRegression(random_state=0)\n",
    "logistic_regression.fit(X_train, y_train)\n",
    "y_pred = logistic_regression.predict(X_test)\n",
    "\n",
    "print(classification_report(y_test, y_pred))"
   ]
  },
  {
   "cell_type": "markdown",
   "id": "c33d100d",
   "metadata": {},
   "source": [
    "* LogisticRegression 모델도 digits 데이터 셋에 대해서 양호한 성능을 보여주고 있습니다."
   ]
  },
  {
   "cell_type": "code",
   "execution_count": 31,
   "id": "a1e97ef1",
   "metadata": {},
   "outputs": [
    {
     "name": "stdout",
     "output_type": "stream",
     "text": [
      "DecisionTreeClassifier score: 0.86\n",
      "RandomForestClassifier score: 0.98\n",
      "SVM score: 0.99\n",
      "SGDClassifier score: 0.95\n",
      "LogisticRegression score: 0.96\n"
     ]
    }
   ],
   "source": [
    "# 5가지 모델의 accuracy_score 점수 모아서 표기. \n",
    "from sklearn.metrics import accuracy_score\n",
    "\n",
    "model_list = {'DecisionTreeClassifier' : DecisionTreeClassifier,\n",
    "              'RandomForestClassifier' : RandomForestClassifier,\n",
    "              'SVM' : SVC,\n",
    "              'SGDClassifier' : SGDClassifier,\n",
    "              'LogisticRegression' : LogisticRegression}\n",
    "\n",
    "for name, func in model_list.items():\n",
    "    model = func(random_state=0)\n",
    "    model.fit(X_train, y_train)\n",
    "    y_pred = model.predict(X_test)\n",
    "    \n",
    "    print(f'{name} score: {accuracy_score(y_test, y_pred):,.2f}' )"
   ]
  },
  {
   "cell_type": "markdown",
   "id": "acb2154e",
   "metadata": {},
   "source": [
    "## (6) 모델을 평가해 보기"
   ]
  },
  {
   "cell_type": "markdown",
   "id": "1865aed5",
   "metadata": {},
   "source": [
    "digits 데이터 셋은 주어진 숫자 이미지가 0부터 9까지의 10개의 숫자 중 해당하는 숫자와 같은지 측정하는 다중 분류 데이터 셋입니다.\n",
    "해당 데이터 셋을 봤을 때, label의 데이터가 해당 데이터의 분류에 균등하게 분포되어 있음을 확인할 수 있고, 제시되는 이미지의 숫자가 대응되는 숫자로 올바르게 인식되는지 맞추는 문제이므로,  \n",
    "평가지표로 accuracy가 적합할 것 같다고 판단했습니다."
   ]
  },
  {
   "cell_type": "markdown",
   "id": "8f8a7954",
   "metadata": {},
   "source": [
    "# 1-12. 프로젝트 (2) load_wine: 와인을 분류해 봅시다"
   ]
  },
  {
   "cell_type": "markdown",
   "id": "1e772529",
   "metadata": {},
   "source": [
    "## (1) 필요한 모듈 import 하기"
   ]
  },
  {
   "cell_type": "code",
   "execution_count": 32,
   "id": "2610037a",
   "metadata": {},
   "outputs": [],
   "source": [
    "from sklearn.datasets import load_wine\n",
    "from sklearn.model_selection import train_test_split\n",
    "from sklearn.metrics import classification_report\n",
    "import numpy as np"
   ]
  },
  {
   "cell_type": "markdown",
   "id": "c607e812",
   "metadata": {},
   "source": [
    "## (2) 데이터 준비"
   ]
  },
  {
   "cell_type": "code",
   "execution_count": 33,
   "id": "80771414",
   "metadata": {},
   "outputs": [
    {
     "data": {
      "text/plain": [
       "dict_keys(['data', 'target', 'frame', 'target_names', 'DESCR', 'feature_names'])"
      ]
     },
     "execution_count": 33,
     "metadata": {},
     "output_type": "execute_result"
    }
   ],
   "source": [
    "# load_wine 메서드를 사용합니다.\n",
    "wine = load_wine()\n",
    "\n",
    "wine.keys()"
   ]
  },
  {
   "cell_type": "markdown",
   "id": "e952b870",
   "metadata": {},
   "source": [
    "## (3) 데이터 이해하기"
   ]
  },
  {
   "cell_type": "code",
   "execution_count": 34,
   "id": "9b07dae9",
   "metadata": {},
   "outputs": [],
   "source": [
    "# Feature Data 지정하기\n",
    "wine_data = wine['data']"
   ]
  },
  {
   "cell_type": "code",
   "execution_count": 35,
   "id": "01ce243a",
   "metadata": {},
   "outputs": [],
   "source": [
    "# Label Data 지정하기\n",
    "wine_label = wine['target']"
   ]
  },
  {
   "cell_type": "code",
   "execution_count": 36,
   "id": "74419773",
   "metadata": {},
   "outputs": [
    {
     "data": {
      "text/plain": [
       "array(['class_0', 'class_1', 'class_2'], dtype='<U7')"
      ]
     },
     "execution_count": 36,
     "metadata": {},
     "output_type": "execute_result"
    }
   ],
   "source": [
    "# Target Names 출력해 보기\n",
    "wine['target_names']"
   ]
  },
  {
   "cell_type": "code",
   "execution_count": 37,
   "id": "fd0f0fae",
   "metadata": {
    "scrolled": false
   },
   "outputs": [
    {
     "name": "stdout",
     "output_type": "stream",
     "text": [
      ".. _wine_dataset:\n",
      "\n",
      "Wine recognition dataset\n",
      "------------------------\n",
      "\n",
      "**Data Set Characteristics:**\n",
      "\n",
      "    :Number of Instances: 178 (50 in each of three classes)\n",
      "    :Number of Attributes: 13 numeric, predictive attributes and the class\n",
      "    :Attribute Information:\n",
      " \t\t- Alcohol\n",
      " \t\t- Malic acid\n",
      " \t\t- Ash\n",
      "\t\t- Alcalinity of ash  \n",
      " \t\t- Magnesium\n",
      "\t\t- Total phenols\n",
      " \t\t- Flavanoids\n",
      " \t\t- Nonflavanoid phenols\n",
      " \t\t- Proanthocyanins\n",
      "\t\t- Color intensity\n",
      " \t\t- Hue\n",
      " \t\t- OD280/OD315 of diluted wines\n",
      " \t\t- Proline\n",
      "\n",
      "    - class:\n",
      "            - class_0\n",
      "            - class_1\n",
      "            - class_2\n",
      "\t\t\n",
      "    :Summary Statistics:\n",
      "    \n",
      "    ============================= ==== ===== ======= =====\n",
      "                                   Min   Max   Mean     SD\n",
      "    ============================= ==== ===== ======= =====\n",
      "    Alcohol:                      11.0  14.8    13.0   0.8\n",
      "    Malic Acid:                   0.74  5.80    2.34  1.12\n",
      "    Ash:                          1.36  3.23    2.36  0.27\n",
      "    Alcalinity of Ash:            10.6  30.0    19.5   3.3\n",
      "    Magnesium:                    70.0 162.0    99.7  14.3\n",
      "    Total Phenols:                0.98  3.88    2.29  0.63\n",
      "    Flavanoids:                   0.34  5.08    2.03  1.00\n",
      "    Nonflavanoid Phenols:         0.13  0.66    0.36  0.12\n",
      "    Proanthocyanins:              0.41  3.58    1.59  0.57\n",
      "    Colour Intensity:              1.3  13.0     5.1   2.3\n",
      "    Hue:                          0.48  1.71    0.96  0.23\n",
      "    OD280/OD315 of diluted wines: 1.27  4.00    2.61  0.71\n",
      "    Proline:                       278  1680     746   315\n",
      "    ============================= ==== ===== ======= =====\n",
      "\n",
      "    :Missing Attribute Values: None\n",
      "    :Class Distribution: class_0 (59), class_1 (71), class_2 (48)\n",
      "    :Creator: R.A. Fisher\n",
      "    :Donor: Michael Marshall (MARSHALL%PLU@io.arc.nasa.gov)\n",
      "    :Date: July, 1988\n",
      "\n",
      "This is a copy of UCI ML Wine recognition datasets.\n",
      "https://archive.ics.uci.edu/ml/machine-learning-databases/wine/wine.data\n",
      "\n",
      "The data is the results of a chemical analysis of wines grown in the same\n",
      "region in Italy by three different cultivators. There are thirteen different\n",
      "measurements taken for different constituents found in the three types of\n",
      "wine.\n",
      "\n",
      "Original Owners: \n",
      "\n",
      "Forina, M. et al, PARVUS - \n",
      "An Extendible Package for Data Exploration, Classification and Correlation. \n",
      "Institute of Pharmaceutical and Food Analysis and Technologies,\n",
      "Via Brigata Salerno, 16147 Genoa, Italy.\n",
      "\n",
      "Citation:\n",
      "\n",
      "Lichman, M. (2013). UCI Machine Learning Repository\n",
      "[https://archive.ics.uci.edu/ml]. Irvine, CA: University of California,\n",
      "School of Information and Computer Science. \n",
      "\n",
      ".. topic:: References\n",
      "\n",
      "  (1) S. Aeberhard, D. Coomans and O. de Vel, \n",
      "  Comparison of Classifiers in High Dimensional Settings, \n",
      "  Tech. Rep. no. 92-02, (1992), Dept. of Computer Science and Dept. of  \n",
      "  Mathematics and Statistics, James Cook University of North Queensland. \n",
      "  (Also submitted to Technometrics). \n",
      "\n",
      "  The data was used with many others for comparing various \n",
      "  classifiers. The classes are separable, though only RDA \n",
      "  has achieved 100% correct classification. \n",
      "  (RDA : 100%, QDA 99.4%, LDA 98.9%, 1NN 96.1% (z-transformed data)) \n",
      "  (All results using the leave-one-out technique) \n",
      "\n",
      "  (2) S. Aeberhard, D. Coomans and O. de Vel, \n",
      "  \"THE CLASSIFICATION PERFORMANCE OF RDA\" \n",
      "  Tech. Rep. no. 92-01, (1992), Dept. of Computer Science and Dept. of \n",
      "  Mathematics and Statistics, James Cook University of North Queensland. \n",
      "  (Also submitted to Journal of Chemometrics).\n",
      "\n"
     ]
    }
   ],
   "source": [
    "# 데이터 Describe 해 보기\n",
    "print(wine['DESCR'])"
   ]
  },
  {
   "cell_type": "code",
   "execution_count": 38,
   "id": "1cc7ec32",
   "metadata": {},
   "outputs": [
    {
     "name": "stdout",
     "output_type": "stream",
     "text": [
      "class_0: 59\n",
      "class_1: 71\n",
      "class_2: 48\n"
     ]
    }
   ],
   "source": [
    "# DESCR에 있는 내용처럼 각각 50개쯤 있음을 확인. - Number of Instances: 178 (50 in each of three classes)\n",
    "#                                       - Class Distribution: class_0 (59), class_1 (71), class_2 (48)\n",
    "for i, j in enumerate(wine.target_names):\n",
    "    print(f'{j}:' ,len(wine_label[wine_label == i]))"
   ]
  },
  {
   "cell_type": "code",
   "execution_count": 39,
   "id": "f8062bff",
   "metadata": {},
   "outputs": [
    {
     "name": "stdout",
     "output_type": "stream",
     "text": [
      "13\n",
      "['alcohol', 'malic_acid', 'ash', 'alcalinity_of_ash', 'magnesium', 'total_phenols', 'flavanoids', 'nonflavanoid_phenols', 'proanthocyanins', 'color_intensity', 'hue', 'od280/od315_of_diluted_wines', 'proline']\n"
     ]
    }
   ],
   "source": [
    "# DESCR에 적힌 특성 13개 확인. - Number of Attributes: 13 numeric\n",
    "print(len(wine.feature_names), wine.feature_names, sep='\\n')"
   ]
  },
  {
   "cell_type": "code",
   "execution_count": 40,
   "id": "f44a4fff",
   "metadata": {},
   "outputs": [
    {
     "name": "stdout",
     "output_type": "stream",
     "text": [
      "[1.423e+01 1.710e+00 2.430e+00 1.560e+01 1.270e+02 2.800e+00 3.060e+00\n",
      " 2.800e-01 2.290e+00 5.640e+00 1.040e+00 3.920e+00 1.065e+03]\n"
     ]
    }
   ],
   "source": [
    "print(wine.data[0])"
   ]
  },
  {
   "cell_type": "markdown",
   "id": "e4a293b0",
   "metadata": {},
   "source": [
    "## (4) train, test 데이터 분리"
   ]
  },
  {
   "cell_type": "code",
   "execution_count": 41,
   "id": "d46b4b16",
   "metadata": {},
   "outputs": [],
   "source": [
    "# 나눠야 할 데이터 wine_data, 라벨 wine_label, data와 label을 각각 train:test = 7.5:2.5 비율로 나눠서 저장.\n",
    "X_train, X_test, y_train, y_test = train_test_split(wine_data, wine_label, random_state=0, stratify=wine_label)"
   ]
  },
  {
   "cell_type": "code",
   "execution_count": 42,
   "id": "f6d58585",
   "metadata": {},
   "outputs": [
    {
     "data": {
      "text/plain": [
       "(133, 45, 133, 45)"
      ]
     },
     "execution_count": 42,
     "metadata": {},
     "output_type": "execute_result"
    }
   ],
   "source": [
    "len(X_train), len(X_test), len(y_train), len(y_test)"
   ]
  },
  {
   "cell_type": "code",
   "execution_count": 43,
   "id": "0bcda597",
   "metadata": {},
   "outputs": [
    {
     "name": "stdout",
     "output_type": "stream",
     "text": [
      "-----train_target-----\n",
      "class_0: 44\n",
      "class_1: 53\n",
      "class_2: 36\n",
      "-----test_target-----\n",
      "class_0: 15\n",
      "class_1: 18\n",
      "class_2: 12\n"
     ]
    }
   ],
   "source": [
    "label_name, count = np.unique(y_train, return_counts=True)\n",
    "print('-----train_target-----')\n",
    "for i in label_name:\n",
    "    print(f'class_{label_name[i]}: {count[i]}')\n",
    "label_name, count = np.unique(y_test, return_counts=True)\n",
    "print('-----test_target-----')\n",
    "for i in label_name:\n",
    "    print(f'class_{label_name[i]}: {count[i]}')"
   ]
  },
  {
   "cell_type": "markdown",
   "id": "f04bee62",
   "metadata": {},
   "source": [
    "## (5) 다양한 모델로 학습시켜보기"
   ]
  },
  {
   "cell_type": "code",
   "execution_count": 44,
   "id": "474dbeb1",
   "metadata": {},
   "outputs": [
    {
     "name": "stdout",
     "output_type": "stream",
     "text": [
      "              precision    recall  f1-score   support\n",
      "\n",
      "           0       0.86      0.80      0.83        15\n",
      "           1       0.85      0.94      0.89        18\n",
      "           2       1.00      0.92      0.96        12\n",
      "\n",
      "    accuracy                           0.89        45\n",
      "   macro avg       0.90      0.89      0.89        45\n",
      "weighted avg       0.89      0.89      0.89        45\n",
      "\n"
     ]
    }
   ],
   "source": [
    "# Decision Tree 사용해 보기\n",
    "from sklearn.tree import DecisionTreeClassifier\n",
    "\n",
    "decision_tree = DecisionTreeClassifier(random_state=0)\n",
    "decision_tree.fit(X_train, y_train)\n",
    "y_pred = decision_tree.predict(X_test)\n",
    "\n",
    "print(classification_report(y_test, y_pred))"
   ]
  },
  {
   "cell_type": "markdown",
   "id": "ac1caf53",
   "metadata": {},
   "source": [
    "* 해당 모델은 precision에서 class_0, recall에서 class_1에 정확도가 부진하므로 wine 데이터 셋에 적합한 모델이 아니라고 판단됩니다."
   ]
  },
  {
   "cell_type": "code",
   "execution_count": 45,
   "id": "98017a73",
   "metadata": {},
   "outputs": [
    {
     "name": "stdout",
     "output_type": "stream",
     "text": [
      "              precision    recall  f1-score   support\n",
      "\n",
      "           0       1.00      1.00      1.00        15\n",
      "           1       1.00      1.00      1.00        18\n",
      "           2       1.00      1.00      1.00        12\n",
      "\n",
      "    accuracy                           1.00        45\n",
      "   macro avg       1.00      1.00      1.00        45\n",
      "weighted avg       1.00      1.00      1.00        45\n",
      "\n"
     ]
    }
   ],
   "source": [
    "# Random Forest 사용해 보기\n",
    "from sklearn.ensemble import RandomForestClassifier\n",
    "\n",
    "random_forest = RandomForestClassifier(random_state=0)\n",
    "random_forest.fit(X_train, y_train)\n",
    "y_pred = random_forest.predict(X_test)\n",
    "\n",
    "print(classification_report(y_test, y_pred))"
   ]
  },
  {
   "cell_type": "markdown",
   "id": "75ecfed2",
   "metadata": {},
   "source": [
    "* 전체적으로 균일하게 수치가 높으니 wine 데이터 셋에 대해 가장 적합한 성능을 보여준다고 생각합니다."
   ]
  },
  {
   "cell_type": "code",
   "execution_count": 46,
   "id": "24d1490e",
   "metadata": {},
   "outputs": [
    {
     "name": "stdout",
     "output_type": "stream",
     "text": [
      "              precision    recall  f1-score   support\n",
      "\n",
      "           0       0.73      0.73      0.73        15\n",
      "           1       0.64      0.78      0.70        18\n",
      "           2       0.25      0.17      0.20        12\n",
      "\n",
      "    accuracy                           0.60        45\n",
      "   macro avg       0.54      0.56      0.54        45\n",
      "weighted avg       0.57      0.60      0.58        45\n",
      "\n"
     ]
    }
   ],
   "source": [
    "# SVM 사용해 보기\n",
    "from sklearn.svm import SVC\n",
    "\n",
    "svm_model = SVC(random_state=0)\n",
    "svm_model.fit(X_train, y_train)\n",
    "y_pred = svm_model.predict(X_test)\n",
    "\n",
    "print(classification_report(y_test, y_pred))"
   ]
  },
  {
   "cell_type": "markdown",
   "id": "766414b2",
   "metadata": {},
   "source": [
    "* 해당 모델은 유독 class_2 라벨에 낮은 정확도를 보여주어 wine 데이터 셋에 적합하지 않습니다."
   ]
  },
  {
   "cell_type": "code",
   "execution_count": 47,
   "id": "226c6c9a",
   "metadata": {},
   "outputs": [
    {
     "name": "stdout",
     "output_type": "stream",
     "text": [
      "              precision    recall  f1-score   support\n",
      "\n",
      "           0       0.44      1.00      0.61        15\n",
      "           1       0.83      0.28      0.42        18\n",
      "           2       0.20      0.08      0.12        12\n",
      "\n",
      "    accuracy                           0.47        45\n",
      "   macro avg       0.49      0.45      0.38        45\n",
      "weighted avg       0.53      0.47      0.40        45\n",
      "\n"
     ]
    }
   ],
   "source": [
    "# SGD Classifier 사용해 보기\n",
    "from sklearn.linear_model import SGDClassifier\n",
    "\n",
    "sgd_model = SGDClassifier(random_state=0)\n",
    "sgd_model.fit(X_train, y_train)\n",
    "y_pred = sgd_model.predict(X_test)\n",
    "\n",
    "print(classification_report(y_test, y_pred))"
   ]
  },
  {
   "cell_type": "markdown",
   "id": "7f4d0332",
   "metadata": {},
   "source": [
    "* 수치가 유독 이상한 항목이 있어, 해당 모델은 wine 데이터 셋에 매우 적합하지 않은 모델로 생각됩니다."
   ]
  },
  {
   "cell_type": "code",
   "execution_count": 48,
   "id": "1ba538bf",
   "metadata": {},
   "outputs": [
    {
     "name": "stdout",
     "output_type": "stream",
     "text": [
      "              precision    recall  f1-score   support\n",
      "\n",
      "           0       0.93      0.93      0.93        15\n",
      "           1       0.94      0.89      0.91        18\n",
      "           2       0.92      1.00      0.96        12\n",
      "\n",
      "    accuracy                           0.93        45\n",
      "   macro avg       0.93      0.94      0.94        45\n",
      "weighted avg       0.93      0.93      0.93        45\n",
      "\n"
     ]
    }
   ],
   "source": [
    "# Logistic Regression 사용해 보기\n",
    "from sklearn.linear_model import LogisticRegression\n",
    "\n",
    "logistic_regression = LogisticRegression(random_state=0)\n",
    "logistic_regression.fit(X_train, y_train)\n",
    "y_pred = logistic_regression.predict(X_test)\n",
    "\n",
    "print(classification_report(y_test, y_pred))"
   ]
  },
  {
   "cell_type": "markdown",
   "id": "38cd0be9",
   "metadata": {},
   "source": [
    "* 해당 모델은 wine 데이터 셋에 무난하게 좋은 성능을 보여주고 있다고 생각합니다."
   ]
  },
  {
   "cell_type": "code",
   "execution_count": 49,
   "id": "be3dcce0",
   "metadata": {},
   "outputs": [
    {
     "name": "stdout",
     "output_type": "stream",
     "text": [
      "DecisionTreeClassifier score: 0.89\n",
      "RandomForestClassifier score: 1.00\n",
      "SVM score: 0.56\n",
      "SGDClassifier score: 0.45\n",
      "LogisticRegression score: 0.94\n"
     ]
    }
   ],
   "source": [
    "from sklearn.metrics import recall_score\n",
    "\n",
    "model_list = {'DecisionTreeClassifier' : DecisionTreeClassifier,\n",
    "              'RandomForestClassifier' : RandomForestClassifier,\n",
    "              'SVM' : SVC,\n",
    "              'SGDClassifier' : SGDClassifier,\n",
    "              'LogisticRegression' : LogisticRegression}\n",
    "\n",
    "for name, func in model_list.items():\n",
    "    model = func(random_state=0)\n",
    "    model.fit(X_train, y_train)\n",
    "    y_pred = model.predict(X_test)\n",
    "    # recall이면서 데이터가 조금 불균형한 데이터라서 가중치가 없는\n",
    "    print(f'{name} score: {recall_score(y_test, y_pred, average=\"macro\"):,.2f}' )"
   ]
  },
  {
   "cell_type": "markdown",
   "id": "ff40beb2",
   "metadata": {},
   "source": [
    "## (6) 모델을 평가해 보기"
   ]
  },
  {
   "cell_type": "markdown",
   "id": "b2a884a8",
   "metadata": {},
   "source": [
    "wine은 데이터셋은 와인의 등급을 0, 1, 2 로 나누는 다중 분류 데이터셋 이라 생각 합니다.  \n",
    "해당 데이터의 결과로 와인의 등급이 매겨질때, 소비자의 입장에서 낮은 등급이라 생각하고 구매했는데 높은 등급일 때는 좋은 거지만,  \n",
    "높은 등급의 와인이라고 생각하고 구매를 했는데 낮은 등급일때는 나쁜경우인 상황인데,  \n",
    "recall 지표가 양성인데 음성으로 판단할때 업무상 큰 영향이 발생하는 경우에 해당하므로  \n",
    "적정 class에 해당하면 1 아니면 0인 상황이라서 recall 지표를 선택하는게 맞다고 생각합니다."
   ]
  },
  {
   "cell_type": "markdown",
   "id": "75f9c0c1",
   "metadata": {},
   "source": [
    "# 1-13. 프로젝트 (3) load_breast_cancer: 유방암 여부를 진단해 봅시다"
   ]
  },
  {
   "cell_type": "markdown",
   "id": "02426fa2",
   "metadata": {},
   "source": [
    "## (1) 필요한 모듈 import하기"
   ]
  },
  {
   "cell_type": "code",
   "execution_count": 50,
   "id": "f440ee60",
   "metadata": {},
   "outputs": [],
   "source": [
    "from sklearn.datasets import load_breast_cancer\n",
    "from sklearn.model_selection import train_test_split\n",
    "from sklearn.metrics import classification_report\n",
    "import numpy as np"
   ]
  },
  {
   "cell_type": "markdown",
   "id": "58b1da05",
   "metadata": {},
   "source": [
    "## (2) 데이터 준비"
   ]
  },
  {
   "cell_type": "code",
   "execution_count": 51,
   "id": "89fed317",
   "metadata": {},
   "outputs": [
    {
     "data": {
      "text/plain": [
       "dict_keys(['data', 'target', 'frame', 'target_names', 'DESCR', 'feature_names', 'filename'])"
      ]
     },
     "execution_count": 51,
     "metadata": {},
     "output_type": "execute_result"
    }
   ],
   "source": [
    "# load_breast_cancer 메서드를 사용합니다.\n",
    "cancer = load_breast_cancer()\n",
    "# \n",
    "cancer.keys()"
   ]
  },
  {
   "cell_type": "markdown",
   "id": "46870d18",
   "metadata": {},
   "source": [
    "## (3) 데이터 이해하기"
   ]
  },
  {
   "cell_type": "code",
   "execution_count": 52,
   "id": "beffec51",
   "metadata": {},
   "outputs": [],
   "source": [
    "# Feature Data 지정하기\n",
    "cancer_data = cancer.data"
   ]
  },
  {
   "cell_type": "code",
   "execution_count": 53,
   "id": "f922a3bc",
   "metadata": {},
   "outputs": [],
   "source": [
    "# Label Data 지정하기\n",
    "cancer_label = cancer.target"
   ]
  },
  {
   "cell_type": "code",
   "execution_count": 54,
   "id": "cad17f03",
   "metadata": {},
   "outputs": [
    {
     "data": {
      "text/plain": [
       "array(['malignant', 'benign'], dtype='<U9')"
      ]
     },
     "execution_count": 54,
     "metadata": {},
     "output_type": "execute_result"
    }
   ],
   "source": [
    "# Target Names 출력해 보기\n",
    "cancer.target_names"
   ]
  },
  {
   "cell_type": "code",
   "execution_count": 55,
   "id": "b35b49a8",
   "metadata": {
    "scrolled": false
   },
   "outputs": [
    {
     "name": "stdout",
     "output_type": "stream",
     "text": [
      ".. _breast_cancer_dataset:\n",
      "\n",
      "Breast cancer wisconsin (diagnostic) dataset\n",
      "--------------------------------------------\n",
      "\n",
      "**Data Set Characteristics:**\n",
      "\n",
      "    :Number of Instances: 569\n",
      "\n",
      "    :Number of Attributes: 30 numeric, predictive attributes and the class\n",
      "\n",
      "    :Attribute Information:\n",
      "        - radius (mean of distances from center to points on the perimeter)\n",
      "        - texture (standard deviation of gray-scale values)\n",
      "        - perimeter\n",
      "        - area\n",
      "        - smoothness (local variation in radius lengths)\n",
      "        - compactness (perimeter^2 / area - 1.0)\n",
      "        - concavity (severity of concave portions of the contour)\n",
      "        - concave points (number of concave portions of the contour)\n",
      "        - symmetry\n",
      "        - fractal dimension (\"coastline approximation\" - 1)\n",
      "\n",
      "        The mean, standard error, and \"worst\" or largest (mean of the three\n",
      "        worst/largest values) of these features were computed for each image,\n",
      "        resulting in 30 features.  For instance, field 0 is Mean Radius, field\n",
      "        10 is Radius SE, field 20 is Worst Radius.\n",
      "\n",
      "        - class:\n",
      "                - WDBC-Malignant\n",
      "                - WDBC-Benign\n",
      "\n",
      "    :Summary Statistics:\n",
      "\n",
      "    ===================================== ====== ======\n",
      "                                           Min    Max\n",
      "    ===================================== ====== ======\n",
      "    radius (mean):                        6.981  28.11\n",
      "    texture (mean):                       9.71   39.28\n",
      "    perimeter (mean):                     43.79  188.5\n",
      "    area (mean):                          143.5  2501.0\n",
      "    smoothness (mean):                    0.053  0.163\n",
      "    compactness (mean):                   0.019  0.345\n",
      "    concavity (mean):                     0.0    0.427\n",
      "    concave points (mean):                0.0    0.201\n",
      "    symmetry (mean):                      0.106  0.304\n",
      "    fractal dimension (mean):             0.05   0.097\n",
      "    radius (standard error):              0.112  2.873\n",
      "    texture (standard error):             0.36   4.885\n",
      "    perimeter (standard error):           0.757  21.98\n",
      "    area (standard error):                6.802  542.2\n",
      "    smoothness (standard error):          0.002  0.031\n",
      "    compactness (standard error):         0.002  0.135\n",
      "    concavity (standard error):           0.0    0.396\n",
      "    concave points (standard error):      0.0    0.053\n",
      "    symmetry (standard error):            0.008  0.079\n",
      "    fractal dimension (standard error):   0.001  0.03\n",
      "    radius (worst):                       7.93   36.04\n",
      "    texture (worst):                      12.02  49.54\n",
      "    perimeter (worst):                    50.41  251.2\n",
      "    area (worst):                         185.2  4254.0\n",
      "    smoothness (worst):                   0.071  0.223\n",
      "    compactness (worst):                  0.027  1.058\n",
      "    concavity (worst):                    0.0    1.252\n",
      "    concave points (worst):               0.0    0.291\n",
      "    symmetry (worst):                     0.156  0.664\n",
      "    fractal dimension (worst):            0.055  0.208\n",
      "    ===================================== ====== ======\n",
      "\n",
      "    :Missing Attribute Values: None\n",
      "\n",
      "    :Class Distribution: 212 - Malignant, 357 - Benign\n",
      "\n",
      "    :Creator:  Dr. William H. Wolberg, W. Nick Street, Olvi L. Mangasarian\n",
      "\n",
      "    :Donor: Nick Street\n",
      "\n",
      "    :Date: November, 1995\n",
      "\n",
      "This is a copy of UCI ML Breast Cancer Wisconsin (Diagnostic) datasets.\n",
      "https://goo.gl/U2Uwz2\n",
      "\n",
      "Features are computed from a digitized image of a fine needle\n",
      "aspirate (FNA) of a breast mass.  They describe\n",
      "characteristics of the cell nuclei present in the image.\n",
      "\n",
      "Separating plane described above was obtained using\n",
      "Multisurface Method-Tree (MSM-T) [K. P. Bennett, \"Decision Tree\n",
      "Construction Via Linear Programming.\" Proceedings of the 4th\n",
      "Midwest Artificial Intelligence and Cognitive Science Society,\n",
      "pp. 97-101, 1992], a classification method which uses linear\n",
      "programming to construct a decision tree.  Relevant features\n",
      "were selected using an exhaustive search in the space of 1-4\n",
      "features and 1-3 separating planes.\n",
      "\n",
      "The actual linear program used to obtain the separating plane\n",
      "in the 3-dimensional space is that described in:\n",
      "[K. P. Bennett and O. L. Mangasarian: \"Robust Linear\n",
      "Programming Discrimination of Two Linearly Inseparable Sets\",\n",
      "Optimization Methods and Software 1, 1992, 23-34].\n",
      "\n",
      "This database is also available through the UW CS ftp server:\n",
      "\n",
      "ftp ftp.cs.wisc.edu\n",
      "cd math-prog/cpo-dataset/machine-learn/WDBC/\n",
      "\n",
      ".. topic:: References\n",
      "\n",
      "   - W.N. Street, W.H. Wolberg and O.L. Mangasarian. Nuclear feature extraction \n",
      "     for breast tumor diagnosis. IS&T/SPIE 1993 International Symposium on \n",
      "     Electronic Imaging: Science and Technology, volume 1905, pages 861-870,\n",
      "     San Jose, CA, 1993.\n",
      "   - O.L. Mangasarian, W.N. Street and W.H. Wolberg. Breast cancer diagnosis and \n",
      "     prognosis via linear programming. Operations Research, 43(4), pages 570-577, \n",
      "     July-August 1995.\n",
      "   - W.H. Wolberg, W.N. Street, and O.L. Mangasarian. Machine learning techniques\n",
      "     to diagnose breast cancer from fine-needle aspirates. Cancer Letters 77 (1994) \n",
      "     163-171.\n"
     ]
    }
   ],
   "source": [
    "# 데이터 Describe 해 보기\n",
    "print(cancer.DESCR)"
   ]
  },
  {
   "cell_type": "code",
   "execution_count": 56,
   "id": "8b62ca9c",
   "metadata": {},
   "outputs": [
    {
     "data": {
      "text/plain": [
       "(569, 30)"
      ]
     },
     "execution_count": 56,
     "metadata": {},
     "output_type": "execute_result"
    }
   ],
   "source": [
    "# 유방암 데이터의 모양 (Number of Instances: 569, Number of Attributes: 30 numeric)\n",
    "cancer_data.shape\n",
    "# DESCR에 적혀있는데로 569개의 데이터가 있고, 각 데이터에는 30개의 데이터가 담겨있습니다."
   ]
  },
  {
   "cell_type": "code",
   "execution_count": 57,
   "id": "a35b3b41",
   "metadata": {},
   "outputs": [
    {
     "name": "stdout",
     "output_type": "stream",
     "text": [
      "악성 :212, 양성 :357\n"
     ]
    }
   ],
   "source": [
    "# DESCR에 적힌것과 같이 악성에 해당하는 0이 212개, \n",
    "#                      양성에 해당하는 1이 357개입니다. \n",
    "# (Class Distribution: 212 - Malignant, 357 - Benign)\n",
    "_, count = np.unique(cancer.target, return_counts=True)\n",
    "print(f'악성 :{count[0]}, 양성 :{count[1]}')"
   ]
  },
  {
   "cell_type": "code",
   "execution_count": 58,
   "id": "f4a293b8",
   "metadata": {},
   "outputs": [
    {
     "data": {
      "text/plain": [
       "array(['mean radius', 'mean texture', 'mean perimeter', 'mean area',\n",
       "       'mean smoothness', 'mean compactness', 'mean concavity',\n",
       "       'mean concave points', 'mean symmetry', 'mean fractal dimension',\n",
       "       'radius error', 'texture error', 'perimeter error', 'area error',\n",
       "       'smoothness error', 'compactness error', 'concavity error',\n",
       "       'concave points error', 'symmetry error',\n",
       "       'fractal dimension error', 'worst radius', 'worst texture',\n",
       "       'worst perimeter', 'worst area', 'worst smoothness',\n",
       "       'worst compactness', 'worst concavity', 'worst concave points',\n",
       "       'worst symmetry', 'worst fractal dimension'], dtype='<U23')"
      ]
     },
     "execution_count": 58,
     "metadata": {},
     "output_type": "execute_result"
    }
   ],
   "source": [
    "# Feature names 30개...\n",
    "cancer.feature_names"
   ]
  },
  {
   "cell_type": "markdown",
   "id": "6265f570",
   "metadata": {},
   "source": [
    "## (4) train, test 데이터 분리"
   ]
  },
  {
   "cell_type": "code",
   "execution_count": 59,
   "id": "e316a5ce",
   "metadata": {},
   "outputs": [],
   "source": [
    "# 나눠야 할 데이터 cancer_data, 라벨 cancer_label, data와 label을 각각 train:test = 7.5:2.5 비율로 나눠서 저장.\n",
    "X_train, X_test, y_train, y_test = train_test_split(cancer_data, cancer_label, random_state=0)"
   ]
  },
  {
   "cell_type": "code",
   "execution_count": 60,
   "id": "7fd35aa9",
   "metadata": {},
   "outputs": [
    {
     "data": {
      "text/plain": [
       "(426, 143, 426, 143)"
      ]
     },
     "execution_count": 60,
     "metadata": {},
     "output_type": "execute_result"
    }
   ],
   "source": [
    "len(X_train), len(X_test), len(y_train), len(y_test)"
   ]
  },
  {
   "cell_type": "code",
   "execution_count": 61,
   "id": "205831f5",
   "metadata": {},
   "outputs": [
    {
     "name": "stdout",
     "output_type": "stream",
     "text": [
      "-----train_target-----\n",
      "0: 159\n",
      "1: 267\n",
      "-----test_target-----\n",
      "0: 53\n",
      "1: 90\n"
     ]
    }
   ],
   "source": [
    "label_name, count = np.unique(y_train, return_counts=True)\n",
    "print('-----train_target-----')\n",
    "for i in label_name:\n",
    "    print(f'{label_name[i]}: {count[i]}')\n",
    "label_name, count = np.unique(y_test, return_counts=True)\n",
    "print('-----test_target-----')\n",
    "for i in label_name:\n",
    "    print(f'{label_name[i]}: {count[i]}')"
   ]
  },
  {
   "cell_type": "markdown",
   "id": "1b81c868",
   "metadata": {},
   "source": [
    "## (5) 다양한 모델로 학습시켜보기"
   ]
  },
  {
   "cell_type": "code",
   "execution_count": 62,
   "id": "0a361d9d",
   "metadata": {},
   "outputs": [
    {
     "name": "stdout",
     "output_type": "stream",
     "text": [
      "              precision    recall  f1-score   support\n",
      "\n",
      "           0       0.78      0.94      0.85        53\n",
      "           1       0.96      0.84      0.90        90\n",
      "\n",
      "    accuracy                           0.88       143\n",
      "   macro avg       0.87      0.89      0.88       143\n",
      "weighted avg       0.90      0.88      0.88       143\n",
      "\n"
     ]
    }
   ],
   "source": [
    "# Decision Tree 사용해 보기\n",
    "from sklearn.tree import DecisionTreeClassifier\n",
    "\n",
    "decision_tree = DecisionTreeClassifier(random_state=0)\n",
    "decision_tree.fit(X_train, y_train)\n",
    "y_pred = decision_tree.predict(X_test)\n",
    "\n",
    "print(classification_report(y_test, y_pred))"
   ]
  },
  {
   "cell_type": "markdown",
   "id": "679e92ae",
   "metadata": {},
   "source": [
    "* 해당 모델의 성능이 cancer 데이터 셋에는 조금 부진한 지표를 보여주어 적합한 모델이 아니라고 생각합니다."
   ]
  },
  {
   "cell_type": "code",
   "execution_count": 63,
   "id": "bf278086",
   "metadata": {},
   "outputs": [
    {
     "name": "stdout",
     "output_type": "stream",
     "text": [
      "              precision    recall  f1-score   support\n",
      "\n",
      "           0       0.95      0.98      0.96        53\n",
      "           1       0.99      0.97      0.98        90\n",
      "\n",
      "    accuracy                           0.97       143\n",
      "   macro avg       0.97      0.97      0.97       143\n",
      "weighted avg       0.97      0.97      0.97       143\n",
      "\n"
     ]
    }
   ],
   "source": [
    "# Random Forest 사용해 보기\n",
    "from sklearn.ensemble import RandomForestClassifier\n",
    "\n",
    "random_forest = RandomForestClassifier(random_state=0)\n",
    "random_forest.fit(X_train, y_train)\n",
    "y_pred = random_forest.predict(X_test)\n",
    "\n",
    "print(classification_report(y_test, y_pred))"
   ]
  },
  {
   "cell_type": "markdown",
   "id": "c1be4e9c",
   "metadata": {},
   "source": [
    "* 전체적으로 고루 높은 수치를 보여주어 cancer 데이터셋에 매우 적합한 모델이라고 생각됩니다."
   ]
  },
  {
   "cell_type": "code",
   "execution_count": 64,
   "id": "17edf620",
   "metadata": {},
   "outputs": [
    {
     "name": "stdout",
     "output_type": "stream",
     "text": [
      "              precision    recall  f1-score   support\n",
      "\n",
      "           0       0.98      0.85      0.91        53\n",
      "           1       0.92      0.99      0.95        90\n",
      "\n",
      "    accuracy                           0.94       143\n",
      "   macro avg       0.95      0.92      0.93       143\n",
      "weighted avg       0.94      0.94      0.94       143\n",
      "\n"
     ]
    }
   ],
   "source": [
    "# SVM 사용해 보기\n",
    "from sklearn.svm import SVC\n",
    "\n",
    "svm_model = SVC(random_state=0)\n",
    "svm_model.fit(X_train, y_train)\n",
    "y_pred = svm_model.predict(X_test)\n",
    "\n",
    "print(classification_report(y_test, y_pred))"
   ]
  },
  {
   "cell_type": "markdown",
   "id": "7171c827",
   "metadata": {},
   "source": [
    "* racall target 0에 상대적으로 조금 낮은 수치가 기록됬지만, cancer 데이터 셋에 양호한 성능을 보여주고 있습니다."
   ]
  },
  {
   "cell_type": "code",
   "execution_count": 65,
   "id": "487806e4",
   "metadata": {},
   "outputs": [
    {
     "name": "stdout",
     "output_type": "stream",
     "text": [
      "              precision    recall  f1-score   support\n",
      "\n",
      "           0       0.92      0.89      0.90        53\n",
      "           1       0.93      0.96      0.95        90\n",
      "\n",
      "    accuracy                           0.93       143\n",
      "   macro avg       0.93      0.92      0.92       143\n",
      "weighted avg       0.93      0.93      0.93       143\n",
      "\n"
     ]
    }
   ],
   "source": [
    "# SGD Classifier 사용해 보기\n",
    "from sklearn.linear_model import SGDClassifier\n",
    "\n",
    "sgd_model = SGDClassifier(random_state=0)\n",
    "sgd_model.fit(X_train, y_train)\n",
    "y_pred = sgd_model.predict(X_test)\n",
    "\n",
    "print(classification_report(y_test, y_pred))"
   ]
  },
  {
   "cell_type": "markdown",
   "id": "acbf2f5d",
   "metadata": {},
   "source": [
    "* 전체적으로 cancer 데이터 셋에 대해서 무난한 성능을 보여주고 있습니다."
   ]
  },
  {
   "cell_type": "code",
   "execution_count": 66,
   "id": "6ac387e2",
   "metadata": {},
   "outputs": [
    {
     "name": "stdout",
     "output_type": "stream",
     "text": [
      "              precision    recall  f1-score   support\n",
      "\n",
      "           0       0.91      0.98      0.95        53\n",
      "           1       0.99      0.94      0.97        90\n",
      "\n",
      "    accuracy                           0.96       143\n",
      "   macro avg       0.95      0.96      0.96       143\n",
      "weighted avg       0.96      0.96      0.96       143\n",
      "\n"
     ]
    }
   ],
   "source": [
    "# Logistic Regression 사용해 보기\n",
    "from sklearn.linear_model import LogisticRegression\n",
    "\n",
    "logistic_regression = LogisticRegression(random_state=0)\n",
    "logistic_regression.fit(X_train, y_train)\n",
    "y_pred = logistic_regression.predict(X_test)\n",
    "\n",
    "print(classification_report(y_test, y_pred))"
   ]
  },
  {
   "cell_type": "markdown",
   "id": "98b701cf",
   "metadata": {},
   "source": [
    "* 가장 널리 알려진 모델인만큼 cancer 데이터 셋에 대해서 좋은 성능을 보여주고 있습니다."
   ]
  },
  {
   "cell_type": "code",
   "execution_count": 67,
   "id": "b123a73e",
   "metadata": {},
   "outputs": [
    {
     "name": "stdout",
     "output_type": "stream",
     "text": [
      "DecisionTreeClassifier score: 0.87\n",
      "RandomForestClassifier score: 0.97\n",
      "SVM score: 0.95\n",
      "SGDClassifier score: 0.93\n",
      "LogisticRegression score: 0.95\n"
     ]
    }
   ],
   "source": [
    "from sklearn.metrics import precision_score\n",
    "\n",
    "model_list = {'DecisionTreeClassifier' : DecisionTreeClassifier,\n",
    "              'RandomForestClassifier' : RandomForestClassifier,\n",
    "              'SVM' : SVC,\n",
    "              'SGDClassifier' : SGDClassifier,\n",
    "              'LogisticRegression' : LogisticRegression}\n",
    "\n",
    "for name, func in model_list.items():\n",
    "    model = func(random_state=0)\n",
    "    model.fit(X_train, y_train)\n",
    "    y_pred = model.predict(X_test)\n",
    "    # precision 이면서 양성 데이터가 많아서 가중치가 없는 average=\"macro\"를 선택.\n",
    "    print(f'{name} score: {precision_score(y_test, y_pred, average=\"macro\"):,.2f}' )"
   ]
  },
  {
   "cell_type": "markdown",
   "id": "4ff24797",
   "metadata": {},
   "source": [
    "## (6) 모델을 평가해 보기"
   ]
  },
  {
   "cell_type": "markdown",
   "id": "9e974ceb",
   "metadata": {},
   "source": [
    "breast cancer의 데이터셋으로 만든 모델은 해당 종양이 암이 맞는지를 예측하는 이진 분류 모델입니다.  \n",
    "해당 모델의 성능을 평가하는 지표로는 precision을 선택하는게 맞다고 생각했습니다.  \n",
    "precision은 음성을 양성으로 잘못 판단하게되면 큰문제가 생기는 경우에 사용되는 지표입니다.  \n",
    "해당 모델의 결과로 한 사람의 암진단 결과가 암인데 암이 아니라고 예측되는 경우에는 큰 문제를 발생하는 경우에 해당하고, 여기서는 음성인 0일때 암이고, 양성인 1일때 종양인 경우에 해당되서\n",
    "평가지표 중 precision에 해당 한다고 생각합니다."
   ]
  },
  {
   "cell_type": "markdown",
   "id": "7e760ea1",
   "metadata": {},
   "source": [
    "# 회고"
   ]
  },
  {
   "cell_type": "markdown",
   "id": "74f10728",
   "metadata": {},
   "source": [
    "해당 과제를 진행하면서 각 데이터셋의 정보를 찾던중 digits 데이터셋은 사실 70000개의 데이터가 있는 큰 데이터셋이었다는 것과, wine 분류 문제는 화학적데이터로 레드와인의 등급을 구별하는 문제였다는 것, 그리고 wine 데이터 셋은 Fisher 라는 분의 판별분석이란 것에 연관이 있다는 것과 sklearn에도 sklearn.discriminant_analysis라는 모듈이 있다는것 등 다양한 사실을 알게되었고,  \n",
    "각 데이터 셋의 평가 지표는 무엇을 기준으로 삼아야하는지 해당 분류가 단순 모델 정확도를 보는것인지, 모델 정확도를 본다고 생각 했지만 상업적으로 이용되는 형태면 상업적으로 봤을때 기준인지 등 바라보는 시선에 따라 다른것 같아서 많이 고민되는 문제였다는것을 알게되었습니다.\n",
    "\n",
    "RandomForest는 세 데이터 셋 모두에 좋은 성능을 발휘하는 모델이었다는 것을 알게되었고,\n",
    "\n",
    "train_test_split의 train_size와 test_size의 기본값은 .25인걸 알았습니다.\n",
    "train_test_split 에서 랜덤으로 데이터들을 뽑아온다고 하는데, 해당 과정에서 특정 target의 데이터만 많이 뽑아서 적절한 학습이 이루어지지 않을 경우에 대해 의문이 생겼었는데, 찾아보니 해당 문제는 stratify 옵션으로 해결이 된다고 합니다, 해당 옵션은 원래 target에 따른 데이터 비율과 같게 데이터를 랜덤으로 가져오는 옵션입니다.\n",
    "\n",
    "sklearn.metric의 recall_score나 precision_score를 사용할 경우 average 옵션을 설정해달라는 에러가 뜨는데, 해당 옵션중 micro는 accuracy와 같은 값이 나오고, macro의 경우 각 label에 대해 연산후 평균값을 출력하는데, weighted는 평균값에 label에 해당하는 data에 개수에 가중치를 주어 평균을 구한값이라고 합니다.\n",
    "그에 따라 개인적인 기준으로 recall과 precision score출력시 해당 데이터셋에 맞게 선택해 보았습니다.\n",
    "\n",
    "해당 과제를 진행하면서 데이터 셋에 대한 분석과 모델 학습, 예측, 평가 지표 선정 등의 과정을 수행해보고 각 과정에서 사용되는 함수들을 살펴보고 그 안의 메소드들의 사용법들을 알게되어, 기존의 모델만을 그냥 가져와서 사용하던 수준에서 조금은 벗어난것 같아서 개인적으로 기쁜 시작이 된것같아 좋았습니다."
   ]
  },
  {
   "cell_type": "code",
   "execution_count": null,
   "id": "68349b4b",
   "metadata": {},
   "outputs": [],
   "source": []
  }
 ],
 "metadata": {
  "kernelspec": {
   "display_name": "Python 3 (ipykernel)",
   "language": "python",
   "name": "python3"
  },
  "language_info": {
   "codemirror_mode": {
    "name": "ipython",
    "version": 3
   },
   "file_extension": ".py",
   "mimetype": "text/x-python",
   "name": "python",
   "nbconvert_exporter": "python",
   "pygments_lexer": "ipython3",
   "version": "3.9.7"
  }
 },
 "nbformat": 4,
 "nbformat_minor": 5
}
