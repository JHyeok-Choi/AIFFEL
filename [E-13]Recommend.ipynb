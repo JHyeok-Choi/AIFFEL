{
 "cells": [
  {
   "cell_type": "markdown",
   "id": "6d66c2d4",
   "metadata": {},
   "source": [
    "* 유저가 영화에 대해 평점을 매긴 데이터가 데이터 크기 별로 있습니다. MovieLens 1M Dataset 사용을 권장합니다.\n",
    "* 별점 데이터는 대표적인 explicit 데이터입니다. 하지만 implicit 데이터로 간주하고 테스트해 볼 수 있습니다.\n",
    "* 별점을 시청횟수로 해석해서 생각하겠습니다.\n",
    "* 또한 유저가 3점 미만으로 준 데이터는 선호하지 않는다고 가정하고 제외하겠습니다."
   ]
  },
  {
   "cell_type": "code",
   "execution_count": 1,
   "id": "f8de0fe1",
   "metadata": {},
   "outputs": [
    {
     "name": "stdout",
     "output_type": "stream",
     "text": [
      "1.21.4\n",
      "1.7.1\n",
      "0.4.8\n"
     ]
    }
   ],
   "source": [
    "import os\n",
    "import numpy as np\n",
    "import pandas as pd\n",
    "import scipy\n",
    "import implicit\n",
    "from implicit.als import AlternatingLeastSquares\n",
    "from scipy.sparse import csr_matrix\n",
    "\n",
    "print(np.__version__)\n",
    "print(scipy.__version__)\n",
    "print(implicit.__version__)"
   ]
  },
  {
   "cell_type": "markdown",
   "id": "36b5c051",
   "metadata": {},
   "source": [
    "# 데이터 준비와 전처리"
   ]
  },
  {
   "cell_type": "code",
   "execution_count": 2,
   "id": "cbbfeb99",
   "metadata": {},
   "outputs": [
    {
     "data": {
      "text/html": [
       "<div>\n",
       "<style scoped>\n",
       "    .dataframe tbody tr th:only-of-type {\n",
       "        vertical-align: middle;\n",
       "    }\n",
       "\n",
       "    .dataframe tbody tr th {\n",
       "        vertical-align: top;\n",
       "    }\n",
       "\n",
       "    .dataframe thead th {\n",
       "        text-align: right;\n",
       "    }\n",
       "</style>\n",
       "<table border=\"1\" class=\"dataframe\">\n",
       "  <thead>\n",
       "    <tr style=\"text-align: right;\">\n",
       "      <th></th>\n",
       "      <th>user_id</th>\n",
       "      <th>movie_id</th>\n",
       "      <th>ratings</th>\n",
       "      <th>timestamp</th>\n",
       "    </tr>\n",
       "  </thead>\n",
       "  <tbody>\n",
       "    <tr>\n",
       "      <th>0</th>\n",
       "      <td>1</td>\n",
       "      <td>1193</td>\n",
       "      <td>5</td>\n",
       "      <td>978300760</td>\n",
       "    </tr>\n",
       "    <tr>\n",
       "      <th>1</th>\n",
       "      <td>1</td>\n",
       "      <td>661</td>\n",
       "      <td>3</td>\n",
       "      <td>978302109</td>\n",
       "    </tr>\n",
       "    <tr>\n",
       "      <th>2</th>\n",
       "      <td>1</td>\n",
       "      <td>914</td>\n",
       "      <td>3</td>\n",
       "      <td>978301968</td>\n",
       "    </tr>\n",
       "    <tr>\n",
       "      <th>3</th>\n",
       "      <td>1</td>\n",
       "      <td>3408</td>\n",
       "      <td>4</td>\n",
       "      <td>978300275</td>\n",
       "    </tr>\n",
       "    <tr>\n",
       "      <th>4</th>\n",
       "      <td>1</td>\n",
       "      <td>2355</td>\n",
       "      <td>5</td>\n",
       "      <td>978824291</td>\n",
       "    </tr>\n",
       "  </tbody>\n",
       "</table>\n",
       "</div>"
      ],
      "text/plain": [
       "   user_id  movie_id  ratings  timestamp\n",
       "0        1      1193        5  978300760\n",
       "1        1       661        3  978302109\n",
       "2        1       914        3  978301968\n",
       "3        1      3408        4  978300275\n",
       "4        1      2355        5  978824291"
      ]
     },
     "execution_count": 2,
     "metadata": {},
     "output_type": "execute_result"
    }
   ],
   "source": [
    "rating_file_path = os.getenv('HOME') + '/aiffel/recommendata_iu/data/ml-1m/ratings.dat'\n",
    "ratings_cols = ['user_id', 'movie_id', 'ratings', 'timestamp']\n",
    "ratings = pd.read_csv(rating_file_path, sep='::', names=ratings_cols, engine='python', encoding='ISO-8859-1')\n",
    "original_data_size = len(ratings)\n",
    "ratings.head()"
   ]
  },
  {
   "cell_type": "code",
   "execution_count": 3,
   "id": "db922e2a",
   "metadata": {},
   "outputs": [
    {
     "name": "stdout",
     "output_type": "stream",
     "text": [
      "original_data_size : 1000209, filtered_data_size: 836478\n",
      "Ratio of Remaining Data is 83.63%\n"
     ]
    }
   ],
   "source": [
    "# 3점 이상만 남김.\n",
    "ratings = ratings[ratings['ratings'] >= 3]\n",
    "filtered_data_size = len(ratings)\n",
    "\n",
    "print(f'original_data_size : {original_data_size}, filtered_data_size: {filtered_data_size}')\n",
    "print(f'Ratio of Remaining Data is {filtered_data_size / original_data_size:.2%}')"
   ]
  },
  {
   "cell_type": "code",
   "execution_count": 4,
   "id": "36cfcfb5",
   "metadata": {},
   "outputs": [],
   "source": [
    "# ratings 컬럼의 이름을 counts로 교체.\n",
    "ratings.rename(columns={'ratings':'counts'}, inplace=True)"
   ]
  },
  {
   "cell_type": "code",
   "execution_count": 5,
   "id": "857b6a76",
   "metadata": {},
   "outputs": [
    {
     "data": {
      "text/plain": [
       "0          5\n",
       "1          3\n",
       "2          3\n",
       "3          4\n",
       "4          5\n",
       "          ..\n",
       "1000203    3\n",
       "1000205    5\n",
       "1000206    5\n",
       "1000207    4\n",
       "1000208    4\n",
       "Name: counts, Length: 836478, dtype: int64"
      ]
     },
     "execution_count": 5,
     "metadata": {},
     "output_type": "execute_result"
    }
   ],
   "source": [
    "ratings['counts']"
   ]
  },
  {
   "cell_type": "code",
   "execution_count": 6,
   "id": "e9e188de",
   "metadata": {},
   "outputs": [
    {
     "data": {
      "text/html": [
       "<div>\n",
       "<style scoped>\n",
       "    .dataframe tbody tr th:only-of-type {\n",
       "        vertical-align: middle;\n",
       "    }\n",
       "\n",
       "    .dataframe tbody tr th {\n",
       "        vertical-align: top;\n",
       "    }\n",
       "\n",
       "    .dataframe thead th {\n",
       "        text-align: right;\n",
       "    }\n",
       "</style>\n",
       "<table border=\"1\" class=\"dataframe\">\n",
       "  <thead>\n",
       "    <tr style=\"text-align: right;\">\n",
       "      <th></th>\n",
       "      <th>movie_id</th>\n",
       "      <th>title</th>\n",
       "      <th>genre</th>\n",
       "    </tr>\n",
       "  </thead>\n",
       "  <tbody>\n",
       "    <tr>\n",
       "      <th>0</th>\n",
       "      <td>1</td>\n",
       "      <td>Toy Story (1995)</td>\n",
       "      <td>Animation|Children's|Comedy</td>\n",
       "    </tr>\n",
       "    <tr>\n",
       "      <th>1</th>\n",
       "      <td>2</td>\n",
       "      <td>Jumanji (1995)</td>\n",
       "      <td>Adventure|Children's|Fantasy</td>\n",
       "    </tr>\n",
       "    <tr>\n",
       "      <th>2</th>\n",
       "      <td>3</td>\n",
       "      <td>Grumpier Old Men (1995)</td>\n",
       "      <td>Comedy|Romance</td>\n",
       "    </tr>\n",
       "    <tr>\n",
       "      <th>3</th>\n",
       "      <td>4</td>\n",
       "      <td>Waiting to Exhale (1995)</td>\n",
       "      <td>Comedy|Drama</td>\n",
       "    </tr>\n",
       "    <tr>\n",
       "      <th>4</th>\n",
       "      <td>5</td>\n",
       "      <td>Father of the Bride Part II (1995)</td>\n",
       "      <td>Comedy</td>\n",
       "    </tr>\n",
       "  </tbody>\n",
       "</table>\n",
       "</div>"
      ],
      "text/plain": [
       "   movie_id                               title                         genre\n",
       "0         1                    Toy Story (1995)   Animation|Children's|Comedy\n",
       "1         2                      Jumanji (1995)  Adventure|Children's|Fantasy\n",
       "2         3             Grumpier Old Men (1995)                Comedy|Romance\n",
       "3         4            Waiting to Exhale (1995)                  Comedy|Drama\n",
       "4         5  Father of the Bride Part II (1995)                        Comedy"
      ]
     },
     "execution_count": 6,
     "metadata": {},
     "output_type": "execute_result"
    }
   ],
   "source": [
    "# 영화 제목을 보기 위해 메타 데이터를 읽어옵니다.\n",
    "movie_file_path = os.getenv('HOME') + '/aiffel/recommendata_iu/data/ml-1m/movies.dat'\n",
    "cols = ['movie_id', 'title', 'genre']\n",
    "movies = pd.read_csv(movie_file_path, sep='::', names=cols, engine='python', encoding='ISO-8859-1')\n",
    "movies.head()"
   ]
  },
  {
   "cell_type": "code",
   "execution_count": 7,
   "id": "0dc60a57",
   "metadata": {},
   "outputs": [
    {
     "data": {
      "text/html": [
       "<div>\n",
       "<style scoped>\n",
       "    .dataframe tbody tr th:only-of-type {\n",
       "        vertical-align: middle;\n",
       "    }\n",
       "\n",
       "    .dataframe tbody tr th {\n",
       "        vertical-align: top;\n",
       "    }\n",
       "\n",
       "    .dataframe thead th {\n",
       "        text-align: right;\n",
       "    }\n",
       "</style>\n",
       "<table border=\"1\" class=\"dataframe\">\n",
       "  <thead>\n",
       "    <tr style=\"text-align: right;\">\n",
       "      <th></th>\n",
       "      <th>user_id</th>\n",
       "      <th>movie_id</th>\n",
       "      <th>counts</th>\n",
       "    </tr>\n",
       "  </thead>\n",
       "  <tbody>\n",
       "    <tr>\n",
       "      <th>0</th>\n",
       "      <td>1</td>\n",
       "      <td>1193</td>\n",
       "      <td>5</td>\n",
       "    </tr>\n",
       "    <tr>\n",
       "      <th>1</th>\n",
       "      <td>1</td>\n",
       "      <td>661</td>\n",
       "      <td>3</td>\n",
       "    </tr>\n",
       "    <tr>\n",
       "      <th>2</th>\n",
       "      <td>1</td>\n",
       "      <td>914</td>\n",
       "      <td>3</td>\n",
       "    </tr>\n",
       "    <tr>\n",
       "      <th>3</th>\n",
       "      <td>1</td>\n",
       "      <td>3408</td>\n",
       "      <td>4</td>\n",
       "    </tr>\n",
       "    <tr>\n",
       "      <th>4</th>\n",
       "      <td>1</td>\n",
       "      <td>2355</td>\n",
       "      <td>5</td>\n",
       "    </tr>\n",
       "    <tr>\n",
       "      <th>...</th>\n",
       "      <td>...</td>\n",
       "      <td>...</td>\n",
       "      <td>...</td>\n",
       "    </tr>\n",
       "    <tr>\n",
       "      <th>1000203</th>\n",
       "      <td>6040</td>\n",
       "      <td>1090</td>\n",
       "      <td>3</td>\n",
       "    </tr>\n",
       "    <tr>\n",
       "      <th>1000205</th>\n",
       "      <td>6040</td>\n",
       "      <td>1094</td>\n",
       "      <td>5</td>\n",
       "    </tr>\n",
       "    <tr>\n",
       "      <th>1000206</th>\n",
       "      <td>6040</td>\n",
       "      <td>562</td>\n",
       "      <td>5</td>\n",
       "    </tr>\n",
       "    <tr>\n",
       "      <th>1000207</th>\n",
       "      <td>6040</td>\n",
       "      <td>1096</td>\n",
       "      <td>4</td>\n",
       "    </tr>\n",
       "    <tr>\n",
       "      <th>1000208</th>\n",
       "      <td>6040</td>\n",
       "      <td>1097</td>\n",
       "      <td>4</td>\n",
       "    </tr>\n",
       "  </tbody>\n",
       "</table>\n",
       "<p>836478 rows × 3 columns</p>\n",
       "</div>"
      ],
      "text/plain": [
       "         user_id  movie_id  counts\n",
       "0              1      1193       5\n",
       "1              1       661       3\n",
       "2              1       914       3\n",
       "3              1      3408       4\n",
       "4              1      2355       5\n",
       "...          ...       ...     ...\n",
       "1000203     6040      1090       3\n",
       "1000205     6040      1094       5\n",
       "1000206     6040       562       5\n",
       "1000207     6040      1096       4\n",
       "1000208     6040      1097       4\n",
       "\n",
       "[836478 rows x 3 columns]"
      ]
     },
     "execution_count": 7,
     "metadata": {},
     "output_type": "execute_result"
    }
   ],
   "source": [
    "# 별점을 시청횟수로 바꿧으니, 별점을 등록한 timestamp는 제거\n",
    "ratings = ratings[['user_id', 'movie_id', 'counts']]\n",
    "ratings"
   ]
  },
  {
   "cell_type": "code",
   "execution_count": 8,
   "id": "70a9e1d5",
   "metadata": {},
   "outputs": [
    {
     "data": {
      "text/plain": [
       "1176    One Flew Over the Cuckoo's Nest (1975)\n",
       "Name: title, dtype: object"
      ]
     },
     "execution_count": 8,
     "metadata": {},
     "output_type": "execute_result"
    }
   ],
   "source": [
    "movies[movies['movie_id'] == 1193]['title']"
   ]
  },
  {
   "cell_type": "code",
   "execution_count": 9,
   "id": "16124e20",
   "metadata": {},
   "outputs": [
    {
     "name": "stdout",
     "output_type": "stream",
     "text": [
      "One Flew Over the Cuckoo's Nest (1975)\n",
      "James and the Giant Peach (1996)\n",
      "My Fair Lady (1964)\n",
      "Erin Brockovich (2000)\n",
      "Bug's Life, A (1998)\n",
      "Princess Bride, The (1987)\n",
      "Ben-Hur (1959)\n",
      "Christmas Story, A (1983)\n",
      "Snow White and the Seven Dwarfs (1937)\n",
      "Wizard of Oz, The (1939)\n",
      "Beauty and the Beast (1991)\n",
      "Gigi (1958)\n",
      "Miracle on 34th Street (1947)\n",
      "Ferris Bueller's Day Off (1986)\n",
      "Sound of Music, The (1965)\n",
      "Airplane! (1980)\n",
      "Tarzan (1999)\n",
      "Bambi (1942)\n",
      "Awakenings (1990)\n",
      "Big (1988)\n",
      "Pleasantville (1998)\n",
      "Wallace & Gromit: The Best of Aardman Animation (1996)\n",
      "Back to the Future (1985)\n",
      "Schindler's List (1993)\n",
      "Meet Joe Black (1998)\n",
      "Pocahontas (1995)\n",
      "E.T. the Extra-Terrestrial (1982)\n",
      "Titanic (1997)\n",
      "Ponette (1996)\n",
      "Close Shave, A (1995)\n",
      "Antz (1998)\n",
      "Girl, Interrupted (1999)\n",
      "Hercules (1997)\n",
      "Aladdin (1992)\n",
      "Mulan (1998)\n",
      "Hunchback of Notre Dame, The (1996)\n",
      "Last Days of Disco, The (1998)\n",
      "Cinderella (1950)\n",
      "Sixth Sense, The (1999)\n",
      "Apollo 13 (1995)\n",
      "Toy Story (1995)\n",
      "Rain Man (1988)\n",
      "Driving Miss Daisy (1989)\n",
      "Run Lola Run (Lola rennt) (1998)\n",
      "Star Wars: Episode IV - A New Hope (1977)\n",
      "Mary Poppins (1964)\n",
      "Dumbo (1941)\n",
      "To Kill a Mockingbird (1962)\n",
      "Saving Private Ryan (1998)\n",
      "Secret Garden, The (1993)\n",
      "Toy Story 2 (1999)\n",
      "Fargo (1996)\n",
      "Dead Poets Society (1989)\n"
     ]
    }
   ],
   "source": [
    "# user 1이 본 영화들\n",
    "for i in ratings[ratings['user_id'] == 1]['movie_id'].values:\n",
    "    print(movies[movies['movie_id'] == i]['title'].values[0])"
   ]
  },
  {
   "cell_type": "code",
   "execution_count": null,
   "id": "78f0908b",
   "metadata": {},
   "outputs": [],
   "source": []
  },
  {
   "cell_type": "markdown",
   "id": "27ef75f6",
   "metadata": {},
   "source": [
    "# 분석해 봅시다."
   ]
  },
  {
   "cell_type": "markdown",
   "id": "dbc11275",
   "metadata": {},
   "source": [
    "* ratings에 있는 유니크한 영화 개수\n",
    "* ratings에 있는 유니크한 사용자 수\n",
    "* 가장 인기 있는 영화 30개(인기순)"
   ]
  },
  {
   "cell_type": "code",
   "execution_count": 10,
   "id": "5eb666d2",
   "metadata": {},
   "outputs": [
    {
     "data": {
      "text/plain": [
       "3628"
      ]
     },
     "execution_count": 10,
     "metadata": {},
     "output_type": "execute_result"
    }
   ],
   "source": [
    "# ratings 유니크한 영화 개수\n",
    "ratings['movie_id'].nunique()"
   ]
  },
  {
   "cell_type": "code",
   "execution_count": 11,
   "id": "ecdde0ff",
   "metadata": {},
   "outputs": [
    {
     "data": {
      "text/plain": [
       "6039"
      ]
     },
     "execution_count": 11,
     "metadata": {},
     "output_type": "execute_result"
    }
   ],
   "source": [
    "# ratings 유니크한 사용자 개수\n",
    "ratings['user_id'].nunique()"
   ]
  },
  {
   "cell_type": "code",
   "execution_count": 12,
   "id": "3471951e",
   "metadata": {},
   "outputs": [],
   "source": [
    "# rating에는 movie_id 만 있으니 title을 위해 합침.\n",
    "user_df = pd.merge(ratings, movies, on='movie_id')"
   ]
  },
  {
   "cell_type": "code",
   "execution_count": 13,
   "id": "cf0a61a3",
   "metadata": {},
   "outputs": [
    {
     "data": {
      "text/plain": [
       "title\n",
       "American Beauty (1999)                                   3211\n",
       "Star Wars: Episode IV - A New Hope (1977)                2910\n",
       "Star Wars: Episode V - The Empire Strikes Back (1980)    2885\n",
       "Star Wars: Episode VI - Return of the Jedi (1983)        2716\n",
       "Saving Private Ryan (1998)                               2561\n",
       "Terminator 2: Judgment Day (1991)                        2509\n",
       "Silence of the Lambs, The (1991)                         2498\n",
       "Raiders of the Lost Ark (1981)                           2473\n",
       "Back to the Future (1985)                                2460\n",
       "Matrix, The (1999)                                       2434\n",
       "Jurassic Park (1993)                                     2413\n",
       "Sixth Sense, The (1999)                                  2385\n",
       "Fargo (1996)                                             2371\n",
       "Braveheart (1995)                                        2314\n",
       "Men in Black (1997)                                      2297\n",
       "Schindler's List (1993)                                  2257\n",
       "Princess Bride, The (1987)                               2252\n",
       "Shakespeare in Love (1998)                               2213\n",
       "L.A. Confidential (1997)                                 2210\n",
       "Shawshank Redemption, The (1994)                         2194\n",
       "Godfather, The (1972)                                    2167\n",
       "Groundhog Day (1993)                                     2121\n",
       "E.T. the Extra-Terrestrial (1982)                        2102\n",
       "Being John Malkovich (1999)                              2066\n",
       "Ghostbusters (1984)                                      2051\n",
       "Pulp Fiction (1994)                                      2030\n",
       "Forrest Gump (1994)                                      2022\n",
       "Terminator, The (1984)                                   2019\n",
       "Toy Story (1995)                                         2000\n",
       "Fugitive, The (1993)                                     1941\n",
       "Name: title, dtype: int64"
      ]
     },
     "execution_count": 13,
     "metadata": {},
     "output_type": "execute_result"
    }
   ],
   "source": [
    "# 가장 인기 있는 영화 30개\n",
    "movie_rating = user_df.groupby('title')['title'].count()\n",
    "movie_rating.sort_values(ascending=False).head(30)"
   ]
  },
  {
   "cell_type": "markdown",
   "id": "30923533",
   "metadata": {},
   "source": [
    "# 내가 선호하는 영화를 5가지 골라서 ratings에 추가해 줍시다."
   ]
  },
  {
   "cell_type": "code",
   "execution_count": 14,
   "id": "04de4e68",
   "metadata": {},
   "outputs": [
    {
     "data": {
      "text/html": [
       "<div>\n",
       "<style scoped>\n",
       "    .dataframe tbody tr th:only-of-type {\n",
       "        vertical-align: middle;\n",
       "    }\n",
       "\n",
       "    .dataframe tbody tr th {\n",
       "        vertical-align: top;\n",
       "    }\n",
       "\n",
       "    .dataframe thead th {\n",
       "        text-align: right;\n",
       "    }\n",
       "</style>\n",
       "<table border=\"1\" class=\"dataframe\">\n",
       "  <thead>\n",
       "    <tr style=\"text-align: right;\">\n",
       "      <th></th>\n",
       "      <th>user_id</th>\n",
       "      <th>movie_id</th>\n",
       "      <th>counts</th>\n",
       "      <th>title</th>\n",
       "      <th>genre</th>\n",
       "    </tr>\n",
       "  </thead>\n",
       "  <tbody>\n",
       "    <tr>\n",
       "      <th>836473</th>\n",
       "      <td>5851</td>\n",
       "      <td>3607</td>\n",
       "      <td>5</td>\n",
       "      <td>One Little Indian (1973)</td>\n",
       "      <td>Comedy|Drama|Western</td>\n",
       "    </tr>\n",
       "    <tr>\n",
       "      <th>836474</th>\n",
       "      <td>5854</td>\n",
       "      <td>3026</td>\n",
       "      <td>4</td>\n",
       "      <td>Slaughterhouse (1987)</td>\n",
       "      <td>Horror</td>\n",
       "    </tr>\n",
       "    <tr>\n",
       "      <th>836475</th>\n",
       "      <td>5854</td>\n",
       "      <td>690</td>\n",
       "      <td>3</td>\n",
       "      <td>Promise, The (Versprechen, Das) (1994)</td>\n",
       "      <td>Romance</td>\n",
       "    </tr>\n",
       "    <tr>\n",
       "      <th>836476</th>\n",
       "      <td>5938</td>\n",
       "      <td>2909</td>\n",
       "      <td>4</td>\n",
       "      <td>Five Wives, Three Secretaries and Me (1998)</td>\n",
       "      <td>Documentary</td>\n",
       "    </tr>\n",
       "    <tr>\n",
       "      <th>836477</th>\n",
       "      <td>5948</td>\n",
       "      <td>1360</td>\n",
       "      <td>5</td>\n",
       "      <td>Identification of a Woman (Identificazione di ...</td>\n",
       "      <td>Drama</td>\n",
       "    </tr>\n",
       "    <tr>\n",
       "      <th>0</th>\n",
       "      <td>6041</td>\n",
       "      <td>3936</td>\n",
       "      <td>5</td>\n",
       "      <td>Phantom of the Opera, The (1943)</td>\n",
       "      <td>Drama|Thriller</td>\n",
       "    </tr>\n",
       "    <tr>\n",
       "      <th>1</th>\n",
       "      <td>6041</td>\n",
       "      <td>3462</td>\n",
       "      <td>5</td>\n",
       "      <td>Modern Times (1936)</td>\n",
       "      <td>Comedy</td>\n",
       "    </tr>\n",
       "    <tr>\n",
       "      <th>2</th>\n",
       "      <td>6041</td>\n",
       "      <td>920</td>\n",
       "      <td>5</td>\n",
       "      <td>Gone with the Wind (1939)</td>\n",
       "      <td>Drama|Romance|War</td>\n",
       "    </tr>\n",
       "    <tr>\n",
       "      <th>3</th>\n",
       "      <td>6041</td>\n",
       "      <td>916</td>\n",
       "      <td>5</td>\n",
       "      <td>Roman Holiday (1953)</td>\n",
       "      <td>Comedy|Romance</td>\n",
       "    </tr>\n",
       "    <tr>\n",
       "      <th>4</th>\n",
       "      <td>6041</td>\n",
       "      <td>1287</td>\n",
       "      <td>5</td>\n",
       "      <td>Ben-Hur (1959)</td>\n",
       "      <td>Action|Adventure|Drama</td>\n",
       "    </tr>\n",
       "  </tbody>\n",
       "</table>\n",
       "</div>"
      ],
      "text/plain": [
       "        user_id  movie_id  counts  \\\n",
       "836473     5851      3607       5   \n",
       "836474     5854      3026       4   \n",
       "836475     5854       690       3   \n",
       "836476     5938      2909       4   \n",
       "836477     5948      1360       5   \n",
       "0          6041      3936       5   \n",
       "1          6041      3462       5   \n",
       "2          6041       920       5   \n",
       "3          6041       916       5   \n",
       "4          6041      1287       5   \n",
       "\n",
       "                                                    title  \\\n",
       "836473                           One Little Indian (1973)   \n",
       "836474                              Slaughterhouse (1987)   \n",
       "836475             Promise, The (Versprechen, Das) (1994)   \n",
       "836476        Five Wives, Three Secretaries and Me (1998)   \n",
       "836477  Identification of a Woman (Identificazione di ...   \n",
       "0                        Phantom of the Opera, The (1943)   \n",
       "1                                     Modern Times (1936)   \n",
       "2                               Gone with the Wind (1939)   \n",
       "3                                    Roman Holiday (1953)   \n",
       "4                                          Ben-Hur (1959)   \n",
       "\n",
       "                         genre  \n",
       "836473    Comedy|Drama|Western  \n",
       "836474                  Horror  \n",
       "836475                 Romance  \n",
       "836476             Documentary  \n",
       "836477                   Drama  \n",
       "0               Drama|Thriller  \n",
       "1                       Comedy  \n",
       "2            Drama|Romance|War  \n",
       "3               Comedy|Romance  \n",
       "4       Action|Adventure|Drama  "
      ]
     },
     "execution_count": 14,
     "metadata": {},
     "output_type": "execute_result"
    }
   ],
   "source": [
    "my_favorite = ['Phantom of the Opera, The (1943)', 'Modern Times (1936)', 'Gone with the Wind (1939)', 'Roman Holiday (1953)', 'Ben-Hur (1959)']\n",
    "my_favorite_id = [3936, 3462, 920, 916, 1287]\n",
    "my_favorite_gr = ['Drama|Thriller', 'Comedy', 'Drama|Romance|War', 'Comedy|Romance', 'Action|Adventure|Drama']\n",
    "\n",
    "# user_id 맨 마지막에 추가를 위해 6040 다음인 6041에 본인 정보 넣기.\n",
    "my_playlist = pd.DataFrame({'user_id': [6041]*5, 'movie_id':my_favorite_id, 'counts': [5]*5, 'title': my_favorite, 'genre': my_favorite_gr})\n",
    "\n",
    "if not user_df.isin({'user_id':[6041]})['user_id'].any():\n",
    "    user_df = user_df.append(my_playlist)\n",
    "    \n",
    "#ratings.reset_index(drop=True)\n",
    "user_df.tail(10)"
   ]
  },
  {
   "cell_type": "markdown",
   "id": "136e6538",
   "metadata": {},
   "source": [
    "### 모델  활용을 위한 indexing"
   ]
  },
  {
   "cell_type": "code",
   "execution_count": 15,
   "id": "9d861d02",
   "metadata": {},
   "outputs": [],
   "source": [
    "user_unique = user_df['user_id'].unique()\n",
    "movies_unique = user_df['title'].unique()\n",
    "\n",
    "user_to_idx = {v:k for k,v in enumerate(user_unique)}\n",
    "movies_to_idx = {v:k for k,v in enumerate(movies_unique)}"
   ]
  },
  {
   "cell_type": "code",
   "execution_count": 16,
   "id": "d99c9271",
   "metadata": {},
   "outputs": [
    {
     "name": "stdout",
     "output_type": "stream",
     "text": [
      "6039\n",
      "2106\n"
     ]
    }
   ],
   "source": [
    "# 인덱싱 확인\n",
    "print(user_to_idx[6041])\n",
    "print(movies_to_idx['Phantom of the Opera, The (1943)'])"
   ]
  },
  {
   "cell_type": "code",
   "execution_count": 17,
   "id": "e5a6da78",
   "metadata": {},
   "outputs": [
    {
     "name": "stdout",
     "output_type": "stream",
     "text": [
      "user_id columns indexing OK!!\n",
      "title columns indexing OK!!\n"
     ]
    },
    {
     "data": {
      "text/html": [
       "<div>\n",
       "<style scoped>\n",
       "    .dataframe tbody tr th:only-of-type {\n",
       "        vertical-align: middle;\n",
       "    }\n",
       "\n",
       "    .dataframe tbody tr th {\n",
       "        vertical-align: top;\n",
       "    }\n",
       "\n",
       "    .dataframe thead th {\n",
       "        text-align: right;\n",
       "    }\n",
       "</style>\n",
       "<table border=\"1\" class=\"dataframe\">\n",
       "  <thead>\n",
       "    <tr style=\"text-align: right;\">\n",
       "      <th></th>\n",
       "      <th>user_id</th>\n",
       "      <th>movie_id</th>\n",
       "      <th>counts</th>\n",
       "      <th>title</th>\n",
       "      <th>genre</th>\n",
       "    </tr>\n",
       "  </thead>\n",
       "  <tbody>\n",
       "    <tr>\n",
       "      <th>0</th>\n",
       "      <td>0</td>\n",
       "      <td>1193</td>\n",
       "      <td>5</td>\n",
       "      <td>0</td>\n",
       "      <td>Drama</td>\n",
       "    </tr>\n",
       "    <tr>\n",
       "      <th>1</th>\n",
       "      <td>1</td>\n",
       "      <td>1193</td>\n",
       "      <td>5</td>\n",
       "      <td>0</td>\n",
       "      <td>Drama</td>\n",
       "    </tr>\n",
       "    <tr>\n",
       "      <th>2</th>\n",
       "      <td>2</td>\n",
       "      <td>1193</td>\n",
       "      <td>4</td>\n",
       "      <td>0</td>\n",
       "      <td>Drama</td>\n",
       "    </tr>\n",
       "    <tr>\n",
       "      <th>3</th>\n",
       "      <td>3</td>\n",
       "      <td>1193</td>\n",
       "      <td>4</td>\n",
       "      <td>0</td>\n",
       "      <td>Drama</td>\n",
       "    </tr>\n",
       "    <tr>\n",
       "      <th>4</th>\n",
       "      <td>4</td>\n",
       "      <td>1193</td>\n",
       "      <td>5</td>\n",
       "      <td>0</td>\n",
       "      <td>Drama</td>\n",
       "    </tr>\n",
       "    <tr>\n",
       "      <th>...</th>\n",
       "      <td>...</td>\n",
       "      <td>...</td>\n",
       "      <td>...</td>\n",
       "      <td>...</td>\n",
       "      <td>...</td>\n",
       "    </tr>\n",
       "    <tr>\n",
       "      <th>0</th>\n",
       "      <td>6039</td>\n",
       "      <td>3936</td>\n",
       "      <td>5</td>\n",
       "      <td>2106</td>\n",
       "      <td>Drama|Thriller</td>\n",
       "    </tr>\n",
       "    <tr>\n",
       "      <th>1</th>\n",
       "      <td>6039</td>\n",
       "      <td>3462</td>\n",
       "      <td>5</td>\n",
       "      <td>1329</td>\n",
       "      <td>Comedy</td>\n",
       "    </tr>\n",
       "    <tr>\n",
       "      <th>2</th>\n",
       "      <td>6039</td>\n",
       "      <td>920</td>\n",
       "      <td>5</td>\n",
       "      <td>143</td>\n",
       "      <td>Drama|Romance|War</td>\n",
       "    </tr>\n",
       "    <tr>\n",
       "      <th>3</th>\n",
       "      <td>6039</td>\n",
       "      <td>916</td>\n",
       "      <td>5</td>\n",
       "      <td>588</td>\n",
       "      <td>Comedy|Romance</td>\n",
       "    </tr>\n",
       "    <tr>\n",
       "      <th>4</th>\n",
       "      <td>6039</td>\n",
       "      <td>1287</td>\n",
       "      <td>5</td>\n",
       "      <td>6</td>\n",
       "      <td>Action|Adventure|Drama</td>\n",
       "    </tr>\n",
       "  </tbody>\n",
       "</table>\n",
       "<p>836483 rows × 5 columns</p>\n",
       "</div>"
      ],
      "text/plain": [
       "    user_id  movie_id  counts  title                   genre\n",
       "0         0      1193       5      0                   Drama\n",
       "1         1      1193       5      0                   Drama\n",
       "2         2      1193       4      0                   Drama\n",
       "3         3      1193       4      0                   Drama\n",
       "4         4      1193       5      0                   Drama\n",
       "..      ...       ...     ...    ...                     ...\n",
       "0      6039      3936       5   2106          Drama|Thriller\n",
       "1      6039      3462       5   1329                  Comedy\n",
       "2      6039       920       5    143       Drama|Romance|War\n",
       "3      6039       916       5    588          Comedy|Romance\n",
       "4      6039      1287       5      6  Action|Adventure|Drama\n",
       "\n",
       "[836483 rows x 5 columns]"
      ]
     },
     "execution_count": 17,
     "metadata": {},
     "output_type": "execute_result"
    }
   ],
   "source": [
    "temp_user_data = user_df['user_id'].map(user_to_idx.get).dropna()\n",
    "if len(temp_user_data) == (len(user_df)):\n",
    "    print('user_id columns indexing OK!!')\n",
    "    user_df['user_id'] = temp_user_data\n",
    "else:\n",
    "    print('user_id column indexing Fail!!')\n",
    "\n",
    "temp_movies_data = user_df['title'].map(movies_to_idx.get).dropna()\n",
    "if len(temp_movies_data) == len(user_df):\n",
    "    print('title columns indexing OK!!')\n",
    "    user_df['title'] = temp_movies_data\n",
    "else:\n",
    "    print('title column indexing Fail!!')\n",
    "\n",
    "user_df"
   ]
  },
  {
   "cell_type": "markdown",
   "id": "d94e4f2a",
   "metadata": {},
   "source": [
    "# CSR matrix를 직접 만들어 봅시다."
   ]
  },
  {
   "cell_type": "code",
   "execution_count": 18,
   "id": "47b3871e",
   "metadata": {},
   "outputs": [
    {
     "data": {
      "text/plain": [
       "<6040x3628 sparse matrix of type '<class 'numpy.int64'>'\n",
       "\twith 836483 stored elements in Compressed Sparse Row format>"
      ]
     },
     "execution_count": 18,
     "metadata": {},
     "output_type": "execute_result"
    }
   ],
   "source": [
    "num_user = user_df['user_id'].nunique()\n",
    "num_movies = user_df['title'].nunique()\n",
    "\n",
    "csr_data = csr_matrix((user_df.counts, (user_df.user_id, user_df.title)), shape=(num_user, num_movies))\n",
    "csr_data"
   ]
  },
  {
   "cell_type": "markdown",
   "id": "03c4b903",
   "metadata": {},
   "source": [
    "# als_model = AlternatingLeastSquares 모델을 직접 구성하여 훈련시켜 봅시다."
   ]
  },
  {
   "cell_type": "code",
   "execution_count": 19,
   "id": "5ecbc471",
   "metadata": {},
   "outputs": [],
   "source": [
    "# implicit 라이브러리에서 권장하는 부분\n",
    "\n",
    "os.environ['OPENBLAS_NUM_THREADS'] = '1'\n",
    "os.environ['KMP_DUPLICATE_LIB_OK'] = 'True'\n",
    "os.environ['MKL_NUM_THREADS'] = '1'"
   ]
  },
  {
   "cell_type": "code",
   "execution_count": 20,
   "id": "7ddc56c4",
   "metadata": {},
   "outputs": [],
   "source": [
    "# Implicit AlternatingLeastSquares 모델의 선언\n",
    "# factors와 iterations를 늘릴 수록 학습 데이터를 잘 학습하게 되지만 과적합 우려가 있습니다.\n",
    "als_model = AlternatingLeastSquares(factors=1200, regularization=0.01, use_gpu=False, iterations=15, dtype=np.float32)"
   ]
  },
  {
   "cell_type": "code",
   "execution_count": 21,
   "id": "a6bc53a3",
   "metadata": {},
   "outputs": [
    {
     "data": {
      "text/plain": [
       "<3628x6040 sparse matrix of type '<class 'numpy.int64'>'\n",
       "\twith 836483 stored elements in Compressed Sparse Column format>"
      ]
     },
     "execution_count": 21,
     "metadata": {},
     "output_type": "execute_result"
    }
   ],
   "source": [
    "# als 모델은 input으로 (item X user 형태의 matrix를 받기 때문에 Transpose)\n",
    "csr_data_transpose = csr_data.T\n",
    "csr_data_transpose"
   ]
  },
  {
   "cell_type": "code",
   "execution_count": 22,
   "id": "62220ab0",
   "metadata": {},
   "outputs": [
    {
     "data": {
      "application/vnd.jupyter.widget-view+json": {
       "model_id": "502f5adfb8b048e1bb7c929e362a4574",
       "version_major": 2,
       "version_minor": 0
      },
      "text/plain": [
       "  0%|          | 0/15 [00:00<?, ?it/s]"
      ]
     },
     "metadata": {},
     "output_type": "display_data"
    }
   ],
   "source": [
    "# 모델 훈련\n",
    "als_model.fit(csr_data_transpose)"
   ]
  },
  {
   "cell_type": "code",
   "execution_count": 23,
   "id": "f4968fbe",
   "metadata": {},
   "outputs": [],
   "source": [
    "# 본인 user_id 6041과 선호 영화 movie_id 3936 의 벡터 확인\n",
    "user_test, phantom = user_to_idx[6041], movies_to_idx['Phantom of the Opera, The (1943)']\n",
    "user_vector, phantom_vector = als_model.user_factors[user_test], als_model.item_factors[phantom]"
   ]
  },
  {
   "cell_type": "code",
   "execution_count": 24,
   "id": "f020a7d9",
   "metadata": {},
   "outputs": [
    {
     "data": {
      "text/plain": [
       "array([ 0.0477744 , -0.00278695,  0.3976754 , ...,  0.15339395,\n",
       "       -0.2905468 ,  0.13049494], dtype=float32)"
      ]
     },
     "execution_count": 24,
     "metadata": {},
     "output_type": "execute_result"
    }
   ],
   "source": [
    "user_vector"
   ]
  },
  {
   "cell_type": "code",
   "execution_count": 25,
   "id": "c5dac55f",
   "metadata": {},
   "outputs": [
    {
     "data": {
      "text/plain": [
       "array([0.00243249, 0.00866538, 0.00824687, ..., 0.00510648, 0.005526  ,\n",
       "       0.01159785], dtype=float32)"
      ]
     },
     "execution_count": 25,
     "metadata": {},
     "output_type": "execute_result"
    }
   ],
   "source": [
    "phantom_vector"
   ]
  },
  {
   "cell_type": "code",
   "execution_count": 26,
   "id": "2f341c04",
   "metadata": {},
   "outputs": [
    {
     "data": {
      "text/plain": [
       "0.705632"
      ]
     },
     "execution_count": 26,
     "metadata": {},
     "output_type": "execute_result"
    }
   ],
   "source": [
    "# 두 값의 내적\n",
    "np.dot(user_vector, phantom_vector)"
   ]
  },
  {
   "cell_type": "markdown",
   "id": "d03c107d",
   "metadata": {},
   "source": [
    "선호 영화가 0.705 이라는 수치가 출력되었습니다. 어느정도 연관"
   ]
  },
  {
   "cell_type": "markdown",
   "id": "15c73065",
   "metadata": {},
   "source": [
    "# 내가 선호하는 5가지 영화 중 하나와 그 외의 영화 하나를 골라 훈련된 모델이 예측한 나의 선호도를 파악해 보세요."
   ]
  },
  {
   "cell_type": "code",
   "execution_count": 27,
   "id": "9b5a571f",
   "metadata": {},
   "outputs": [
    {
     "data": {
      "text/plain": [
       "0.84188956"
      ]
     },
     "execution_count": 27,
     "metadata": {},
     "output_type": "execute_result"
    }
   ],
   "source": [
    "# 선호영화 modern times\n",
    "modern = movies_to_idx['Modern Times (1936)']\n",
    "modern_vector = als_model.item_factors[modern]\n",
    "np.dot(user_vector, modern_vector)"
   ]
  },
  {
   "cell_type": "code",
   "execution_count": 28,
   "id": "b7a2fb6a",
   "metadata": {},
   "outputs": [
    {
     "data": {
      "text/plain": [
       "-0.008860809"
      ]
     },
     "execution_count": 28,
     "metadata": {},
     "output_type": "execute_result"
    }
   ],
   "source": [
    "# 비선호 영화 toy story\n",
    "toy = movies_to_idx['Toy Story (1995)']\n",
    "toy_vector = als_model.item_factors[toy]\n",
    "np.dot(user_vector, toy_vector)"
   ]
  },
  {
   "cell_type": "markdown",
   "id": "23cc1c6b",
   "metadata": {},
   "source": [
    "# 내가 좋아하는 영화와 비슷한 영화를 추천받아 봅시다."
   ]
  },
  {
   "cell_type": "code",
   "execution_count": 29,
   "id": "911d331e",
   "metadata": {},
   "outputs": [],
   "source": [
    "idx_to_movies = {v:k for k,v in movies_to_idx.items()}"
   ]
  },
  {
   "cell_type": "code",
   "execution_count": 30,
   "id": "554014d9",
   "metadata": {},
   "outputs": [],
   "source": [
    "def get_similar_movie(movie_title: str):\n",
    "    # movie title을 id값으로 변환\n",
    "    movie_id = movies_to_idx[movie_title]\n",
    "    # movie id로 영화 추천받기\n",
    "    similar_movie = als_model.similar_items(movie_id, N=15)\n",
    "    # 추천 받은 movie id를 title로 변환\n",
    "    similar_movie = [idx_to_movies[i[0]] for i in similar_movie]\n",
    "    return similar_movie"
   ]
  },
  {
   "cell_type": "code",
   "execution_count": 31,
   "id": "6e783661",
   "metadata": {},
   "outputs": [
    {
     "data": {
      "text/plain": [
       "['Roman Holiday (1953)',\n",
       " 'Coming Apart (1969)',\n",
       " 'Allnighter, The (1987)',\n",
       " 'Separation, The (La Séparation) (1994)',\n",
       " 'Bay of Blood (Reazione a catena) (1971)',\n",
       " 'Slappy and the Stinkers (1998)',\n",
       " 'Country Life (1994)',\n",
       " 'Nemesis 2: Nebula (1995)',\n",
       " 'Illtown (1996)',\n",
       " 'Paris Was a Woman (1995)',\n",
       " 'Penitentiary II (1982)',\n",
       " 'Ring, The (1927)',\n",
       " 'Spiders, The (Die Spinnen, 1. Teil: Der Goldene See) (1919)',\n",
       " 'I Got the Hook Up (1998)',\n",
       " 'Male and Female (1919)']"
      ]
     },
     "execution_count": 31,
     "metadata": {},
     "output_type": "execute_result"
    }
   ],
   "source": [
    "get_similar_movie('Roman Holiday (1953)')"
   ]
  },
  {
   "cell_type": "code",
   "execution_count": 32,
   "id": "29c5ad00",
   "metadata": {},
   "outputs": [
    {
     "data": {
      "text/plain": [
       "['Modern Times (1936)',\n",
       " 'Ulysses (Ulisse) (1954)',\n",
       " 'Gay Deceivers, The (1969)',\n",
       " 'Coming Apart (1969)',\n",
       " 'Chain of Fools (2000)',\n",
       " 'Mamma Roma (1962)',\n",
       " 'Slappy and the Stinkers (1998)',\n",
       " 'Boys (1996)',\n",
       " 'Last Time I Saw Paris, The (1954)',\n",
       " 'Back Stage (2000)',\n",
       " 'Telling You (1998)',\n",
       " 'Intimate Relations (1996)',\n",
       " '24-hour Woman (1998)',\n",
       " 'Alley Cats, The (1968)',\n",
       " 'Macao (1952)']"
      ]
     },
     "execution_count": 32,
     "metadata": {},
     "output_type": "execute_result"
    }
   ],
   "source": [
    "get_similar_movie('Modern Times (1936)')"
   ]
  },
  {
   "cell_type": "markdown",
   "id": "1f6a7758",
   "metadata": {},
   "source": [
    "# 내가 가장 좋아할 만한 영화들을 추천받아 봅시다."
   ]
  },
  {
   "cell_type": "code",
   "execution_count": 33,
   "id": "6304bcd8",
   "metadata": {},
   "outputs": [
    {
     "data": {
      "text/plain": [
       "[(1711, 0.18017456),\n",
       " (1930, 0.15042284),\n",
       " (1328, 0.13500012),\n",
       " (989, 0.1298891),\n",
       " (858, 0.11970505),\n",
       " (1655, 0.11884551),\n",
       " (1347, 0.11497605),\n",
       " (612, 0.10857285),\n",
       " (592, 0.10354547),\n",
       " (1530, 0.09668364),\n",
       " (718, 0.09586421),\n",
       " (925, 0.09353377),\n",
       " (1448, 0.09107827),\n",
       " (541, 0.08982909),\n",
       " (1704, 0.08967006),\n",
       " (585, 0.08928774),\n",
       " (1830, 0.08875323),\n",
       " (660, 0.08523773),\n",
       " (536, 0.083261296),\n",
       " (503, 0.08314226)]"
      ]
     },
     "execution_count": 33,
     "metadata": {},
     "output_type": "execute_result"
    }
   ],
   "source": [
    "user = user_to_idx[6041]\n",
    "# recommend 에서는 user*item CSR Matrix를 받습니다.\n",
    "movie_recommended = als_model.recommend(user, csr_data, N=20, filter_already_liked_items=True)\n",
    "movie_recommended"
   ]
  },
  {
   "cell_type": "code",
   "execution_count": 34,
   "id": "445b1bd5",
   "metadata": {},
   "outputs": [
    {
     "data": {
      "text/plain": [
       "['City Lights (1931)',\n",
       " 'Bank Dick, The (1940)',\n",
       " 'Great Dictator, The (1940)',\n",
       " 'Creature From the Black Lagoon, The (1954)',\n",
       " 'Invisible Man, The (1933)',\n",
       " 'Voyage to the Bottom of the Sea (1961)',\n",
       " 'Born Yesterday (1950)',\n",
       " 'Corrina, Corrina (1994)',\n",
       " 'Gold Rush, The (1925)',\n",
       " 'Crocodile Dundee II (1988)',\n",
       " 'Abbott and Costello Meet Frankenstein (1948)',\n",
       " 'Fantastic Voyage (1966)',\n",
       " 'Next Stop, Wonderland (1998)',\n",
       " 'All Quiet on the Western Front (1930)',\n",
       " 'Karate Kid, Part II, The (1986)',\n",
       " 'Sabrina (1954)',\n",
       " 'Return of the Fly (1959)',\n",
       " 'Philadelphia Story, The (1940)',\n",
       " 'Jungle Book, The (1967)',\n",
       " 'Duck Soup (1933)']"
      ]
     },
     "execution_count": 34,
     "metadata": {},
     "output_type": "execute_result"
    }
   ],
   "source": [
    "[idx_to_movies[i[0]] for i in movie_recommended]"
   ]
  },
  {
   "cell_type": "code",
   "execution_count": 35,
   "id": "39fae458",
   "metadata": {},
   "outputs": [],
   "source": [
    "# 추천받은것에 대한 기여도 확인\n",
    "excalibur = movies_to_idx['Great Dictator, The (1940)']\n",
    "explain = als_model.explain(user, csr_data, itemid=excalibur)"
   ]
  },
  {
   "cell_type": "code",
   "execution_count": 36,
   "id": "0274487b",
   "metadata": {},
   "outputs": [
    {
     "data": {
      "text/plain": [
       "[('Modern Times (1936)', 0.13225692687116597),\n",
       " ('Phantom of the Opera, The (1943)', 0.0071912590829049244),\n",
       " ('Roman Holiday (1953)', 0.0027301092391267007),\n",
       " ('Ben-Hur (1959)', -0.003298385642182965),\n",
       " ('Gone with the Wind (1939)', -0.006539682297467923)]"
      ]
     },
     "execution_count": 36,
     "metadata": {},
     "output_type": "execute_result"
    }
   ],
   "source": [
    "[(idx_to_movies[i[0]], i[1]) for i in explain[1]]"
   ]
  },
  {
   "cell_type": "code",
   "execution_count": 37,
   "id": "4a70ce30",
   "metadata": {},
   "outputs": [
    {
     "data": {
      "text/html": [
       "<div>\n",
       "<style scoped>\n",
       "    .dataframe tbody tr th:only-of-type {\n",
       "        vertical-align: middle;\n",
       "    }\n",
       "\n",
       "    .dataframe tbody tr th {\n",
       "        vertical-align: top;\n",
       "    }\n",
       "\n",
       "    .dataframe thead th {\n",
       "        text-align: right;\n",
       "    }\n",
       "</style>\n",
       "<table border=\"1\" class=\"dataframe\">\n",
       "  <thead>\n",
       "    <tr style=\"text-align: right;\">\n",
       "      <th></th>\n",
       "      <th>movie_id</th>\n",
       "      <th>title</th>\n",
       "      <th>genre</th>\n",
       "    </tr>\n",
       "  </thead>\n",
       "  <tbody>\n",
       "    <tr>\n",
       "      <th>3238</th>\n",
       "      <td>3307</td>\n",
       "      <td>City Lights (1931)</td>\n",
       "      <td>Comedy|Drama|Romance</td>\n",
       "    </tr>\n",
       "  </tbody>\n",
       "</table>\n",
       "</div>"
      ],
      "text/plain": [
       "      movie_id               title                 genre\n",
       "3238      3307  City Lights (1931)  Comedy|Drama|Romance"
      ]
     },
     "execution_count": 37,
     "metadata": {},
     "output_type": "execute_result"
    }
   ],
   "source": [
    "movies[movies['title'] == 'City Lights (1931)']"
   ]
  },
  {
   "cell_type": "code",
   "execution_count": 38,
   "id": "65b2fb23",
   "metadata": {},
   "outputs": [
    {
     "data": {
      "text/html": [
       "<div>\n",
       "<style scoped>\n",
       "    .dataframe tbody tr th:only-of-type {\n",
       "        vertical-align: middle;\n",
       "    }\n",
       "\n",
       "    .dataframe tbody tr th {\n",
       "        vertical-align: top;\n",
       "    }\n",
       "\n",
       "    .dataframe thead th {\n",
       "        text-align: right;\n",
       "    }\n",
       "</style>\n",
       "<table border=\"1\" class=\"dataframe\">\n",
       "  <thead>\n",
       "    <tr style=\"text-align: right;\">\n",
       "      <th></th>\n",
       "      <th>movie_id</th>\n",
       "      <th>title</th>\n",
       "      <th>genre</th>\n",
       "    </tr>\n",
       "  </thead>\n",
       "  <tbody>\n",
       "    <tr>\n",
       "      <th>3393</th>\n",
       "      <td>3462</td>\n",
       "      <td>Modern Times (1936)</td>\n",
       "      <td>Comedy</td>\n",
       "    </tr>\n",
       "  </tbody>\n",
       "</table>\n",
       "</div>"
      ],
      "text/plain": [
       "      movie_id                title   genre\n",
       "3393      3462  Modern Times (1936)  Comedy"
      ]
     },
     "execution_count": 38,
     "metadata": {},
     "output_type": "execute_result"
    }
   ],
   "source": [
    "movies[movies['title'] == 'Modern Times (1936)']"
   ]
  },
  {
   "cell_type": "code",
   "execution_count": 39,
   "id": "87a63e80",
   "metadata": {},
   "outputs": [
    {
     "data": {
      "text/html": [
       "<div>\n",
       "<style scoped>\n",
       "    .dataframe tbody tr th:only-of-type {\n",
       "        vertical-align: middle;\n",
       "    }\n",
       "\n",
       "    .dataframe tbody tr th {\n",
       "        vertical-align: top;\n",
       "    }\n",
       "\n",
       "    .dataframe thead th {\n",
       "        text-align: right;\n",
       "    }\n",
       "</style>\n",
       "<table border=\"1\" class=\"dataframe\">\n",
       "  <thead>\n",
       "    <tr style=\"text-align: right;\">\n",
       "      <th></th>\n",
       "      <th>movie_id</th>\n",
       "      <th>title</th>\n",
       "      <th>genre</th>\n",
       "    </tr>\n",
       "  </thead>\n",
       "  <tbody>\n",
       "    <tr>\n",
       "      <th>3866</th>\n",
       "      <td>3936</td>\n",
       "      <td>Phantom of the Opera, The (1943)</td>\n",
       "      <td>Drama|Thriller</td>\n",
       "    </tr>\n",
       "  </tbody>\n",
       "</table>\n",
       "</div>"
      ],
      "text/plain": [
       "      movie_id                             title           genre\n",
       "3866      3936  Phantom of the Opera, The (1943)  Drama|Thriller"
      ]
     },
     "execution_count": 39,
     "metadata": {},
     "output_type": "execute_result"
    }
   ],
   "source": [
    "movies[movies['title'] == 'Phantom of the Opera, The (1943)']"
   ]
  },
  {
   "cell_type": "markdown",
   "id": "fa0b8555",
   "metadata": {},
   "source": [
    "추천 기여도 상위 2개 항목을 출력해보니, 장르에 Comedy 와 Drama가 추천도에 기여한 것같습니다."
   ]
  },
  {
   "cell_type": "code",
   "execution_count": null,
   "id": "9ec20c64",
   "metadata": {},
   "outputs": [],
   "source": []
  }
 ],
 "metadata": {
  "kernelspec": {
   "display_name": "Python 3 (ipykernel)",
   "language": "python",
   "name": "python3"
  },
  "language_info": {
   "codemirror_mode": {
    "name": "ipython",
    "version": 3
   },
   "file_extension": ".py",
   "mimetype": "text/x-python",
   "name": "python",
   "nbconvert_exporter": "python",
   "pygments_lexer": "ipython3",
   "version": "3.9.7"
  }
 },
 "nbformat": 4,
 "nbformat_minor": 5
}
