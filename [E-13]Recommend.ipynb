{
 "cells": [
  {
   "cell_type": "markdown",
   "id": "a5d1ac52",
   "metadata": {},
   "source": [
    "* 유저가 영화에 대해 평점을 매긴 데이터가 데이터 크기 별로 있습니다. MovieLens 1M Dataset 사용을 권장합니다.\n",
    "* 별점 데이터는 대표적인 explicit 데이터입니다. 하지만 implicit 데이터로 간주하고 테스트해 볼 수 있습니다.\n",
    "* 별점을 시청횟수로 해석해서 생각하겠습니다.\n",
    "* 또한 유저가 3점 미만으로 준 데이터는 선호하지 않는다고 가정하고 제외하겠습니다."
   ]
  },
  {
   "cell_type": "code",
   "execution_count": 1,
   "id": "bae27e51",
   "metadata": {},
   "outputs": [],
   "source": [
    "import os\n",
    "import numpy as np\n",
    "import pandas as pd\n",
    "import scipy\n",
    "import implicit\n",
    "from implicit.als import AlternatingLeastSquares\n",
    "from scipy.sparse import csr_matrix"
   ]
  },
  {
   "cell_type": "markdown",
   "id": "94911749",
   "metadata": {},
   "source": [
    "# 데이터 준비와 전처리"
   ]
  },
  {
   "cell_type": "code",
   "execution_count": 2,
   "id": "f60a005a",
   "metadata": {},
   "outputs": [
    {
     "data": {
      "text/html": [
       "<div>\n",
       "<style scoped>\n",
       "    .dataframe tbody tr th:only-of-type {\n",
       "        vertical-align: middle;\n",
       "    }\n",
       "\n",
       "    .dataframe tbody tr th {\n",
       "        vertical-align: top;\n",
       "    }\n",
       "\n",
       "    .dataframe thead th {\n",
       "        text-align: right;\n",
       "    }\n",
       "</style>\n",
       "<table border=\"1\" class=\"dataframe\">\n",
       "  <thead>\n",
       "    <tr style=\"text-align: right;\">\n",
       "      <th></th>\n",
       "      <th>user_id</th>\n",
       "      <th>movie_id</th>\n",
       "      <th>ratings</th>\n",
       "      <th>timestamp</th>\n",
       "    </tr>\n",
       "  </thead>\n",
       "  <tbody>\n",
       "    <tr>\n",
       "      <th>0</th>\n",
       "      <td>1</td>\n",
       "      <td>1193</td>\n",
       "      <td>5</td>\n",
       "      <td>978300760</td>\n",
       "    </tr>\n",
       "    <tr>\n",
       "      <th>1</th>\n",
       "      <td>1</td>\n",
       "      <td>661</td>\n",
       "      <td>3</td>\n",
       "      <td>978302109</td>\n",
       "    </tr>\n",
       "    <tr>\n",
       "      <th>2</th>\n",
       "      <td>1</td>\n",
       "      <td>914</td>\n",
       "      <td>3</td>\n",
       "      <td>978301968</td>\n",
       "    </tr>\n",
       "    <tr>\n",
       "      <th>3</th>\n",
       "      <td>1</td>\n",
       "      <td>3408</td>\n",
       "      <td>4</td>\n",
       "      <td>978300275</td>\n",
       "    </tr>\n",
       "    <tr>\n",
       "      <th>4</th>\n",
       "      <td>1</td>\n",
       "      <td>2355</td>\n",
       "      <td>5</td>\n",
       "      <td>978824291</td>\n",
       "    </tr>\n",
       "  </tbody>\n",
       "</table>\n",
       "</div>"
      ],
      "text/plain": [
       "   user_id  movie_id  ratings  timestamp\n",
       "0        1      1193        5  978300760\n",
       "1        1       661        3  978302109\n",
       "2        1       914        3  978301968\n",
       "3        1      3408        4  978300275\n",
       "4        1      2355        5  978824291"
      ]
     },
     "execution_count": 2,
     "metadata": {},
     "output_type": "execute_result"
    }
   ],
   "source": [
    "rating_file_path = os.getenv('HOME') + '/aiffel/recommendata_iu/data/ml-1m/ratings.dat'\n",
    "ratings_cols = ['user_id', 'movie_id', 'ratings', 'timestamp']\n",
    "ratings = pd.read_csv(rating_file_path, sep='::', names=ratings_cols, engine='python', encoding='ISO-8859-1')\n",
    "original_data_size = len(ratings)\n",
    "ratings.head()"
   ]
  },
  {
   "cell_type": "code",
   "execution_count": 3,
   "id": "e10bc1cf",
   "metadata": {},
   "outputs": [
    {
     "name": "stdout",
     "output_type": "stream",
     "text": [
      "original_data_size : 1000209, filtered_data_size: 836478\n",
      "Ratio of Remaining Data is 83.63%\n"
     ]
    }
   ],
   "source": [
    "# 3점 이상만 남김.\n",
    "ratings = ratings[ratings['ratings'] >= 3]\n",
    "filtered_data_size = len(ratings)\n",
    "\n",
    "print(f'original_data_size : {original_data_size}, filtered_data_size: {filtered_data_size}')\n",
    "print(f'Ratio of Remaining Data is {filtered_data_size / original_data_size:.2%}')"
   ]
  },
  {
   "cell_type": "code",
   "execution_count": 4,
   "id": "23f13eca",
   "metadata": {},
   "outputs": [],
   "source": [
    "# ratings 컬럼의 이름을 counts로 교체.\n",
    "ratings.rename(columns={'ratings':'counts'}, inplace=True)"
   ]
  },
  {
   "cell_type": "code",
   "execution_count": 5,
   "id": "5878c61f",
   "metadata": {},
   "outputs": [
    {
     "data": {
      "text/plain": [
       "0          5\n",
       "1          3\n",
       "2          3\n",
       "3          4\n",
       "4          5\n",
       "          ..\n",
       "1000203    3\n",
       "1000205    5\n",
       "1000206    5\n",
       "1000207    4\n",
       "1000208    4\n",
       "Name: counts, Length: 836478, dtype: int64"
      ]
     },
     "execution_count": 5,
     "metadata": {},
     "output_type": "execute_result"
    }
   ],
   "source": [
    "ratings['counts']"
   ]
  },
  {
   "cell_type": "code",
   "execution_count": 6,
   "id": "ae26ed5f",
   "metadata": {},
   "outputs": [
    {
     "data": {
      "text/html": [
       "<div>\n",
       "<style scoped>\n",
       "    .dataframe tbody tr th:only-of-type {\n",
       "        vertical-align: middle;\n",
       "    }\n",
       "\n",
       "    .dataframe tbody tr th {\n",
       "        vertical-align: top;\n",
       "    }\n",
       "\n",
       "    .dataframe thead th {\n",
       "        text-align: right;\n",
       "    }\n",
       "</style>\n",
       "<table border=\"1\" class=\"dataframe\">\n",
       "  <thead>\n",
       "    <tr style=\"text-align: right;\">\n",
       "      <th></th>\n",
       "      <th>movie_id</th>\n",
       "      <th>title</th>\n",
       "      <th>genre</th>\n",
       "    </tr>\n",
       "  </thead>\n",
       "  <tbody>\n",
       "    <tr>\n",
       "      <th>0</th>\n",
       "      <td>1</td>\n",
       "      <td>Toy Story (1995)</td>\n",
       "      <td>Animation|Children's|Comedy</td>\n",
       "    </tr>\n",
       "    <tr>\n",
       "      <th>1</th>\n",
       "      <td>2</td>\n",
       "      <td>Jumanji (1995)</td>\n",
       "      <td>Adventure|Children's|Fantasy</td>\n",
       "    </tr>\n",
       "    <tr>\n",
       "      <th>2</th>\n",
       "      <td>3</td>\n",
       "      <td>Grumpier Old Men (1995)</td>\n",
       "      <td>Comedy|Romance</td>\n",
       "    </tr>\n",
       "    <tr>\n",
       "      <th>3</th>\n",
       "      <td>4</td>\n",
       "      <td>Waiting to Exhale (1995)</td>\n",
       "      <td>Comedy|Drama</td>\n",
       "    </tr>\n",
       "    <tr>\n",
       "      <th>4</th>\n",
       "      <td>5</td>\n",
       "      <td>Father of the Bride Part II (1995)</td>\n",
       "      <td>Comedy</td>\n",
       "    </tr>\n",
       "  </tbody>\n",
       "</table>\n",
       "</div>"
      ],
      "text/plain": [
       "   movie_id                               title                         genre\n",
       "0         1                    Toy Story (1995)   Animation|Children's|Comedy\n",
       "1         2                      Jumanji (1995)  Adventure|Children's|Fantasy\n",
       "2         3             Grumpier Old Men (1995)                Comedy|Romance\n",
       "3         4            Waiting to Exhale (1995)                  Comedy|Drama\n",
       "4         5  Father of the Bride Part II (1995)                        Comedy"
      ]
     },
     "execution_count": 6,
     "metadata": {},
     "output_type": "execute_result"
    }
   ],
   "source": [
    "# 영화 제목을 보기 위해 메타 데이터를 읽어옵니다.\n",
    "movie_file_path = os.getenv('HOME') + '/aiffel/recommendata_iu/data/ml-1m/movies.dat'\n",
    "cols = ['movie_id', 'title', 'genre']\n",
    "movies = pd.read_csv(movie_file_path, sep='::', names=cols, engine='python', encoding='ISO-8859-1')\n",
    "movies.head()"
   ]
  },
  {
   "cell_type": "code",
   "execution_count": 7,
   "id": "91b1b4dc",
   "metadata": {},
   "outputs": [
    {
     "data": {
      "text/html": [
       "<div>\n",
       "<style scoped>\n",
       "    .dataframe tbody tr th:only-of-type {\n",
       "        vertical-align: middle;\n",
       "    }\n",
       "\n",
       "    .dataframe tbody tr th {\n",
       "        vertical-align: top;\n",
       "    }\n",
       "\n",
       "    .dataframe thead th {\n",
       "        text-align: right;\n",
       "    }\n",
       "</style>\n",
       "<table border=\"1\" class=\"dataframe\">\n",
       "  <thead>\n",
       "    <tr style=\"text-align: right;\">\n",
       "      <th></th>\n",
       "      <th>user_id</th>\n",
       "      <th>movie_id</th>\n",
       "      <th>counts</th>\n",
       "    </tr>\n",
       "  </thead>\n",
       "  <tbody>\n",
       "    <tr>\n",
       "      <th>0</th>\n",
       "      <td>1</td>\n",
       "      <td>1193</td>\n",
       "      <td>5</td>\n",
       "    </tr>\n",
       "    <tr>\n",
       "      <th>1</th>\n",
       "      <td>1</td>\n",
       "      <td>661</td>\n",
       "      <td>3</td>\n",
       "    </tr>\n",
       "    <tr>\n",
       "      <th>2</th>\n",
       "      <td>1</td>\n",
       "      <td>914</td>\n",
       "      <td>3</td>\n",
       "    </tr>\n",
       "    <tr>\n",
       "      <th>3</th>\n",
       "      <td>1</td>\n",
       "      <td>3408</td>\n",
       "      <td>4</td>\n",
       "    </tr>\n",
       "    <tr>\n",
       "      <th>4</th>\n",
       "      <td>1</td>\n",
       "      <td>2355</td>\n",
       "      <td>5</td>\n",
       "    </tr>\n",
       "    <tr>\n",
       "      <th>...</th>\n",
       "      <td>...</td>\n",
       "      <td>...</td>\n",
       "      <td>...</td>\n",
       "    </tr>\n",
       "    <tr>\n",
       "      <th>1000203</th>\n",
       "      <td>6040</td>\n",
       "      <td>1090</td>\n",
       "      <td>3</td>\n",
       "    </tr>\n",
       "    <tr>\n",
       "      <th>1000205</th>\n",
       "      <td>6040</td>\n",
       "      <td>1094</td>\n",
       "      <td>5</td>\n",
       "    </tr>\n",
       "    <tr>\n",
       "      <th>1000206</th>\n",
       "      <td>6040</td>\n",
       "      <td>562</td>\n",
       "      <td>5</td>\n",
       "    </tr>\n",
       "    <tr>\n",
       "      <th>1000207</th>\n",
       "      <td>6040</td>\n",
       "      <td>1096</td>\n",
       "      <td>4</td>\n",
       "    </tr>\n",
       "    <tr>\n",
       "      <th>1000208</th>\n",
       "      <td>6040</td>\n",
       "      <td>1097</td>\n",
       "      <td>4</td>\n",
       "    </tr>\n",
       "  </tbody>\n",
       "</table>\n",
       "<p>836478 rows × 3 columns</p>\n",
       "</div>"
      ],
      "text/plain": [
       "         user_id  movie_id  counts\n",
       "0              1      1193       5\n",
       "1              1       661       3\n",
       "2              1       914       3\n",
       "3              1      3408       4\n",
       "4              1      2355       5\n",
       "...          ...       ...     ...\n",
       "1000203     6040      1090       3\n",
       "1000205     6040      1094       5\n",
       "1000206     6040       562       5\n",
       "1000207     6040      1096       4\n",
       "1000208     6040      1097       4\n",
       "\n",
       "[836478 rows x 3 columns]"
      ]
     },
     "execution_count": 7,
     "metadata": {},
     "output_type": "execute_result"
    }
   ],
   "source": [
    "# 별점을 시청횟수로 바꿧으니, 별점을 등록한 timestamp는 제거\n",
    "ratings = ratings[['user_id', 'movie_id', 'counts']]\n",
    "ratings"
   ]
  },
  {
   "cell_type": "code",
   "execution_count": 8,
   "id": "7cf79f42",
   "metadata": {},
   "outputs": [
    {
     "data": {
      "text/plain": [
       "1176    One Flew Over the Cuckoo's Nest (1975)\n",
       "Name: title, dtype: object"
      ]
     },
     "execution_count": 8,
     "metadata": {},
     "output_type": "execute_result"
    }
   ],
   "source": [
    "movies[movies['movie_id'] == 1193]['title']"
   ]
  },
  {
   "cell_type": "code",
   "execution_count": 9,
   "id": "326f2457",
   "metadata": {},
   "outputs": [
    {
     "name": "stdout",
     "output_type": "stream",
     "text": [
      "One Flew Over the Cuckoo's Nest (1975)\n",
      "James and the Giant Peach (1996)\n",
      "My Fair Lady (1964)\n",
      "Erin Brockovich (2000)\n",
      "Bug's Life, A (1998)\n",
      "Princess Bride, The (1987)\n",
      "Ben-Hur (1959)\n",
      "Christmas Story, A (1983)\n",
      "Snow White and the Seven Dwarfs (1937)\n",
      "Wizard of Oz, The (1939)\n",
      "Beauty and the Beast (1991)\n",
      "Gigi (1958)\n",
      "Miracle on 34th Street (1947)\n",
      "Ferris Bueller's Day Off (1986)\n",
      "Sound of Music, The (1965)\n",
      "Airplane! (1980)\n",
      "Tarzan (1999)\n",
      "Bambi (1942)\n",
      "Awakenings (1990)\n",
      "Big (1988)\n",
      "Pleasantville (1998)\n",
      "Wallace & Gromit: The Best of Aardman Animation (1996)\n",
      "Back to the Future (1985)\n",
      "Schindler's List (1993)\n",
      "Meet Joe Black (1998)\n",
      "Pocahontas (1995)\n",
      "E.T. the Extra-Terrestrial (1982)\n",
      "Titanic (1997)\n",
      "Ponette (1996)\n",
      "Close Shave, A (1995)\n",
      "Antz (1998)\n",
      "Girl, Interrupted (1999)\n",
      "Hercules (1997)\n",
      "Aladdin (1992)\n",
      "Mulan (1998)\n",
      "Hunchback of Notre Dame, The (1996)\n",
      "Last Days of Disco, The (1998)\n",
      "Cinderella (1950)\n",
      "Sixth Sense, The (1999)\n",
      "Apollo 13 (1995)\n",
      "Toy Story (1995)\n",
      "Rain Man (1988)\n",
      "Driving Miss Daisy (1989)\n",
      "Run Lola Run (Lola rennt) (1998)\n",
      "Star Wars: Episode IV - A New Hope (1977)\n",
      "Mary Poppins (1964)\n",
      "Dumbo (1941)\n",
      "To Kill a Mockingbird (1962)\n",
      "Saving Private Ryan (1998)\n",
      "Secret Garden, The (1993)\n",
      "Toy Story 2 (1999)\n",
      "Fargo (1996)\n",
      "Dead Poets Society (1989)\n"
     ]
    }
   ],
   "source": [
    "# user 1이 본 영화들\n",
    "for i in ratings[ratings['user_id'] == 1]['movie_id'].values:\n",
    "    print(movies[movies['movie_id'] == i]['title'].values[0])"
   ]
  },
  {
   "cell_type": "markdown",
   "id": "a758ff23",
   "metadata": {},
   "source": [
    "유저 한명이 다수의 영화 목록을 가질 수 있음을 확인"
   ]
  },
  {
   "cell_type": "markdown",
   "id": "425c830c",
   "metadata": {},
   "source": [
    "# 데이터 확인"
   ]
  },
  {
   "cell_type": "code",
   "execution_count": 10,
   "id": "36d00f87",
   "metadata": {},
   "outputs": [
    {
     "data": {
      "text/plain": [
       "3628"
      ]
     },
     "execution_count": 10,
     "metadata": {},
     "output_type": "execute_result"
    }
   ],
   "source": [
    "# ratings 유니크한 영화 개수\n",
    "ratings['movie_id'].nunique()"
   ]
  },
  {
   "cell_type": "code",
   "execution_count": 11,
   "id": "59a18b97",
   "metadata": {},
   "outputs": [
    {
     "data": {
      "text/plain": [
       "6039"
      ]
     },
     "execution_count": 11,
     "metadata": {},
     "output_type": "execute_result"
    }
   ],
   "source": [
    "# ratings 유니크한 사용자 개수\n",
    "ratings['user_id'].nunique()"
   ]
  },
  {
   "cell_type": "code",
   "execution_count": 12,
   "id": "d62981fc",
   "metadata": {},
   "outputs": [],
   "source": [
    "# rating에는 movie_id 만 있으니 title을 위해 합침.\n",
    "user_df = pd.merge(ratings, movies, on='movie_id')"
   ]
  },
  {
   "cell_type": "code",
   "execution_count": 13,
   "id": "532393fc",
   "metadata": {},
   "outputs": [
    {
     "data": {
      "text/plain": [
       "title\n",
       "American Beauty (1999)                                   3211\n",
       "Star Wars: Episode IV - A New Hope (1977)                2910\n",
       "Star Wars: Episode V - The Empire Strikes Back (1980)    2885\n",
       "Star Wars: Episode VI - Return of the Jedi (1983)        2716\n",
       "Saving Private Ryan (1998)                               2561\n",
       "Terminator 2: Judgment Day (1991)                        2509\n",
       "Silence of the Lambs, The (1991)                         2498\n",
       "Raiders of the Lost Ark (1981)                           2473\n",
       "Back to the Future (1985)                                2460\n",
       "Matrix, The (1999)                                       2434\n",
       "Jurassic Park (1993)                                     2413\n",
       "Sixth Sense, The (1999)                                  2385\n",
       "Fargo (1996)                                             2371\n",
       "Braveheart (1995)                                        2314\n",
       "Men in Black (1997)                                      2297\n",
       "Schindler's List (1993)                                  2257\n",
       "Princess Bride, The (1987)                               2252\n",
       "Shakespeare in Love (1998)                               2213\n",
       "L.A. Confidential (1997)                                 2210\n",
       "Shawshank Redemption, The (1994)                         2194\n",
       "Godfather, The (1972)                                    2167\n",
       "Groundhog Day (1993)                                     2121\n",
       "E.T. the Extra-Terrestrial (1982)                        2102\n",
       "Being John Malkovich (1999)                              2066\n",
       "Ghostbusters (1984)                                      2051\n",
       "Pulp Fiction (1994)                                      2030\n",
       "Forrest Gump (1994)                                      2022\n",
       "Terminator, The (1984)                                   2019\n",
       "Toy Story (1995)                                         2000\n",
       "Fugitive, The (1993)                                     1941\n",
       "Name: title, dtype: int64"
      ]
     },
     "execution_count": 13,
     "metadata": {},
     "output_type": "execute_result"
    }
   ],
   "source": [
    "# 가장 인기 있는 영화 30개\n",
    "movie_rating = user_df.groupby('title')['title'].count()\n",
    "movie_rating.sort_values(ascending=False).head(30)"
   ]
  },
  {
   "cell_type": "markdown",
   "id": "77fdad7c",
   "metadata": {},
   "source": [
    "# 내가 선호하는 영화를 5가지 골라서 ratings에 추가해 줍시다."
   ]
  },
  {
   "cell_type": "code",
   "execution_count": 14,
   "id": "219b210a",
   "metadata": {},
   "outputs": [
    {
     "data": {
      "text/html": [
       "<div>\n",
       "<style scoped>\n",
       "    .dataframe tbody tr th:only-of-type {\n",
       "        vertical-align: middle;\n",
       "    }\n",
       "\n",
       "    .dataframe tbody tr th {\n",
       "        vertical-align: top;\n",
       "    }\n",
       "\n",
       "    .dataframe thead th {\n",
       "        text-align: right;\n",
       "    }\n",
       "</style>\n",
       "<table border=\"1\" class=\"dataframe\">\n",
       "  <thead>\n",
       "    <tr style=\"text-align: right;\">\n",
       "      <th></th>\n",
       "      <th>user_id</th>\n",
       "      <th>movie_id</th>\n",
       "      <th>counts</th>\n",
       "      <th>title</th>\n",
       "      <th>genre</th>\n",
       "    </tr>\n",
       "  </thead>\n",
       "  <tbody>\n",
       "    <tr>\n",
       "      <th>836473</th>\n",
       "      <td>5851</td>\n",
       "      <td>3607</td>\n",
       "      <td>5</td>\n",
       "      <td>One Little Indian (1973)</td>\n",
       "      <td>Comedy|Drama|Western</td>\n",
       "    </tr>\n",
       "    <tr>\n",
       "      <th>836474</th>\n",
       "      <td>5854</td>\n",
       "      <td>3026</td>\n",
       "      <td>4</td>\n",
       "      <td>Slaughterhouse (1987)</td>\n",
       "      <td>Horror</td>\n",
       "    </tr>\n",
       "    <tr>\n",
       "      <th>836475</th>\n",
       "      <td>5854</td>\n",
       "      <td>690</td>\n",
       "      <td>3</td>\n",
       "      <td>Promise, The (Versprechen, Das) (1994)</td>\n",
       "      <td>Romance</td>\n",
       "    </tr>\n",
       "    <tr>\n",
       "      <th>836476</th>\n",
       "      <td>5938</td>\n",
       "      <td>2909</td>\n",
       "      <td>4</td>\n",
       "      <td>Five Wives, Three Secretaries and Me (1998)</td>\n",
       "      <td>Documentary</td>\n",
       "    </tr>\n",
       "    <tr>\n",
       "      <th>836477</th>\n",
       "      <td>5948</td>\n",
       "      <td>1360</td>\n",
       "      <td>5</td>\n",
       "      <td>Identification of a Woman (Identificazione di ...</td>\n",
       "      <td>Drama</td>\n",
       "    </tr>\n",
       "    <tr>\n",
       "      <th>0</th>\n",
       "      <td>6041</td>\n",
       "      <td>3936</td>\n",
       "      <td>5</td>\n",
       "      <td>Phantom of the Opera, The (1943)</td>\n",
       "      <td>Drama|Thriller</td>\n",
       "    </tr>\n",
       "    <tr>\n",
       "      <th>1</th>\n",
       "      <td>6041</td>\n",
       "      <td>3462</td>\n",
       "      <td>5</td>\n",
       "      <td>Modern Times (1936)</td>\n",
       "      <td>Comedy</td>\n",
       "    </tr>\n",
       "    <tr>\n",
       "      <th>2</th>\n",
       "      <td>6041</td>\n",
       "      <td>920</td>\n",
       "      <td>5</td>\n",
       "      <td>Gone with the Wind (1939)</td>\n",
       "      <td>Drama|Romance|War</td>\n",
       "    </tr>\n",
       "    <tr>\n",
       "      <th>3</th>\n",
       "      <td>6041</td>\n",
       "      <td>916</td>\n",
       "      <td>5</td>\n",
       "      <td>Roman Holiday (1953)</td>\n",
       "      <td>Comedy|Romance</td>\n",
       "    </tr>\n",
       "    <tr>\n",
       "      <th>4</th>\n",
       "      <td>6041</td>\n",
       "      <td>1287</td>\n",
       "      <td>5</td>\n",
       "      <td>Ben-Hur (1959)</td>\n",
       "      <td>Action|Adventure|Drama</td>\n",
       "    </tr>\n",
       "  </tbody>\n",
       "</table>\n",
       "</div>"
      ],
      "text/plain": [
       "        user_id  movie_id  counts  \\\n",
       "836473     5851      3607       5   \n",
       "836474     5854      3026       4   \n",
       "836475     5854       690       3   \n",
       "836476     5938      2909       4   \n",
       "836477     5948      1360       5   \n",
       "0          6041      3936       5   \n",
       "1          6041      3462       5   \n",
       "2          6041       920       5   \n",
       "3          6041       916       5   \n",
       "4          6041      1287       5   \n",
       "\n",
       "                                                    title  \\\n",
       "836473                           One Little Indian (1973)   \n",
       "836474                              Slaughterhouse (1987)   \n",
       "836475             Promise, The (Versprechen, Das) (1994)   \n",
       "836476        Five Wives, Three Secretaries and Me (1998)   \n",
       "836477  Identification of a Woman (Identificazione di ...   \n",
       "0                        Phantom of the Opera, The (1943)   \n",
       "1                                     Modern Times (1936)   \n",
       "2                               Gone with the Wind (1939)   \n",
       "3                                    Roman Holiday (1953)   \n",
       "4                                          Ben-Hur (1959)   \n",
       "\n",
       "                         genre  \n",
       "836473    Comedy|Drama|Western  \n",
       "836474                  Horror  \n",
       "836475                 Romance  \n",
       "836476             Documentary  \n",
       "836477                   Drama  \n",
       "0               Drama|Thriller  \n",
       "1                       Comedy  \n",
       "2            Drama|Romance|War  \n",
       "3               Comedy|Romance  \n",
       "4       Action|Adventure|Drama  "
      ]
     },
     "execution_count": 14,
     "metadata": {},
     "output_type": "execute_result"
    }
   ],
   "source": [
    "my_favorite = ['Phantom of the Opera, The (1943)', 'Modern Times (1936)', 'Gone with the Wind (1939)', 'Roman Holiday (1953)', 'Ben-Hur (1959)']\n",
    "my_favorite_id = [3936, 3462, 920, 916, 1287]\n",
    "my_favorite_gr = ['Drama|Thriller', 'Comedy', 'Drama|Romance|War', 'Comedy|Romance', 'Action|Adventure|Drama']\n",
    "\n",
    "# user_id 맨 마지막에 추가를 위해 6040 다음인 6041에 본인 정보 넣기.\n",
    "my_playlist = pd.DataFrame({'user_id': [6041]*5, 'movie_id':my_favorite_id, 'counts': [5]*5, 'title': my_favorite, 'genre': my_favorite_gr})\n",
    "\n",
    "if not user_df.isin({'user_id':[6041]})['user_id'].any():\n",
    "    user_df = user_df.append(my_playlist)\n",
    "    \n",
    "#ratings.reset_index(drop=True)\n",
    "user_df.tail(10)"
   ]
  },
  {
   "cell_type": "markdown",
   "id": "72c82161",
   "metadata": {},
   "source": [
    "### 모델  활용을 위한 indexing"
   ]
  },
  {
   "cell_type": "code",
   "execution_count": 15,
   "id": "8ae707a7",
   "metadata": {},
   "outputs": [],
   "source": [
    "user_unique = user_df['user_id'].unique()\n",
    "movies_unique = user_df['title'].unique()\n",
    "\n",
    "user_to_idx = {v:k for k,v in enumerate(user_unique)}\n",
    "movies_to_idx = {v:k for k,v in enumerate(movies_unique)}"
   ]
  },
  {
   "cell_type": "code",
   "execution_count": 16,
   "id": "1d076f0d",
   "metadata": {},
   "outputs": [
    {
     "name": "stdout",
     "output_type": "stream",
     "text": [
      "6039\n",
      "2106\n"
     ]
    }
   ],
   "source": [
    "# 인덱싱 확인\n",
    "print(user_to_idx[6041])\n",
    "print(movies_to_idx['Phantom of the Opera, The (1943)'])"
   ]
  },
  {
   "cell_type": "code",
   "execution_count": 17,
   "id": "ee95cefc",
   "metadata": {},
   "outputs": [
    {
     "name": "stdout",
     "output_type": "stream",
     "text": [
      "user_id columns indexing OK!!\n",
      "title columns indexing OK!!\n"
     ]
    },
    {
     "data": {
      "text/html": [
       "<div>\n",
       "<style scoped>\n",
       "    .dataframe tbody tr th:only-of-type {\n",
       "        vertical-align: middle;\n",
       "    }\n",
       "\n",
       "    .dataframe tbody tr th {\n",
       "        vertical-align: top;\n",
       "    }\n",
       "\n",
       "    .dataframe thead th {\n",
       "        text-align: right;\n",
       "    }\n",
       "</style>\n",
       "<table border=\"1\" class=\"dataframe\">\n",
       "  <thead>\n",
       "    <tr style=\"text-align: right;\">\n",
       "      <th></th>\n",
       "      <th>user_id</th>\n",
       "      <th>movie_id</th>\n",
       "      <th>counts</th>\n",
       "      <th>title</th>\n",
       "      <th>genre</th>\n",
       "    </tr>\n",
       "  </thead>\n",
       "  <tbody>\n",
       "    <tr>\n",
       "      <th>0</th>\n",
       "      <td>0</td>\n",
       "      <td>1193</td>\n",
       "      <td>5</td>\n",
       "      <td>0</td>\n",
       "      <td>Drama</td>\n",
       "    </tr>\n",
       "    <tr>\n",
       "      <th>1</th>\n",
       "      <td>1</td>\n",
       "      <td>1193</td>\n",
       "      <td>5</td>\n",
       "      <td>0</td>\n",
       "      <td>Drama</td>\n",
       "    </tr>\n",
       "    <tr>\n",
       "      <th>2</th>\n",
       "      <td>2</td>\n",
       "      <td>1193</td>\n",
       "      <td>4</td>\n",
       "      <td>0</td>\n",
       "      <td>Drama</td>\n",
       "    </tr>\n",
       "    <tr>\n",
       "      <th>3</th>\n",
       "      <td>3</td>\n",
       "      <td>1193</td>\n",
       "      <td>4</td>\n",
       "      <td>0</td>\n",
       "      <td>Drama</td>\n",
       "    </tr>\n",
       "    <tr>\n",
       "      <th>4</th>\n",
       "      <td>4</td>\n",
       "      <td>1193</td>\n",
       "      <td>5</td>\n",
       "      <td>0</td>\n",
       "      <td>Drama</td>\n",
       "    </tr>\n",
       "    <tr>\n",
       "      <th>...</th>\n",
       "      <td>...</td>\n",
       "      <td>...</td>\n",
       "      <td>...</td>\n",
       "      <td>...</td>\n",
       "      <td>...</td>\n",
       "    </tr>\n",
       "    <tr>\n",
       "      <th>0</th>\n",
       "      <td>6039</td>\n",
       "      <td>3936</td>\n",
       "      <td>5</td>\n",
       "      <td>2106</td>\n",
       "      <td>Drama|Thriller</td>\n",
       "    </tr>\n",
       "    <tr>\n",
       "      <th>1</th>\n",
       "      <td>6039</td>\n",
       "      <td>3462</td>\n",
       "      <td>5</td>\n",
       "      <td>1329</td>\n",
       "      <td>Comedy</td>\n",
       "    </tr>\n",
       "    <tr>\n",
       "      <th>2</th>\n",
       "      <td>6039</td>\n",
       "      <td>920</td>\n",
       "      <td>5</td>\n",
       "      <td>143</td>\n",
       "      <td>Drama|Romance|War</td>\n",
       "    </tr>\n",
       "    <tr>\n",
       "      <th>3</th>\n",
       "      <td>6039</td>\n",
       "      <td>916</td>\n",
       "      <td>5</td>\n",
       "      <td>588</td>\n",
       "      <td>Comedy|Romance</td>\n",
       "    </tr>\n",
       "    <tr>\n",
       "      <th>4</th>\n",
       "      <td>6039</td>\n",
       "      <td>1287</td>\n",
       "      <td>5</td>\n",
       "      <td>6</td>\n",
       "      <td>Action|Adventure|Drama</td>\n",
       "    </tr>\n",
       "  </tbody>\n",
       "</table>\n",
       "<p>836483 rows × 5 columns</p>\n",
       "</div>"
      ],
      "text/plain": [
       "    user_id  movie_id  counts  title                   genre\n",
       "0         0      1193       5      0                   Drama\n",
       "1         1      1193       5      0                   Drama\n",
       "2         2      1193       4      0                   Drama\n",
       "3         3      1193       4      0                   Drama\n",
       "4         4      1193       5      0                   Drama\n",
       "..      ...       ...     ...    ...                     ...\n",
       "0      6039      3936       5   2106          Drama|Thriller\n",
       "1      6039      3462       5   1329                  Comedy\n",
       "2      6039       920       5    143       Drama|Romance|War\n",
       "3      6039       916       5    588          Comedy|Romance\n",
       "4      6039      1287       5      6  Action|Adventure|Drama\n",
       "\n",
       "[836483 rows x 5 columns]"
      ]
     },
     "execution_count": 17,
     "metadata": {},
     "output_type": "execute_result"
    }
   ],
   "source": [
    "temp_user_data = user_df['user_id'].map(user_to_idx.get).dropna()\n",
    "if len(temp_user_data) == (len(user_df)):\n",
    "    print('user_id columns indexing OK!!')\n",
    "    user_df['user_id'] = temp_user_data\n",
    "else:\n",
    "    print('user_id column indexing Fail!!')\n",
    "\n",
    "temp_movies_data = user_df['title'].map(movies_to_idx.get).dropna()\n",
    "if len(temp_movies_data) == len(user_df):\n",
    "    print('title columns indexing OK!!')\n",
    "    user_df['title'] = temp_movies_data\n",
    "else:\n",
    "    print('title column indexing Fail!!')\n",
    "\n",
    "user_df"
   ]
  },
  {
   "cell_type": "markdown",
   "id": "f7c9cc54",
   "metadata": {},
   "source": [
    "# CSR matrix를 직접 만들어 봅시다."
   ]
  },
  {
   "cell_type": "code",
   "execution_count": 18,
   "id": "01ba27da",
   "metadata": {},
   "outputs": [
    {
     "data": {
      "text/plain": [
       "<6040x3628 sparse matrix of type '<class 'numpy.int64'>'\n",
       "\twith 836483 stored elements in Compressed Sparse Row format>"
      ]
     },
     "execution_count": 18,
     "metadata": {},
     "output_type": "execute_result"
    }
   ],
   "source": [
    "num_user = user_df['user_id'].nunique()\n",
    "num_movies = user_df['title'].nunique()\n",
    "\n",
    "csr_data = csr_matrix((user_df.counts, (user_df.user_id, user_df.title)), shape=(num_user, num_movies))\n",
    "csr_data"
   ]
  },
  {
   "cell_type": "markdown",
   "id": "af929e62",
   "metadata": {},
   "source": [
    "# als_model = AlternatingLeastSquares 모델을 직접 구성하여 훈련시켜 봅시다."
   ]
  },
  {
   "cell_type": "code",
   "execution_count": 19,
   "id": "bda395d5",
   "metadata": {},
   "outputs": [],
   "source": [
    "# implicit 라이브러리에서 권장하는 부분\n",
    "\n",
    "os.environ['OPENBLAS_NUM_THREADS'] = '1'\n",
    "os.environ['KMP_DUPLICATE_LIB_OK'] = 'True'\n",
    "os.environ['MKL_NUM_THREADS'] = '1'"
   ]
  },
  {
   "cell_type": "code",
   "execution_count": 20,
   "id": "55c28161",
   "metadata": {},
   "outputs": [],
   "source": [
    "# Implicit AlternatingLeastSquares 모델의 선언\n",
    "# factors와 iterations를 늘릴 수록 학습 데이터를 잘 학습하게 되지만 과적합 우려가 있습니다.\n",
    "als_model = AlternatingLeastSquares(factors=600, regularization=0.01, use_gpu=False, iterations=50, dtype=np.float32)"
   ]
  },
  {
   "cell_type": "code",
   "execution_count": 21,
   "id": "08b54a21",
   "metadata": {},
   "outputs": [
    {
     "data": {
      "text/plain": [
       "<3628x6040 sparse matrix of type '<class 'numpy.int64'>'\n",
       "\twith 836483 stored elements in Compressed Sparse Column format>"
      ]
     },
     "execution_count": 21,
     "metadata": {},
     "output_type": "execute_result"
    }
   ],
   "source": [
    "# als 모델은 input으로 (item X user 형태의 matrix를 받기 때문에 Transpose)\n",
    "csr_data_transpose = csr_data.T\n",
    "csr_data_transpose"
   ]
  },
  {
   "cell_type": "code",
   "execution_count": 22,
   "id": "bc290712",
   "metadata": {},
   "outputs": [
    {
     "data": {
      "application/vnd.jupyter.widget-view+json": {
       "model_id": "8a55d6f46c8747a7abeee033ddb1db92",
       "version_major": 2,
       "version_minor": 0
      },
      "text/plain": [
       "  0%|          | 0/50 [00:00<?, ?it/s]"
      ]
     },
     "metadata": {},
     "output_type": "display_data"
    }
   ],
   "source": [
    "# 모델 훈련\n",
    "als_model.fit(csr_data_transpose)"
   ]
  },
  {
   "cell_type": "code",
   "execution_count": 23,
   "id": "9e1f7130",
   "metadata": {},
   "outputs": [],
   "source": [
    "# 본인 user_id 6041과 선호 영화 movie_id 3936 의 벡터 확인\n",
    "user_test, phantom = user_to_idx[6041], movies_to_idx['Phantom of the Opera, The (1943)']\n",
    "user_vector, phantom_vector = als_model.user_factors[user_test], als_model.item_factors[phantom]"
   ]
  },
  {
   "cell_type": "code",
   "execution_count": 24,
   "id": "ee3d292a",
   "metadata": {},
   "outputs": [
    {
     "data": {
      "text/plain": [
       "0.47700274"
      ]
     },
     "execution_count": 24,
     "metadata": {},
     "output_type": "execute_result"
    }
   ],
   "source": [
    "# 두 값의 내적\n",
    "np.dot(user_vector, phantom_vector)"
   ]
  },
  {
   "cell_type": "markdown",
   "id": "9f1e88a4",
   "metadata": {},
   "source": [
    "선호영화지만 약 0.477 애매한 수치를 확인.\n",
    "좋아하는 영화로 5개를 넣은게 서로 별로 연관성이 없다고 판단해서 이렇게 나온것 같습니다."
   ]
  },
  {
   "cell_type": "markdown",
   "id": "24c1a38a",
   "metadata": {},
   "source": [
    "# 내가 선호하는 5가지 영화 중 하나와 그 외의 영화 하나를 골라 훈련된 모델이 예측한 나의 선호도를 파악해 보세요."
   ]
  },
  {
   "cell_type": "code",
   "execution_count": 25,
   "id": "dc0b6555",
   "metadata": {},
   "outputs": [
    {
     "data": {
      "text/plain": [
       "0.63608867"
      ]
     },
     "execution_count": 25,
     "metadata": {},
     "output_type": "execute_result"
    }
   ],
   "source": [
    "# 선호영화 modern times\n",
    "modern = movies_to_idx['Modern Times (1936)']\n",
    "modern_vector = als_model.item_factors[modern]\n",
    "np.dot(user_vector, modern_vector)"
   ]
  },
  {
   "cell_type": "code",
   "execution_count": 26,
   "id": "561036f1",
   "metadata": {},
   "outputs": [
    {
     "data": {
      "text/plain": [
       "-0.01822477"
      ]
     },
     "execution_count": 26,
     "metadata": {},
     "output_type": "execute_result"
    }
   ],
   "source": [
    "# 비선호 영화 toy story\n",
    "toy = movies_to_idx['Toy Story (1995)']\n",
    "toy_vector = als_model.item_factors[toy]\n",
    "np.dot(user_vector, toy_vector)"
   ]
  },
  {
   "cell_type": "markdown",
   "id": "65a60f25",
   "metadata": {},
   "source": [
    "다른 선호 영화는 약 0.636라는 비교적 양호한 수치를 확인, 비선호 영화는 확실히 낮은 수치가 나옴을 확인."
   ]
  },
  {
   "cell_type": "markdown",
   "id": "21e2ac1a",
   "metadata": {},
   "source": [
    "# 내가 좋아하는 영화와 비슷한 영화를 추천받아 봅시다."
   ]
  },
  {
   "cell_type": "code",
   "execution_count": 27,
   "id": "2aac4adb",
   "metadata": {},
   "outputs": [],
   "source": [
    "idx_to_movies = {v:k for k,v in movies_to_idx.items()}"
   ]
  },
  {
   "cell_type": "code",
   "execution_count": 28,
   "id": "27954aed",
   "metadata": {},
   "outputs": [],
   "source": [
    "def get_similar_movie(movie_title: str):\n",
    "    # movie title을 id값으로 변환\n",
    "    movie_id = movies_to_idx[movie_title]\n",
    "    # movie id로 영화 추천받기\n",
    "    similar_movie = als_model.similar_items(movie_id, N=15)\n",
    "    # 추천 받은 movie id를 title로 변환\n",
    "    similar_movie = [(idx_to_movies[i[0]], i[1]) for i in similar_movie]\n",
    "    return similar_movie"
   ]
  },
  {
   "cell_type": "code",
   "execution_count": 38,
   "id": "a6801ff2",
   "metadata": {},
   "outputs": [
    {
     "data": {
      "text/plain": [
       "[('Phantom of the Opera, The (1943)', 0.99999994),\n",
       " ('Return of the Fly (1959)', 0.610502),\n",
       " ('Creature From the Black Lagoon, The (1954)', 0.5694462),\n",
       " ('Voyage to the Bottom of the Sea (1961)', 0.5494171),\n",
       " ('Invisible Man, The (1933)', 0.5462552),\n",
       " ('Get Carter (1971)', 0.5320348),\n",
       " ('Schlafes Bruder (Brother of Sleep) (1995)', 0.52124023),\n",
       " ('Walk in the Sun, A (1945)', 0.5177),\n",
       " ('Rich and Strange (1932)', 0.51713604),\n",
       " ('Tales of Terror (1962)', 0.5155728),\n",
       " ('Garbage Pail Kids Movie, The (1987)', 0.5131333),\n",
       " ('Love Bewitched, A (El Amor Brujo) (1986)', 0.5130501),\n",
       " ('Target (1995)', 0.5124302),\n",
       " ('Kronos (1957)', 0.51154226),\n",
       " ('Very Natural Thing, A (1974)', 0.51081365)]"
      ]
     },
     "execution_count": 38,
     "metadata": {},
     "output_type": "execute_result"
    }
   ],
   "source": [
    "get_similar_movie('Phantom of the Opera, The (1943)')"
   ]
  },
  {
   "cell_type": "code",
   "execution_count": 30,
   "id": "2cb328e7",
   "metadata": {},
   "outputs": [
    {
     "data": {
      "text/plain": [
       "[('Modern Times (1936)', 1.0),\n",
       " ('City Lights (1931)', 0.5741298),\n",
       " ('Great Dictator, The (1940)', 0.53041327),\n",
       " ('Gold Rush, The (1925)', 0.46550345),\n",
       " ('Kid, The (1921)', 0.4424368),\n",
       " ('Circus, The (1928)', 0.44181168),\n",
       " ('Limelight (1952)', 0.4220076),\n",
       " ('Go West (1925)', 0.4140133),\n",
       " ('Battling Butler (1926)', 0.40214255),\n",
       " ('Monsieur Verdoux (1947)', 0.39772847),\n",
       " ('King in New York, A (1957)', 0.39613995),\n",
       " ('Ulysses (Ulisse) (1954)', 0.39441684),\n",
       " ('Three Ages, The (1923)', 0.39406645),\n",
       " ('Gay Deceivers, The (1969)', 0.39259002),\n",
       " ('Trouble in Paradise (1932)', 0.3921143)]"
      ]
     },
     "execution_count": 30,
     "metadata": {},
     "output_type": "execute_result"
    }
   ],
   "source": [
    "get_similar_movie('Modern Times (1936)')"
   ]
  },
  {
   "cell_type": "markdown",
   "id": "7cb68353",
   "metadata": {},
   "source": [
    "Phantom of the Opera, The (1943)를 기반으로한 추천은 전체적으로 0.5 이상의 양호한 수치를 보여주고  \n",
    "Modern Times (1936) 도 대체로 0.4 이상의 양호한 수치를 보여주고 있습니다."
   ]
  },
  {
   "cell_type": "markdown",
   "id": "6d38cc9c",
   "metadata": {},
   "source": [
    "# 내가 가장 좋아할 만한 영화들을 추천받아 봅시다."
   ]
  },
  {
   "cell_type": "code",
   "execution_count": 31,
   "id": "722fdfa4",
   "metadata": {},
   "outputs": [
    {
     "data": {
      "text/plain": [
       "[('City Lights (1931)', 0.26107055),\n",
       " ('Creature From the Black Lagoon, The (1954)', 0.21289507),\n",
       " ('Bank Dick, The (1940)', 0.20519413),\n",
       " ('Great Dictator, The (1940)', 0.19220155),\n",
       " ('Invisible Man, The (1933)', 0.18529448),\n",
       " ('Fantastic Voyage (1966)', 0.1800462),\n",
       " ('Duck Soup (1933)', 0.17729557),\n",
       " ('Gold Rush, The (1925)', 0.17621845),\n",
       " ('To Catch a Thief (1955)', 0.1671143),\n",
       " ('Say Anything... (1989)', 0.16239825),\n",
       " ('Top Hat (1935)', 0.15780559),\n",
       " ('Abbott and Costello Meet Frankenstein (1948)', 0.15045281),\n",
       " ('Voyage to the Bottom of the Sea (1961)', 0.14672965),\n",
       " ('Sabrina (1954)', 0.14645112),\n",
       " ('12 Angry Men (1957)', 0.14456478),\n",
       " ('Philadelphia Story, The (1940)', 0.14221379),\n",
       " ('Crimson Tide (1995)', 0.13920878),\n",
       " ('King Kong (1933)', 0.1351399),\n",
       " ('Apartment, The (1960)', 0.13161974),\n",
       " ('Glengarry Glen Ross (1992)', 0.13137251)]"
      ]
     },
     "execution_count": 31,
     "metadata": {},
     "output_type": "execute_result"
    }
   ],
   "source": [
    "user = user_to_idx[6041]\n",
    "# recommend 에서는 user*item CSR Matrix를 받습니다.\n",
    "movie_recommended = als_model.recommend(user, csr_data, N=20, filter_already_liked_items=True)\n",
    "[(idx_to_movies[i[0]], i[1]) for i in movie_recommended]"
   ]
  },
  {
   "cell_type": "code",
   "execution_count": 32,
   "id": "531a2e80",
   "metadata": {},
   "outputs": [],
   "source": [
    "# 추천받은것에 대한 기여도 확인\n",
    "excalibur = movies_to_idx['City Lights (1931)']\n",
    "explain = als_model.explain(user, csr_data, itemid=excalibur)"
   ]
  },
  {
   "cell_type": "code",
   "execution_count": 33,
   "id": "c90a1313",
   "metadata": {},
   "outputs": [
    {
     "data": {
      "text/plain": [
       "[('Modern Times (1936)', 0.27691614751913884),\n",
       " ('Phantom of the Opera, The (1943)', 0.025384847353148596),\n",
       " ('Gone with the Wind (1939)', -0.004557852992339908),\n",
       " ('Roman Holiday (1953)', -0.01485875331849006),\n",
       " ('Ben-Hur (1959)', -0.023153133771358376)]"
      ]
     },
     "execution_count": 33,
     "metadata": {},
     "output_type": "execute_result"
    }
   ],
   "source": [
    "[(idx_to_movies[i[0]], i[1]) for i in explain[1]]"
   ]
  },
  {
   "cell_type": "markdown",
   "id": "11e8f8ba",
   "metadata": {},
   "source": [
    "가장 기여도가 높은 Modern Times (1936)로 추천영화를 뽑았을때의 가장 추천도가 높았던 영화가 나왔습니다."
   ]
  },
  {
   "cell_type": "code",
   "execution_count": 36,
   "id": "cb49083f",
   "metadata": {},
   "outputs": [],
   "source": [
    "# 추천받은것에 대한 기여도 확인\n",
    "excalibur = movies_to_idx['Creature From the Black Lagoon, The (1954)']\n",
    "explain = als_model.explain(user, csr_data, itemid=excalibur)"
   ]
  },
  {
   "cell_type": "code",
   "execution_count": 37,
   "id": "33aad538",
   "metadata": {},
   "outputs": [
    {
     "data": {
      "text/plain": [
       "[('Phantom of the Opera, The (1943)', 0.19223006905269566),\n",
       " ('Modern Times (1936)', 0.023472053177498765),\n",
       " ('Gone with the Wind (1939)', 0.016880482602817423),\n",
       " ('Roman Holiday (1953)', 0.004635087974000333),\n",
       " ('Ben-Hur (1959)', -0.025619083344200388)]"
      ]
     },
     "execution_count": 37,
     "metadata": {},
     "output_type": "execute_result"
    }
   ],
   "source": [
    "[(idx_to_movies[i[0]], i[1]) for i in explain[1]]"
   ]
  },
  {
   "cell_type": "markdown",
   "id": "599d25d2",
   "metadata": {},
   "source": [
    "가장 기여도가 높은 Phantom of the Opera, The (1943)로 추천영화를 뽑았을때의 두번째로 추천도가 높았던 영화가 나왔습니다."
   ]
  },
  {
   "cell_type": "markdown",
   "id": "2a79216c",
   "metadata": {},
   "source": [
    "# 회고"
   ]
  },
  {
   "cell_type": "markdown",
   "id": "310204ff",
   "metadata": {},
   "source": [
    "* factors=100, iterations=15 으로 모델훈련시 좋아하는 영화로 5개를 넣었던게 서로 연관성이 많이 부족한지 여러 추천부분에서 수치가 낮게나와서 factors=600, iterations=50 으로 상향 조정해보니 수치들이 양호한범위에 들어갔습니다.  \n",
    "* 내가 좋아하는 영화를 기반으로 추천을 받은 영화들의 추천도 상위권에 있는 영화들이 내가 좋아할 법한 영화를 추천받을때 나온 영화들의 추천기여도에 상위권에 존재하는것을 보니 모델훈련이 잘 된것같습니다.  \n",
    "* 영화목록에 2000년도 영화까지만 있는 오래된 과거의 데이터여서 테스트로 쓰일 선호하는 영화를 고르는데 조금 어려움을 겪게되어 데이터는 비교적 최근것을 준비하는게 여러모로 수월할것 같다는 생각이 들었습니다."
   ]
  }
 ],
 "metadata": {
  "kernelspec": {
   "display_name": "Python 3 (ipykernel)",
   "language": "python",
   "name": "python3"
  },
  "language_info": {
   "codemirror_mode": {
    "name": "ipython",
    "version": 3
   },
   "file_extension": ".py",
   "mimetype": "text/x-python",
   "name": "python",
   "nbconvert_exporter": "python",
   "pygments_lexer": "ipython3",
   "version": "3.9.7"
  }
 },
 "nbformat": 4,
 "nbformat_minor": 5
}
