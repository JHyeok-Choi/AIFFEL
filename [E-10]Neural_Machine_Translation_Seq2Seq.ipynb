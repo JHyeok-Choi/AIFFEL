{
 "cells": [
  {
   "cell_type": "code",
   "execution_count": 1,
   "id": "d01a6c6c",
   "metadata": {},
   "outputs": [],
   "source": [
    "import pandas as pd\n",
    "from tensorflow.keras.preprocessing.text import Tokenizer\n",
    "from tensorflow.keras.preprocessing.sequence import pad_sequences\n",
    "from tensorflow.keras.layers import Input, Embedding, Masking, LSTM, Dense\n",
    "from tensorflow.keras.models import Model\n",
    "import numpy as np\n",
    "import matplotlib.pyplot as plt\n",
    "import os\n",
    "import re"
   ]
  },
  {
   "cell_type": "code",
   "execution_count": 2,
   "id": "8b43f040",
   "metadata": {},
   "outputs": [
    {
     "name": "stdout",
     "output_type": "stream",
     "text": [
      "전체 샘플의 수 : 217975\n"
     ]
    },
    {
     "data": {
      "text/html": [
       "<div>\n",
       "<style scoped>\n",
       "    .dataframe tbody tr th:only-of-type {\n",
       "        vertical-align: middle;\n",
       "    }\n",
       "\n",
       "    .dataframe tbody tr th {\n",
       "        vertical-align: top;\n",
       "    }\n",
       "\n",
       "    .dataframe thead th {\n",
       "        text-align: right;\n",
       "    }\n",
       "</style>\n",
       "<table border=\"1\" class=\"dataframe\">\n",
       "  <thead>\n",
       "    <tr style=\"text-align: right;\">\n",
       "      <th></th>\n",
       "      <th>eng</th>\n",
       "      <th>fra</th>\n",
       "      <th>cc</th>\n",
       "    </tr>\n",
       "  </thead>\n",
       "  <tbody>\n",
       "    <tr>\n",
       "      <th>148317</th>\n",
       "      <td>Are you being paid for doing this?</td>\n",
       "      <td>Est-ce que tu es payé pour faire ça ?</td>\n",
       "      <td>CC-BY 2.0 (France) Attribution: tatoeba.org #2...</td>\n",
       "    </tr>\n",
       "    <tr>\n",
       "      <th>71534</th>\n",
       "      <td>I was going to use that.</td>\n",
       "      <td>J'allais utiliser cela.</td>\n",
       "      <td>CC-BY 2.0 (France) Attribution: tatoeba.org #1...</td>\n",
       "    </tr>\n",
       "    <tr>\n",
       "      <th>137556</th>\n",
       "      <td>I thought that we were partners.</td>\n",
       "      <td>Je pensais qu'on était partenaires.</td>\n",
       "      <td>CC-BY 2.0 (France) Attribution: tatoeba.org #7...</td>\n",
       "    </tr>\n",
       "    <tr>\n",
       "      <th>80719</th>\n",
       "      <td>I've rented an apartment.</td>\n",
       "      <td>J'ai loué un appartement.</td>\n",
       "      <td>CC-BY 2.0 (France) Attribution: tatoeba.org #4...</td>\n",
       "    </tr>\n",
       "    <tr>\n",
       "      <th>111056</th>\n",
       "      <td>You're starting to annoy me.</td>\n",
       "      <td>Vous commencez à m'ennuyer.</td>\n",
       "      <td>CC-BY 2.0 (France) Attribution: tatoeba.org #1...</td>\n",
       "    </tr>\n",
       "  </tbody>\n",
       "</table>\n",
       "</div>"
      ],
      "text/plain": [
       "                                       eng  \\\n",
       "148317  Are you being paid for doing this?   \n",
       "71534             I was going to use that.   \n",
       "137556    I thought that we were partners.   \n",
       "80719            I've rented an apartment.   \n",
       "111056        You're starting to annoy me.   \n",
       "\n",
       "                                          fra  \\\n",
       "148317  Est-ce que tu es payé pour faire ça ?   \n",
       "71534                 J'allais utiliser cela.   \n",
       "137556    Je pensais qu'on était partenaires.   \n",
       "80719               J'ai loué un appartement.   \n",
       "111056            Vous commencez à m'ennuyer.   \n",
       "\n",
       "                                                       cc  \n",
       "148317  CC-BY 2.0 (France) Attribution: tatoeba.org #2...  \n",
       "71534   CC-BY 2.0 (France) Attribution: tatoeba.org #1...  \n",
       "137556  CC-BY 2.0 (France) Attribution: tatoeba.org #7...  \n",
       "80719   CC-BY 2.0 (France) Attribution: tatoeba.org #4...  \n",
       "111056  CC-BY 2.0 (France) Attribution: tatoeba.org #1...  "
      ]
     },
     "execution_count": 2,
     "metadata": {},
     "output_type": "execute_result"
    }
   ],
   "source": [
    "file_path = os.getenv('HOME') + '/aiffel/translator_seq2seq/data/fra.txt'\n",
    "lines = pd.read_csv(file_path, names=['eng', 'fra', 'cc'], sep='\\t')\n",
    "print('전체 샘플의 수 :', len(lines))\n",
    "lines.sample(5) # 샘플 5개 출력"
   ]
  },
  {
   "cell_type": "code",
   "execution_count": 3,
   "id": "ded75b8f",
   "metadata": {},
   "outputs": [
    {
     "data": {
      "text/html": [
       "<div>\n",
       "<style scoped>\n",
       "    .dataframe tbody tr th:only-of-type {\n",
       "        vertical-align: middle;\n",
       "    }\n",
       "\n",
       "    .dataframe tbody tr th {\n",
       "        vertical-align: top;\n",
       "    }\n",
       "\n",
       "    .dataframe thead th {\n",
       "        text-align: right;\n",
       "    }\n",
       "</style>\n",
       "<table border=\"1\" class=\"dataframe\">\n",
       "  <thead>\n",
       "    <tr style=\"text-align: right;\">\n",
       "      <th></th>\n",
       "      <th>eng</th>\n",
       "      <th>fra</th>\n",
       "    </tr>\n",
       "  </thead>\n",
       "  <tbody>\n",
       "    <tr>\n",
       "      <th>28615</th>\n",
       "      <td>This is expensive.</td>\n",
       "      <td>C'est cher.</td>\n",
       "    </tr>\n",
       "    <tr>\n",
       "      <th>7558</th>\n",
       "      <td>I feel queasy.</td>\n",
       "      <td>J'ai mal au cœur.</td>\n",
       "    </tr>\n",
       "    <tr>\n",
       "      <th>23413</th>\n",
       "      <td>Were you serious?</td>\n",
       "      <td>Étiez-vous sérieux ?</td>\n",
       "    </tr>\n",
       "    <tr>\n",
       "      <th>2626</th>\n",
       "      <td>We all die.</td>\n",
       "      <td>Nous mourons toutes.</td>\n",
       "    </tr>\n",
       "    <tr>\n",
       "      <th>3593</th>\n",
       "      <td>I'm winning.</td>\n",
       "      <td>Je l'emporte.</td>\n",
       "    </tr>\n",
       "  </tbody>\n",
       "</table>\n",
       "</div>"
      ],
      "text/plain": [
       "                      eng                   fra\n",
       "28615  This is expensive.           C'est cher.\n",
       "7558       I feel queasy.     J'ai mal au cœur.\n",
       "23413   Were you serious?  Étiez-vous sérieux ?\n",
       "2626          We all die.  Nous mourons toutes.\n",
       "3593         I'm winning.         Je l'emporte."
      ]
     },
     "execution_count": 3,
     "metadata": {},
     "output_type": "execute_result"
    }
   ],
   "source": [
    "lines = lines[['eng', 'fra']][:33000] # \n",
    "lines.sample(5)"
   ]
  },
  {
   "cell_type": "markdown",
   "id": "ac0707cc",
   "metadata": {},
   "source": [
    "## 정제, 정규화, 전처리 & 디코더 문장에 시작 토큰과 종료 토큰 넣기."
   ]
  },
  {
   "cell_type": "code",
   "execution_count": 4,
   "id": "ba731758",
   "metadata": {},
   "outputs": [],
   "source": [
    "def preprocessing(lines):\n",
    "    e_input = lines.eng.apply(lambda x: re.sub(r\"([?!.,])\", r\" \\1\", x.lower())).apply(lambda x: x.split())\n",
    "    d_input = lines.fra.apply(lambda x: re.sub(r\"([?!.,])\", r\" \\1\", x.lower())).apply(lambda x: (\"<sos> \" + x).split())\n",
    "    d_target = lines.fra.apply(lambda x: re.sub(r\"([?!.,])\", r\" \\1\", x.lower())).apply(lambda x: (x + \" <eos>\").split())\n",
    "    \n",
    "    return e_input, d_input, d_target"
   ]
  },
  {
   "cell_type": "code",
   "execution_count": 5,
   "id": "12b1c83f",
   "metadata": {},
   "outputs": [],
   "source": [
    "e_input, d_input, d_target = preprocessing(lines)"
   ]
  },
  {
   "cell_type": "code",
   "execution_count": 6,
   "id": "d488196b",
   "metadata": {},
   "outputs": [
    {
     "data": {
      "text/plain": [
       "0                            [go, .]\n",
       "1                            [go, .]\n",
       "2                            [go, .]\n",
       "3                            [go, .]\n",
       "4                            [hi, .]\n",
       "                    ...             \n",
       "32995    [i, want, to, meet, tom, .]\n",
       "32996    [i, want, to, see, more, .]\n",
       "32997    [i, want, to, see, that, .]\n",
       "32998    [i, want, to, see, them, .]\n",
       "32999    [i, want, to, see, this, .]\n",
       "Name: eng, Length: 33000, dtype: object"
      ]
     },
     "execution_count": 6,
     "metadata": {},
     "output_type": "execute_result"
    }
   ],
   "source": [
    "e_input"
   ]
  },
  {
   "cell_type": "code",
   "execution_count": 7,
   "id": "e2a27eb4",
   "metadata": {},
   "outputs": [
    {
     "data": {
      "text/plain": [
       "0                                   [<sos>, va, !]\n",
       "1                               [<sos>, marche, .]\n",
       "2                            [<sos>, en, route, !]\n",
       "3                                [<sos>, bouge, !]\n",
       "4                                [<sos>, salut, !]\n",
       "                           ...                    \n",
       "32995              [<sos>, je, veux, voir, tom, .]\n",
       "32996    [<sos>, je, veux, en, voir, davantage, .]\n",
       "32997               [<sos>, je, veux, voir, ça, .]\n",
       "32998              [<sos>, je, veux, les, voir, .]\n",
       "32999             [<sos>, je, veux, voir, ceci, .]\n",
       "Name: fra, Length: 33000, dtype: object"
      ]
     },
     "execution_count": 7,
     "metadata": {},
     "output_type": "execute_result"
    }
   ],
   "source": [
    "d_input"
   ]
  },
  {
   "cell_type": "code",
   "execution_count": 8,
   "id": "abb64145",
   "metadata": {},
   "outputs": [
    {
     "data": {
      "text/plain": [
       "0                                   [va, !, <eos>]\n",
       "1                               [marche, ., <eos>]\n",
       "2                            [en, route, !, <eos>]\n",
       "3                                [bouge, !, <eos>]\n",
       "4                                [salut, !, <eos>]\n",
       "                           ...                    \n",
       "32995              [je, veux, voir, tom, ., <eos>]\n",
       "32996    [je, veux, en, voir, davantage, ., <eos>]\n",
       "32997               [je, veux, voir, ça, ., <eos>]\n",
       "32998              [je, veux, les, voir, ., <eos>]\n",
       "32999             [je, veux, voir, ceci, ., <eos>]\n",
       "Name: fra, Length: 33000, dtype: object"
      ]
     },
     "execution_count": 8,
     "metadata": {},
     "output_type": "execute_result"
    }
   ],
   "source": [
    "d_target"
   ]
  },
  {
   "cell_type": "markdown",
   "id": "a4e5996f",
   "metadata": {},
   "source": [
    "## 케라스의 토크나이저로 텍스트를 숫자로 바꾸기"
   ]
  },
  {
   "cell_type": "code",
   "execution_count": 9,
   "id": "8cd3dab8",
   "metadata": {},
   "outputs": [],
   "source": [
    "eng_tokenizer = Tokenizer(filters=\"\", lower=False)\n",
    "eng_tokenizer.fit_on_texts(e_input)\n",
    "encoder_input = eng_tokenizer.texts_to_sequences(e_input)\n",
    "encoder_input = pad_sequences(encoder_input, padding='post')"
   ]
  },
  {
   "cell_type": "code",
   "execution_count": 10,
   "id": "eb673ac5",
   "metadata": {},
   "outputs": [
    {
     "data": {
      "text/plain": [
       "array([[24,  1,  0,  0,  0,  0,  0],\n",
       "       [24,  1,  0,  0,  0,  0,  0],\n",
       "       [24,  1,  0,  0,  0,  0,  0]], dtype=int32)"
      ]
     },
     "execution_count": 10,
     "metadata": {},
     "output_type": "execute_result"
    }
   ],
   "source": [
    "encoder_input[:3]"
   ]
  },
  {
   "cell_type": "code",
   "execution_count": 11,
   "id": "fed9b201",
   "metadata": {},
   "outputs": [],
   "source": [
    "fra_tokenizer = Tokenizer(filters=\"\", lower=False)\n",
    "fra_tokenizer.fit_on_texts(d_input)\n",
    "fra_tokenizer.fit_on_texts(d_target)\n",
    "\n",
    "decoder_input = fra_tokenizer.texts_to_sequences(d_input)\n",
    "decoder_input = pad_sequences(decoder_input, padding='post')\n",
    "\n",
    "decoder_target = fra_tokenizer.texts_to_sequences(d_target)\n",
    "decoder_target = pad_sequences(decoder_target, padding='post')"
   ]
  },
  {
   "cell_type": "code",
   "execution_count": 12,
   "id": "0c4f2c70",
   "metadata": {},
   "outputs": [
    {
     "data": {
      "text/plain": [
       "((33000, 7), (33000, 14), (33000, 14))"
      ]
     },
     "execution_count": 12,
     "metadata": {},
     "output_type": "execute_result"
    }
   ],
   "source": [
    "encoder_input.shape, decoder_input.shape, decoder_target.shape"
   ]
  },
  {
   "cell_type": "code",
   "execution_count": 13,
   "id": "92b7022a",
   "metadata": {},
   "outputs": [
    {
     "name": "stdout",
     "output_type": "stream",
     "text": [
      "영어 단어 집합의 크기 : 4648\n",
      "프랑스 단어 집합의 크기 : 9720\n"
     ]
    }
   ],
   "source": [
    "eng_vocab_size = len(eng_tokenizer.word_index) + 1\n",
    "fra_vocab_size = len(fra_tokenizer.word_index) + 1\n",
    "print('영어 단어 집합의 크기 :', eng_vocab_size)\n",
    "print('프랑스 단어 집합의 크기 :', fra_vocab_size)"
   ]
  },
  {
   "cell_type": "code",
   "execution_count": 14,
   "id": "4e516344",
   "metadata": {},
   "outputs": [],
   "source": [
    "eng_to_index = eng_tokenizer.word_index\n",
    "index_to_eng = eng_tokenizer.index_word\n",
    "fra_to_index = fra_tokenizer.word_index\n",
    "index_to_fra = fra_tokenizer.index_word"
   ]
  },
  {
   "cell_type": "code",
   "execution_count": 15,
   "id": "b6440880",
   "metadata": {},
   "outputs": [
    {
     "name": "stdout",
     "output_type": "stream",
     "text": [
      "랜덤 시퀀스 : [22089  4295 23975 ... 23462 29577  4027]\n"
     ]
    }
   ],
   "source": [
    "shuffle = np.arange(encoder_input.shape[0])\n",
    "np.random.shuffle(shuffle)\n",
    "print('랜덤 시퀀스 :', shuffle)"
   ]
  },
  {
   "cell_type": "code",
   "execution_count": 16,
   "id": "0b1a9e42",
   "metadata": {},
   "outputs": [],
   "source": [
    "encoder_input = encoder_input[shuffle]\n",
    "decoder_input = decoder_input[shuffle]\n",
    "decoder_target = decoder_target[shuffle]"
   ]
  },
  {
   "cell_type": "code",
   "execution_count": 17,
   "id": "a1757783",
   "metadata": {},
   "outputs": [
    {
     "data": {
      "text/plain": [
       "array([  9,  30, 981,   1,   0,   0,   0], dtype=int32)"
      ]
     },
     "execution_count": 17,
     "metadata": {},
     "output_type": "execute_result"
    }
   ],
   "source": [
    "encoder_input[2023]"
   ]
  },
  {
   "cell_type": "markdown",
   "id": "65492c5b",
   "metadata": {},
   "source": [
    "decoder input 데이터와 target 데이터가 같은지 확인."
   ]
  },
  {
   "cell_type": "code",
   "execution_count": 18,
   "id": "3b5e84a7",
   "metadata": {},
   "outputs": [
    {
     "data": {
      "text/plain": [
       "array([  2,   4, 177,  16,   8, 977,   1,   0,   0,   0,   0,   0,   0,\n",
       "         0], dtype=int32)"
      ]
     },
     "execution_count": 18,
     "metadata": {},
     "output_type": "execute_result"
    }
   ],
   "source": [
    "decoder_input[2023]"
   ]
  },
  {
   "cell_type": "code",
   "execution_count": 19,
   "id": "af9589fb",
   "metadata": {},
   "outputs": [
    {
     "data": {
      "text/plain": [
       "array([  4, 177,  16,   8, 977,   1,   3,   0,   0,   0,   0,   0,   0,\n",
       "         0], dtype=int32)"
      ]
     },
     "execution_count": 19,
     "metadata": {},
     "output_type": "execute_result"
    }
   ],
   "source": [
    "decoder_target[2023]"
   ]
  },
  {
   "cell_type": "code",
   "execution_count": 20,
   "id": "732c0825",
   "metadata": {},
   "outputs": [],
   "source": [
    "n_of_val = 3000\n",
    "\n",
    "encoder_input_train = encoder_input[:-n_of_val]\n",
    "decoder_input_train = decoder_input[:-n_of_val]\n",
    "decoder_target_train = decoder_target[:-n_of_val]\n",
    "\n",
    "encoder_input_test = encoder_input[-n_of_val:]\n",
    "decoder_input_test = decoder_input[-n_of_val:]\n",
    "decoder_target_test = decoder_target[-n_of_val:]"
   ]
  },
  {
   "cell_type": "code",
   "execution_count": 21,
   "id": "2bd6db0c",
   "metadata": {},
   "outputs": [
    {
     "name": "stdout",
     "output_type": "stream",
     "text": [
      "훈련 데이터 크기 : (30000, 7) (30000, 14) (30000, 14)\n"
     ]
    }
   ],
   "source": [
    "print(\"훈련 데이터 크기 :\", encoder_input_train.shape, decoder_input_train.shape, decoder_target_train.shape)"
   ]
  },
  {
   "cell_type": "code",
   "execution_count": 22,
   "id": "73635612",
   "metadata": {},
   "outputs": [
    {
     "name": "stdout",
     "output_type": "stream",
     "text": [
      "테스트 데이터 크기 : (3000, 7) (3000, 14) (3000, 14)\n"
     ]
    }
   ],
   "source": [
    "print(\"테스트 데이터 크기 :\", encoder_input_test.shape, decoder_input_test.shape, decoder_target_test.shape)"
   ]
  },
  {
   "cell_type": "markdown",
   "id": "a527f047",
   "metadata": {},
   "source": [
    "## 임베딩 층(Embedding layer) 사용하기"
   ]
  },
  {
   "cell_type": "code",
   "execution_count": 23,
   "id": "2ea57596",
   "metadata": {},
   "outputs": [],
   "source": [
    "embedding_dim = 64\n",
    "hidden_units = 64"
   ]
  },
  {
   "cell_type": "code",
   "execution_count": 24,
   "id": "9603457f",
   "metadata": {},
   "outputs": [],
   "source": [
    "encoder_inputs = Input(shape=(None,))\n",
    "enc_emb = Embedding(eng_vocab_size, embedding_dim)(encoder_inputs) # 임베딩 층\n",
    "enc_masking = Masking(mask_value=0.0)(enc_emb) # 패딩 0은 연산에서 제외\n",
    "encoder_lstm = LSTM(hidden_units, return_state=True) # 상태값 리턴을 위해 return_state는 True\n",
    "encoder_outputs, state_h, state_c = encoder_lstm(enc_masking) # 은닉 상태와 셀 상태를 리턴\n",
    "encoder_states = [state_h, state_c] # 인코더의 은닉 상태와 셀 상태를 저장"
   ]
  },
  {
   "cell_type": "code",
   "execution_count": 25,
   "id": "613f586c",
   "metadata": {},
   "outputs": [],
   "source": [
    "decoder_inputs = Input(shape=(None,))\n",
    "dec_emb_layer = Embedding(fra_vocab_size, hidden_units) # 임베딩 층\n",
    "dec_emb = dec_emb_layer(decoder_inputs) # 패딩 0은 연산에서 제외\n",
    "dec_masking = Masking(mask_value=0.0)(dec_emb)\n",
    "\n",
    "# 상태값 리턴을 위해 return_state는 True, 모든 시점에 대해서 단어를 예측하기 위해 return_sequences는 True.\n",
    "decoder_lstm = LSTM(hidden_units, return_sequences=True, return_state=True)\n",
    "\n",
    "# 인코더의 은닉 상태를 초기 은닉 상태(initial_state)로 사용\n",
    "decoder_outputs, _, _ = decoder_lstm(dec_masking, initial_state=encoder_states)\n",
    "\n",
    "# 모든 시점의 결과에 대해서 소프트맥스 함수를 사용한 출력층을 통해 단어를 예측\n",
    "decoder_dense = Dense(fra_vocab_size, activation='softmax')\n",
    "decoder_outputs = decoder_dense(decoder_outputs)"
   ]
  },
  {
   "cell_type": "markdown",
   "id": "4def4bac",
   "metadata": {},
   "source": [
    "# 모델 구현하기"
   ]
  },
  {
   "cell_type": "code",
   "execution_count": 26,
   "id": "8638941e",
   "metadata": {},
   "outputs": [],
   "source": [
    "# 모델의 입력과 출력을 정의.\n",
    "model = Model([encoder_inputs, decoder_inputs], decoder_outputs)\n",
    "model.compile(optimizer='adam', loss='sparse_categorical_crossentropy', metrics=['accuracy'])"
   ]
  },
  {
   "cell_type": "code",
   "execution_count": 27,
   "id": "17bf839b",
   "metadata": {},
   "outputs": [
    {
     "name": "stdout",
     "output_type": "stream",
     "text": [
      "Epoch 1/50\n",
      "235/235 [==============================] - 17s 37ms/step - loss: 3.5981 - accuracy: 0.5923 - val_loss: 2.1917 - val_accuracy: 0.6028\n",
      "Epoch 2/50\n",
      "235/235 [==============================] - 7s 28ms/step - loss: 2.0206 - accuracy: 0.6732 - val_loss: 1.8940 - val_accuracy: 0.7347\n",
      "Epoch 3/50\n",
      "235/235 [==============================] - 7s 28ms/step - loss: 1.7982 - accuracy: 0.7374 - val_loss: 1.7297 - val_accuracy: 0.7413\n",
      "Epoch 4/50\n",
      "235/235 [==============================] - 7s 28ms/step - loss: 1.6553 - accuracy: 0.7451 - val_loss: 1.6173 - val_accuracy: 0.7507\n",
      "Epoch 5/50\n",
      "235/235 [==============================] - 7s 28ms/step - loss: 1.5466 - accuracy: 0.7593 - val_loss: 1.5246 - val_accuracy: 0.7681\n",
      "Epoch 6/50\n",
      "235/235 [==============================] - 7s 28ms/step - loss: 1.4494 - accuracy: 0.7755 - val_loss: 1.4413 - val_accuracy: 0.7831\n",
      "Epoch 7/50\n",
      "235/235 [==============================] - 7s 28ms/step - loss: 1.3583 - accuracy: 0.7896 - val_loss: 1.3626 - val_accuracy: 0.7954\n",
      "Epoch 8/50\n",
      "235/235 [==============================] - 6s 28ms/step - loss: 1.2766 - accuracy: 0.8010 - val_loss: 1.3017 - val_accuracy: 0.8036\n",
      "Epoch 9/50\n",
      "235/235 [==============================] - 6s 28ms/step - loss: 1.2115 - accuracy: 0.8089 - val_loss: 1.2523 - val_accuracy: 0.8103\n",
      "Epoch 10/50\n",
      "235/235 [==============================] - 7s 28ms/step - loss: 1.1556 - accuracy: 0.8142 - val_loss: 1.2116 - val_accuracy: 0.8144\n",
      "Epoch 11/50\n",
      "235/235 [==============================] - 7s 28ms/step - loss: 1.1048 - accuracy: 0.8194 - val_loss: 1.1794 - val_accuracy: 0.8184\n",
      "Epoch 12/50\n",
      "235/235 [==============================] - 7s 28ms/step - loss: 1.0603 - accuracy: 0.8237 - val_loss: 1.1472 - val_accuracy: 0.8215\n",
      "Epoch 13/50\n",
      "235/235 [==============================] - 7s 28ms/step - loss: 1.0200 - accuracy: 0.8275 - val_loss: 1.1216 - val_accuracy: 0.8245\n",
      "Epoch 14/50\n",
      "235/235 [==============================] - 6s 28ms/step - loss: 0.9838 - accuracy: 0.8309 - val_loss: 1.1005 - val_accuracy: 0.8270\n",
      "Epoch 15/50\n",
      "235/235 [==============================] - 6s 28ms/step - loss: 0.9504 - accuracy: 0.8347 - val_loss: 1.0806 - val_accuracy: 0.8285\n",
      "Epoch 16/50\n",
      "235/235 [==============================] - 7s 28ms/step - loss: 0.9187 - accuracy: 0.8376 - val_loss: 1.0616 - val_accuracy: 0.8304\n",
      "Epoch 17/50\n",
      "235/235 [==============================] - 7s 28ms/step - loss: 0.8885 - accuracy: 0.8405 - val_loss: 1.0464 - val_accuracy: 0.8322\n",
      "Epoch 18/50\n",
      "235/235 [==============================] - 7s 28ms/step - loss: 0.8599 - accuracy: 0.8432 - val_loss: 1.0315 - val_accuracy: 0.8338\n",
      "Epoch 19/50\n",
      "235/235 [==============================] - 7s 28ms/step - loss: 0.8326 - accuracy: 0.8460 - val_loss: 1.0178 - val_accuracy: 0.8347\n",
      "Epoch 20/50\n",
      "235/235 [==============================] - 7s 28ms/step - loss: 0.8062 - accuracy: 0.8486 - val_loss: 1.0061 - val_accuracy: 0.8370\n",
      "Epoch 21/50\n",
      "235/235 [==============================] - 6s 28ms/step - loss: 0.7810 - accuracy: 0.8516 - val_loss: 0.9938 - val_accuracy: 0.8382\n",
      "Epoch 22/50\n",
      "235/235 [==============================] - 7s 28ms/step - loss: 0.7569 - accuracy: 0.8541 - val_loss: 0.9810 - val_accuracy: 0.8393\n",
      "Epoch 23/50\n",
      "235/235 [==============================] - 7s 28ms/step - loss: 0.7337 - accuracy: 0.8564 - val_loss: 0.9702 - val_accuracy: 0.8414\n",
      "Epoch 24/50\n",
      "235/235 [==============================] - 6s 28ms/step - loss: 0.7115 - accuracy: 0.8591 - val_loss: 0.9605 - val_accuracy: 0.8425\n",
      "Epoch 25/50\n",
      "235/235 [==============================] - 7s 28ms/step - loss: 0.6901 - accuracy: 0.8615 - val_loss: 0.9515 - val_accuracy: 0.8432\n",
      "Epoch 26/50\n",
      "235/235 [==============================] - 7s 28ms/step - loss: 0.6697 - accuracy: 0.8639 - val_loss: 0.9453 - val_accuracy: 0.8440\n",
      "Epoch 27/50\n",
      "235/235 [==============================] - 7s 28ms/step - loss: 0.6496 - accuracy: 0.8662 - val_loss: 0.9387 - val_accuracy: 0.8452\n",
      "Epoch 28/50\n",
      "235/235 [==============================] - 7s 28ms/step - loss: 0.6305 - accuracy: 0.8685 - val_loss: 0.9299 - val_accuracy: 0.8457\n",
      "Epoch 29/50\n",
      "235/235 [==============================] - 6s 28ms/step - loss: 0.6122 - accuracy: 0.8710 - val_loss: 0.9255 - val_accuracy: 0.8465\n",
      "Epoch 30/50\n",
      "235/235 [==============================] - 7s 28ms/step - loss: 0.5950 - accuracy: 0.8729 - val_loss: 0.9184 - val_accuracy: 0.8476\n",
      "Epoch 31/50\n",
      "235/235 [==============================] - 6s 28ms/step - loss: 0.5780 - accuracy: 0.8757 - val_loss: 0.9137 - val_accuracy: 0.8484\n",
      "Epoch 32/50\n",
      "235/235 [==============================] - 7s 28ms/step - loss: 0.5616 - accuracy: 0.8776 - val_loss: 0.9071 - val_accuracy: 0.8486\n",
      "Epoch 33/50\n",
      "235/235 [==============================] - 7s 28ms/step - loss: 0.5456 - accuracy: 0.8802 - val_loss: 0.9046 - val_accuracy: 0.8492\n",
      "Epoch 34/50\n",
      "235/235 [==============================] - 6s 28ms/step - loss: 0.5306 - accuracy: 0.8821 - val_loss: 0.8988 - val_accuracy: 0.8499\n",
      "Epoch 35/50\n",
      "235/235 [==============================] - 6s 28ms/step - loss: 0.5159 - accuracy: 0.8844 - val_loss: 0.8957 - val_accuracy: 0.8506\n",
      "Epoch 36/50\n",
      "235/235 [==============================] - 7s 28ms/step - loss: 0.5019 - accuracy: 0.8866 - val_loss: 0.8911 - val_accuracy: 0.8503\n",
      "Epoch 37/50\n",
      "235/235 [==============================] - 7s 28ms/step - loss: 0.4883 - accuracy: 0.8887 - val_loss: 0.8893 - val_accuracy: 0.8512\n",
      "Epoch 38/50\n",
      "235/235 [==============================] - 7s 28ms/step - loss: 0.4750 - accuracy: 0.8911 - val_loss: 0.8856 - val_accuracy: 0.8512\n",
      "Epoch 39/50\n",
      "235/235 [==============================] - 7s 28ms/step - loss: 0.4623 - accuracy: 0.8932 - val_loss: 0.8856 - val_accuracy: 0.8515\n",
      "Epoch 40/50\n",
      "235/235 [==============================] - 6s 28ms/step - loss: 0.4505 - accuracy: 0.8948 - val_loss: 0.8822 - val_accuracy: 0.8520\n",
      "Epoch 41/50\n",
      "235/235 [==============================] - 7s 28ms/step - loss: 0.4385 - accuracy: 0.8974 - val_loss: 0.8794 - val_accuracy: 0.8529\n",
      "Epoch 42/50\n",
      "235/235 [==============================] - 7s 28ms/step - loss: 0.4273 - accuracy: 0.8992 - val_loss: 0.8772 - val_accuracy: 0.8543\n",
      "Epoch 43/50\n",
      "235/235 [==============================] - 6s 28ms/step - loss: 0.4165 - accuracy: 0.9014 - val_loss: 0.8773 - val_accuracy: 0.8537\n",
      "Epoch 44/50\n",
      "235/235 [==============================] - 7s 28ms/step - loss: 0.4060 - accuracy: 0.9035 - val_loss: 0.8761 - val_accuracy: 0.8543\n",
      "Epoch 45/50\n",
      "235/235 [==============================] - 6s 28ms/step - loss: 0.3956 - accuracy: 0.9052 - val_loss: 0.8753 - val_accuracy: 0.8554\n",
      "Epoch 46/50\n",
      "235/235 [==============================] - 7s 28ms/step - loss: 0.3860 - accuracy: 0.9071 - val_loss: 0.8747 - val_accuracy: 0.8550\n",
      "Epoch 47/50\n",
      "235/235 [==============================] - 7s 28ms/step - loss: 0.3767 - accuracy: 0.9087 - val_loss: 0.8724 - val_accuracy: 0.8562\n",
      "Epoch 48/50\n",
      "235/235 [==============================] - 7s 28ms/step - loss: 0.3676 - accuracy: 0.9104 - val_loss: 0.8731 - val_accuracy: 0.8558\n",
      "Epoch 49/50\n",
      "235/235 [==============================] - 7s 28ms/step - loss: 0.3587 - accuracy: 0.9124 - val_loss: 0.8719 - val_accuracy: 0.8568\n",
      "Epoch 50/50\n",
      "235/235 [==============================] - 7s 28ms/step - loss: 0.3506 - accuracy: 0.9139 - val_loss: 0.8731 - val_accuracy: 0.8552\n"
     ]
    }
   ],
   "source": [
    "history = model.fit(x=[encoder_input_train, decoder_input_train], \n",
    "          y=decoder_target_train, validation_data=([encoder_input_test, decoder_input_test], decoder_target_test),\n",
    "          batch_size=128, epochs=50)"
   ]
  },
  {
   "cell_type": "code",
   "execution_count": 28,
   "id": "a43ed80a",
   "metadata": {},
   "outputs": [
    {
     "data": {
      "text/plain": [
       "<function matplotlib.pyplot.show(close=None, block=None)>"
      ]
     },
     "execution_count": 28,
     "metadata": {},
     "output_type": "execute_result"
    },
    {
     "data": {
      "image/png": "[encoded data removed]",
      "text/plain": [
       "<Figure size 432x288 with 2 Axes>"
      ]
     },
     "metadata": {
      "needs_background": "light"
     },
     "output_type": "display_data"
    }
   ],
   "source": [
    "plt.subplot(121)\n",
    "plt.plot(history.history['loss'])\n",
    "plt.plot(history.history['val_loss'])\n",
    "plt.legend(['training', 'validation'], loc='upper right')\n",
    "plt.title('Loss')\n",
    "plt.show\n",
    "\n",
    "plt.subplot(122)\n",
    "plt.plot(history.history['accuracy'])\n",
    "plt.plot(history.history['val_accuracy'])\n",
    "plt.legend(['training', 'validation'], loc='upper right')\n",
    "plt.title('Accuracy')\n",
    "plt.show"
   ]
  },
  {
   "cell_type": "markdown",
   "id": "813de11c",
   "metadata": {},
   "source": [
    "### 테스트 과정을 위해 모델을 재설계"
   ]
  },
  {
   "cell_type": "code",
   "execution_count": 29,
   "id": "1b71ec0b",
   "metadata": {},
   "outputs": [],
   "source": [
    "# 인코더\n",
    "encoder_model = Model(encoder_inputs, encoder_states)\n",
    "\n",
    "# 디코터\n",
    "# 이전 시점의 상태를 보관할 텐서\n",
    "decoder_state_input_h = Input(shape=(hidden_units))\n",
    "decoder_state_input_c = Input(shape=(hidden_units))\n",
    "decoder_states_inputs = [decoder_state_input_h, decoder_state_input_c]\n",
    "\n",
    "# 훈련 때 사용했던 임베딩 층을 재사용\n",
    "dec_emb2 = dec_emb_layer(decoder_inputs)\n",
    "\n",
    "# 다음 단어 예츨을 위해 이전 시점의 상태를 현 시점의 초기 상태로 사용\n",
    "decoder_outputs2, state_h2, state_c2 = decoder_lstm(dec_emb2, initial_state=decoder_states_inputs)\n",
    "decoder_states2 = [state_h2, state_c2]\n",
    "\n",
    "# 모든 시점에 대해서 단어 예측.\n",
    "decoder_outputs2 = decoder_dense(decoder_outputs2)\n",
    "\n",
    "# 수정된 디코더\n",
    "decoder_model = Model([decoder_inputs] + decoder_states_inputs, [decoder_outputs2] + decoder_states2)"
   ]
  },
  {
   "cell_type": "markdown",
   "id": "cbecd4af",
   "metadata": {},
   "source": [
    "## 모델 평가하기"
   ]
  },
  {
   "cell_type": "code",
   "execution_count": 30,
   "id": "a5a377c9",
   "metadata": {},
   "outputs": [],
   "source": [
    "def decode_sequence(input_seq):\n",
    "    # 입력으로부터 인코더의 마지막 시점의 상태(은닉 상태, 셀 상태)를 얻음\n",
    "    states_value = encoder_model.predict(input_seq)\n",
    "    \n",
    "    # <sos>에 해당하는 정수 생성\n",
    "    target_seq = np.zeros((1,1))\n",
    "    target_seq[0, 0] = fra_to_index['<sos>']\n",
    "    \n",
    "    stop_condition = False\n",
    "    decoded_sentence = ''\n",
    "    \n",
    "    # stop_condition이 True가 될 때까지 루프 반복\n",
    "    # 구현의 간소화를 위해서 이 함수는 배치 크기를 1로 가정.\n",
    "    while not stop_condition:\n",
    "        # 이전 시점의 상태 states_value를 현 시점의 초기 상태로 사용\n",
    "        output_tokens, h, c = decoder_model.predict([target_seq] + states_value)\n",
    "        \n",
    "        # 예측 결과를 단어로 변환\n",
    "        sampled_token_index = np.argmax(output_tokens[0, -1, :])\n",
    "        sampled_char = index_to_fra[sampled_token_index]\n",
    "        \n",
    "        # 현재 시점의 예측 단어를 예측 문장에 추가\n",
    "        decoded_sentence += ' '+sampled_char\n",
    "        \n",
    "        # <eos>에 도달하거나 정해진 길이를 넘으면 중단.\n",
    "        if (sampled_char == '<eos>' or len(decoded_sentence) > 50):\n",
    "            stop_condition = True\n",
    "        \n",
    "        # 현재 시점의 예측 결과를 다음 시점의 입력으로 사용하기 위해 저장\n",
    "        target_seq = np.zeros((1,1))\n",
    "        target_seq[0, 0] = sampled_token_index\n",
    "        \n",
    "        # 현재 시점의 상태를 다음 시점의 상태로 사용하기 위해 저장\n",
    "        states_value = [h, c]\n",
    "        \n",
    "    return decoded_sentence"
   ]
  },
  {
   "cell_type": "code",
   "execution_count": 31,
   "id": "978bd17d",
   "metadata": {},
   "outputs": [],
   "source": [
    "# 원문의 정수 시퀀스를 텍스트 시퀀스로 변환\n",
    "def seq_to_eng(input_seq):\n",
    "    sentence = ''\n",
    "    for encoded_word in input_seq:\n",
    "        if (encoded_word != 0):\n",
    "            sentence = sentence + index_to_eng[encoded_word] + ' '\n",
    "    \n",
    "    return sentence"
   ]
  },
  {
   "cell_type": "code",
   "execution_count": 32,
   "id": "7294757c",
   "metadata": {},
   "outputs": [],
   "source": [
    "# 번역문의 정수 시퀀스를 텍스트 시퀀스로 변환\n",
    "def seq_to_fra(input_seq):\n",
    "    sentence = ''\n",
    "    for encoded_word in input_seq:\n",
    "        if (encoded_word != 0 and encoded_word != fra_to_index['<sos>'] and encoded_word != fra_to_index['<eos>']):\n",
    "            sentence = sentence + index_to_fra[encoded_word] + ' '\n",
    "    \n",
    "    return sentence"
   ]
  },
  {
   "cell_type": "markdown",
   "id": "5f0892c7",
   "metadata": {},
   "source": [
    "#### training data"
   ]
  },
  {
   "cell_type": "code",
   "execution_count": 33,
   "id": "79be2cfa",
   "metadata": {},
   "outputs": [
    {
     "name": "stdout",
     "output_type": "stream",
     "text": [
      "입력문장 : you're skinny . \n",
      "정답문장 : vous êtes maigrichons . \n",
      "번역문장 : vous êtes maigrichonne . \n",
      "----------------------------------------\n",
      "입력문장 : i couldn't do that . \n",
      "정답문장 : je n'ai pas pu faire cela . \n",
      "번역문장 : je ne pouvais pas le faire . \n",
      "----------------------------------------\n",
      "입력문장 : stay in bed . \n",
      "정답문장 : restez alités ! \n",
      "번역문장 : reste au lit ! \n",
      "----------------------------------------\n",
      "입력문장 : keep driving . \n",
      "정답문장 : continuez à rouler ! \n",
      "번역문장 : continuez à rouler ! \n",
      "----------------------------------------\n",
      "입력문장 : everybody sat down . \n",
      "정답문장 : tout le monde s'assit . \n",
      "번역문장 : tout le monde s'assit . \n",
      "----------------------------------------\n"
     ]
    }
   ],
   "source": [
    "for seq_index in [3, 50, 100, 300, 1001]:\n",
    "    input_seq = encoder_input_train[seq_index: seq_index + 1]\n",
    "    decoded_sentence = decode_sequence(input_seq)\n",
    "    \n",
    "    print(\"입력문장 :\", seq_to_eng(encoder_input_train[seq_index]))\n",
    "    print(\"정답문장 :\", seq_to_fra(decoder_input_train[seq_index]))\n",
    "    print(\"번역문장 :\", decoded_sentence[1:-5])\n",
    "    print(\"-\"*40)"
   ]
  },
  {
   "cell_type": "markdown",
   "id": "95677dad",
   "metadata": {},
   "source": [
    "#### 1번 문장  \n",
    "you're skinny . : 말랐군요  \n",
    "vous êtes maigrichons . : 당신은 날씬해 보입니다.  \n",
    "vous êtes maigrichonne . : 당신은 날씬해 보입니다.  \n",
    "\n",
    "training data의 1번 문장은 잘 매칭되었습니다."
   ]
  },
  {
   "cell_type": "markdown",
   "id": "9bcfd0b4",
   "metadata": {},
   "source": [
    "#### 2번 문장\n",
    "i couldn't do that . : 나는 그렇게 할 수 없었어요.  \n",
    "je n'ai pas pu faire cela . : 그럴 수가 없었다  \n",
    "je ne pouvais pas le faire . : 저는 할 수 없었습니다.  \n",
    "\n",
    "2번 문장도 비슷하게 잘 매칭되었습니다."
   ]
  },
  {
   "cell_type": "markdown",
   "id": "56259a6d",
   "metadata": {},
   "source": [
    "#### 3번 문장\n",
    "\n",
    "stay in bed . : 누워있어요  \n",
    "restez alités ! : 계속 누워 계세요!\n",
    "\n",
    "reste au lit ! : 침대에 있어!  \n",
    "\n",
    "3번 문장도 의미는 비슷하게 잘 매칭되었습니다."
   ]
  },
  {
   "cell_type": "markdown",
   "id": "e3f66b2e",
   "metadata": {},
   "source": [
    "#### 4번 문장 \n",
    "\n",
    "keep driving . : 운전을 계속하다.  \n",
    "continuez à rouler ! : 계속 운전하세요!  \n",
    "\n",
    "continuez à rouler ! : 계속 운전하세요!  \n",
    "\n",
    "4번 문장은 똑같이 나왔습니다."
   ]
  },
  {
   "cell_type": "markdown",
   "id": "04eb0697",
   "metadata": {},
   "source": [
    "#### 5번 문장\n",
    "\n",
    "everybody sat down . : 모두 자리에 앉았습니다.  \n",
    "tout le monde s'assit . : 모두들 앉습니다.  \n",
    "tout le monde s'assit . : 모두들 앉습니다.  \n",
    "\n",
    "5번 문장도 똑같이 나왔습니다."
   ]
  },
  {
   "cell_type": "markdown",
   "id": "05f6a732",
   "metadata": {},
   "source": [
    "#### test data"
   ]
  },
  {
   "cell_type": "code",
   "execution_count": 34,
   "id": "eae792a9",
   "metadata": {},
   "outputs": [
    {
     "name": "stdout",
     "output_type": "stream",
     "text": [
      "입력문장 : it's sweet . \n",
      "정답문장 : c'est mignon . \n",
      "번역문장 : c'est bizarre . \n",
      "----------------------------------------\n",
      "입력문장 : i'm not wealthy . \n",
      "정답문장 : je ne suis pas riche . \n",
      "번역문장 : je ne suis pas riche . \n",
      "----------------------------------------\n",
      "입력문장 : we'll hurry . \n",
      "정답문장 : nous nous dépêcherons . \n",
      "번역문장 : nous vous avez gagné ! \n",
      "----------------------------------------\n",
      "입력문장 : i love bread . \n",
      "정답문장 : j'adore le pain . \n",
      "번역문장 : j'adore le pain . \n",
      "----------------------------------------\n",
      "입력문장 : i can't say . \n",
      "정답문장 : je ne peux le dire . \n",
      "번역문장 : je ne peux pas le dire . \n",
      "----------------------------------------\n"
     ]
    }
   ],
   "source": [
    "for seq_index in [3, 50, 100, 300, 1001]:\n",
    "    input_seq = encoder_input_test[seq_index: seq_index + 1]\n",
    "    decoded_sentence = decode_sequence(input_seq)\n",
    "    \n",
    "    print(\"입력문장 :\", seq_to_eng(encoder_input_test[seq_index]))\n",
    "    print(\"정답문장 :\", seq_to_fra(decoder_input_test[seq_index]))\n",
    "    print(\"번역문장 :\", decoded_sentence[1:-5])\n",
    "    print(\"-\"*40)"
   ]
  },
  {
   "cell_type": "markdown",
   "id": "151210df",
   "metadata": {},
   "source": [
    "#### 1번 문장\n",
    "\n",
    "it's sweet . : 달콤해요.  \n",
    "c'est mignon . : 귀엽다.  \n",
    "c'est bizarre . : 참 이상한 일이다  \n",
    "\n",
    "1번 문장은 번역이 잘 안된것 같네요."
   ]
  },
  {
   "cell_type": "markdown",
   "id": "fd85a0f0",
   "metadata": {},
   "source": [
    "#### 2번 문장\n",
    "\n",
    "i'm not wealthy . : 저는 부유하지 않습니다.  \n",
    "je ne suis pas riche . : 저는 부자가 아니에요.  \n",
    "je ne suis pas riche . : 저는 부자가 아니에요.  \n",
    "\n",
    "2번 문장은 잘 번역되었습니다!"
   ]
  },
  {
   "cell_type": "markdown",
   "id": "be01e1dd",
   "metadata": {},
   "source": [
    "#### 3번 문장\n",
    "\n",
    "we'll hurry . : 서두르겠습니다.  \n",
    "nous nous dépêcherons .  : 서두르겠습니다  \n",
    "nous vous avez gagné ! : 우리가 이겼어!  \n",
    "\n",
    "3번 문장은 전혀 맞지 않네요"
   ]
  },
  {
   "cell_type": "markdown",
   "id": "b14ec7a6",
   "metadata": {},
   "source": [
    "#### 4번 문장\n",
    "\n",
    "i love bread . : 저는 빵을 좋아합니다.  \n",
    "j'adore le pain . : 저는 빵을 좋아합니다.  \n",
    "j'adore le pain . : 저는 빵을 좋아합니다.  \n",
    "\n",
    "4번 문장은 잘 번역되었습니다."
   ]
  },
  {
   "cell_type": "markdown",
   "id": "9b8b9e6e",
   "metadata": {},
   "source": [
    "#### 5번 문장\n",
    "\n",
    "i can't say . : 글쎄, 잘 모르겠는걸요.  \n",
    "je ne peux le dire . : 나는 그 말을 할 수 없다  \n",
    "je ne peux pas le dire . : 나는 그 말을 할 수 없다  \n",
    "\n",
    "5번 문장은 문장에 pas? 라는 단어가 들어갔지만 뜻은 같다는것 같습니다."
   ]
  },
  {
   "cell_type": "markdown",
   "id": "9e714aa0",
   "metadata": {},
   "source": [
    "# 회고"
   ]
  },
  {
   "cell_type": "markdown",
   "id": "f554f899",
   "metadata": {},
   "source": [
    "* 번역은 파파고의 힘을 빌렸습니다.\n",
    "* 번역의 정확도와 모델의 정확도는 어떤 관계가 있는 것일까요? 정확도는 80~90% 대인데 결과물은 그렇지 않은것 같습니다.\n",
    "    출력되는 단어들 중 정답과 같은 단어들이 나오는 정도에 관련이 있는것일까요? \n",
    "* 번역이 생각보다 잘되는 것 같아서 신기했습니다, 잘맞는 것은 잘 되는데 아닌건 전혀 아닌것같으니 데이터의 수가 부족했던것 같습니다.\n",
    "\n",
    "\n",
    "## 참고자료\n",
    "\n",
    "https://wikidocs.net/86900  \n",
    "https://blog.keras.io/a-ten-minute-introduction-to-sequence-to-sequence-learning-in-keras.html"
   ]
  },
  {
   "cell_type": "code",
   "execution_count": null,
   "id": "f1c327ab",
   "metadata": {},
   "outputs": [],
   "source": []
  }
 ],
 "metadata": {
  "kernelspec": {
   "display_name": "Python 3 (ipykernel)",
   "language": "python",
   "name": "python3"
  },
  "language_info": {
   "codemirror_mode": {
    "name": "ipython",
    "version": 3
   },
   "file_extension": ".py",
   "mimetype": "text/x-python",
   "name": "python",
   "nbconvert_exporter": "python",
   "pygments_lexer": "ipython3",
   "version": "3.9.7"
  }
 },
 "nbformat": 4,
 "nbformat_minor": 5
}
