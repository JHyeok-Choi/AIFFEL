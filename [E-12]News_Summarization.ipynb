{
 "cells": [
  {
   "cell_type": "code",
   "execution_count": 1,
   "id": "4f15c7a9",
   "metadata": {},
   "outputs": [
    {
     "name": "stderr",
     "output_type": "stream",
     "text": [
      "[nltk_data] Downloading package stopwords to /aiffel/nltk_data...\n",
      "[nltk_data]   Package stopwords is already up-to-date!\n"
     ]
    }
   ],
   "source": [
    "from importlib.metadata import version\n",
    "import urllib.request\n",
    "import nltk\n",
    "nltk.download('stopwords')\n",
    "from nltk.corpus import stopwords\n",
    "import tensorflow as tf\n",
    "import summa\n",
    "from summa.summarizer import summarize\n",
    "import pandas as pd\n",
    "from bs4 import BeautifulSoup\n",
    "import re\n",
    "import numpy as np\n",
    "import matplotlib.pyplot as plt\n",
    "from tensorflow.keras.preprocessing.text import Tokenizer\n",
    "from tensorflow.keras.preprocessing.sequence import pad_sequences\n",
    "import warnings\n",
    "warnings.filterwarnings(\"ignore\", category=UserWarning, module='bs4')\n",
    "\n",
    "from tensorflow.keras.layers import Input, LSTM, Embedding, Dense, Concatenate, TimeDistributed, AdditiveAttention\n",
    "from tensorflow.keras.models import Model\n",
    "from tensorflow.keras.callbacks import EarlyStopping, ModelCheckpoint\n"
   ]
  },
  {
   "cell_type": "markdown",
   "id": "f35c0b13",
   "metadata": {},
   "source": [
    "# 데이터 수집하기"
   ]
  },
  {
   "cell_type": "code",
   "execution_count": 2,
   "id": "b2834c99",
   "metadata": {},
   "outputs": [],
   "source": [
    "urllib.request.urlretrieve(\"https://raw.githubusercontent.com/sunnysai12345/News_Summary/master/news_summary_more.csv\", filename=\"news_summary_more.csv\")\n",
    "data = pd.read_csv('news_summary_more.csv')\n",
    "data_copy = data.copy()"
   ]
  },
  {
   "cell_type": "code",
   "execution_count": 3,
   "id": "8149385d",
   "metadata": {},
   "outputs": [
    {
     "data": {
      "text/html": [
       "<div>\n",
       "<style scoped>\n",
       "    .dataframe tbody tr th:only-of-type {\n",
       "        vertical-align: middle;\n",
       "    }\n",
       "\n",
       "    .dataframe tbody tr th {\n",
       "        vertical-align: top;\n",
       "    }\n",
       "\n",
       "    .dataframe thead th {\n",
       "        text-align: right;\n",
       "    }\n",
       "</style>\n",
       "<table border=\"1\" class=\"dataframe\">\n",
       "  <thead>\n",
       "    <tr style=\"text-align: right;\">\n",
       "      <th></th>\n",
       "      <th>headlines</th>\n",
       "      <th>text</th>\n",
       "    </tr>\n",
       "  </thead>\n",
       "  <tbody>\n",
       "    <tr>\n",
       "      <th>93979</th>\n",
       "      <td>MTV Awards to combine Best Actor, Actress into...</td>\n",
       "      <td>The MTV Movie &amp; TV Awards has decided to combi...</td>\n",
       "    </tr>\n",
       "    <tr>\n",
       "      <th>86501</th>\n",
       "      <td>Leonardo DiCaprio slams Trump's decision to le...</td>\n",
       "      <td>Hollywood actor Leonardo DiCaprio has slammed ...</td>\n",
       "    </tr>\n",
       "    <tr>\n",
       "      <th>5920</th>\n",
       "      <td>I'm happy with the audience response to 'Kedar...</td>\n",
       "      <td>Talking about the performance of his latest fi...</td>\n",
       "    </tr>\n",
       "    <tr>\n",
       "      <th>6684</th>\n",
       "      <td>Indian arrested for smuggling foreign national...</td>\n",
       "      <td>Indian national Bhavin Patel has been arrested...</td>\n",
       "    </tr>\n",
       "    <tr>\n",
       "      <th>32944</th>\n",
       "      <td>Surprised at timing: Tinder parent on FB's dat...</td>\n",
       "      <td>Responding to Facebook's new Dating feature, T...</td>\n",
       "    </tr>\n",
       "    <tr>\n",
       "      <th>70248</th>\n",
       "      <td>Teaser of Vidya Balan starrer 'Tumhari Sulu' r...</td>\n",
       "      <td>The teaser of the Vidya Balan starrer upcoming...</td>\n",
       "    </tr>\n",
       "    <tr>\n",
       "      <th>3575</th>\n",
       "      <td>Man City hand Liverpool their first defeat of ...</td>\n",
       "      <td>Manchester City registered a 2-1 win over tabl...</td>\n",
       "    </tr>\n",
       "    <tr>\n",
       "      <th>93184</th>\n",
       "      <td>In pics: N Korea military parade marks founder...</td>\n",
       "      <td>North Korea on Saturday held a parade to mark ...</td>\n",
       "    </tr>\n",
       "    <tr>\n",
       "      <th>889</th>\n",
       "      <td>186-year-old Asian conglomerate briefly loses ...</td>\n",
       "      <td>Shares of Singapore-listed Jardine Matheson, a...</td>\n",
       "    </tr>\n",
       "    <tr>\n",
       "      <th>60607</th>\n",
       "      <td>Auto driver molests 21-year-old girl in Bengaluru</td>\n",
       "      <td>A 21-year-old student was allegedly molested b...</td>\n",
       "    </tr>\n",
       "  </tbody>\n",
       "</table>\n",
       "</div>"
      ],
      "text/plain": [
       "                                               headlines  \\\n",
       "93979  MTV Awards to combine Best Actor, Actress into...   \n",
       "86501  Leonardo DiCaprio slams Trump's decision to le...   \n",
       "5920   I'm happy with the audience response to 'Kedar...   \n",
       "6684   Indian arrested for smuggling foreign national...   \n",
       "32944  Surprised at timing: Tinder parent on FB's dat...   \n",
       "70248  Teaser of Vidya Balan starrer 'Tumhari Sulu' r...   \n",
       "3575   Man City hand Liverpool their first defeat of ...   \n",
       "93184  In pics: N Korea military parade marks founder...   \n",
       "889    186-year-old Asian conglomerate briefly loses ...   \n",
       "60607  Auto driver molests 21-year-old girl in Bengaluru   \n",
       "\n",
       "                                                    text  \n",
       "93979  The MTV Movie & TV Awards has decided to combi...  \n",
       "86501  Hollywood actor Leonardo DiCaprio has slammed ...  \n",
       "5920   Talking about the performance of his latest fi...  \n",
       "6684   Indian national Bhavin Patel has been arrested...  \n",
       "32944  Responding to Facebook's new Dating feature, T...  \n",
       "70248  The teaser of the Vidya Balan starrer upcoming...  \n",
       "3575   Manchester City registered a 2-1 win over tabl...  \n",
       "93184  North Korea on Saturday held a parade to mark ...  \n",
       "889    Shares of Singapore-listed Jardine Matheson, a...  \n",
       "60607  A 21-year-old student was allegedly molested b...  "
      ]
     },
     "execution_count": 3,
     "metadata": {},
     "output_type": "execute_result"
    }
   ],
   "source": [
    "data.sample(10)"
   ]
  },
  {
   "cell_type": "markdown",
   "id": "0c88024b",
   "metadata": {},
   "source": [
    "# 데이터 전처리하기 (추상적 요약)"
   ]
  },
  {
   "cell_type": "code",
   "execution_count": 4,
   "id": "bec031de",
   "metadata": {},
   "outputs": [
    {
     "name": "stdout",
     "output_type": "stream",
     "text": [
      "text 열에서 중복을 배제한 유일한 샘플 수: 98360\n",
      "headlines 열에서 중복을 배제한 유일한 샘플의 수: 98280\n"
     ]
    }
   ],
   "source": [
    "# 중복과 NULL값이 존재하는 데이터 제거\n",
    "print('text 열에서 중복을 배제한 유일한 샘플 수:', data['text'].nunique())\n",
    "print('headlines 열에서 중복을 배제한 유일한 샘플의 수:', data['headlines'].nunique())"
   ]
  },
  {
   "cell_type": "code",
   "execution_count": 5,
   "id": "c94a50be",
   "metadata": {},
   "outputs": [],
   "source": [
    "# 중복샘플 제거\n",
    "data.drop_duplicates(subset=['text'], inplace=True)"
   ]
  },
  {
   "cell_type": "code",
   "execution_count": 6,
   "id": "5b5cc6fd",
   "metadata": {},
   "outputs": [
    {
     "name": "stdout",
     "output_type": "stream",
     "text": [
      "headlines    0\n",
      "text         0\n",
      "dtype: int64\n"
     ]
    }
   ],
   "source": [
    "# NULL값 2차 확인\n",
    "print(data.isnull().sum())"
   ]
  },
  {
   "cell_type": "code",
   "execution_count": 7,
   "id": "24d71857",
   "metadata": {},
   "outputs": [
    {
     "name": "stdout",
     "output_type": "stream",
     "text": [
      "정규화 사전의 수:  120\n"
     ]
    }
   ],
   "source": [
    "# 정규화 사전 생성\n",
    "contractions = {\"ain't\": \"is not\", \"aren't\": \"are not\",\"can't\": \"cannot\", \"'cause\": \"because\", \"could've\": \"could have\", \"couldn't\": \"could not\",\n",
    "                           \"didn't\": \"did not\",  \"doesn't\": \"does not\", \"don't\": \"do not\", \"hadn't\": \"had not\", \"hasn't\": \"has not\", \"haven't\": \"have not\",\n",
    "                           \"he'd\": \"he would\",\"he'll\": \"he will\", \"he's\": \"he is\", \"how'd\": \"how did\", \"how'd'y\": \"how do you\", \"how'll\": \"how will\", \"how's\": \"how is\",\n",
    "                           \"I'd\": \"I would\", \"I'd've\": \"I would have\", \"I'll\": \"I will\", \"I'll've\": \"I will have\",\"I'm\": \"I am\", \"I've\": \"I have\", \"i'd\": \"i would\",\n",
    "                           \"i'd've\": \"i would have\", \"i'll\": \"i will\",  \"i'll've\": \"i will have\",\"i'm\": \"i am\", \"i've\": \"i have\", \"isn't\": \"is not\", \"it'd\": \"it would\",\n",
    "                           \"it'd've\": \"it would have\", \"it'll\": \"it will\", \"it'll've\": \"it will have\",\"it's\": \"it is\", \"let's\": \"let us\", \"ma'am\": \"madam\",\n",
    "                           \"mayn't\": \"may not\", \"might've\": \"might have\",\"mightn't\": \"might not\",\"mightn't've\": \"might not have\", \"must've\": \"must have\",\n",
    "                           \"mustn't\": \"must not\", \"mustn't've\": \"must not have\", \"needn't\": \"need not\", \"needn't've\": \"need not have\",\"o'clock\": \"of the clock\",\n",
    "                           \"oughtn't\": \"ought not\", \"oughtn't've\": \"ought not have\", \"shan't\": \"shall not\", \"sha'n't\": \"shall not\", \"shan't've\": \"shall not have\",\n",
    "                           \"she'd\": \"she would\", \"she'd've\": \"she would have\", \"she'll\": \"she will\", \"she'll've\": \"she will have\", \"she's\": \"she is\",\n",
    "                           \"should've\": \"should have\", \"shouldn't\": \"should not\", \"shouldn't've\": \"should not have\", \"so've\": \"so have\",\"so's\": \"so as\",\n",
    "                           \"this's\": \"this is\",\"that'd\": \"that would\", \"that'd've\": \"that would have\", \"that's\": \"that is\", \"there'd\": \"there would\",\n",
    "                           \"there'd've\": \"there would have\", \"there's\": \"there is\", \"here's\": \"here is\",\"they'd\": \"they would\", \"they'd've\": \"they would have\",\n",
    "                           \"they'll\": \"they will\", \"they'll've\": \"they will have\", \"they're\": \"they are\", \"they've\": \"they have\", \"to've\": \"to have\",\n",
    "                           \"wasn't\": \"was not\", \"we'd\": \"we would\", \"we'd've\": \"we would have\", \"we'll\": \"we will\", \"we'll've\": \"we will have\", \"we're\": \"we are\",\n",
    "                           \"we've\": \"we have\", \"weren't\": \"were not\", \"what'll\": \"what will\", \"what'll've\": \"what will have\", \"what're\": \"what are\",\n",
    "                           \"what's\": \"what is\", \"what've\": \"what have\", \"when's\": \"when is\", \"when've\": \"when have\", \"where'd\": \"where did\", \"where's\": \"where is\",\n",
    "                           \"where've\": \"where have\", \"who'll\": \"who will\", \"who'll've\": \"who will have\", \"who's\": \"who is\", \"who've\": \"who have\",\n",
    "                           \"why's\": \"why is\", \"why've\": \"why have\", \"will've\": \"will have\", \"won't\": \"will not\", \"won't've\": \"will not have\",\n",
    "                           \"would've\": \"would have\", \"wouldn't\": \"would not\", \"wouldn't've\": \"would not have\", \"y'all\": \"you all\",\n",
    "                           \"y'all'd\": \"you all would\",\"y'all'd've\": \"you all would have\",\"y'all're\": \"you all are\",\"y'all've\": \"you all have\",\n",
    "                           \"you'd\": \"you would\", \"you'd've\": \"you would have\", \"you'll\": \"you will\", \"you'll've\": \"you will have\",\n",
    "                           \"you're\": \"you are\", \"you've\": \"you have\"}\n",
    "\n",
    "print(\"정규화 사전의 수: \", len(contractions))"
   ]
  },
  {
   "cell_type": "code",
   "execution_count": 8,
   "id": "e6c9eba2",
   "metadata": {},
   "outputs": [
    {
     "name": "stdout",
     "output_type": "stream",
     "text": [
      "불용어 개수: 179\n",
      "['i', 'me', 'my', 'myself', 'we', 'our', 'ours', 'ourselves', 'you', \"you're\", \"you've\", \"you'll\", \"you'd\", 'your', 'yours', 'yourself', 'yourselves', 'he', 'him', 'his', 'himself', 'she', \"she's\", 'her', 'hers', 'herself', 'it', \"it's\", 'its', 'itself', 'they', 'them', 'their', 'theirs', 'themselves', 'what', 'which', 'who', 'whom', 'this', 'that', \"that'll\", 'these', 'those', 'am', 'is', 'are', 'was', 'were', 'be', 'been', 'being', 'have', 'has', 'had', 'having', 'do', 'does', 'did', 'doing', 'a', 'an', 'the', 'and', 'but', 'if', 'or', 'because', 'as', 'until', 'while', 'of', 'at', 'by', 'for', 'with', 'about', 'against', 'between', 'into', 'through', 'during', 'before', 'after', 'above', 'below', 'to', 'from', 'up', 'down', 'in', 'out', 'on', 'off', 'over', 'under', 'again', 'further', 'then', 'once', 'here', 'there', 'when', 'where', 'why', 'how', 'all', 'any', 'both', 'each', 'few', 'more', 'most', 'other', 'some', 'such', 'no', 'nor', 'not', 'only', 'own', 'same', 'so', 'than', 'too', 'very', 's', 't', 'can', 'will', 'just', 'don', \"don't\", 'should', \"should've\", 'now', 'd', 'll', 'm', 'o', 're', 've', 'y', 'ain', 'aren', \"aren't\", 'couldn', \"couldn't\", 'didn', \"didn't\", 'doesn', \"doesn't\", 'hadn', \"hadn't\", 'hasn', \"hasn't\", 'haven', \"haven't\", 'isn', \"isn't\", 'ma', 'mightn', \"mightn't\", 'mustn', \"mustn't\", 'needn', \"needn't\", 'shan', \"shan't\", 'shouldn', \"shouldn't\", 'wasn', \"wasn't\", 'weren', \"weren't\", 'won', \"won't\", 'wouldn', \"wouldn't\"]\n"
     ]
    }
   ],
   "source": [
    "# NLTK에서 제공하는 불용어 리스트\n",
    "print('불용어 개수:', len(stopwords.words('english')))\n",
    "print(stopwords.words('english'))\n",
    "\n",
    "def preprocess_sentence(sentence, remove_stopwords=True):\n",
    "    sentence = sentence.lower()\n",
    "    sentence = BeautifulSoup(sentence, 'lxml').text  # <br />, <a href = ...> 등의 html 태그 제거\n",
    "    sentence = re.sub(r'\\([^)]*\\)', '', sentence)  # 괄호로 닫힌 문자열 (...) 제거, 예) my husband (and myself!) for => my husband for\n",
    "    sentence = re.sub('\"', '', sentence)\n",
    "    sentence = ' '.join([contractions[t] if t in contractions else t for t in sentence.split(\" \")])  # 약어 정규화\n",
    "    sentence = re.sub(r\"'s\\b\", \"\", sentence)  # 소유격 제거. 예) roland's -> roland\n",
    "    sentence = re.sub(\"[^a-zA-Z]\", \" \", sentence)  # 영어 외 문자(숫자, 특수문자 등) 공백으로 치환\n",
    "    sentence = re.sub('[m]{2,}', 'mm', sentence) # m이 3개 이상이면 2개로 변경. 예) ummmmmmm yeah -> umm yeah\n",
    "    \n",
    "    # 불용어 제거 (text만)\n",
    "    if remove_stopwords:\n",
    "        tokens = ' '.join(word for word in sentence.split() if not word in stopwords.words('english') if len(word) > 1)\n",
    "    # 불용어 미제거 (headlines)\n",
    "    else:\n",
    "        tokens = ' '.join(word for word in sentence.split() if len(word) > 1)\n",
    "    return tokens"
   ]
  },
  {
   "cell_type": "code",
   "execution_count": 9,
   "id": "62b8831f",
   "metadata": {},
   "outputs": [
    {
     "name": "stdout",
     "output_type": "stream",
     "text": [
      "text:  everything bought great infact ordered twice third ordered wasfor mother father\n",
      "headlines: great way to start the day\n"
     ]
    }
   ],
   "source": [
    "# 전처리 전후 비교 테스트\n",
    "temp_text = 'Everything I bought was great, infact I ordered twice and the third ordered was<br />for my mother and father.'\n",
    "temp_summary = 'Great way to start (or finish) the day!!!'\n",
    "\n",
    "print(\"text: \", preprocess_sentence(temp_text))\n",
    "print(\"headlines:\", preprocess_sentence(temp_summary, False))"
   ]
  },
  {
   "cell_type": "code",
   "execution_count": 10,
   "id": "9601ac6c",
   "metadata": {},
   "outputs": [
    {
     "name": "stdout",
     "output_type": "stream",
     "text": [
      "Text 전처리 후 결과:  ['saurav kant alumnus upgrad iiit pg program machine learning artificial intelligence sr systems engineer infosys almost years work experience program upgrad degree career support helped transition data scientist tech mahindra salary hike upgrad online power learning powered lakh careers', 'kunal shah credit card bill payment platform cred gave users chance win free food swiggy one year pranav kaushik delhi techie bagged reward spending cred coins users get one cred coin per rupee bill paid used avail rewards brands like ixigo bookmyshow ubereats cult fit', 'new zealand defeated india wickets fourth odi hamilton thursday win first match five match odi series india lost international match rohit sharma captaincy consecutive victories dating back march match witnessed india getting seventh lowest total odi cricket history', 'aegon life iterm insurance plan customers enjoy tax benefits premiums paid save taxes plan provides life cover age years also customers options insure critical illnesses disability accidental death benefit rider life cover age years', 'speaking sexual harassment allegations rajkumar hirani sonam kapoor said known hirani many years true metoo movement get derailed metoo movement always believe woman case need reserve judgment added hirani accused assistant worked sanju']\n"
     ]
    }
   ],
   "source": [
    "# data에 전처리 적용\n",
    "clean_text = []\n",
    "\n",
    "for s in data['text']:\n",
    "    clean_text.append(preprocess_sentence(s))\n",
    "\n",
    "# 전처리 후 출력\n",
    "print('Text 전처리 후 결과: ', clean_text[:5])"
   ]
  },
  {
   "cell_type": "code",
   "execution_count": 11,
   "id": "366e0283",
   "metadata": {},
   "outputs": [
    {
     "name": "stdout",
     "output_type": "stream",
     "text": [
      "headlines 전처리 후 결과:  ['upgrad learner switches to career in ml al with salary hike', 'delhi techie wins free food from swiggy for one year on cred', 'new zealand end rohit sharma led india match winning streak', 'aegon life iterm insurance plan helps customers save tax', 'have known hirani for yrs what if metoo claims are not true sonam']\n"
     ]
    }
   ],
   "source": [
    "# headlines는 불용어 제거를 수행하지 않게 설정\n",
    "clean_headlines = []\n",
    "\n",
    "for s in data['headlines']:\n",
    "    clean_headlines.append(preprocess_sentence(s, False))\n",
    "\n",
    "print('headlines 전처리 후 결과: ', clean_headlines[:5])"
   ]
  },
  {
   "cell_type": "code",
   "execution_count": 12,
   "id": "5abc8aaf",
   "metadata": {},
   "outputs": [],
   "source": [
    "# 비어있는 샘플들이 생겼을 수 있고, 해당 샘플들을 NULL 샘플로 대체\n",
    "data['text'] = clean_text\n",
    "data['headlines'] = clean_headlines\n",
    "\n",
    "data.replace('', np.nan, inplace=True)"
   ]
  },
  {
   "cell_type": "code",
   "execution_count": 13,
   "id": "f9a6dce6",
   "metadata": {},
   "outputs": [
    {
     "data": {
      "text/plain": [
       "headlines    0\n",
       "text         0\n",
       "dtype: int64"
      ]
     },
     "execution_count": 13,
     "metadata": {},
     "output_type": "execute_result"
    }
   ],
   "source": [
    "# NULL로 바꾼 비어있던 샘플 확인\n",
    "data.isnull().sum()"
   ]
  },
  {
   "cell_type": "code",
   "execution_count": 14,
   "id": "d289af6a",
   "metadata": {},
   "outputs": [
    {
     "name": "stdout",
     "output_type": "stream",
     "text": [
      "text 최소 길이 : 1\n",
      "text 최대 길이 : 60\n",
      "text 평균 길이 : 35.09968483123221\n",
      "headlines 최소 길이 : 1\n",
      "headlines 최대 길이 : 16\n",
      "headlines 평균 길이 : 9.299532330215534\n"
     ]
    },
    {
     "data": {
      "image/png": "[encoded data removed]",
      "text/plain": [
       "<Figure size 432x288 with 2 Axes>"
      ]
     },
     "metadata": {
      "needs_background": "light"
     },
     "output_type": "display_data"
    },
    {
     "data": {
      "image/png": "[encoded data removed]",
      "text/plain": [
       "<Figure size 432x288 with 1 Axes>"
      ]
     },
     "metadata": {
      "needs_background": "light"
     },
     "output_type": "display_data"
    },
    {
     "data": {
      "image/png": "[encoded data removed]",
      "text/plain": [
       "<Figure size 432x288 with 1 Axes>"
      ]
     },
     "metadata": {
      "needs_background": "light"
     },
     "output_type": "display_data"
    }
   ],
   "source": [
    "# 훈련에 사용할 샘플의 최대 길이를 지정.\n",
    "# 길이 분포 출력\n",
    "text_len = [len(s.split()) for s in data['text']]\n",
    "headlines_len = [len(s.split()) for s in data['headlines']]\n",
    "\n",
    "print('text 최소 길이 : {}'.format(np.min(text_len)))\n",
    "print('text 최대 길이 : {}'.format(np.max(text_len)))\n",
    "print('text 평균 길이 : {}'.format(np.mean(text_len)))\n",
    "print('headlines 최소 길이 : {}'.format(np.min(headlines_len)))\n",
    "print('headlines 최대 길이 : {}'.format(np.max(headlines_len)))\n",
    "print('headlines 평균 길이 : {}'.format(np.mean(headlines_len)))\n",
    "\n",
    "plt.subplot(1,2,1)\n",
    "plt.boxplot(text_len)\n",
    "plt.title('text')\n",
    "plt.subplot(1,2,2)\n",
    "plt.boxplot(headlines_len)\n",
    "plt.title('headlines')\n",
    "plt.tight_layout()\n",
    "plt.show()\n",
    "\n",
    "plt.title('text')\n",
    "plt.hist(text_len, bins=40)\n",
    "plt.xlabel('length of samples')\n",
    "plt.ylabel('number of samples')\n",
    "plt.show()\n",
    "\n",
    "plt.title('headlines')\n",
    "plt.hist(headlines_len, bins=40)\n",
    "plt.xlabel('length of samples')\n",
    "plt.ylabel('number of samples')\n",
    "plt.show()"
   ]
  },
  {
   "cell_type": "code",
   "execution_count": 15,
   "id": "a7978f76",
   "metadata": {},
   "outputs": [],
   "source": [
    "# 최대길이 설정\n",
    "text_max_len = 50\n",
    "headlines_max_len = 12"
   ]
  },
  {
   "cell_type": "code",
   "execution_count": 16,
   "id": "b5964e05",
   "metadata": {},
   "outputs": [],
   "source": [
    "# 설정한 최대길이의 적합성\n",
    "def below_threshold_len(max_len, nested_list):\n",
    "    cnt = 0\n",
    "    for s in nested_list:\n",
    "        if(len(s.split()) <= max_len):\n",
    "            cnt = cnt + 1\n",
    "    print('전체 샘플 중 길이가 %s 이하인 샘플의 비율: %s'%(max_len, (cnt / len(nested_list))))"
   ]
  },
  {
   "cell_type": "code",
   "execution_count": 17,
   "id": "285c8a53",
   "metadata": {},
   "outputs": [
    {
     "name": "stdout",
     "output_type": "stream",
     "text": [
      "전체 샘플 중 길이가 50 이하인 샘플의 비율: 0.9998576657177715\n",
      "전체 샘플 중 길이가 12 이하인 샘플의 비율: 0.9880337535583571\n"
     ]
    }
   ],
   "source": [
    "below_threshold_len(text_max_len, data['text'])\n",
    "below_threshold_len(headlines_max_len, data['headlines'])"
   ]
  },
  {
   "cell_type": "code",
   "execution_count": 18,
   "id": "da33dbf3",
   "metadata": {},
   "outputs": [
    {
     "name": "stdout",
     "output_type": "stream",
     "text": [
      "전체 샘플수 : 97169\n"
     ]
    }
   ],
   "source": [
    "# 설정한 길이보다 길면 제외.\n",
    "data = data[data['text'].apply(lambda x: len(x.split()) <= text_max_len)]\n",
    "data = data[data['headlines'].apply(lambda x: len(x.split()) <= headlines_max_len)]\n",
    "print('전체 샘플수 :', (len(data)))"
   ]
  },
  {
   "cell_type": "code",
   "execution_count": 19,
   "id": "4aee4d81",
   "metadata": {},
   "outputs": [
    {
     "data": {
      "text/html": [
       "<div>\n",
       "<style scoped>\n",
       "    .dataframe tbody tr th:only-of-type {\n",
       "        vertical-align: middle;\n",
       "    }\n",
       "\n",
       "    .dataframe tbody tr th {\n",
       "        vertical-align: top;\n",
       "    }\n",
       "\n",
       "    .dataframe thead th {\n",
       "        text-align: right;\n",
       "    }\n",
       "</style>\n",
       "<table border=\"1\" class=\"dataframe\">\n",
       "  <thead>\n",
       "    <tr style=\"text-align: right;\">\n",
       "      <th></th>\n",
       "      <th>headlines</th>\n",
       "      <th>text</th>\n",
       "      <th>decoder_input</th>\n",
       "      <th>decoder_target</th>\n",
       "    </tr>\n",
       "  </thead>\n",
       "  <tbody>\n",
       "    <tr>\n",
       "      <th>0</th>\n",
       "      <td>upgrad learner switches to career in ml al wit...</td>\n",
       "      <td>saurav kant alumnus upgrad iiit pg program mac...</td>\n",
       "      <td>sostoken upgrad learner switches to career in ...</td>\n",
       "      <td>upgrad learner switches to career in ml al wit...</td>\n",
       "    </tr>\n",
       "    <tr>\n",
       "      <th>1</th>\n",
       "      <td>delhi techie wins free food from swiggy for on...</td>\n",
       "      <td>kunal shah credit card bill payment platform c...</td>\n",
       "      <td>sostoken delhi techie wins free food from swig...</td>\n",
       "      <td>delhi techie wins free food from swiggy for on...</td>\n",
       "    </tr>\n",
       "    <tr>\n",
       "      <th>2</th>\n",
       "      <td>new zealand end rohit sharma led india match w...</td>\n",
       "      <td>new zealand defeated india wickets fourth odi ...</td>\n",
       "      <td>sostoken new zealand end rohit sharma led indi...</td>\n",
       "      <td>new zealand end rohit sharma led india match w...</td>\n",
       "    </tr>\n",
       "    <tr>\n",
       "      <th>3</th>\n",
       "      <td>aegon life iterm insurance plan helps customer...</td>\n",
       "      <td>aegon life iterm insurance plan customers enjo...</td>\n",
       "      <td>sostoken aegon life iterm insurance plan helps...</td>\n",
       "      <td>aegon life iterm insurance plan helps customer...</td>\n",
       "    </tr>\n",
       "    <tr>\n",
       "      <th>5</th>\n",
       "      <td>rahat fateh ali khan denies getting notice for...</td>\n",
       "      <td>pakistani singer rahat fateh ali khan denied r...</td>\n",
       "      <td>sostoken rahat fateh ali khan denies getting n...</td>\n",
       "      <td>rahat fateh ali khan denies getting notice for...</td>\n",
       "    </tr>\n",
       "  </tbody>\n",
       "</table>\n",
       "</div>"
      ],
      "text/plain": [
       "                                           headlines  \\\n",
       "0  upgrad learner switches to career in ml al wit...   \n",
       "1  delhi techie wins free food from swiggy for on...   \n",
       "2  new zealand end rohit sharma led india match w...   \n",
       "3  aegon life iterm insurance plan helps customer...   \n",
       "5  rahat fateh ali khan denies getting notice for...   \n",
       "\n",
       "                                                text  \\\n",
       "0  saurav kant alumnus upgrad iiit pg program mac...   \n",
       "1  kunal shah credit card bill payment platform c...   \n",
       "2  new zealand defeated india wickets fourth odi ...   \n",
       "3  aegon life iterm insurance plan customers enjo...   \n",
       "5  pakistani singer rahat fateh ali khan denied r...   \n",
       "\n",
       "                                       decoder_input  \\\n",
       "0  sostoken upgrad learner switches to career in ...   \n",
       "1  sostoken delhi techie wins free food from swig...   \n",
       "2  sostoken new zealand end rohit sharma led indi...   \n",
       "3  sostoken aegon life iterm insurance plan helps...   \n",
       "5  sostoken rahat fateh ali khan denies getting n...   \n",
       "\n",
       "                                      decoder_target  \n",
       "0  upgrad learner switches to career in ml al wit...  \n",
       "1  delhi techie wins free food from swiggy for on...  \n",
       "2  new zealand end rohit sharma led india match w...  \n",
       "3  aegon life iterm insurance plan helps customer...  \n",
       "5  rahat fateh ali khan denies getting notice for...  "
      ]
     },
     "execution_count": 19,
     "metadata": {},
     "output_type": "execute_result"
    }
   ],
   "source": [
    "# headlines에 시작 토큰과 종료 토큰을 추가\n",
    "data['decoder_input'] = data['headlines'].apply(lambda x: 'sostoken ' + x)\n",
    "data['decoder_target'] = data['headlines'].apply(lambda x: x + ' eostoken')\n",
    "data.head()"
   ]
  },
  {
   "cell_type": "code",
   "execution_count": 20,
   "id": "365ec4c2",
   "metadata": {},
   "outputs": [],
   "source": [
    "# decoder input 과 target을 Numpy 타입으로 저장.\n",
    "encoder_input = np.array(data['text'])\n",
    "decoder_input = np.array(data['decoder_input'])\n",
    "decoder_target = np.array(data['decoder_target'])"
   ]
  },
  {
   "cell_type": "code",
   "execution_count": 21,
   "id": "89379ead",
   "metadata": {},
   "outputs": [
    {
     "name": "stdout",
     "output_type": "stream",
     "text": [
      "[ 2818 85271 62507 ... 24227 72446  6546]\n",
      "테스트 데이터의 수: 19433\n",
      "훈련 데이터의 수 : 77736\n",
      "훈련 레이블의 수 : 77736\n",
      "테스트 데이터의 수 : 19433\n",
      "테스트 레이블의 수 : 19433\n"
     ]
    }
   ],
   "source": [
    "# 훈련 데이터와 테스트 데이터로 분리.\n",
    "indices = np.arange(encoder_input.shape[0])\n",
    "np.random.shuffle(indices)\n",
    "print(indices)\n",
    "\n",
    "encoder_input = encoder_input[indices]\n",
    "decoder_input = decoder_input[indices]\n",
    "decoder_target = decoder_target[indices]\n",
    "\n",
    "# 섞은 데이터를 훈련데이터: 테스트데이터 8:2 로 분리\n",
    "n_of_val = int(len(encoder_input) * 0.2)\n",
    "print('테스트 데이터의 수:', n_of_val)\n",
    "\n",
    "encoder_input_train = encoder_input[:-n_of_val]\n",
    "decoder_input_train = decoder_input[:-n_of_val]\n",
    "decoder_target_train = decoder_target[:-n_of_val]\n",
    "\n",
    "encoder_input_test = encoder_input[-n_of_val:]\n",
    "decoder_input_test = decoder_input[-n_of_val:]\n",
    "decoder_target_test = decoder_target[-n_of_val:]\n",
    "\n",
    "print('훈련 데이터의 수 :', len(encoder_input_train))\n",
    "print('훈련 레이블의 수 :', len(decoder_input_train))\n",
    "print('테스트 데이터의 수 :', len(encoder_input_test))\n",
    "print('테스트 레이블의 수 :', len(decoder_input_test))"
   ]
  },
  {
   "cell_type": "code",
   "execution_count": 22,
   "id": "65882645",
   "metadata": {},
   "outputs": [
    {
     "name": "stdout",
     "output_type": "stream",
     "text": [
      "단어 집합의 크기 : 69268\n",
      "등장 빈도가 6번 이하인 희귀 단어의 수: 47231\n",
      "단어 집합에서 희귀 단어를 제외시킬 경우 단어 집합의 크기 22037\n",
      "단어 집합에서 희귀 단어의 비율: 68.18588670092971\n",
      "전체 등장 빈도에서 희귀 단어 등장 빈도 비율: 3.5240377585159877\n"
     ]
    }
   ],
   "source": [
    "# vacabulary 만들기\n",
    "src_tokenizer = Tokenizer()\n",
    "src_tokenizer.fit_on_texts(encoder_input_train)  # 입력된 데이터로부터 단어 집합 생성, word_index에 저장됨\n",
    "\n",
    "# 단어 집합에 등장 빈도수가 적은 훈련 데이터 제거\n",
    "threshold = 7\n",
    "total_cnt = len(src_tokenizer.word_index)  # 단어의 수\n",
    "rare_cnt = 0  # 등장 빈도수가 threshold 보다 작은 단어의 개수를 카운트\n",
    "total_freq = 0  # 훈련 데이터의 전체 단어 빈도수 총 합\n",
    "rare_freq = 0  # 등장 빈도수가 threshold보다 작은 단어의 등장 빈도수의 총 합\n",
    "\n",
    "# 단어와 빈도수의 쌍을 key와 value로 받는다.\n",
    "for key, value in src_tokenizer.word_counts.items():\n",
    "    total_freq = total_freq + value\n",
    "    \n",
    "    # 단어의 등장 빈도수가 threshold보다 작으면 \n",
    "    if(value < threshold):\n",
    "        rare_cnt = rare_cnt + 1\n",
    "        rare_freq = rare_freq + value\n",
    "    \n",
    "print('단어 집합의 크기 :', total_cnt)\n",
    "print('등장 빈도가 %s번 이하인 희귀 단어의 수: %s'%(threshold - 1, rare_cnt))\n",
    "print('단어 집합에서 희귀 단어를 제외시킬 경우 단어 집합의 크기 %s'%(total_cnt - rare_cnt))\n",
    "print('단어 집합에서 희귀 단어의 비율:', (rare_cnt / total_cnt) * 100)\n",
    "print('전체 등장 빈도에서 희귀 단어 등장 빈도 비율:', (rare_freq / total_freq) * 100)\n"
   ]
  },
  {
   "cell_type": "code",
   "execution_count": 23,
   "id": "62a15d61",
   "metadata": {},
   "outputs": [],
   "source": [
    "src_vocab = 8000\n",
    "src_tokenizer = Tokenizer(num_words=src_vocab)  # 단어 집합의 크기를 22000로 제한\n",
    "src_tokenizer.fit_on_texts(encoder_input_train)  # 단어 집합 재생성"
   ]
  },
  {
   "cell_type": "code",
   "execution_count": 24,
   "id": "d93bdf7a",
   "metadata": {},
   "outputs": [
    {
     "name": "stdout",
     "output_type": "stream",
     "text": [
      "[[28, 316, 311, 4032, 3620, 1032, 316, 40, 145, 316, 114, 408, 1215, 109, 3620, 382, 315, 3834, 1820, 1005, 2532, 3292, 1336, 1570, 1474, 3620, 1, 649, 1277, 1159, 1272, 2184, 143, 177], [44, 3280, 293, 635, 495, 22, 2064, 5251, 1526, 304, 393, 2, 44, 689, 879, 92, 87, 4001, 34, 304, 3968, 2337, 304, 5838, 1084, 304, 345, 21, 549, 304, 3329, 254, 5493, 118, 2337], [7718, 795, 5839, 174, 755, 2522, 2306, 246, 2211, 1, 611, 52, 320, 343, 1527, 338, 2522, 4002, 4904, 7101, 364, 55, 1748, 1742, 623, 1748, 4, 7718, 1, 1183, 1732, 2306, 2379, 894]]\n"
     ]
    }
   ],
   "source": [
    "# 텍스트 데이터인 단어들을 정수 인코딩\n",
    "encoder_input_train = src_tokenizer.texts_to_sequences(encoder_input_train)\n",
    "encoder_input_test = src_tokenizer.texts_to_sequences(encoder_input_test)\n",
    "\n",
    "# 결과 샘플 확인\n",
    "print(encoder_input_train[:3])"
   ]
  },
  {
   "cell_type": "code",
   "execution_count": 25,
   "id": "e6e4eac4",
   "metadata": {},
   "outputs": [],
   "source": [
    "tar_tokenizer = Tokenizer()\n",
    "tar_tokenizer.fit_on_texts(decoder_input_train)"
   ]
  },
  {
   "cell_type": "code",
   "execution_count": 26,
   "id": "4f75bb1b",
   "metadata": {},
   "outputs": [
    {
     "name": "stdout",
     "output_type": "stream",
     "text": [
      "단어 집합 크기 : 29999\n",
      "등장 빈도가 5번 이하인 희귀 단어의 수: 19649\n",
      "단어 집합에서 희귀 단어를 제외시킬 경우의 단어 집합의 크기 10350\n",
      "단어 집합에서 희귀 단어의 비율: 65.49884996166539\n",
      "전체 등장 빈도에서 희귀 단어 등장 빈도 비율: 4.7296093395135\n"
     ]
    }
   ],
   "source": [
    "threshold = 6\n",
    "total_cnt = len(tar_tokenizer.word_index)\n",
    "rare_cnt = 0\n",
    "total_freq = 0\n",
    "rare_freq = 0\n",
    "\n",
    "for key, value in tar_tokenizer.word_counts.items():\n",
    "    total_freq = total_freq + value\n",
    "    \n",
    "    if(value < threshold):\n",
    "        rare_cnt = rare_cnt + 1\n",
    "        rare_freq = rare_freq + value\n",
    "\n",
    "print('단어 집합 크기 :', total_cnt)\n",
    "print('등장 빈도가 %s번 이하인 희귀 단어의 수: %s'%(threshold - 1, rare_cnt))\n",
    "print('단어 집합에서 희귀 단어를 제외시킬 경우의 단어 집합의 크기 %s'%(total_cnt - rare_cnt))\n",
    "print('단어 집합에서 희귀 단어의 비율:', (rare_cnt / total_cnt) * 100)\n",
    "print('전체 등장 빈도에서 희귀 단어 등장 빈도 비율:', (rare_freq / total_freq) * 100)"
   ]
  },
  {
   "cell_type": "code",
   "execution_count": 27,
   "id": "3037f6e7",
   "metadata": {},
   "outputs": [
    {
     "name": "stdout",
     "output_type": "stream",
     "text": [
      "input  [[1, 746, 193, 1231, 2467, 4485, 2326], [1, 3365, 7630, 3, 2292, 507, 12, 3997, 57, 2663, 34], [1, 2026, 4241, 3284, 105, 43, 65, 836, 1335, 5351], [1, 480, 1288, 4486, 5, 1056, 5160, 10, 1221, 2893, 7631], [1, 11, 5835, 993, 5836, 1259, 133]]\n",
      "target  [[746, 193, 1231, 2467, 4485, 2326, 2], [3365, 7630, 3, 2292, 507, 12, 3997, 57, 2663, 34, 2], [2026, 4241, 3284, 105, 43, 65, 836, 1335, 5351, 2], [480, 1288, 4486, 5, 1056, 5160, 10, 1221, 2893, 7631, 2], [11, 5835, 993, 5836, 1259, 133, 2]]\n"
     ]
    }
   ],
   "source": [
    "tar_vocab = 10000\n",
    "tar_tokenizer = Tokenizer(num_words=tar_vocab)\n",
    "tar_tokenizer.fit_on_texts(decoder_input_train)\n",
    "tar_tokenizer.fit_on_texts(decoder_target_train)\n",
    "\n",
    "decoder_input_train = tar_tokenizer.texts_to_sequences(decoder_input_train)\n",
    "decoder_target_train = tar_tokenizer.texts_to_sequences(decoder_target_train)\n",
    "decoder_input_test = tar_tokenizer.texts_to_sequences(decoder_input_test)\n",
    "decoder_target_test = tar_tokenizer.texts_to_sequences(decoder_target_test)\n",
    "\n",
    "# 변환 체크\n",
    "print('input ', decoder_input_train[:5])\n",
    "print('target ', decoder_target_train[:5])"
   ]
  },
  {
   "cell_type": "code",
   "execution_count": 28,
   "id": "ccfa4484",
   "metadata": {},
   "outputs": [
    {
     "name": "stdout",
     "output_type": "stream",
     "text": [
      "삭제할 데이터 수 : 1 0\n",
      "훈련 데이터, 레이블 개수 : 77735 77735\n",
      "테스트 데이터, 레이블 개수 : 19433 19433\n"
     ]
    }
   ],
   "source": [
    "# 길이가 1인 headlines 삭제\n",
    "drop_train = [index for index, sentence in enumerate(decoder_input_train) if len(sentence) == 1]\n",
    "drop_test = [index for index, sentence in enumerate(decoder_input_test) if len(sentence) == 1]\n",
    "\n",
    "print('삭제할 데이터 수 :', len(drop_train), len(drop_test))\n",
    "\n",
    "encoder_input_train = [sentence for index, sentence in enumerate(encoder_input_train) if index not in drop_train]\n",
    "decoder_input_train = [sentence for index, sentence in enumerate(decoder_input_train) if index not in drop_train]\n",
    "decoder_target_train = [sentence for index, sentence in enumerate(decoder_target_train) if index not in drop_train]\n",
    "\n",
    "encoder_input_test = [sentence for index, sentence in enumerate(encoder_input_test) if index not in drop_test]\n",
    "decoder_input_test = [sentence for index, sentence in enumerate(decoder_input_test) if index not in drop_test]\n",
    "decoder_target_test = [sentence for index, sentence in enumerate(decoder_target_test) if index not in drop_test]\n",
    "\n",
    "print('훈련 데이터, 레이블 개수 :', len(encoder_input_train), len(decoder_input_train))\n",
    "print('테스트 데이터, 레이블 개수 :', len(encoder_input_test), len(decoder_input_test))"
   ]
  },
  {
   "cell_type": "code",
   "execution_count": 29,
   "id": "8254e5a4",
   "metadata": {},
   "outputs": [],
   "source": [
    "# padding\n",
    "encoder_input_train = pad_sequences(encoder_input_train, maxlen=text_max_len, padding='post')\n",
    "encoder_input_test = pad_sequences(encoder_input_test, maxlen=text_max_len, padding='post')\n",
    "decoder_input_train = pad_sequences(decoder_input_train, maxlen=headlines_max_len, padding='post')\n",
    "decoder_input_test = pad_sequences(decoder_input_test, maxlen=headlines_max_len, padding='post')\n",
    "decoder_target_train = pad_sequences(decoder_target_train, maxlen=headlines_max_len, padding='post')\n",
    "decoder_target_test = pad_sequences(decoder_target_test, maxlen=headlines_max_len, padding='post')"
   ]
  },
  {
   "cell_type": "markdown",
   "id": "e1985b60",
   "metadata": {},
   "source": [
    "# 어텐션 메커니즘 사용하기 (추상적 요약)"
   ]
  },
  {
   "cell_type": "code",
   "execution_count": 30,
   "id": "cc18893d",
   "metadata": {},
   "outputs": [],
   "source": [
    "# 인코더\n",
    "embedding_dim = 128\n",
    "hidden_size = 256\n",
    "\n",
    "encoder_inputs = Input(shape=(text_max_len,))\n",
    "\n",
    "enc_emb = Embedding(src_vocab, embedding_dim)(encoder_inputs)\n",
    "encoder_lstm1 = LSTM(hidden_size, return_sequences=True, return_state=True ,dropout = 0.4)\n",
    "encoder_output1, state_h1, state_c1 = encoder_lstm1(enc_emb)\n",
    "\n",
    "encoder_lstm2 = LSTM(hidden_size, return_sequences=True, return_state=True, dropout=0.4)\n",
    "encoder_output2, state_h2, state_c2 = encoder_lstm2(encoder_output1)\n",
    "\n",
    "encoder_lstm3 = LSTM(hidden_size, return_state=True, return_sequences=True, dropout=0.4)\n",
    "encoder_outputs, state_h, state_c= encoder_lstm3(encoder_output2)"
   ]
  },
  {
   "cell_type": "code",
   "execution_count": 31,
   "id": "55e5cfa2",
   "metadata": {},
   "outputs": [],
   "source": [
    "# 디코더\n",
    "decoder_inputs = Input(shape=(None,))\n",
    "\n",
    "dec_emb_layer = Embedding(tar_vocab, embedding_dim)\n",
    "dec_emb = dec_emb_layer(decoder_inputs)\n",
    "\n",
    "decoder_lstm = LSTM(hidden_size, return_sequences=True, return_state=True, dropout=0.4)\n",
    "decoder_outputs, _, _ = decoder_lstm(dec_emb, initial_state=[state_h, state_c])"
   ]
  },
  {
   "cell_type": "code",
   "execution_count": 32,
   "id": "aa61294d",
   "metadata": {},
   "outputs": [
    {
     "name": "stdout",
     "output_type": "stream",
     "text": [
      "Model: \"model\"\n",
      "__________________________________________________________________________________________________\n",
      "Layer (type)                    Output Shape         Param #     Connected to                     \n",
      "==================================================================================================\n",
      "input_1 (InputLayer)            [(None, 50)]         0                                            \n",
      "__________________________________________________________________________________________________\n",
      "embedding (Embedding)           (None, 50, 128)      1024000     input_1[0][0]                    \n",
      "__________________________________________________________________________________________________\n",
      "lstm (LSTM)                     [(None, 50, 256), (N 394240      embedding[0][0]                  \n",
      "__________________________________________________________________________________________________\n",
      "input_2 (InputLayer)            [(None, None)]       0                                            \n",
      "__________________________________________________________________________________________________\n",
      "lstm_1 (LSTM)                   [(None, 50, 256), (N 525312      lstm[0][0]                       \n",
      "__________________________________________________________________________________________________\n",
      "embedding_1 (Embedding)         (None, None, 128)    1280000     input_2[0][0]                    \n",
      "__________________________________________________________________________________________________\n",
      "lstm_2 (LSTM)                   [(None, 50, 256), (N 525312      lstm_1[0][0]                     \n",
      "__________________________________________________________________________________________________\n",
      "lstm_3 (LSTM)                   [(None, None, 256),  394240      embedding_1[0][0]                \n",
      "                                                                 lstm_2[0][1]                     \n",
      "                                                                 lstm_2[0][2]                     \n",
      "__________________________________________________________________________________________________\n",
      "dense (Dense)                   (None, None, 10000)  2570000     lstm_3[0][0]                     \n",
      "==================================================================================================\n",
      "Total params: 6,713,104\n",
      "Trainable params: 6,713,104\n",
      "Non-trainable params: 0\n",
      "__________________________________________________________________________________________________\n"
     ]
    }
   ],
   "source": [
    "decoder_softmax_layer = Dense(tar_vocab, activation='softmax')\n",
    "decoder_softmax_outputs = decoder_softmax_layer(decoder_outputs) \n",
    "\n",
    "model = Model([encoder_inputs, decoder_inputs], decoder_softmax_outputs)\n",
    "model.summary()"
   ]
  },
  {
   "cell_type": "code",
   "execution_count": 33,
   "id": "ec5418bd",
   "metadata": {},
   "outputs": [
    {
     "name": "stdout",
     "output_type": "stream",
     "text": [
      "Model: \"model_1\"\n",
      "__________________________________________________________________________________________________\n",
      "Layer (type)                    Output Shape         Param #     Connected to                     \n",
      "==================================================================================================\n",
      "input_1 (InputLayer)            [(None, 50)]         0                                            \n",
      "__________________________________________________________________________________________________\n",
      "embedding (Embedding)           (None, 50, 128)      1024000     input_1[0][0]                    \n",
      "__________________________________________________________________________________________________\n",
      "lstm (LSTM)                     [(None, 50, 256), (N 394240      embedding[0][0]                  \n",
      "__________________________________________________________________________________________________\n",
      "input_2 (InputLayer)            [(None, None)]       0                                            \n",
      "__________________________________________________________________________________________________\n",
      "lstm_1 (LSTM)                   [(None, 50, 256), (N 525312      lstm[0][0]                       \n",
      "__________________________________________________________________________________________________\n",
      "embedding_1 (Embedding)         (None, None, 128)    1280000     input_2[0][0]                    \n",
      "__________________________________________________________________________________________________\n",
      "lstm_2 (LSTM)                   [(None, 50, 256), (N 525312      lstm_1[0][0]                     \n",
      "__________________________________________________________________________________________________\n",
      "lstm_3 (LSTM)                   [(None, None, 256),  394240      embedding_1[0][0]                \n",
      "                                                                 lstm_2[0][1]                     \n",
      "                                                                 lstm_2[0][2]                     \n",
      "__________________________________________________________________________________________________\n",
      "attention_layer (AdditiveAttent (None, None, 256)    256         lstm_3[0][0]                     \n",
      "                                                                 lstm_2[0][0]                     \n",
      "__________________________________________________________________________________________________\n",
      "concat_layer (Concatenate)      (None, None, 512)    0           lstm_3[0][0]                     \n",
      "                                                                 attention_layer[0][0]            \n",
      "__________________________________________________________________________________________________\n",
      "dense_1 (Dense)                 (None, None, 10000)  5130000     concat_layer[0][0]               \n",
      "==================================================================================================\n",
      "Total params: 9,273,360\n",
      "Trainable params: 9,273,360\n",
      "Non-trainable params: 0\n",
      "__________________________________________________________________________________________________\n"
     ]
    }
   ],
   "source": [
    "# 어텐션\n",
    "attn_layer = AdditiveAttention(name='attention_layer')\n",
    "\n",
    "attn_out = attn_layer([decoder_outputs, encoder_outputs])\n",
    "\n",
    "decoder_concat_input = Concatenate(axis=-1, name='concat_layer')([decoder_outputs, attn_out])\n",
    "\n",
    "decoder_softmax_layer = Dense(tar_vocab, activation='softmax')\n",
    "decoder_softmax_outputs = decoder_softmax_layer(decoder_concat_input)\n",
    "\n",
    "model = Model([encoder_inputs, decoder_inputs], decoder_softmax_outputs)\n",
    "model.summary()"
   ]
  },
  {
   "cell_type": "code",
   "execution_count": 34,
   "id": "4cb5c4b6",
   "metadata": {},
   "outputs": [
    {
     "name": "stdout",
     "output_type": "stream",
     "text": [
      "Epoch 1/50\n",
      "304/304 [==============================] - 39s 103ms/step - loss: 5.6183 - val_loss: 5.1773\n",
      "Epoch 2/50\n",
      "304/304 [==============================] - 31s 101ms/step - loss: 5.0301 - val_loss: 4.8055\n",
      "Epoch 3/50\n",
      "304/304 [==============================] - 31s 103ms/step - loss: 4.6820 - val_loss: 4.5277\n",
      "Epoch 4/50\n",
      "304/304 [==============================] - 32s 106ms/step - loss: 4.4190 - val_loss: 4.3531\n",
      "Epoch 5/50\n",
      "304/304 [==============================] - 32s 105ms/step - loss: 4.2177 - val_loss: 4.2164\n",
      "Epoch 6/50\n",
      "304/304 [==============================] - 32s 105ms/step - loss: 4.0506 - val_loss: 4.1024\n",
      "Epoch 7/50\n",
      "304/304 [==============================] - 32s 105ms/step - loss: 3.9075 - val_loss: 4.0130\n",
      "Epoch 8/50\n",
      "304/304 [==============================] - 32s 105ms/step - loss: 3.7811 - val_loss: 3.9435\n",
      "Epoch 9/50\n",
      "304/304 [==============================] - 32s 105ms/step - loss: 3.6696 - val_loss: 3.8862\n",
      "Epoch 10/50\n",
      "304/304 [==============================] - 32s 105ms/step - loss: 3.5702 - val_loss: 3.8402\n",
      "Epoch 11/50\n",
      "304/304 [==============================] - 32s 105ms/step - loss: 3.4803 - val_loss: 3.7995\n",
      "Epoch 12/50\n",
      "304/304 [==============================] - 32s 105ms/step - loss: 3.3999 - val_loss: 3.7693\n",
      "Epoch 13/50\n",
      "304/304 [==============================] - 32s 105ms/step - loss: 3.3273 - val_loss: 3.7391\n",
      "Epoch 14/50\n",
      "304/304 [==============================] - 32s 105ms/step - loss: 3.2599 - val_loss: 3.7212\n",
      "Epoch 15/50\n",
      "304/304 [==============================] - 32s 105ms/step - loss: 3.2001 - val_loss: 3.7053\n",
      "Epoch 16/50\n",
      "304/304 [==============================] - 32s 105ms/step - loss: 3.1416 - val_loss: 3.6845\n",
      "Epoch 17/50\n",
      "304/304 [==============================] - 32s 105ms/step - loss: 3.0884 - val_loss: 3.6743\n",
      "Epoch 18/50\n",
      "304/304 [==============================] - 32s 105ms/step - loss: 3.0371 - val_loss: 3.6639\n",
      "Epoch 19/50\n",
      "304/304 [==============================] - 32s 105ms/step - loss: 2.9904 - val_loss: 3.6521\n",
      "Epoch 20/50\n",
      "304/304 [==============================] - 32s 105ms/step - loss: 2.9467 - val_loss: 3.6447\n",
      "Epoch 21/50\n",
      "304/304 [==============================] - 32s 105ms/step - loss: 2.9053 - val_loss: 3.6392\n",
      "Epoch 22/50\n",
      "304/304 [==============================] - 32s 105ms/step - loss: 2.8647 - val_loss: 3.6427\n",
      "Epoch 23/50\n",
      "304/304 [==============================] - 32s 104ms/step - loss: 2.8233 - val_loss: 3.6305\n",
      "Epoch 24/50\n",
      "304/304 [==============================] - 32s 105ms/step - loss: 2.7841 - val_loss: 3.6272\n",
      "Epoch 25/50\n",
      "304/304 [==============================] - 32s 105ms/step - loss: 2.7505 - val_loss: 3.6214\n",
      "Epoch 26/50\n",
      "304/304 [==============================] - 32s 105ms/step - loss: 2.7185 - val_loss: 3.6279\n",
      "Epoch 27/50\n",
      "304/304 [==============================] - 32s 105ms/step - loss: 2.6917 - val_loss: 3.6279\n",
      "Epoch 00027: early stopping\n"
     ]
    }
   ],
   "source": [
    "model.compile(optimizer='rmsprop', loss='sparse_categorical_crossentropy')\n",
    "es = EarlyStopping(monitor='val_loss', patience=2, verbose=1)\n",
    "history = model.fit(x=[encoder_input_train, decoder_input_train], y=decoder_target_train, \\\n",
    "          validation_data=([encoder_input_test, decoder_input_test], decoder_target_test), \\\n",
    "          batch_size=256, callbacks=[es], epochs=50)"
   ]
  },
  {
   "cell_type": "code",
   "execution_count": 35,
   "id": "9c6a3351",
   "metadata": {},
   "outputs": [
    {
     "data": {
      "image/png": "[encoded data removed]",
      "text/plain": [
       "<Figure size 432x288 with 1 Axes>"
      ]
     },
     "metadata": {
      "needs_background": "light"
     },
     "output_type": "display_data"
    }
   ],
   "source": [
    "plt.plot(history.history['loss'], label='train')\n",
    "plt.plot(history.history['val_loss'], label='test')\n",
    "plt.legend()\n",
    "plt.show()"
   ]
  },
  {
   "cell_type": "code",
   "execution_count": 36,
   "id": "29f0ae7a",
   "metadata": {},
   "outputs": [],
   "source": [
    "# 인퍼런스 모델\n",
    "# 단어 사전\n",
    "src_index_to_word = src_tokenizer.index_word # 원문 단어 집합에서 정수 -> 단어를 얻음\n",
    "tar_word_to_index = tar_tokenizer.word_index # 요약 단어 집합에서 단어 -> 정수를 얻음\n",
    "tar_index_to_word = tar_tokenizer.index_word # 요약 단어 집합에서 정수 -> 단어를 얻음\n",
    "\n",
    "# 인코더 설계\n",
    "encoder_model = Model(inputs=encoder_inputs, outputs=[encoder_outputs, state_h, state_c])\n",
    "\n",
    "decoder_state_input_h = Input(shape=(hidden_size,))\n",
    "decoder_state_input_c = Input(shape=(hidden_size,))\n",
    "\n",
    "dec_emb2 = dec_emb_layer(decoder_inputs)\n",
    "\n",
    "decoder_outputs2, state_h2, state_c2 = decoder_lstm(dec_emb2, initial_state=[decoder_state_input_h, decoder_state_input_c])\n",
    "\n",
    "# 디코더\n",
    "decoder_hidden_state_input = Input(shape=(text_max_len, hidden_size))\n",
    "attn_out_inf = attn_layer([decoder_outputs2, decoder_hidden_state_input])\n",
    "decoder_inf_concat = Concatenate(axis=-1, name='concat')([decoder_outputs2, attn_out_inf])\n",
    "\n",
    "decoder_outputs2 = decoder_softmax_layer(decoder_inf_concat) \n",
    "\n",
    "decoder_model = Model(\n",
    "    [decoder_inputs] + [decoder_hidden_state_input,decoder_state_input_h, decoder_state_input_c],\n",
    "    [decoder_outputs2] + [state_h2, state_c2])"
   ]
  },
  {
   "cell_type": "code",
   "execution_count": 37,
   "id": "fcec71bc",
   "metadata": {},
   "outputs": [],
   "source": [
    "def decode_sequence(input_seq):\n",
    "    e_out, e_h, e_c = encoder_model.predict(input_seq)\n",
    "    \n",
    "    target_seq = np.zeros((1,1))\n",
    "    target_seq[0, 0] = tar_word_to_index['sostoken']\n",
    "    \n",
    "    stop_condition = False\n",
    "    decoded_sentence = ''\n",
    "    while not stop_condition:\n",
    "        \n",
    "        output_tokens, h, c = decoder_model.predict([target_seq] + [e_out, e_h, e_c])\n",
    "        sampled_token_index = np.argmax(output_tokens[0, -1, :])\n",
    "        sampled_token = tar_index_to_word[sampled_token_index]\n",
    "        \n",
    "        if(sampled_token!='eostoken'):\n",
    "            decoded_sentence += ' '+sampled_token\n",
    "            \n",
    "        if(sampled_token == 'eostoken' or len(decoded_sentence.split()) >= (headlines_max_len-1)):\n",
    "            stop_condition = True\n",
    "            \n",
    "        target_seq = np.zeros((1,1))\n",
    "        target_seq[0, 0] = sampled_token_index\n",
    "        \n",
    "        e_h, e_c = h, c\n",
    "    \n",
    "    return decoded_sentence"
   ]
  },
  {
   "cell_type": "markdown",
   "id": "dea10199",
   "metadata": {},
   "source": [
    "# 실제 결과와 요약문 비교하기 (추상적 요약)"
   ]
  },
  {
   "cell_type": "code",
   "execution_count": 38,
   "id": "3b21cbb9",
   "metadata": {},
   "outputs": [],
   "source": [
    "def seq2text(input_seq):\n",
    "    temp=''\n",
    "    for i in input_seq:\n",
    "        if(i!=0):\n",
    "            temp = temp + src_index_to_word[i] + ' '\n",
    "    return temp\n",
    "\n",
    "def seq2headlines(input_seq):\n",
    "    temp=''\n",
    "    for i in input_seq:\n",
    "        if ((i!=0 and i!=tar_word_to_index['sostoken']) and i!=tar_word_to_index['eostoken']):\n",
    "            temp = temp + tar_index_to_word[i] + ' '\n",
    "    return temp"
   ]
  },
  {
   "cell_type": "code",
   "execution_count": 39,
   "id": "fe45d9c5",
   "metadata": {
    "scrolled": false
   },
   "outputs": [
    {
     "name": "stdout",
     "output_type": "stream",
     "text": [
      "원문 : defence minister nirmala sitharaman posted picture twitter wherein acknowledged row chinese soldiers across india china border la pass chinese soldiers started clicking pictures reached border indian soldiers passed defence minister soldiers officials indo tibetan border police \n",
      "실제 headlines : min waves at chinese soldiers clicking pics at border \n",
      "예측 headlines :  china defence min meets defence minister\n",
      "\n",
      "\n",
      "원문 : chinese consortium buying division world second largest maker million comes demand china sex becomes less subject placed public health education brands include chinese james bond \n",
      "실제 headlines : china group buys second largest condom maker for crore \n",
      "예측 headlines :  china largest largest firm for crore\n",
      "\n",
      "\n",
      "원문 : twinkle khanna revealed faced sexual harassment work article wrote reached breaking point receiving messages powerful client months added woman married man onscreen holes walls yet \n",
      "실제 headlines : have faced sexual harassment at work twinkle khanna \n",
      "예측 headlines :  was told to sexual harassment row with wife\n",
      "\n",
      "\n",
      "원문 : congress president rahul gandhi currently two day visit kerala wednesday said central government given flood hit state enough aid added extent support central government given people kerala right \n",
      "실제 headlines : centre did not give flood hit kerala enough aid rahul gandhi \n",
      "예측 headlines :  kerala govt to rahul gandhi in kerala\n",
      "\n",
      "\n",
      "원문 : maharashtra bjp arrested allegedly raping woman last three years trying lakh refused marry repeatedly turned demands accused also opened facebook account name started sending objectionable messages \n",
      "실제 headlines : bjp held for raping woman trying to extort her \n",
      "예측 headlines :  bjp leader son arrested for raping woman in maharashtra\n",
      "\n",
      "\n",
      "원문 : year old indian origin man singh jailed three years thursday making prank calls singapore police years drinking alcohol one calls told police stupid put one immigration house singh sentenced two years prison offence \n",
      "실제 headlines : indian origin man jailed for drunk pore cops for yrs \n",
      "예측 headlines :  yr old indian origin man jailed for stealing origin\n",
      "\n",
      "\n",
      "원문 : two days carrying missile strikes syria along us uk france announced million urgent humanitarian aid country strikes targeted three chemical weapons facilities retaliation alleged chemical attack crore people need humanitarian aid syria according un \n",
      "실제 headlines : france gives syria mn days after carrying out strikes \n",
      "예측 headlines :  us air force strikes in syria after strikes\n",
      "\n",
      "\n",
      "원문 : indian banks reported total loss crore due frauds last three impact crore twice seen previous two years union minister shiv pratap shukla said data frauds per year reporting year \n",
      "실제 headlines : indian banks lose crore due to frauds in last yrs \n",
      "예측 headlines :  indian banks lost crore in fy in fy\n",
      "\n",
      "\n",
      "원문 : cricketer also known il longest known last name first class cricketer literally means returned alive hospital island group played nine matches two tours new zealand scored two hundreds \n",
      "실제 headlines : who is the cricketer with longest known surname in history \n",
      "예측 headlines :  yr old becomes st ever cricketer dies at\n",
      "\n",
      "\n",
      "원문 : lahore high court bar association friday said take action lawyer would take indian national kulbhushan jadhav case bar asked government foreign pressure case jadhav pakistani military court awarded death sentence jadhav charges spying \n",
      "실제 headlines : lahore hc bar association asks lawyers not to defend jadhav \n",
      "예측 headlines :  jadhav denies claim of jadhav\n",
      "\n",
      "\n",
      "원문 : body former lok sabha speaker chatterjee flag kolkata based football club member years family rejected proposal cpi leaders remains party flag chatterjee expelled cpi \n",
      "실제 headlines : somnath body in flag of football club \n",
      "예측 headlines :  who is the first ever tipu sultan\n",
      "\n",
      "\n",
      "원문 : pakistan tehreek insaf chief imran khan thursday said kashmir remains core issue india pakistan added nations resolve issue talks aim work india develop better ties develop good relations khan added proposed improving bilateral trade achieving poverty free \n",
      "실제 headlines : kashmir remains biggest issue between india pak imran khan \n",
      "예측 headlines :  india has no role in india pakistan ex pak pm\n",
      "\n",
      "\n",
      "원문 : grand host line st january koregaon park pune comedy line consists east india comedy pant promises experience lifetime addition food \n",
      "실제 headlines : grand finale of to take place on january \n",
      "예측 headlines :  what is the new new\n",
      "\n",
      "\n",
      "원문 : picture gallery shows live animals thrown crater mount festival indonesia people present fruits vegetables flowers rice throwing volcano made honour sang god mountain \n",
      "실제 headlines : animals thrown into volcano in indonesia festival \n",
      "예측 headlines :  there is the of the of the beach\n",
      "\n",
      "\n",
      "원문 : punjab chief minister amarinder singh wednesday said farmers cannot expected give burning completely provided solutions adding matter farmers survival said state government engaged spreading awareness among farmers need stop burning \n",
      "실제 headlines : farmers cannot give up stubble burning completely punjab cm \n",
      "예측 headlines :  cannot wait for stubble burning to punjab cm on burning pollution\n",
      "\n",
      "\n",
      "원문 : exhibition arena director first ever oscar virtual reality experience human condition immigrants refugees six half minute sequence known directing getting special recognition powerful experience \n",
      "실제 headlines : vr exhibit on migrants wins first oscar for virtual reality \n",
      "예측 headlines :  st ever film was st time was made on st time\n",
      "\n",
      "\n",
      "원문 : us first lady melania trump president donald trump daughter adviser ivanka trump praised saudi arabia visit encouraging progress women empowerment notably saudi arabia slammed poor women rights gender recently allowed women receive health education services without getting consent male guardian \n",
      "실제 headlines : melania ivanka trump women in saudi arabia \n",
      "예측 headlines :  trump daughter to be held for saudi arabia\n",
      "\n",
      "\n",
      "원문 : delhi government monday launched online portal citizens file right information applications related state departments including chief minister office chief minister arvind kejriwal said government upload rti online avoid applications notably maharashtra first state accept rti applications \n",
      "실제 headlines : delhi becomes second state to accept online rti applications \n",
      "예측 headlines :  delhi govt launches mobile scheme for mobile\n",
      "\n",
      "\n",
      "원문 : facebook owned messaging service whatsapp may launch digital payments feature india next month according reports whatsapp working state bank india hdfc bank icici bank axis bank payments interface based payments platform platform beta stage one partner banks reports added \n",
      "실제 headlines : whatsapp may launch digital payments in india next month \n",
      "예측 headlines :  whatsapp to launch whatsapp payments in india report\n",
      "\n",
      "\n",
      "원문 : us president donald trump support united states india permanent membership un security council indian prime minister narendra modi said extremely grateful continued support united states india membership international institutions remarks made following modi trump meeting white house \n",
      "실제 headlines : trump shows support for india permanent membership of \n",
      "예측 headlines :  trump hails us pm modi for meeting with nations\n",
      "\n",
      "\n",
      "원문 : aap leader gopal rai sunday said delhi cm arvind kejriwal launch nationwide campaign monday tackle party ongoing financial crisis kejriwal launch nationwide campaign aap ka rashtra ka anyone donate minimum per month rai added party sufficient funds prepare upcoming elections said \n",
      "실제 headlines : aap to launch campaign to fight its financial crisis \n",
      "예측 headlines :  aap govt to hold party party for mcd polls\n",
      "\n",
      "\n",
      "원문 : chief executive officer giant wipro said worst behind wipro able come back industry growth speaking chairman said great working relationship ceo gives complete authority holds delivery results \n",
      "실제 headlines : the worst is over for wipro ceo \n",
      "예측 headlines :  not sure if you were not an of its job cfo\n",
      "\n",
      "\n",
      "원문 : many six indians illegal betting mobile phones dhaka national stadium bangladesh premier league six five fined tuesday also expelled stadium total people punished betting tournament far \n",
      "실제 headlines : indians fined for illegal betting in bangladesh premier league \n",
      "예측 headlines :  indian fined for ipl matches\n",
      "\n",
      "\n",
      "원문 : swiss parliamentary panel approved automatic exchange information switzerland india pact allows transfer information including tax identification number help india accounts black money swiss banks however panel asked swiss government pact strengthen concrete individual legal protection \n",
      "실제 headlines : swiss parliament panel allows info exchange with india \n",
      "예측 headlines :  indian banks to share tax data on swiss finance companies\n",
      "\n",
      "\n",
      "원문 : australian police released cctv footage man broke building stole electronic goods including iphone wearing lion costume cctv footage shows accompanied suspect wearing jacket said uber back police appealed public information \n",
      "실제 headlines : man dressed as lion breaks into building steals chocolates \n",
      "예측 headlines :  man uses iphone to be fired for stealing iphone\n",
      "\n",
      "\n"
     ]
    }
   ],
   "source": [
    "for i in range(175, 200):\n",
    "    print(\"원문 :\", seq2text(encoder_input_test[i]))\n",
    "    print(\"실제 headlines :\", seq2headlines(decoder_input_test[i]))\n",
    "    print(\"예측 headlines :\", decode_sequence(encoder_input_test[i].reshape(1, text_max_len)))\n",
    "    print('\\n')"
   ]
  },
  {
   "cell_type": "markdown",
   "id": "7b436c1a",
   "metadata": {},
   "source": [
    "* 대부분의 문장이 완성적이지 않지만, 일부 예측 헤드라인을 제외하고는 기사내용이 핵심단어들이 출현하는 경향을 보이고 있습니다."
   ]
  },
  {
   "cell_type": "markdown",
   "id": "b7dac006",
   "metadata": {},
   "source": [
    "# Summa을 이용해서 추출적 요약해보기"
   ]
  },
  {
   "cell_type": "code",
   "execution_count": 40,
   "id": "221a7b96",
   "metadata": {},
   "outputs": [],
   "source": [
    "import requests\n",
    "from summa.summarizer import summarize"
   ]
  },
  {
   "cell_type": "code",
   "execution_count": 41,
   "id": "a8b70a4d",
   "metadata": {
    "scrolled": false
   },
   "outputs": [
    {
     "name": "stdout",
     "output_type": "stream",
     "text": [
      "원문 : BJP leader Sitaram Adivasi, a first-time MLA from Vijaypur constituency in Madhya Pradesh, is being weighed against coins by his supporters to make a concrete house. \"I will definitely pay back their affection with development of the area,\" Adiwasi said. As per his 2018 Assembly Elections affidavit, the 55-year-old owns a tractor on loan, a two-acre land, and â¹46,733.\n",
      "실제 headlines : Supporters weigh BJPâMLA in coins, donate for his house in MP\n",
      "예측 headlines : \n",
      "\n",
      "\n",
      "원문 : AAP MP Bhagwant Mann will again take charge as the chief of the party's Punjab unit on Wednesday. In March 2018, Mann had tendered his resignation after Kejriwal apologised to Shiromani Akali Dal (SAD) leader Bikram Singh Majithia over allegations of his involvement in drug trade. However, his resignation was rejected by Punjab AAP last week. \n",
      "실제 headlines : Bhagwant Mann to take over as Punjab chief of AAP again\n",
      "예측 headlines : However, his resignation was rejected by Punjab AAP last week.\n",
      "\n",
      "\n",
      "원문 : Flipkart CEO Kalyan Krishnamurthy reportedly opposed the February 1 deadline of the revised FDI norms on e-commerce saying the regulations could cause \"significant customer disruption\" if the deadline wasn't extended. Reports added, he said the policy imposes conditions that could have undesirable impacts on India's e-commerce growth. His statements were written in letter to DIPP, as per Reuters.\n",
      "실제 headlines : Flipkart CEO opposes revised FDI policy deadline: Report\n",
      "예측 headlines : \n",
      "\n",
      "\n",
      "원문 : Researchers have found geological evidence for a palaeo-tsunami in northern Arabian Sea, believed to have taken place in 1008 AD, in the coastlines of Kachchh. Researchers identified a 250-km-long sand sheet deposition dating back to a thousand years, which is indicator of an underwater earthquake and an ancient tsunami. The coastline has unique geomorphic features of sediments, researchers said.\n",
      "실제 headlines : Ancient tsunami proof found in coastlines of Kachchh: Study\n",
      "예측 headlines : \n",
      "\n",
      "\n",
      "원문 : India has been ranked 78 on the 'Corruption Perceptions Index 2018' released by the Transparency International, moving up three places from 2017. The US has been ranked 22, dropping out of top 20 on the index for the first time since 2011. Denmark topped the index, which ranks 180 countries and territories. \n",
      "실제 headlines : India ranked 78 on global corruption index, US drops out of top 20\n",
      "예측 headlines : The US has been ranked 22, dropping out of top 20 on the index for the first time since 2011.\n",
      "\n",
      "\n",
      "원문 : Uttar Pradesh government has asked officials to barcode stray cows and set up temporary cow shelters at unused government buildings. The shelters can be established at cooperative institutions and at institutes of the Central government which have been lying closed, a government order read. It also suggested Radio-Frequency Identification (RFID) technology to be used to scan the barcodes. n\n",
      "실제 headlines : UP government directs officials to barcode stray cows\n",
      "예측 headlines : Uttar Pradesh government has asked officials to barcode stray cows and set up temporary cow shelters at unused government buildings.\n",
      "\n",
      "\n",
      "원문 : Ahmedabad-headquartered Lambda Therapeutic Research on Tuesday announced the acquisition of US-based Novum Pharmaceutical Research Services. The Indian contract research organisation said this is its second acquisition in North America following the acquisition of the R&D facilities of Canada's Biovail in 2010. Apart from India, Lambda has operations in Canada, Poland and the UK.\n",
      "실제 headlines : India's Lambda buys US research firm Novum Pharmaceutical\n",
      "예측 headlines : Ahmedabad-headquartered Lambda Therapeutic Research on Tuesday announced the acquisition of US-based Novum Pharmaceutical Research Services.\n",
      "\n",
      "\n",
      "원문 : The Income Tax Department on Tuesday said it has confiscated assets worth â¹6,900 crore so far under the anti-benami transactions law. Those who \"abet and induce\" benami transactions, benamidar and beneficiaries may face rigorous imprisonment up to 7 years besides being liable to pay fine, it added. The tax department started initiating action under the new law from November 2016.\n",
      "실제 headlines :  Confiscated benami assets worth â¹6,900 crore: I-T Dept\n",
      "예측 headlines : The Income Tax Department on Tuesday said it has confiscated assets worth â¹6,900 crore so far under the anti-benami transactions law.\n",
      "\n",
      "\n",
      "원문 : Bank of Baroda on Tuesday posted 321% year-on-year rise in profit at â¹471 crore for the quarter ended December 31, 2018. The net interest income rose 16.6% to â¹4,744 crore compared to â¹4,068 crore in the same period a year ago. The lender's asset quality eased with gross bad loans declining to 11.01% as against 11.3% in the year-ago period.\n",
      "실제 headlines : Bank of Baroda Q3 profit surges fourfold to â¹471 crore\n",
      "예측 headlines : The net interest income rose 16.6% to â¹4,744 crore compared to â¹4,068 crore in the same period a year ago.\n",
      "\n",
      "\n",
      "원문 : Conclusion of cases under the bankruptcy law by the NCLT within 180-270 days mandated by law can release up to â¹67,000 crore to lenders, rating agency ICRA said. Of the 1,484 cases that have been sent to NCLT since 2016, 898 are yet to be resolved, it added. Out of this, 31% have exceeded the 270-day timeline, it further said.\n",
      "실제 headlines : Timely resolution by NCLT can free up â¹67,000 cr: Report\n",
      "예측 headlines : \n",
      "\n",
      "\n",
      "원문 : Dewan Housing Finance (DHFL) shares fell as much as 11% on Tuesday following a media report that alleged over â¹31,000-crore fraud by its controlling shareholders, the Wadhawans. The report alleged they diverted funds, including money borrowed from state-run banks, to shell companies. DHFL in response said the report was made with \"mala fide intent\" to damage its \"goodwill and reputation\".\n",
      "실제 headlines : Dewan Housing Finance shares plunge 11% after media report\n",
      "예측 headlines : \n",
      "\n",
      "\n",
      "원문 : Cash-strapped Jet Airways on Tuesday reportedly grounded three Boeing 737 planes due to non-payment of lease rentals, leading to cancellation of around 20 domestic flights. The number of aircraft grounded by the carrier due to rental payment issues now stand at six, reports added. The carrier has about 123 aircraft in its fleet, including 5 new Boeing 737 MAXs.\n",
      "실제 headlines : Jet Airways grounds 3 more planes over rental dues: Reports\n",
      "예측 headlines : The number of aircraft grounded by the carrier due to rental payment issues now stand at six, reports added.\n",
      "\n",
      "\n",
      "원문 : While signing autographs for fans following his Australian Open 2019 victory, world number one men's tennis player Novak Djokovic approached a fan who had climbed a partition to get close to him. After realising that the fan didn't have anything for him to sign on, Djokovic signed his own jacket, took it off and gave it to the fan.\n",
      "실제 headlines : Djokovic signs his own jacket and gives it to empty-handed fan\n",
      "예측 headlines : \n",
      "\n",
      "\n",
      "원문 : Brisbane Heat wicketkeeper Jimmy Peirson slammed a six off Hobart Hurricanes' James Faulkner which ended up hitting a spectator on his face. The spectator was hit on the face while attempting to catch the six in the 17th over, however, he escaped injury. The fan was seen in the last over, applying ice pack to his forehead and drinking beer. \n",
      "실제 headlines : Spectator gets hit on face by six, returns with ice pack and beer\n",
      "예측 headlines : Brisbane Heat wicketkeeper Jimmy Peirson slammed a six off Hobart Hurricanes' James Faulkner which ended up hitting a spectator on his face.\n",
      "\n",
      "\n",
      "원문 : Former world number one men's tennis player Andy Murray underwent a hip resurfacing surgery in London on Monday. The 31-year-old, who had undergone his first hip surgery in January last year, shared pictures of himself as well as his hip's X-ray on Instagram, writing, \"I now have a metal hip...Hopefully that will be the end of my hip pain.\" \n",
      "실제 headlines : I now have a metal hip: Murray undergoes 2nd hip surgery in a year\n",
      "예측 headlines : Former world number one men's tennis player Andy Murray underwent a hip resurfacing surgery in London on Monday.\n",
      "\n",
      "\n",
      "원문 : The Beating Retreat organised annually at Delhi's Vijay Chowk on January 29 signifies the end of the four-day-long Republic Day celebrations. The ceremony marks the event when the troops ceased fighting, sheathed their arms and returned to the camps at the sounding of the Retreat. The ceremony includes performances by the bands of the Indian military and various police contingents.\n",
      "실제 headlines : What is Beating Retreat ceremony, held 3 days after Republic Day?\n",
      "예측 headlines : The ceremony marks the event when the troops ceased fighting, sheathed their arms and returned to the camps at the sounding of the Retreat.\n",
      "\n",
      "\n",
      "원문 : Uttar Pradesh CM Yogi Adityanath on Tuesday took a holy dip at the Sangam along with other state cabinet ministers following their meeting at the Kumbh Mela in Prayagraj. The cabinet meeting at Kumbh Mela was the first by UP CM Yogi outside Lucknow. It was held at the \"integrated control and command centre\" set up at Kumbh Mela venue. \n",
      "실제 headlines : UP CM Yogi takes holy dip in Ganga post cabinet meet at Kumbh Mela\n",
      "예측 headlines : The cabinet meeting at Kumbh Mela was the first by UP CM Yogi outside Lucknow.\n",
      "\n",
      "\n",
      "원문 : Global consulting firm Accenture said it will begin selling automation software that has already eliminated about 40,000 internal roles. Accenture's SynOps system suggests ways to streamline and automate processes in areas such as finance and accounting, marketing and procurement. The company said it took five years to build the SynOps platform.\n",
      "실제 headlines : Accenture to sell software that allowed it to cut 40,000 jobs\n",
      "예측 headlines : Accenture's SynOps system suggests ways to streamline and automate processes in areas such as finance and accounting, marketing and procurement.\n",
      "\n",
      "\n",
      "원문 : Actresses Zarina Wahab and Barkha Bisht Sengupta have joined the cast of the upcoming biopic 'PM Narendra Modi', starring Vivek Oberoi. Actors Manoj Joshi and Prashant Narayanan have also been roped in for the biopic, the film's makers announced. The film, directed by Omung Kumar, will also feature Boman Irani and Darshan Kumaar.\n",
      "실제 headlines : Zarina Wahab, Barkha Bisht Sengupta join PM Modi biopic cast\n",
      "예측 headlines : Actors Manoj Joshi and Prashant Narayanan have also been roped in for the biopic, the film's makers announced.\n",
      "\n",
      "\n",
      "원문 : Actor Rajkummar Rao has said that he finds it \"overwhelming\" to be compared to Ranbir Kapoor and Ranveer Singh. \"I take it as a compliment...I take it with a lot of gratitude because you are comparing me with two great actors,â he added. Rajkummar further said he doesn't take competition into account and only hopes to grow as an actor. \n",
      "실제 headlines : Overwhelming to be compared to Ranbir, Ranveer: Rajkummar\n",
      "예측 headlines : Actor Rajkummar Rao has said that he finds it \"overwhelming\" to be compared to Ranbir Kapoor and Ranveer Singh.\n",
      "\n",
      "\n",
      "원문 : Shah Rukh Khan was dismissed of the charge of being a beneficiary of benami property in Maharashtra's Alibaug. The Income Tax Department issued an attachment order in February 2018, stating that the property was held by the company 'Deja Vu Farms', further naming Shah Rukh as a beneficiary. The Adjudicating Authority (AA) revoked the order, calling it 'baseless' and 'coloured'. \n",
      "실제 headlines : Charges dropped against SRK in Alibaug benami property case\n",
      "예측 headlines : \n",
      "\n",
      "\n",
      "원문 : Nana Patekar's mother Nirmala Patekar passed away on Tuesday morning, aged 99. The actor and several close family members were present at Oshiwara crematorium in Mumbai where Nirmala's last rites were performed, as per reports. Nana, who lost his father when he was 28 years old, lived with his mother in Maharashtra's Murud before she breathed her last, reports suggested. \n",
      "실제 headlines : Nana Patekar's mother passes away aged 99\n",
      "예측 headlines : Nana Patekar's mother Nirmala Patekar passed away on Tuesday morning, aged 99.\n",
      "\n",
      "\n",
      "원문 : Actor Ravi Kishan's daughter Riva will make her acting debut opposite actress Padmini Kolhapure's son Priyaank in the film 'Sab Kushal Mangal', which will also feature Akshaye Khanna in a lead role. The film will reportedly be directed by Karan Kashyap and produced by filmmaker Nitin Manmohan's daughter Prachi. Shooting for the film will begin in March, as per reports.\n",
      "실제 headlines : Ravi Kishan's daughter to debut opposite Padmini Kolhapure's son\n",
      "예측 headlines : The film will reportedly be directed by Karan Kashyap and produced by filmmaker Nitin Manmohan's daughter Prachi.\n",
      "\n",
      "\n",
      "원문 : CBI SP T Rajah Balaji has accused that he has been transferred by the interim CBI Director M Nageswara Rao because he complained about Rao's \"misconduct\" to the then director in March 2017. Balaji was recently transferred from Delhi Anti-Corruption Branch to Ghaziabad CBI Academy. Balaji has also approached the Supreme Court with a petition challenging his transfer, report said.\n",
      "실제 headlines : Transferred as complained about Rao's misconduct: CBI SP Balaji\n",
      "예측 headlines : Balaji was recently transferred from Delhi Anti-Corruption Branch to Ghaziabad CBI Academy.\n",
      "\n",
      "\n",
      "원문 : After India registered a 3-0 lead over New Zealand, Harbhajan Singh said, \" [N]o team can stand in front of our team. It is great to see the way our team is playing.\" Comparing the two teams, Harbhajan said, \"New Zealand is a good team but India were better.\" India will play two more ODIs against New Zealand.\n",
      "실제 headlines : No team can stand in front of this Indian side: Harbhajan \n",
      "예측 headlines : After India registered a 3-0 lead over New Zealand, Harbhajan Singh said, \" [N]o team can stand in front of our team.\n",
      "\n",
      "\n"
     ]
    }
   ],
   "source": [
    "for i in range(175, 200):\n",
    "    print(\"원문 :\", data_copy.text[i])\n",
    "    print(\"실제 headlines :\", data_copy.headlines[i])\n",
    "    print(\"예측 headlines :\", summarize(data_copy.text[i], words=headlines_max_len))\n",
    "    print('\\n')"
   ]
  },
  {
   "cell_type": "markdown",
   "id": "b9483f8f",
   "metadata": {},
   "source": [
    "* 기존의 내용에서 추출해서 그런지 문장의 완성도는 양호한데, 핵심단어들이 잘 있다고는 판단하기 어려운 상태고, 예측된 headline들이 대체로 문장의 시작부분이나 끝부분을 그대로 가져온 형태입니다."
   ]
  },
  {
   "cell_type": "markdown",
   "id": "cc2cab7f",
   "metadata": {},
   "source": [
    "|    |문법완성도|핵심단어|\n",
    "|:---|:-----:|:-----:|\n",
    "|Abstractive| ↓ | ↑ |\n",
    "|Extractive| ↑ | ↓ |"
   ]
  },
  {
   "cell_type": "markdown",
   "id": "f208ffef",
   "metadata": {},
   "source": [
    "# 회고"
   ]
  },
  {
   "cell_type": "markdown",
   "id": "5fd66ce6",
   "metadata": {},
   "source": [
    "* Extractive 방식은 문장의 완성도는 좋지만, 문장의 첫 문장이나 마지막 문장을 그대로 가져와서 그런것 같고, 내용의 첫 문장이나 마지막 문장이 정해진 단어의 수 이하면 추출을 해오지만, 그렇지 않은 경우 아예 문장생성이 안되는 문제가 있는것 같습니다.\n",
    "* Abstractive 방식은 문장완성도가 떨어지지만 Attention 방식을 사용해서 그런지 핵심단어가 일부 포함되어있는 것을 보아 데이터량을 늘리거나, 파라미터에 변화를 주는 등 좀 더 개선하면 완성도있는 문장들을 생성해 낼 수 있을 것 같습니다.\n"
   ]
  }
 ],
 "metadata": {
  "kernelspec": {
   "display_name": "Python 3 (ipykernel)",
   "language": "python",
   "name": "python3"
  },
  "language_info": {
   "codemirror_mode": {
    "name": "ipython",
    "version": 3
   },
   "file_extension": ".py",
   "mimetype": "text/x-python",
   "name": "python",
   "nbconvert_exporter": "python",
   "pygments_lexer": "ipython3",
   "version": "3.9.7"
  }
 },
 "nbformat": 4,
 "nbformat_minor": 5
}
