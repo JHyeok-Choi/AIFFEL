{
 "cells": [
  {
   "cell_type": "markdown",
   "id": "cbe03034",
   "metadata": {},
   "source": [
    "## 데이터 읽어오기"
   ]
  },
  {
   "cell_type": "code",
   "execution_count": 1,
   "id": "83fafb8b",
   "metadata": {},
   "outputs": [
    {
     "name": "stdout",
     "output_type": "stream",
     "text": [
      "데이터 크기: 187088\n",
      "Examples:\n",
      " ['', '', '[Spoken Intro:]']\n"
     ]
    }
   ],
   "source": [
    "import glob\n",
    "import os, re\n",
    "import tensorflow as tf\n",
    "import matplotlib.pyplot as plt\n",
    "\n",
    "txt_file_path = os.getenv('HOME')+'/aiffel/lyricist/data/lyrics/*'\n",
    "\n",
    "# txt_file_path 경로에 있는 모든 파일명을 리스트 형식으로 txt_list 에 할당\n",
    "txt_list = glob.glob(txt_file_path)\n",
    "\n",
    "raw_corpus = []\n",
    "\n",
    "# 여러개의 txt 파일을 모두 읽어서 raw_corpus 에 담습니다.\n",
    "for txt_file in txt_list:\n",
    "    with open(txt_file, \"r\") as f:\n",
    "        # read() : 파일 전체의 내용을 하나의 문자열로 읽어온다. \n",
    "        # splitlines()  : 여러라인으로 구분되어 있는 문자열을 한라인씩 분리하여 리스트로 반환\n",
    "        raw = f.read().splitlines()\n",
    "        # extend() : 리스트함수로 추가적인 내용을 연장 한다.\n",
    "        raw_corpus.extend(raw)\n",
    "\n",
    "print(\"데이터 크기:\", len(raw_corpus))\n",
    "print(\"Examples:\\n\", raw_corpus[:3])"
   ]
  },
  {
   "cell_type": "code",
   "execution_count": 2,
   "id": "19731eca",
   "metadata": {},
   "outputs": [
    {
     "name": "stdout",
     "output_type": "stream",
     "text": [
      "0 :  \n",
      "1 :  \n",
      "2 :  [Spoken Intro:]\n",
      "3 :  You ever want something \n",
      "4 :  that you know you shouldn't have \n",
      "5 :  The more you know you shouldn't have it, \n",
      "6 :  The more you want it \n",
      "7 :  And then one day you get it, \n",
      "8 :  It's so good too \n",
      "9 :  But it's just like my girl \n",
      "10 :  When she's around me \n",
      "11 :  I just feel so good, so good \n",
      "12 :  But right now I just feel cold, so cold \n",
      "13 :  Right down to my bones \n",
      "14 :  'Cause ooh... \n",
      "15 :  Ain't no sunshine when she's gone \n",
      "16 :  It's not warm when she's away \n",
      "17 :  Ain't no sunshine when she's gone \n",
      "18 :  And she's always gone too long \n",
      "19 :  Anytime she goes away \n"
     ]
    }
   ],
   "source": [
    "for i in range(20):\n",
    "    print(i, ': ', raw_corpus[i])"
   ]
  },
  {
   "cell_type": "code",
   "execution_count": 3,
   "id": "bdd417a5",
   "metadata": {},
   "outputs": [
    {
     "name": "stdout",
     "output_type": "stream",
     "text": [
      "You ever want something \n",
      "that you know you shouldn't have \n",
      "The more you know you shouldn't have it, \n",
      "The more you want it \n",
      "And then one day you get it, \n",
      "It's so good too \n",
      "But it's just like my girl \n",
      "When she's around me \n",
      "I just feel so good, so good \n",
      "But right now I just feel cold, so cold \n",
      "Right down to my bones \n",
      "'Cause ooh... \n",
      "Ain't no sunshine when she's gone \n",
      "It's not warm when she's away \n",
      "Ain't no sunshine when she's gone \n",
      "And she's always gone too long \n",
      "Anytime she goes away \n"
     ]
    }
   ],
   "source": [
    "# enumerate() 함수를 이용하여 raw_corpus list 내에 저장된 문장과\n",
    "# 그 문장읜 인덱스를 반환 (인덱스, 문장 순)\n",
    "for idx, sentence in enumerate(raw_corpus):\n",
    "    # 길리가 0인 문장은 건너뜁니다.\n",
    "    if len(sentence) == 0: continue\n",
    "    # 문장의 끝이 ] 인 문장은 건너뜁니다.\n",
    "    if sentence[-1] == \"]\": continue\n",
    "    # 문장 20개만 확인.\n",
    "    if idx > 19: break\n",
    "        \n",
    "    print(sentence)"
   ]
  },
  {
   "cell_type": "markdown",
   "id": "98e584d1",
   "metadata": {},
   "source": [
    "## 데이터 정제"
   ]
  },
  {
   "cell_type": "code",
   "execution_count": 4,
   "id": "2b30e9fa",
   "metadata": {},
   "outputs": [],
   "source": [
    "def preprocess_sentence(sentence):\n",
    "    sentence = sentence.lower().strip()\n",
    "    sentence = re.sub(r\"([?.!,])\", r\" \\1 \", sentence)\n",
    "    sentence = re.sub(r'[\" \"]+',\" \", sentence)\n",
    "    sentence = re.sub(r\"[^a-zA-Z?.!,]+\", \" \", sentence)\n",
    "    sentence = sentence.strip()\n",
    "    sentence = '<start> ' + sentence + ' <end>'\n",
    "    return sentence"
   ]
  },
  {
   "cell_type": "code",
   "execution_count": 5,
   "id": "b0680bf1",
   "metadata": {},
   "outputs": [
    {
     "name": "stdout",
     "output_type": "stream",
     "text": [
      "<start> this is sample sentence . <end>\n"
     ]
    }
   ],
   "source": [
    "# 필터링 잘 적용됬는지 확인.\n",
    "print(preprocess_sentence(\"This @_is ;;;sample          sentence.\"))"
   ]
  },
  {
   "cell_type": "code",
   "execution_count": 6,
   "id": "e74e4bc4",
   "metadata": {},
   "outputs": [],
   "source": [
    "# 필터링된 문장 저장.\n",
    "corpus = []\n",
    "\n",
    "# raw_corpus list에 저장된 문장들을 순서대로 반환하여 sentence에 저장\n",
    "for sentence in raw_corpus:\n",
    "    # 우리가 원하지 않는 문장은 건너뜁니다.\n",
    "    if len(sentence) == 0: continue\n",
    "    if sentence[-1] == \"]\": continue\n",
    "    \n",
    "    # 앞서 구현한 preprocess_sentence() 함수를 이용하여 문장을 정제 하고 저장합니다.\n",
    "    preprocessed_sentence = preprocess_sentence(sentence)\n",
    "    corpus.append(preprocessed_sentence)"
   ]
  },
  {
   "cell_type": "code",
   "execution_count": 7,
   "id": "7fef8505",
   "metadata": {},
   "outputs": [
    {
     "data": {
      "text/plain": [
       "['<start> you ever want something <end>',\n",
       " '<start> that you know you shouldn t have <end>',\n",
       " '<start> the more you know you shouldn t have it , <end>',\n",
       " '<start> the more you want it <end>',\n",
       " '<start> and then one day you get it , <end>',\n",
       " '<start> it s so good too <end>',\n",
       " '<start> but it s just like my girl <end>',\n",
       " '<start> when she s around me <end>',\n",
       " '<start> i just feel so good , so good <end>',\n",
       " '<start> but right now i just feel cold , so cold <end>']"
      ]
     },
     "execution_count": 7,
     "metadata": {},
     "output_type": "execute_result"
    }
   ],
   "source": [
    "corpus[:10]"
   ]
  },
  {
   "cell_type": "markdown",
   "id": "46fc2d34",
   "metadata": {},
   "source": [
    "## 평가 데이터셋 분리"
   ]
  },
  {
   "cell_type": "code",
   "execution_count": 8,
   "id": "c50d36d7",
   "metadata": {},
   "outputs": [
    {
     "name": "stdout",
     "output_type": "stream",
     "text": [
      "[[  2   7 156 ...   0   0   0]\n",
      " [  2  17   7 ...   0   0   0]\n",
      " [  2   6  98 ...   0   0   0]\n",
      " ...\n",
      " [  2 310   1 ...   0   0   0]\n",
      " [  2 729   5 ...   0   0   0]\n",
      " [  2 729   5 ...   0   0   0]] <keras_preprocessing.text.Tokenizer object at 0x7fb347a256d0>\n"
     ]
    }
   ],
   "source": [
    "def tokenize(corpus):\n",
    "    # 15,000 단어를 기억할 수 있는 tokenizer를 생성\n",
    "    tokenizer = tf.keras.preprocessing.text.Tokenizer(num_words=15000, filters=' ', oov_token=\"<unk>\")\n",
    "    \n",
    "    # corpus를 이용해 tokenizer 내부의 단어장을 완성.\n",
    "    # tokenizer.fit_on_texts(texts): 문자 데이터를 입력받아 리스트의 형태로 변환하는 메서드\n",
    "    tokenizer.fit_on_texts(corpus)\n",
    "    \n",
    "    # 준비한 tokenizer를 이용해 corpus를 Tensor로 변환합니다.\n",
    "    # tokenizer.texts_to_sequences(texts): 텍스트 안의 단어들을 숫자의 시퀀스 형태로 변환하는 메서드\n",
    "    tensor = tokenizer.texts_to_sequences(corpus)\n",
    "    \n",
    "    # 입력 데이터의 시퀀스 길이를 일정하게 맞춰줍니다.\n",
    "    # 만약 시퀀스가 짧다면 문장 뒤에 패딩을 붙여 길이를 맞춰줍니다.\n",
    "    # 문장 앞에 패딩을 붙여 길이를 맞추고 싶다면 padding='pre'를 사용합니다.\n",
    "    tensor = tf.keras.preprocessing.sequence.pad_sequences(tensor, padding='post', maxlen=20)\n",
    "    \n",
    "    print(tensor, tokenizer)\n",
    "    return tensor, tokenizer\n",
    "\n",
    "tensor, tokenizer = tokenize(corpus)"
   ]
  },
  {
   "cell_type": "code",
   "execution_count": 9,
   "id": "6ea2a540",
   "metadata": {},
   "outputs": [
    {
     "name": "stdout",
     "output_type": "stream",
     "text": [
      "[[   2    7  156   62  199    3    0    0    0    0]\n",
      " [   2   17    7   34    7 1536   15   76    3    0]\n",
      " [   2    6   98    7   34    7 1536   15   76   11]]\n"
     ]
    }
   ],
   "source": [
    "# 생성된 텐서 데이터 확인.\n",
    "print(tensor[:3, :10])"
   ]
  },
  {
   "cell_type": "code",
   "execution_count": 10,
   "id": "2a5c2463",
   "metadata": {},
   "outputs": [
    {
     "name": "stdout",
     "output_type": "stream",
     "text": [
      "1 : <unk>\n",
      "2 : <start>\n",
      "3 : <end>\n",
      "4 : ,\n",
      "5 : i\n",
      "6 : the\n",
      "7 : you\n",
      "8 : and\n",
      "9 : a\n",
      "10 : to\n"
     ]
    }
   ],
   "source": [
    "# tokenizer.index_word: 현재 계산된 단어의 인덱스와 인덱스에 해당하는 단어를 dictionary 형태로 반환\n",
    "for idx in tokenizer.index_word:\n",
    "    print(idx, \":\", tokenizer.index_word[idx])\n",
    "    \n",
    "    if idx >= 10: break"
   ]
  },
  {
   "cell_type": "code",
   "execution_count": 11,
   "id": "883c49d2",
   "metadata": {},
   "outputs": [
    {
     "name": "stdout",
     "output_type": "stream",
     "text": [
      "[  2   7 156  62 199   3   0   0   0   0   0   0   0   0   0   0   0   0\n",
      "   0]\n",
      "[  7 156  62 199   3   0   0   0   0   0   0   0   0   0   0   0   0   0\n",
      "   0]\n"
     ]
    }
   ],
   "source": [
    "# tensor에서 마지막 토큰을 잘라서 소스 문장을 생성, 해당 토큰은 <end>가 아니라 <pad>일 가능성 높음.\n",
    "src_input = tensor[:, :-1]\n",
    "# tenor에서 <start>를 잘라내서 타겟 문장을 생성.\n",
    "tgt_input = tensor[:, 1:]\n",
    "\n",
    "print(src_input[0])\n",
    "print(tgt_input[0])"
   ]
  },
  {
   "cell_type": "markdown",
   "id": "20cb530d",
   "metadata": {},
   "source": [
    "훈련 데이터와 평가데이터로 분리하기!"
   ]
  },
  {
   "cell_type": "code",
   "execution_count": 12,
   "id": "46f2c872",
   "metadata": {},
   "outputs": [],
   "source": [
    "from sklearn.model_selection import train_test_split\n",
    "# 소스문장을 train으로 타겟 문장을 val로.\n",
    "enc_train, enc_val, dec_train, dec_val = train_test_split(src_input, tgt_input, random_state=2023, test_size= 0.2)"
   ]
  },
  {
   "cell_type": "code",
   "execution_count": 13,
   "id": "89f89011",
   "metadata": {},
   "outputs": [
    {
     "name": "stdout",
     "output_type": "stream",
     "text": [
      "(139790, 19) (34948, 19) (139790, 19) (34948, 19)\n"
     ]
    }
   ],
   "source": [
    "print(enc_train.shape, enc_val.shape, dec_train.shape, dec_val.shape)"
   ]
  },
  {
   "cell_type": "code",
   "execution_count": 14,
   "id": "887d9873",
   "metadata": {},
   "outputs": [],
   "source": [
    "BUFFER_SIZE = len(src_input)\n",
    "BATCH_SIZE = 256\n",
    "steps_per_epoch = len(src_input) // BATCH_SIZE\n",
    "\n",
    "# tokenizer가 구축한 단어사전 내 15000개와, 여기 포함되지 않은 0:<pad>를 포함하여 15001개\n",
    "# tokenizer.num_words: 주어진 데이터의 문장들에서 빈도수가 높은 n개의 단어만 선택\n",
    "# tokenize() 함수에서 num_words를 15000개로 선언했기 때문에, tokenizer.num_words의 값은 15000개\n",
    "VOCAB_SIZE = tokenizer.num_words + 1"
   ]
  },
  {
   "cell_type": "code",
   "execution_count": 15,
   "id": "f2c5a45f",
   "metadata": {},
   "outputs": [
    {
     "data": {
      "text/plain": [
       "<BatchDataset shapes: ((256, 19), (256, 19)), types: (tf.int32, tf.int32)>"
      ]
     },
     "execution_count": 15,
     "metadata": {},
     "output_type": "execute_result"
    }
   ],
   "source": [
    "train_dataset = tf.data.Dataset.from_tensor_slices((enc_train, dec_train))\n",
    "train_dataset = train_dataset.shuffle(BUFFER_SIZE)\n",
    "train_dataset = train_dataset.batch(BATCH_SIZE, drop_remainder = True)\n",
    "train_dataset"
   ]
  },
  {
   "cell_type": "code",
   "execution_count": 16,
   "id": "10405abb",
   "metadata": {},
   "outputs": [
    {
     "data": {
      "text/plain": [
       "<BatchDataset shapes: ((256, 19), (256, 19)), types: (tf.int32, tf.int32)>"
      ]
     },
     "execution_count": 16,
     "metadata": {},
     "output_type": "execute_result"
    }
   ],
   "source": [
    "test_dataset = tf.data.Dataset.from_tensor_slices((enc_val, dec_val))\n",
    "test_dataset = test_dataset.shuffle(BUFFER_SIZE)\n",
    "test_dataset = test_dataset.batch(BATCH_SIZE, drop_remainder=True)\n",
    "test_dataset"
   ]
  },
  {
   "cell_type": "markdown",
   "id": "4033763a",
   "metadata": {},
   "source": [
    "## 모델 만들기"
   ]
  },
  {
   "cell_type": "code",
   "execution_count": 17,
   "id": "c3f2d661",
   "metadata": {},
   "outputs": [],
   "source": [
    "class TextGenerator(tf.keras.Model):\n",
    "    def __init__(self, vocab_size, embedding_size, hidden_size):\n",
    "        super().__init__()\n",
    "        \n",
    "        # Embedding 레이어, 2개의 LSTM 레이어, 1개의 Dense 레이어로 구성되어 있다.\n",
    "        # Embedding 레이어는 단어 사전의 인덱스 값을 해당 인덱스 번째의 워드 벡터로 바꿔준다.\n",
    "        # 이 워드 벡터는 의미 벡터 공간에서 단어의 추상적 표현으로 사용된다.\n",
    "        self.embedding = tf.keras.layers.Embedding(vocab_size, embedding_size)\n",
    "        self.rnn_1 = tf.keras.layers.LSTM(hidden_size, return_sequences=True)\n",
    "        self.rnn_2 = tf.keras.layers.LSTM(hidden_size, return_sequences=True)\n",
    "        self.linear = tf.keras.layers.Dense(vocab_size)\n",
    "    \n",
    "    def call(self, x):\n",
    "        out = self.embedding(x)\n",
    "        out = self.rnn_1(out)\n",
    "        out = self.rnn_2(out)\n",
    "        out = self.linear(out)\n",
    "        \n",
    "        return out"
   ]
  },
  {
   "cell_type": "code",
   "execution_count": 18,
   "id": "31fc800f",
   "metadata": {},
   "outputs": [],
   "source": [
    "# embedding size 값이 커질 수록 단어의 추상적인 특징들을 더 잡아낼 수 있지만,\n",
    "# 데이터의 양이 적으면 긍정적인 결과가 나오지 않을 수 있다.\n",
    "# 워드 벡터의 차원수를 말하며 단어가 추상적으로 표현되는 크기입니다.\n",
    "embedding_size = 512\n",
    "hidden_size = 2048\n",
    "lyricist = TextGenerator(tokenizer.num_words + 1, embedding_size, hidden_size)"
   ]
  },
  {
   "cell_type": "code",
   "execution_count": 19,
   "id": "3e4a3af0",
   "metadata": {},
   "outputs": [
    {
     "data": {
      "text/plain": [
       "<tf.Tensor: shape=(256, 19, 15001), dtype=float32, numpy=\n",
       "array([[[-2.12005645e-04, -9.40071277e-06,  3.00720803e-05, ...,\n",
       "         -3.98123375e-04, -1.31781766e-04,  2.82347974e-05],\n",
       "        [-6.64547435e-04,  2.03372092e-05, -1.12552989e-04, ...,\n",
       "         -4.61010321e-04, -2.46895826e-04, -1.16550182e-04],\n",
       "        [-6.56825840e-04,  1.63737044e-04, -5.14869404e-04, ...,\n",
       "         -6.05526089e-04, -3.32437688e-04,  2.66351308e-05],\n",
       "        ...,\n",
       "        [-1.95101020e-03, -1.10491144e-03, -2.54284241e-04, ...,\n",
       "          2.38108201e-04,  1.69556748e-04,  3.42361885e-03],\n",
       "        [-2.24965904e-03, -7.70948594e-04, -5.82447392e-04, ...,\n",
       "          1.22626472e-04,  8.09380290e-05,  3.74271208e-03],\n",
       "        [-2.47167004e-03, -4.88065241e-04, -9.30586306e-04, ...,\n",
       "          9.29717407e-06, -4.39854412e-05,  4.03105235e-03]],\n",
       "\n",
       "       [[-2.12005645e-04, -9.40071277e-06,  3.00720803e-05, ...,\n",
       "         -3.98123375e-04, -1.31781766e-04,  2.82347974e-05],\n",
       "        [-5.04918396e-04,  1.26791419e-04, -2.93780959e-05, ...,\n",
       "         -5.32132632e-04, -4.99091584e-05, -1.66251935e-04],\n",
       "        [-7.37831229e-04,  2.75641563e-04, -2.33387822e-04, ...,\n",
       "         -5.01690258e-04,  3.76965356e-04, -1.84557211e-04],\n",
       "        ...,\n",
       "        [-1.36040384e-03,  1.14597578e-03, -1.74808537e-03, ...,\n",
       "         -1.20476249e-03,  4.85344528e-04,  3.26460740e-03],\n",
       "        [-1.65351492e-03,  1.13060232e-03, -1.95200113e-03, ...,\n",
       "         -1.09081122e-03,  2.95958947e-04,  3.67624382e-03],\n",
       "        [-1.89699617e-03,  1.09556387e-03, -2.17064517e-03, ...,\n",
       "         -1.01815863e-03,  9.34098207e-05,  4.03511664e-03]],\n",
       "\n",
       "       [[-2.12005645e-04, -9.40071277e-06,  3.00720803e-05, ...,\n",
       "         -3.98123375e-04, -1.31781766e-04,  2.82347974e-05],\n",
       "        [-6.55167270e-04,  8.65984621e-05,  1.59761446e-04, ...,\n",
       "         -7.34339468e-04, -2.05502423e-04, -1.92416283e-05],\n",
       "        [-7.05606595e-04, -2.32228340e-04,  4.04428545e-04, ...,\n",
       "         -1.09469541e-03, -3.98364864e-05,  6.22359803e-05],\n",
       "        ...,\n",
       "        [-2.33990117e-03,  9.04539716e-04, -8.85327870e-04, ...,\n",
       "          2.50875310e-04, -5.06307930e-04,  3.52815026e-03],\n",
       "        [-2.52743089e-03,  9.69823042e-04, -1.15256780e-03, ...,\n",
       "          1.71752967e-04, -5.95873687e-04,  3.88232502e-03],\n",
       "        [-2.66384729e-03,  1.00732094e-03, -1.43703225e-03, ...,\n",
       "          7.15324641e-05, -6.99978264e-04,  4.18838765e-03]],\n",
       "\n",
       "       ...,\n",
       "\n",
       "       [[-2.12005645e-04, -9.40071277e-06,  3.00720803e-05, ...,\n",
       "         -3.98123375e-04, -1.31781766e-04,  2.82347974e-05],\n",
       "        [-1.65605816e-04,  1.36290255e-04, -6.53403695e-05, ...,\n",
       "         -7.43793906e-04, -3.13144956e-05, -5.79367217e-04],\n",
       "        [-1.72286163e-04,  1.85370140e-04, -2.71999073e-04, ...,\n",
       "         -1.21962186e-03,  3.98542179e-04, -8.07664706e-04],\n",
       "        ...,\n",
       "        [-3.14419647e-03,  1.39046722e-04, -1.75229576e-03, ...,\n",
       "          7.01495737e-05, -2.23357438e-05,  4.61803377e-03],\n",
       "        [-3.15007777e-03,  1.73996799e-04, -2.07116967e-03, ...,\n",
       "         -8.30027639e-05, -2.46788375e-04,  4.80829971e-03],\n",
       "        [-3.13628255e-03,  2.08350772e-04, -2.38064560e-03, ...,\n",
       "         -2.49215576e-04, -4.51615400e-04,  4.96908836e-03]],\n",
       "\n",
       "       [[ 6.48294590e-05, -7.10902459e-05,  3.45792068e-04, ...,\n",
       "         -5.10285754e-05,  4.17595147e-05,  5.44072129e-04],\n",
       "        [-1.01602263e-05, -5.17420471e-04,  4.21684759e-04, ...,\n",
       "          6.02570726e-05,  2.19383248e-04,  9.90754808e-04],\n",
       "        [ 2.61579582e-04, -9.04281042e-04,  3.98894452e-04, ...,\n",
       "          2.04992306e-04,  2.94582424e-04,  1.20026642e-03],\n",
       "        ...,\n",
       "        [ 4.05997358e-04, -1.11782621e-03, -9.94366012e-04, ...,\n",
       "          1.97309977e-03,  2.96174621e-05,  1.78684677e-05],\n",
       "        [ 4.72957850e-04, -8.22941947e-04, -8.74037622e-04, ...,\n",
       "          1.87568134e-03,  1.19241035e-04, -7.52437045e-05],\n",
       "        [ 8.68327508e-04, -8.33414146e-04, -8.27653101e-04, ...,\n",
       "          1.96331460e-03,  1.88877093e-04, -7.48463863e-05]],\n",
       "\n",
       "       [[-2.12005645e-04, -9.40071277e-06,  3.00720803e-05, ...,\n",
       "         -3.98123375e-04, -1.31781766e-04,  2.82347974e-05],\n",
       "        [-6.64547435e-04,  2.03372092e-05, -1.12552989e-04, ...,\n",
       "         -4.61010321e-04, -2.46895826e-04, -1.16550182e-04],\n",
       "        [-9.78813041e-04,  3.45507258e-04,  6.87928332e-06, ...,\n",
       "         -8.76290491e-04, -2.81614688e-04,  1.10021501e-04],\n",
       "        ...,\n",
       "        [-2.04058317e-03,  9.84653947e-04, -1.31871586e-03, ...,\n",
       "         -6.72642142e-04, -3.55388649e-04,  3.44694406e-03],\n",
       "        [-2.19293847e-03,  9.22826817e-04, -1.63182267e-03, ...,\n",
       "         -7.15430011e-04, -4.50913649e-04,  3.78925353e-03],\n",
       "        [-2.31316290e-03,  8.62977642e-04, -1.94147625e-03, ...,\n",
       "         -7.76198460e-04, -5.65867464e-04,  4.09378111e-03]]],\n",
       "      dtype=float32)>"
      ]
     },
     "execution_count": 19,
     "metadata": {},
     "output_type": "execute_result"
    }
   ],
   "source": [
    "# 데이터셋에서 데이터 한 배치만 가져와서 모델에 넣어서 확인.\n",
    "for src_sample, tgt_sample in train_dataset.take(1): break\n",
    "\n",
    "lyricist(src_sample)"
   ]
  },
  {
   "cell_type": "code",
   "execution_count": 20,
   "id": "6e900283",
   "metadata": {},
   "outputs": [
    {
     "name": "stdout",
     "output_type": "stream",
     "text": [
      "Model: \"text_generator\"\n",
      "_________________________________________________________________\n",
      "Layer (type)                 Output Shape              Param #   \n",
      "=================================================================\n",
      "embedding (Embedding)        multiple                  7680512   \n",
      "_________________________________________________________________\n",
      "lstm (LSTM)                  multiple                  20979712  \n",
      "_________________________________________________________________\n",
      "lstm_1 (LSTM)                multiple                  33562624  \n",
      "_________________________________________________________________\n",
      "dense (Dense)                multiple                  30737049  \n",
      "=================================================================\n",
      "Total params: 92,959,897\n",
      "Trainable params: 92,959,897\n",
      "Non-trainable params: 0\n",
      "_________________________________________________________________\n"
     ]
    }
   ],
   "source": [
    "# 모델 구조 확인.\n",
    "lyricist.summary()"
   ]
  },
  {
   "cell_type": "code",
   "execution_count": 21,
   "id": "804839de",
   "metadata": {
    "scrolled": true
   },
   "outputs": [
    {
     "name": "stdout",
     "output_type": "stream",
     "text": [
      "Epoch 1/10\n",
      "546/546 [==============================] - 393s 712ms/step - loss: 2.8394 - val_loss: 2.5089\n",
      "Epoch 2/10\n",
      "546/546 [==============================] - 393s 720ms/step - loss: 2.3836 - val_loss: 2.3169\n",
      "Epoch 3/10\n",
      "546/546 [==============================] - 395s 722ms/step - loss: 2.1911 - val_loss: 2.1927\n",
      "Epoch 4/10\n",
      "546/546 [==============================] - 395s 723ms/step - loss: 2.0224 - val_loss: 2.1008\n",
      "Epoch 5/10\n",
      "546/546 [==============================] - 395s 723ms/step - loss: 1.8642 - val_loss: 2.0272\n",
      "Epoch 6/10\n",
      "546/546 [==============================] - 395s 724ms/step - loss: 1.7158 - val_loss: 1.9692\n",
      "Epoch 7/10\n",
      "546/546 [==============================] - 394s 722ms/step - loss: 1.5750 - val_loss: 1.9253\n",
      "Epoch 8/10\n",
      "546/546 [==============================] - 395s 722ms/step - loss: 1.4408 - val_loss: 1.8857\n",
      "Epoch 9/10\n",
      "546/546 [==============================] - 395s 723ms/step - loss: 1.3130 - val_loss: 1.8563\n",
      "Epoch 10/10\n",
      "546/546 [==============================] - 395s 723ms/step - loss: 1.1930 - val_loss: 1.8385\n"
     ]
    }
   ],
   "source": [
    "# optimizer로는 사용빈도가 높은 Adam으로 선택.\n",
    "optimizer = tf.keras.optimizers.Adam()\n",
    "\n",
    "# 훈련 데이터의 라벨이 정수의 형태로 제공될 때, 사용하는 손실함수.\n",
    "loss = tf.keras.losses.SparseCategoricalCrossentropy(from_logits=True, reduction='none')\n",
    "# from_logits 의 기본값은 False. 모델에 의해 생성된 출력 값이 정규화되지 않았음을 손실 함수에 알려줌.\n",
    "# 즉, softmax 함수가 적용되지 않았다는걸 의미.\n",
    "# reduction 의 기본값은 SUM. 각자 나오는 값의 반환을 원할 때, None을 사용.\n",
    "\n",
    "lyricist.compile(loss=loss, optimizer=optimizer)\n",
    "history = lyricist.fit(train_dataset, validation_data=test_dataset, epochs=10)"
   ]
  },
  {
   "cell_type": "code",
   "execution_count": 17,
   "id": "f40ed51b",
   "metadata": {},
   "outputs": [],
   "source": [
    "# 문장생성 함수 정의\n",
    "# 모델에게 시작 문장을 전달하면 시작 문장을 바탕으로 작문을 진행.\n",
    "# 시작 문자열을 init_sentence 로 받으며, 디폴트 값은 <start> 를 받음.\n",
    "def generate_text(model, tokenizer, init_sentence=\"<start>\", max_len=20):\n",
    "    # 테스트를 위해, 입력 받은 init_sentence로 텐서로 변환.\n",
    "    # 텍스트 안의 단어들을 숫자의 시퀀스의 형태로 변환.\n",
    "    test_input = tokenizer.texts_to_sequences([init_sentence])\n",
    "    test_tensor = tf.convert_to_tensor(test_input, dtype=tf.int64)\n",
    "    end_token = tokenizer.word_index[\"<end>\"]\n",
    "    \n",
    "    # 단어 하나씩 예측해 문장을 생성\n",
    "    # 1. 입력받은 문장의 텐서를 입력.\n",
    "    # 2. 예측된 값 중 가장 높은 확률인 word index를 뽑아냄.\n",
    "    # 3. 2에서 예측된 word index를 문장 뒤에 붙임.\n",
    "    # 4. 모델이 <end>를 예측햇거나, max_len에 도달했다면 문장 생성을 마침.\n",
    "    # 루프를 돌면서 init_sentence에 단어를 하나씩 생성\n",
    "    while True:\n",
    "        # 1\n",
    "        predict = model(test_tensor)\n",
    "        # 2\n",
    "        predict_word = tf.argmax(tf.nn.softmax(predict, axis=-1), axis=-1)[:, -1]\n",
    "        # 3\n",
    "        test_tensor = tf.concat([test_tensor, tf.expand_dims(predict_word, axis=0)], axis=-1)\n",
    "        # 4\n",
    "        if predict_word.numpy()[0] == end_token: break\n",
    "        if test_tensor.shape[1] >= max_len: break\n",
    "    \n",
    "    generated = \"\"\n",
    "    # tokenizer를 이용해 word index를 단어로 하나씩 변환합니다.\n",
    "    for word_index in test_tensor[0].numpy():\n",
    "        generated += tokenizer.index_word[word_index] + \" \"\n",
    "    \n",
    "    # 모델이 생성한 문장을 반환.\n",
    "    return generated"
   ]
  },
  {
   "cell_type": "code",
   "execution_count": 23,
   "id": "f8b4a390",
   "metadata": {},
   "outputs": [
    {
     "data": {
      "text/plain": [
       "'<start> i think i m gonna love you now <end> '"
      ]
     },
     "execution_count": 23,
     "metadata": {},
     "output_type": "execute_result"
    }
   ],
   "source": [
    "generate_text(lyricist, tokenizer, init_sentence=\"<start> i think\", max_len=20)"
   ]
  },
  {
   "cell_type": "code",
   "execution_count": 24,
   "id": "7850a134",
   "metadata": {},
   "outputs": [
    {
     "data": {
      "text/plain": [
       "'<start> i want to diggin the scene with a gangsta lean <end> '"
      ]
     },
     "execution_count": 24,
     "metadata": {},
     "output_type": "execute_result"
    }
   ],
   "source": [
    "generate_text(lyricist, tokenizer, init_sentence=\"<start> i want\", max_len=20)"
   ]
  },
  {
   "cell_type": "code",
   "execution_count": 25,
   "id": "df64dc95",
   "metadata": {},
   "outputs": [
    {
     "data": {
      "text/plain": [
       "'<start> you should already know <end> '"
      ]
     },
     "execution_count": 25,
     "metadata": {},
     "output_type": "execute_result"
    }
   ],
   "source": [
    "generate_text(lyricist, tokenizer, init_sentence=\"<start> you should\", max_len=20)"
   ]
  },
  {
   "cell_type": "code",
   "execution_count": 26,
   "id": "169d7297",
   "metadata": {},
   "outputs": [
    {
     "data": {
      "image/png": "[encoded data removed]",
      "text/plain": [
       "<Figure size 432x288 with 1 Axes>"
      ]
     },
     "metadata": {
      "needs_background": "light"
     },
     "output_type": "display_data"
    }
   ],
   "source": [
    "plt.plot(history.history['loss'])\n",
    "plt.plot(history.history['val_loss'])\n",
    "plt.legend(['training', 'validation'], loc='lower right')\n",
    "plt.show()"
   ]
  },
  {
   "cell_type": "markdown",
   "id": "7f725e53",
   "metadata": {},
   "source": [
    "## dropout 추가"
   ]
  },
  {
   "cell_type": "code",
   "execution_count": 27,
   "id": "03f8144a",
   "metadata": {},
   "outputs": [
    {
     "name": "stdout",
     "output_type": "stream",
     "text": [
      "WARNING:tensorflow:Layer lstm_2 will not use cuDNN kernels since it doesn't meet the criteria. It will use a generic GPU kernel as fallback when running on GPU.\n",
      "WARNING:tensorflow:Layer lstm_3 will not use cuDNN kernels since it doesn't meet the criteria. It will use a generic GPU kernel as fallback when running on GPU.\n"
     ]
    }
   ],
   "source": [
    "class TextGenerator_1(tf.keras.Model):\n",
    "    def __init__(self, vocab_size, embedding_size, hidden_size):\n",
    "        super().__init__()\n",
    "        \n",
    "        self.embedding = tf.keras.layers.Embedding(vocab_size, embedding_size)\n",
    "        self.rnn_1 = tf.keras.layers.LSTM(hidden_size, dropout=0.5, recurrent_dropout=0.5, return_sequences=True)\n",
    "        self.rnn_2 = tf.keras.layers.LSTM(hidden_size, dropout=0.5, recurrent_dropout=0.5, return_sequences=True)\n",
    "        self.linear = tf.keras.layers.Dense(vocab_size)\n",
    "    \n",
    "    def call(self, x):\n",
    "        out = self.embedding(x)\n",
    "        out = self.rnn_1(out)\n",
    "        out = self.rnn_2(out)\n",
    "        out = self.linear(out)\n",
    "        \n",
    "        return out\n",
    "\n",
    "embedding_size = 512\n",
    "hidden_size = 2048\n",
    "lyricist_1 = TextGenerator_1(tokenizer.num_words + 1, embedding_size, hidden_size)"
   ]
  },
  {
   "cell_type": "code",
   "execution_count": 28,
   "id": "f4e1f01c",
   "metadata": {},
   "outputs": [
    {
     "name": "stdout",
     "output_type": "stream",
     "text": [
      "Epoch 1/10\n",
      "546/546 [==============================] - 562s 993ms/step - loss: 2.8701 - val_loss: 2.5269\n",
      "Epoch 2/10\n",
      "546/546 [==============================] - 544s 996ms/step - loss: 2.4006 - val_loss: 2.3192\n",
      "Epoch 3/10\n",
      "546/546 [==============================] - 544s 997ms/step - loss: 2.2014 - val_loss: 2.1882\n",
      "Epoch 4/10\n",
      "546/546 [==============================] - 545s 997ms/step - loss: 2.0404 - val_loss: 2.1012\n",
      "Epoch 5/10\n",
      "546/546 [==============================] - 545s 997ms/step - loss: 1.9036 - val_loss: 2.0371\n",
      "Epoch 6/10\n",
      "546/546 [==============================] - 545s 998ms/step - loss: 1.7896 - val_loss: 1.9919\n",
      "Epoch 7/10\n",
      "546/546 [==============================] - 545s 998ms/step - loss: 1.6951 - val_loss: 1.9591\n",
      "Epoch 8/10\n",
      "546/546 [==============================] - 545s 998ms/step - loss: 1.6153 - val_loss: 1.9356\n",
      "Epoch 9/10\n",
      "546/546 [==============================] - 544s 997ms/step - loss: 1.5490 - val_loss: 1.9180\n",
      "Epoch 10/10\n",
      "546/546 [==============================] - 545s 998ms/step - loss: 1.4918 - val_loss: 1.9043\n"
     ]
    }
   ],
   "source": [
    "optimizer = tf.keras.optimizers.Adam()\n",
    "\n",
    "loss = tf.keras.losses.SparseCategoricalCrossentropy(from_logits=True, reduction='none')\n",
    "\n",
    "lyricist_1.compile(loss=loss, optimizer=optimizer)\n",
    "history_1 = lyricist_1.fit(train_dataset, validation_data=test_dataset, epochs=10)"
   ]
  },
  {
   "cell_type": "code",
   "execution_count": 29,
   "id": "2a889bfc",
   "metadata": {},
   "outputs": [
    {
     "name": "stdout",
     "output_type": "stream",
     "text": [
      "Model: \"text_generator_1\"\n",
      "_________________________________________________________________\n",
      "Layer (type)                 Output Shape              Param #   \n",
      "=================================================================\n",
      "embedding_1 (Embedding)      multiple                  7680512   \n",
      "_________________________________________________________________\n",
      "lstm_2 (LSTM)                multiple                  20979712  \n",
      "_________________________________________________________________\n",
      "lstm_3 (LSTM)                multiple                  33562624  \n",
      "_________________________________________________________________\n",
      "dense_1 (Dense)              multiple                  30737049  \n",
      "=================================================================\n",
      "Total params: 92,959,897\n",
      "Trainable params: 92,959,897\n",
      "Non-trainable params: 0\n",
      "_________________________________________________________________\n"
     ]
    }
   ],
   "source": [
    "lyricist_1.summary()"
   ]
  },
  {
   "cell_type": "code",
   "execution_count": 30,
   "id": "e855f1ea",
   "metadata": {},
   "outputs": [
    {
     "data": {
      "text/plain": [
       "'<start> i think i m crazy <end> '"
      ]
     },
     "execution_count": 30,
     "metadata": {},
     "output_type": "execute_result"
    }
   ],
   "source": [
    "generate_text(lyricist_1, tokenizer, init_sentence=\"<start> i think\", max_len=20)"
   ]
  },
  {
   "cell_type": "code",
   "execution_count": 31,
   "id": "55ac6b14",
   "metadata": {},
   "outputs": [
    {
     "data": {
      "text/plain": [
       "'<start> i want to diggin the scene with a gangsta lean <end> '"
      ]
     },
     "execution_count": 31,
     "metadata": {},
     "output_type": "execute_result"
    }
   ],
   "source": [
    "generate_text(lyricist_1, tokenizer, init_sentence=\"<start> i want\", max_len=20)"
   ]
  },
  {
   "cell_type": "code",
   "execution_count": 32,
   "id": "15cdbfa4",
   "metadata": {},
   "outputs": [
    {
     "data": {
      "text/plain": [
       "'<start> you should be stronger than me <end> '"
      ]
     },
     "execution_count": 32,
     "metadata": {},
     "output_type": "execute_result"
    }
   ],
   "source": [
    "generate_text(lyricist_1, tokenizer, init_sentence=\"<start> you should\", max_len=20)"
   ]
  },
  {
   "cell_type": "code",
   "execution_count": 33,
   "id": "0e776a61",
   "metadata": {},
   "outputs": [
    {
     "data": {
      "image/png": "[encoded data removed]",
      "text/plain": [
       "<Figure size 432x288 with 1 Axes>"
      ]
     },
     "metadata": {
      "needs_background": "light"
     },
     "output_type": "display_data"
    }
   ],
   "source": [
    "plt.plot(history_1.history['loss'])\n",
    "plt.plot(history_1.history['val_loss'])\n",
    "plt.legend(['training', 'validation'], loc='lower right')\n",
    "plt.show()"
   ]
  },
  {
   "cell_type": "markdown",
   "id": "04d7b043",
   "metadata": {},
   "source": [
    "## 번외. Bidirectional 시도"
   ]
  },
  {
   "cell_type": "code",
   "execution_count": 18,
   "id": "ed4a13d9",
   "metadata": {},
   "outputs": [],
   "source": [
    "class TextGenerator_2(tf.keras.Model):\n",
    "    def __init__(self, vocab_size, embedding_size, hidden_size):\n",
    "        super().__init__()\n",
    "        \n",
    "        self.embedding = tf.keras.layers.Embedding(vocab_size, embedding_size)\n",
    "        # dropout을 낮추고 recurrent를 없애도됨, 에폭이랑 임베딩, 히든 사이즈를 다시 늘리기를 권장, \n",
    "        # 바이디렉셔녈이라 2번 훑어서 dropout도 2번이라는 추정.거기에 recurrent라 더 많을것이라는 추정.\n",
    "        self.rnn_1 = tf.keras.layers.Bidirectional(tf.keras.layers.LSTM(hidden_size, return_sequences=True))\n",
    "        #self.rnn_2 = tf.keras.layers.Bidirectional(tf.keras.layers.LSTM(hidden_size, return_sequences=True))\n",
    "        self.linear = tf.keras.layers.Dense(vocab_size)\n",
    "    \n",
    "    def call(self, x):\n",
    "        out = self.embedding(x)\n",
    "        out = self.rnn_1(out)\n",
    "        #out = self.rnn_2(out)\n",
    "        out = self.linear(out)\n",
    "        \n",
    "        return out\n",
    "\n",
    "embedding_size = 128\n",
    "hidden_size = 256\n",
    "lyricist_2 = TextGenerator_2(tokenizer.num_words + 1, embedding_size, hidden_size)"
   ]
  },
  {
   "cell_type": "code",
   "execution_count": 19,
   "id": "6c1be285",
   "metadata": {},
   "outputs": [
    {
     "name": "stdout",
     "output_type": "stream",
     "text": [
      "Epoch 1/5\n",
      "546/546 [==============================] - 56s 95ms/step - loss: 2.8662 - val_loss: 1.9951\n",
      "Epoch 2/5\n",
      "546/546 [==============================] - 53s 97ms/step - loss: 1.5176 - val_loss: 1.1416\n",
      "Epoch 3/5\n",
      "546/546 [==============================] - 53s 96ms/step - loss: 0.8841 - val_loss: 0.7030\n",
      "Epoch 4/5\n",
      "546/546 [==============================] - 53s 96ms/step - loss: 0.5323 - val_loss: 0.4557\n",
      "Epoch 5/5\n",
      "546/546 [==============================] - 53s 96ms/step - loss: 0.3254 - val_loss: 0.3171\n"
     ]
    }
   ],
   "source": [
    "optimizer = tf.keras.optimizers.Adam()\n",
    "loss = tf.keras.losses.SparseCategoricalCrossentropy(from_logits=True, reduction='none')\n",
    "\n",
    "lyricist_2.compile(loss=loss, optimizer=optimizer)\n",
    "history_2 = lyricist_2.fit(train_dataset, validation_data=test_dataset, epochs=5)"
   ]
  },
  {
   "cell_type": "code",
   "execution_count": 20,
   "id": "869705f7",
   "metadata": {},
   "outputs": [
    {
     "name": "stdout",
     "output_type": "stream",
     "text": [
      "Model: \"text_generator_2\"\n",
      "_________________________________________________________________\n",
      "Layer (type)                 Output Shape              Param #   \n",
      "=================================================================\n",
      "embedding (Embedding)        multiple                  1920128   \n",
      "_________________________________________________________________\n",
      "bidirectional (Bidirectional multiple                  788480    \n",
      "_________________________________________________________________\n",
      "dense (Dense)                multiple                  7695513   \n",
      "=================================================================\n",
      "Total params: 10,404,121\n",
      "Trainable params: 10,404,121\n",
      "Non-trainable params: 0\n",
      "_________________________________________________________________\n"
     ]
    }
   ],
   "source": [
    "lyricist_2.summary()"
   ]
  },
  {
   "cell_type": "code",
   "execution_count": 21,
   "id": "e0527bd2",
   "metadata": {},
   "outputs": [
    {
     "data": {
      "text/plain": [
       "'<start> i think pusha wantcha romey romey romey romey romey rome romey romey romey romey romey awards awards <end> '"
      ]
     },
     "execution_count": 21,
     "metadata": {},
     "output_type": "execute_result"
    }
   ],
   "source": [
    "generate_text(lyricist_2, tokenizer, init_sentence=\"<start> i think\", max_len=20)"
   ]
  },
  {
   "cell_type": "code",
   "execution_count": 26,
   "id": "609c3a83",
   "metadata": {},
   "outputs": [
    {
     "data": {
      "text/plain": [
       "'<start> we ever dreamed transcend afar thugga lemon mayne popping <end> '"
      ]
     },
     "execution_count": 26,
     "metadata": {},
     "output_type": "execute_result"
    }
   ],
   "source": [
    "generate_text(lyricist_2, tokenizer, init_sentence=\"<start> we ever\", max_len=20)"
   ]
  },
  {
   "cell_type": "code",
   "execution_count": 31,
   "id": "b33a30c1",
   "metadata": {},
   "outputs": [
    {
     "data": {
      "text/plain": [
       "'<start> you know <end> '"
      ]
     },
     "execution_count": 31,
     "metadata": {},
     "output_type": "execute_result"
    }
   ],
   "source": [
    "generate_text(lyricist_2, tokenizer, init_sentence=\"<start> you know \", max_len=20)"
   ]
  },
  {
   "cell_type": "code",
   "execution_count": 24,
   "id": "fa789204",
   "metadata": {},
   "outputs": [
    {
     "data": {
      "image/png": "[encoded data removed]",
      "text/plain": [
       "<Figure size 432x288 with 1 Axes>"
      ]
     },
     "metadata": {
      "needs_background": "light"
     },
     "output_type": "display_data"
    }
   ],
   "source": [
    "plt.plot(history_2.history['loss'])\n",
    "plt.plot(history_2.history['val_loss'])\n",
    "plt.legend(['training', 'validation'], loc='lower right')\n",
    "plt.show()"
   ]
  },
  {
   "cell_type": "markdown",
   "id": "9d02eb2b",
   "metadata": {},
   "source": [
    "## 회고"
   ]
  },
  {
   "cell_type": "markdown",
   "id": "cc402ef3",
   "metadata": {},
   "source": [
    "* 처음에는 12000단어, embedding_size = 256, hidden_size = 1024 로 학습시키고 문장을 뽑으면, 조금 어색한 단어들의 나열이었다면,  \n",
    "    15000단어, embedding_size = 512, hidden_size = 2048 늘리고 테스트 해보니 조금은 양호 해진듯한 느낌이 듭니다.  \n",
    "* dropout을 사용해서 loss가 val_loss와의 간격이 조금 줄어들었지만, 문장생성에 큰 영향은 없는것 같습니다.\n",
    "\n",
    "* 호기심에 Bidirectional 을 사용해 봤지만, batch_size=[32,64,128,256], keras.layers.Embedding의 output_dim=[32,64,128,256,512], keras.layers.LSTM의 units=[64,128, 256, 512, 1024, 2048], epochs=[1, 2, 3, 4, 5, 6, 7, 8, 9, 10], dropout=[0.1, 0.2, 0.3, 0.4, 0.5] Bidirectional의 layer를 2개 사용하기 등 다양한 수치들로 실험해 봤지만 제대로된 문장을 구성한적이 없었습니다. bidirectional의 layer를 2층으로 할때와 일부 수치들을 낮춰서 해보다가 들었던 생각이지만, 위 코드들로 무언가 과하게 학습이되서 제대로된 문장이 출력되지 않는다는 생각이 들었습니다. 그후 bidirectional 층을 하나로만 두고 다른 수치들은 건드려보면 무언가 문장은 나오지만 같은 단어가 반복되는 문제가 생기는 것을 보고, 해당 단어들이 갖는 추상적 의미의 범위가 너무 큰것은 아닌지 생각하고 수치들을 더 낮췄지만, 개선되지 않았습니다. 여기서 더 낮춰서 일부 문장을 유도하기위해 선행문장을 조정하면 데이터에 존재하는 문장이 그대로 출력되는 경우가 생기기도 했습니다. 기본적으로 모델생성 부분에서 문제가 있겠지만, 추가적으로 생각해본것은 데이터셋을 더 많이 사용한다던지, tokenize 부분을 고쳐본다던지, 혹은 그외의 설계부분에서 bidirectional에는 맞지않는 부분이 있을 수 있다는 생각은 해보았지만 좀 더 해당분야의 지식을 늘리고 시도해봐야 할것 같습니다.\n",
    "\n",
    "해당 프로젝트를 진행하면서 NLP는 이전에 시도했던 cv파트보다 학습속도가 많이 소요되어서 기다리는 시간이 더 길었지만, 파라미터들을 조금씩 바꿀때마다 출력되는 문장을 구성하는 단어들이 바뀌는것을 보고 단어 출현 조건에 대해 여러 생각들을 할 수 있었던 시간이었습니다.\n",
    "또한 bidirectional을 시도해보면서 NLP에서의 loss와 val_loss는 해당 수치가 낮다고 더 좋은 모델이라고 판단할 수 있는 지표라고 보기에는 조금 어려울 수 있다고 생각했습니다. 제가 시도해볼때는 낮은 loss임에도 매번 좋은 문장이 구성되는것을  볼 수 없었기 때문입니다..."
   ]
  }
 ],
 "metadata": {
  "kernelspec": {
   "display_name": "Python 3 (ipykernel)",
   "language": "python",
   "name": "python3"
  },
  "language_info": {
   "codemirror_mode": {
    "name": "ipython",
    "version": 3
   },
   "file_extension": ".py",
   "mimetype": "text/x-python",
   "name": "python",
   "nbconvert_exporter": "python",
   "pygments_lexer": "ipython3",
   "version": "3.9.7"
  }
 },
 "nbformat": 4,
 "nbformat_minor": 5
}
