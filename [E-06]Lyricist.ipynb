{
 "cells": [
  {
   "cell_type": "markdown",
   "id": "542e4cb0",
   "metadata": {},
   "source": [
    "## 데이터 읽어오기"
   ]
  },
  {
   "cell_type": "code",
   "execution_count": 1,
   "id": "b6ec88b4",
   "metadata": {},
   "outputs": [
    {
     "name": "stdout",
     "output_type": "stream",
     "text": [
      "데이터 크기: 187088\n",
      "Examples:\n",
      " ['', '', '[Spoken Intro:]']\n"
     ]
    }
   ],
   "source": [
    "import glob\n",
    "import os, re\n",
    "import tensorflow as tf\n",
    "\n",
    "txt_file_path = os.getenv('HOME')+'/aiffel/lyricist/data/lyrics/*'\n",
    "\n",
    "# txt_file_path 경로에 있는 모든 파일명을 리스트 형식으로 txt_list 에 할당\n",
    "txt_list = glob.glob(txt_file_path)\n",
    "\n",
    "raw_corpus = []\n",
    "\n",
    "# 여러개의 txt 파일을 모두 읽어서 raw_corpus 에 담습니다.\n",
    "for txt_file in txt_list:\n",
    "    with open(txt_file, \"r\") as f:\n",
    "        # read() : 파일 전체의 내용을 하나의 문자열로 읽어온다. \n",
    "        # splitlines()  : 여러라인으로 구분되어 있는 문자열을 한라인씩 분리하여 리스트로 반환\n",
    "        raw = f.read().splitlines()\n",
    "        # extend() : 리스트함수로 추가적인 내용을 연장 한다.\n",
    "        raw_corpus.extend(raw)\n",
    "\n",
    "print(\"데이터 크기:\", len(raw_corpus))\n",
    "print(\"Examples:\\n\", raw_corpus[:3])"
   ]
  },
  {
   "cell_type": "code",
   "execution_count": 2,
   "id": "131e4df6",
   "metadata": {},
   "outputs": [
    {
     "name": "stdout",
     "output_type": "stream",
     "text": [
      "0 :  \n",
      "1 :  \n",
      "2 :  [Spoken Intro:]\n",
      "3 :  You ever want something \n",
      "4 :  that you know you shouldn't have \n",
      "5 :  The more you know you shouldn't have it, \n",
      "6 :  The more you want it \n",
      "7 :  And then one day you get it, \n",
      "8 :  It's so good too \n",
      "9 :  But it's just like my girl \n",
      "10 :  When she's around me \n",
      "11 :  I just feel so good, so good \n",
      "12 :  But right now I just feel cold, so cold \n",
      "13 :  Right down to my bones \n",
      "14 :  'Cause ooh... \n",
      "15 :  Ain't no sunshine when she's gone \n",
      "16 :  It's not warm when she's away \n",
      "17 :  Ain't no sunshine when she's gone \n",
      "18 :  And she's always gone too long \n",
      "19 :  Anytime she goes away \n"
     ]
    }
   ],
   "source": [
    "for i in range(20):\n",
    "    print(i, ': ', raw_corpus[i])"
   ]
  },
  {
   "cell_type": "code",
   "execution_count": 3,
   "id": "0c23dd46",
   "metadata": {},
   "outputs": [
    {
     "name": "stdout",
     "output_type": "stream",
     "text": [
      "You ever want something \n",
      "that you know you shouldn't have \n",
      "The more you know you shouldn't have it, \n",
      "The more you want it \n",
      "And then one day you get it, \n",
      "It's so good too \n",
      "But it's just like my girl \n",
      "When she's around me \n",
      "I just feel so good, so good \n",
      "But right now I just feel cold, so cold \n",
      "Right down to my bones \n",
      "'Cause ooh... \n",
      "Ain't no sunshine when she's gone \n",
      "It's not warm when she's away \n",
      "Ain't no sunshine when she's gone \n",
      "And she's always gone too long \n",
      "Anytime she goes away \n"
     ]
    }
   ],
   "source": [
    "# enumerate() 함수를 이용하여 raw_corpus list 내에 저장된 문장과\n",
    "# 그 문장읜 인덱스를 반환 (인덱스, 문장 순)\n",
    "for idx, sentence in enumerate(raw_corpus):\n",
    "    # 길리가 0인 문장은 건너뜁니다.\n",
    "    if len(sentence) == 0: continue\n",
    "    # 문장의 끝이 ] 인 문장은 건너뜁니다.\n",
    "    if sentence[-1] == \"]\": continue\n",
    "    # 문장 20개만 확인.\n",
    "    if idx > 19: break\n",
    "        \n",
    "    print(sentence)"
   ]
  },
  {
   "cell_type": "markdown",
   "id": "fc2812d9",
   "metadata": {},
   "source": [
    "## 데이터 정제"
   ]
  },
  {
   "cell_type": "code",
   "execution_count": 4,
   "id": "91e56194",
   "metadata": {},
   "outputs": [],
   "source": [
    "def preprocess_sentence(sentence):\n",
    "    sentence = sentence.lower().strip()\n",
    "    sentence = re.sub(r\"([?.!,])\", r\" \\1 \", sentence)\n",
    "    sentence = re.sub(r'[\" \"]+',\" \", sentence)\n",
    "    sentence = re.sub(r\"[^a-zA-Z?.!,]+\", \" \", sentence)\n",
    "    sentence = sentence.strip()\n",
    "    sentence = '<start> ' + sentence + ' <end>'\n",
    "    return sentence"
   ]
  },
  {
   "cell_type": "code",
   "execution_count": 5,
   "id": "b86f7f4e",
   "metadata": {},
   "outputs": [
    {
     "name": "stdout",
     "output_type": "stream",
     "text": [
      "<start> this is sample sentence . <end>\n"
     ]
    }
   ],
   "source": [
    "# 필터링 잘 적용됬는지 확인.\n",
    "print(preprocess_sentence(\"This @_is ;;;sample          sentence.\"))"
   ]
  },
  {
   "cell_type": "code",
   "execution_count": 6,
   "id": "698d7d42",
   "metadata": {},
   "outputs": [],
   "source": [
    "# 필터링된 문장 저장.\n",
    "corpus = []\n",
    "\n",
    "# raw_corpus list에 저장된 문장들을 순서대로 반환하여 sentence에 저장\n",
    "for sentence in raw_corpus:\n",
    "    # 우리가 원하지 않는 문장은 건너뜁니다.\n",
    "    if len(sentence) == 0: continue\n",
    "    if sentence[-1] == \"]\": continue\n",
    "    \n",
    "    # 앞서 구현한 preprocess_sentence() 함수를 이용하여 문장을 정제 하고 저장합니다.\n",
    "    preprocessed_sentence = preprocess_sentence(sentence)\n",
    "    corpus.append(preprocessed_sentence)"
   ]
  },
  {
   "cell_type": "code",
   "execution_count": 7,
   "id": "63510654",
   "metadata": {},
   "outputs": [
    {
     "data": {
      "text/plain": [
       "['<start> you ever want something <end>',\n",
       " '<start> that you know you shouldn t have <end>',\n",
       " '<start> the more you know you shouldn t have it , <end>',\n",
       " '<start> the more you want it <end>',\n",
       " '<start> and then one day you get it , <end>',\n",
       " '<start> it s so good too <end>',\n",
       " '<start> but it s just like my girl <end>',\n",
       " '<start> when she s around me <end>',\n",
       " '<start> i just feel so good , so good <end>',\n",
       " '<start> but right now i just feel cold , so cold <end>']"
      ]
     },
     "execution_count": 7,
     "metadata": {},
     "output_type": "execute_result"
    }
   ],
   "source": [
    "corpus[:10]"
   ]
  },
  {
   "cell_type": "markdown",
   "id": "91069d4a",
   "metadata": {},
   "source": [
    "## 평가 데이터셋 분리"
   ]
  },
  {
   "cell_type": "markdown",
   "id": "4e8af733",
   "metadata": {},
   "source": [
    "훈련 데이터와 평가 데이터를 분리하세요!\n",
    "\n",
    "tokenize() 함수로 데이터를 Tensor로 변환한 후, sklearn 모듈의 train_test_split() 함수를 사용해 훈련 데이터와 평가 데이터를 분리하도록 하겠습니다. 단어장의 크기는 12,000 이상 으로 설정하세요! 총 데이터의 20% 를 평가 데이터셋으로 사용해 주세요!"
   ]
  },
  {
   "cell_type": "code",
   "execution_count": 8,
   "id": "97f7721e",
   "metadata": {},
   "outputs": [
    {
     "name": "stdout",
     "output_type": "stream",
     "text": [
      "[[  2   7 156 ...   0   0   0]\n",
      " [  2  17   7 ...   0   0   0]\n",
      " [  2   6  98 ...   0   0   0]\n",
      " ...\n",
      " [  2 310   1 ...   0   0   0]\n",
      " [  2 729   5 ...   0   0   0]\n",
      " [  2 729   5 ...   0   0   0]] <keras_preprocessing.text.Tokenizer object at 0x7fd1e42e0a90>\n"
     ]
    }
   ],
   "source": [
    "def tokenize(corpus):\n",
    "    # 15,000 단어를 기억할 수 있는 tokenizer를 생성\n",
    "    tokenizer = tf.keras.preprocessing.text.Tokenizer(num_words=15000, filters=' ', oov_token=\"<unk>\")\n",
    "    \n",
    "    # corpus를 이용해 tokenizer 내부의 단어장을 완성.\n",
    "    # tokenizer.fit_on_texts(texts): 문자 데이터를 입력받아 리스트의 형태로 변환하는 메서드\n",
    "    tokenizer.fit_on_texts(corpus)\n",
    "    \n",
    "    # 준비한 tokenizer를 이용해 corpus를 Tensor로 변환합니다.\n",
    "    # tokenizer.texts_to_sequences(texts): 텍스트 안의 단어들을 숫자의 시퀀스 형태로 변환하는 메서드\n",
    "    tensor = tokenizer.texts_to_sequences(corpus)\n",
    "    \n",
    "    # 입력 데이터의 시퀀스 길이를 일정하게 맞춰줍니다.\n",
    "    # 만약 시퀀스가 짧다면 문장 뒤에 패딩을 붙여 길이를 맞춰줍니다.\n",
    "    # 문장 앞에 패딩을 붙여 길이를 맞추고 싶다면 padding='pre'를 사용합니다.\n",
    "    tensor = tf.keras.preprocessing.sequence.pad_sequences(tensor, padding='post', maxlen=20)\n",
    "    \n",
    "    print(tensor, tokenizer)\n",
    "    return tensor, tokenizer\n",
    "\n",
    "tensor, tokenizer = tokenize(corpus)"
   ]
  },
  {
   "cell_type": "code",
   "execution_count": 9,
   "id": "db783116",
   "metadata": {},
   "outputs": [
    {
     "name": "stdout",
     "output_type": "stream",
     "text": [
      "[[   2    7  156   62  199    3    0    0    0    0]\n",
      " [   2   17    7   34    7 1536   15   76    3    0]\n",
      " [   2    6   98    7   34    7 1536   15   76   11]]\n"
     ]
    }
   ],
   "source": [
    "# 생성된 텐서 데이터 확인.\n",
    "print(tensor[:3, :10])"
   ]
  },
  {
   "cell_type": "code",
   "execution_count": 10,
   "id": "ae32fc08",
   "metadata": {},
   "outputs": [
    {
     "name": "stdout",
     "output_type": "stream",
     "text": [
      "1 : <unk>\n",
      "2 : <start>\n",
      "3 : <end>\n",
      "4 : ,\n",
      "5 : i\n",
      "6 : the\n",
      "7 : you\n",
      "8 : and\n",
      "9 : a\n",
      "10 : to\n"
     ]
    }
   ],
   "source": [
    "# tokenizer.index_word: 현재 계산된 단어의 인덱스와 인덱스에 해당하는 단어를 dictionary 형태로 반환\n",
    "for idx in tokenizer.index_word:\n",
    "    print(idx, \":\", tokenizer.index_word[idx])\n",
    "    \n",
    "    if idx >= 10: break"
   ]
  },
  {
   "cell_type": "code",
   "execution_count": 11,
   "id": "3165de2e",
   "metadata": {},
   "outputs": [
    {
     "name": "stdout",
     "output_type": "stream",
     "text": [
      "[  2   7 156  62 199   3   0   0   0   0   0   0   0   0   0   0   0   0\n",
      "   0]\n",
      "[  7 156  62 199   3   0   0   0   0   0   0   0   0   0   0   0   0   0\n",
      "   0]\n"
     ]
    }
   ],
   "source": [
    "# tensor에서 마지막 토큰을 잘라서 소스 문장을 생성, 해당 토큰은 <end>가 아니라 <pad>일 가능성 높음.\n",
    "src_input = tensor[:, :-1]\n",
    "# tenor에서 <start>를 잘라내서 타겟 문장을 생성.\n",
    "tgt_input = tensor[:, 1:]\n",
    "\n",
    "print(src_input[0])\n",
    "print(tgt_input[0])"
   ]
  },
  {
   "cell_type": "markdown",
   "id": "db6e570c",
   "metadata": {},
   "source": [
    "훈련 데이터와 평가데이터로 분리하기!"
   ]
  },
  {
   "cell_type": "code",
   "execution_count": 12,
   "id": "f9c949ed",
   "metadata": {},
   "outputs": [],
   "source": [
    "from sklearn.model_selection import train_test_split\n",
    "# 소스문장을 train으로 타겟 문장을 val로.\n",
    "enc_train, enc_val, dec_train, dec_val = train_test_split(src_input, tgt_input, random_state=2023, test_size= 0.2)"
   ]
  },
  {
   "cell_type": "code",
   "execution_count": 13,
   "id": "dc11084e",
   "metadata": {},
   "outputs": [
    {
     "name": "stdout",
     "output_type": "stream",
     "text": [
      "(139790, 19) (34948, 19) (139790, 19) (34948, 19)\n"
     ]
    }
   ],
   "source": [
    "print(enc_train.shape, enc_val.shape, dec_train.shape, dec_val.shape)"
   ]
  },
  {
   "cell_type": "code",
   "execution_count": 14,
   "id": "d0fcd66a",
   "metadata": {},
   "outputs": [],
   "source": [
    "BUFFER_SIZE = len(src_input)\n",
    "BATCH_SIZE = 256\n",
    "steps_per_epoch = len(src_input) // BATCH_SIZE\n",
    "\n",
    "# tokenizer가 구축한 단어사전 내 15000개와, 여기 포함되지 않은 0:<pad>를 포함하여 15001개\n",
    "# tokenizer.num_words: 주어진 데이터의 문장들에서 빈도수가 높은 n개의 단어만 선택\n",
    "# tokenize() 함수에서 num_words를 15000개로 선언했기 때문에, tokenizer.num_words의 값은 15000개\n",
    "VOCAB_SIZE = tokenizer.num_words + 1"
   ]
  },
  {
   "cell_type": "code",
   "execution_count": 15,
   "id": "63b3f4e5",
   "metadata": {},
   "outputs": [
    {
     "data": {
      "text/plain": [
       "<BatchDataset shapes: ((256, 19), (256, 19)), types: (tf.int32, tf.int32)>"
      ]
     },
     "execution_count": 15,
     "metadata": {},
     "output_type": "execute_result"
    }
   ],
   "source": [
    "train_dataset = tf.data.Dataset.from_tensor_slices((enc_train, dec_train))\n",
    "train_dataset = train_dataset.shuffle(BUFFER_SIZE)\n",
    "train_dataset = train_dataset.batch(BATCH_SIZE, drop_remainder = True)\n",
    "train_dataset"
   ]
  },
  {
   "cell_type": "code",
   "execution_count": 16,
   "id": "a37d2c5a",
   "metadata": {},
   "outputs": [
    {
     "data": {
      "text/plain": [
       "<BatchDataset shapes: ((256, 19), (256, 19)), types: (tf.int32, tf.int32)>"
      ]
     },
     "execution_count": 16,
     "metadata": {},
     "output_type": "execute_result"
    }
   ],
   "source": [
    "test_dataset = tf.data.Dataset.from_tensor_slices((enc_val, dec_val))\n",
    "test_dataset = test_dataset.shuffle(BUFFER_SIZE)\n",
    "test_dataset = test_dataset.batch(BATCH_SIZE, drop_remainder=True)\n",
    "test_dataset"
   ]
  },
  {
   "cell_type": "markdown",
   "id": "3b073e50",
   "metadata": {},
   "source": [
    "## Step 5. 인공지능 만들기"
   ]
  },
  {
   "cell_type": "markdown",
   "id": "1a68e8a6",
   "metadata": {},
   "source": [
    "모델의 Embedding Size와 Hidden Size를 조절하며 10 Epoch 안에 val_loss 값을 2.2 수준으로 줄일 수 있는 모델을 설계하세요!\n",
    "\n",
    "잘 설계한 모델을 학습하려면, model.fit() 함수를 사용해야 합니다. model.fit() 함수에는 다양한 인자를 넣어주어야 하는데, 가장 기본적인 인자로는 데이터셋과 epochs가 있습니다. '5. 실습 (2) 인공지능 학습시키기'에서의 예시와 같이 말이죠.\n",
    "\n",
    "model.fit(dataset, epochs=30)\n",
    "하지만 model.fit() 함수의 epochs를 아무리 크게 넣는다 해도 val_loss 값은 2.2 아래로 떨어지지 않습니다. 이럴 경우는 batch size를 변경하는 것과 같이 model.fit() 함수에 다양한 인자를 넣어주면 해결될 수도 있습니다. 자세한 내용은 https://www.tensorflow.org/api_docs/python/tf/keras/Model#fit 를 참고하세요!\n",
    "\n",
    "Loss는 아래 제시된 Loss 함수를 그대로 사용하세요!"
   ]
  },
  {
   "cell_type": "code",
   "execution_count": 17,
   "id": "8b5c90fa",
   "metadata": {},
   "outputs": [],
   "source": [
    "class TextGenerator(tf.keras.Model):\n",
    "    def __init__(self, vocab_size, embedding_size, hidden_size):\n",
    "        super().__init__()\n",
    "        \n",
    "        # Embedding 레이어, 2개의 LSTM 레이어, 1개의 Dense 레이어로 구성되어 있다.\n",
    "        # Embedding 레이어는 단어 사전의 인덱스 값을 해당 인덱스 번째의 워드 벡터로 바꿔준다.\n",
    "        # 이 워드 벡터는 의미 벡터 공간에서 단어의 추상적 표현으로 사용된다.\n",
    "        self.embedding = tf.keras.layers.Embedding(vocab_size, embedding_size)\n",
    "        self.rnn_1 = tf.keras.layers.LSTM(hidden_size, return_sequences=True)\n",
    "        self.rnn_2 = tf.keras.layers.LSTM(hidden_size, return_sequences=True)\n",
    "        self.linear = tf.keras.layers.Dense(vocab_size)\n",
    "    \n",
    "    def call(self, x):\n",
    "        out = self.embedding(x)\n",
    "        out = self.rnn_1(out)\n",
    "        out = self.rnn_2(out)\n",
    "        out = self.linear(out)\n",
    "        \n",
    "        return out\n",
    "# embedding size 값이 커질 수록 단어의 추상적인 특징들을 더 잡아낼 수 있지만,\n",
    "# 데이터의 양이 적으면 긍정적인 결과가 나오지 않을 수 있다.\n",
    "# 워드 벡터의 차원수를 말하며 단어가 추상적으로 표현되는 크기입니다.\n",
    "embedding_size = 512\n",
    "hidden_size = 2048\n",
    "lyricist = TextGenerator(tokenizer.num_words + 1, embedding_size, hidden_size)"
   ]
  },
  {
   "cell_type": "code",
   "execution_count": 18,
   "id": "b1ba7bd8",
   "metadata": {},
   "outputs": [
    {
     "data": {
      "text/plain": [
       "<tf.Tensor: shape=(256, 19, 15001), dtype=float32, numpy=\n",
       "array([[[ 2.63942820e-05, -8.18772824e-05, -9.79509859e-05, ...,\n",
       "         -9.91337220e-05,  8.78163264e-05,  1.43919518e-04],\n",
       "        [ 4.57413145e-04, -2.39000467e-04, -1.94939930e-04, ...,\n",
       "         -3.82338214e-04,  8.75895275e-05,  3.94405288e-06],\n",
       "        [ 5.61957771e-04, -5.75165730e-04, -5.69165044e-04, ...,\n",
       "         -4.62788768e-04,  3.71017697e-04, -9.13665863e-05],\n",
       "        ...,\n",
       "        [-5.40264184e-04, -1.55906717e-03, -9.80683952e-04, ...,\n",
       "         -1.47486699e-03, -1.78612221e-03, -2.16201297e-03],\n",
       "        [-5.89596399e-04, -1.48225785e-03, -9.18462407e-04, ...,\n",
       "         -1.48213841e-03, -2.21425015e-03, -2.22714082e-03],\n",
       "        [-6.46775705e-04, -1.41686795e-03, -8.59385065e-04, ...,\n",
       "         -1.47831161e-03, -2.60963780e-03, -2.25203903e-03]],\n",
       "\n",
       "       [[ 2.63942820e-05, -8.18772824e-05, -9.79509859e-05, ...,\n",
       "         -9.91337220e-05,  8.78163264e-05,  1.43919518e-04],\n",
       "        [-2.07133315e-04, -4.04570106e-04, -1.44081772e-04, ...,\n",
       "          9.96215604e-05, -1.67095059e-05,  2.33135404e-04],\n",
       "        [-4.28421889e-04, -3.42319283e-04, -3.13259661e-04, ...,\n",
       "         -7.44051940e-05,  5.44190225e-05, -1.56933675e-04],\n",
       "        ...,\n",
       "        [-7.08994514e-04, -1.24777295e-03, -9.06864007e-04, ...,\n",
       "         -1.39522064e-03, -2.19788821e-03, -2.07360904e-03],\n",
       "        [-8.09208141e-04, -1.27647223e-03, -8.51757533e-04, ...,\n",
       "         -1.37621455e-03, -2.55496334e-03, -2.10804376e-03],\n",
       "        [-9.02891043e-04, -1.30146206e-03, -8.03351169e-04, ...,\n",
       "         -1.35773711e-03, -2.88641267e-03, -2.11487082e-03]],\n",
       "\n",
       "       [[ 2.63942820e-05, -8.18772824e-05, -9.79509859e-05, ...,\n",
       "         -9.91337220e-05,  8.78163264e-05,  1.43919518e-04],\n",
       "        [ 1.18716707e-04, -1.71965919e-04,  1.34507223e-04, ...,\n",
       "         -7.44009230e-05, -9.72521593e-05,  6.60865568e-04],\n",
       "        [ 2.71609839e-04,  1.55873131e-04,  3.24935419e-04, ...,\n",
       "          1.95810208e-04,  4.06001600e-05,  9.16033052e-04],\n",
       "        ...,\n",
       "        [-7.21290766e-04, -1.22063432e-03, -8.28849850e-04, ...,\n",
       "         -1.35209190e-03, -2.92697619e-03, -1.50934735e-03],\n",
       "        [-7.98024761e-04, -1.22621923e-03, -8.01036891e-04, ...,\n",
       "         -1.37463305e-03, -3.19168088e-03, -1.59755896e-03],\n",
       "        [-8.74628371e-04, -1.23361300e-03, -7.76207366e-04, ...,\n",
       "         -1.38684409e-03, -3.43364500e-03, -1.65496429e-03]],\n",
       "\n",
       "       ...,\n",
       "\n",
       "       [[ 2.63942820e-05, -8.18772824e-05, -9.79509859e-05, ...,\n",
       "         -9.91337220e-05,  8.78163264e-05,  1.43919518e-04],\n",
       "        [ 3.32301890e-04, -1.23769671e-04, -2.30534410e-04, ...,\n",
       "         -2.56702973e-04, -2.60177621e-04,  2.21719529e-04],\n",
       "        [ 5.59017411e-04, -1.46378705e-04, -3.37598816e-04, ...,\n",
       "         -1.48718187e-04, -4.52852692e-04,  9.45296415e-05],\n",
       "        ...,\n",
       "        [-8.49975913e-04, -1.25504076e-03, -7.30618078e-04, ...,\n",
       "         -1.92091078e-03, -2.98830820e-03, -2.20266217e-03],\n",
       "        [-8.90899682e-04, -1.25375006e-03, -6.96010771e-04, ...,\n",
       "         -1.85110653e-03, -3.27171851e-03, -2.15698383e-03],\n",
       "        [-9.37700155e-04, -1.25499198e-03, -6.69679546e-04, ...,\n",
       "         -1.78506807e-03, -3.52696655e-03, -2.10179947e-03]],\n",
       "\n",
       "       [[ 2.63942820e-05, -8.18772824e-05, -9.79509859e-05, ...,\n",
       "         -9.91337220e-05,  8.78163264e-05,  1.43919518e-04],\n",
       "        [-5.60464741e-06, -4.65932826e-04, -1.85332130e-04, ...,\n",
       "         -5.10210702e-05,  2.14404601e-04, -8.36788749e-05],\n",
       "        [ 9.78284224e-05, -7.66262412e-04, -2.68196134e-04, ...,\n",
       "         -2.60530796e-04,  2.93348538e-04, -4.10856330e-04],\n",
       "        ...,\n",
       "        [-1.00042648e-03, -1.34629931e-03, -6.18597900e-04, ...,\n",
       "         -1.57685648e-03, -3.76218441e-03, -2.21853843e-03],\n",
       "        [-1.06934807e-03, -1.34829234e-03, -6.18797028e-04, ...,\n",
       "         -1.55475643e-03, -3.96598643e-03, -2.14840611e-03],\n",
       "        [-1.13449269e-03, -1.35594013e-03, -6.20027713e-04, ...,\n",
       "         -1.53244671e-03, -4.14380757e-03, -2.07604142e-03]],\n",
       "\n",
       "       [[ 2.63942820e-05, -8.18772824e-05, -9.79509859e-05, ...,\n",
       "         -9.91337220e-05,  8.78163264e-05,  1.43919518e-04],\n",
       "        [-8.74908219e-05,  7.19054588e-05, -3.34309269e-04, ...,\n",
       "         -1.97944391e-04,  1.63206380e-04, -1.08019485e-04],\n",
       "        [-5.58295760e-05,  3.52254778e-04, -5.09396370e-04, ...,\n",
       "         -2.91211414e-04,  2.04144526e-04, -3.94037750e-04],\n",
       "        ...,\n",
       "        [-8.60714528e-04, -1.10240490e-03, -1.12858543e-03, ...,\n",
       "         -1.45790249e-03, -3.21280002e-03, -2.31894990e-03],\n",
       "        [-9.14291712e-04, -1.13962672e-03, -1.04352063e-03, ...,\n",
       "         -1.42464961e-03, -3.46182380e-03, -2.26325449e-03],\n",
       "        [-9.71005124e-04, -1.17486168e-03, -9.68378561e-04, ...,\n",
       "         -1.39584334e-03, -3.68451164e-03, -2.19810731e-03]]],\n",
       "      dtype=float32)>"
      ]
     },
     "execution_count": 18,
     "metadata": {},
     "output_type": "execute_result"
    }
   ],
   "source": [
    "# 데이터셋에서 데이터 한 배치만 가져와서 모델에 넣어서 확인.\n",
    "for src_sample, tgt_sample in train_dataset.take(1): break\n",
    "\n",
    "lyricist(src_sample)"
   ]
  },
  {
   "cell_type": "code",
   "execution_count": 19,
   "id": "f0935798",
   "metadata": {},
   "outputs": [
    {
     "name": "stdout",
     "output_type": "stream",
     "text": [
      "Model: \"text_generator\"\n",
      "_________________________________________________________________\n",
      "Layer (type)                 Output Shape              Param #   \n",
      "=================================================================\n",
      "embedding (Embedding)        multiple                  7680512   \n",
      "_________________________________________________________________\n",
      "lstm (LSTM)                  multiple                  20979712  \n",
      "_________________________________________________________________\n",
      "lstm_1 (LSTM)                multiple                  33562624  \n",
      "_________________________________________________________________\n",
      "dense (Dense)                multiple                  30737049  \n",
      "=================================================================\n",
      "Total params: 92,959,897\n",
      "Trainable params: 92,959,897\n",
      "Non-trainable params: 0\n",
      "_________________________________________________________________\n"
     ]
    }
   ],
   "source": [
    "# 모델 구조 확인.\n",
    "lyricist.summary()"
   ]
  },
  {
   "cell_type": "code",
   "execution_count": 20,
   "id": "090da9e5",
   "metadata": {
    "scrolled": true
   },
   "outputs": [
    {
     "name": "stdout",
     "output_type": "stream",
     "text": [
      "Epoch 1/10\n",
      "546/546 [==============================] - 398s 724ms/step - loss: 2.8304 - val_loss: 2.4917\n",
      "Epoch 2/10\n",
      "546/546 [==============================] - 394s 722ms/step - loss: 2.3564 - val_loss: 2.2918\n",
      "Epoch 3/10\n",
      "546/546 [==============================] - 395s 722ms/step - loss: 2.1332 - val_loss: 2.1556\n",
      "Epoch 4/10\n",
      "546/546 [==============================] - 395s 723ms/step - loss: 1.9244 - val_loss: 2.0528\n",
      "Epoch 5/10\n",
      "546/546 [==============================] - 396s 725ms/step - loss: 1.7230 - val_loss: 1.9710\n",
      "Epoch 6/10\n",
      "546/546 [==============================] - 396s 724ms/step - loss: 1.5315 - val_loss: 1.9104\n",
      "Epoch 7/10\n",
      "546/546 [==============================] - 396s 725ms/step - loss: 1.3527 - val_loss: 1.8644\n",
      "Epoch 8/10\n",
      "546/546 [==============================] - 395s 723ms/step - loss: 1.1902 - val_loss: 1.8372\n",
      "Epoch 9/10\n",
      "546/546 [==============================] - 395s 724ms/step - loss: 1.0479 - val_loss: 1.8276\n",
      "Epoch 10/10\n",
      "546/546 [==============================] - 396s 725ms/step - loss: 0.9301 - val_loss: 1.8276\n"
     ]
    }
   ],
   "source": [
    "# optimizer로는 사용빈도가 높은 Adam으로 선택.\n",
    "optimizer = tf.keras.optimizers.Adam()\n",
    "\n",
    "# 훈련 데이터의 라벨이 정수의 형태로 제공될 때, 사용하는 손실함수.\n",
    "loss = tf.keras.losses.SparseCategoricalCrossentropy(from_logits=True, reduction='none')\n",
    "# from_logits 의 기본값은 False. 모델에 의해 생성된 출력 값이 정규화되지 않았음을 손실 함수에 알려줌.\n",
    "# 즉, softmax 함수가 적용되지 않았다는걸 의미.\n",
    "# reduction 의 기본값은 SUM. 각자 나오는 값의 반환을 원할 때, None을 사용.\n",
    "\n",
    "lyricist.compile(loss=loss, optimizer=optimizer)\n",
    "history = lyricist.fit(train_dataset, validation_data=test_dataset, epochs=10)"
   ]
  },
  {
   "cell_type": "markdown",
   "id": "20d49f3a",
   "metadata": {},
   "source": [
    "데이터가 커서 훈련하는 데 시간이 제법 걸릴 겁니다.(한 epoch 당 3 분 이상) 여유를 가지고 작업하시면 좋아요 :)\n",
    "\n",
    "마지막으로 멋진 모델이 생성한 가사 한 줄을 제출하시길 바랍니다!\n",
    "\n"
   ]
  },
  {
   "cell_type": "code",
   "execution_count": 28,
   "id": "c032a814",
   "metadata": {},
   "outputs": [],
   "source": [
    "# 문장생성 함수 정의\n",
    "# 모델에게 시작 문장을 전달하면 시작 문장을 바탕으로 작문을 진행.\n",
    "# 시작 문자열을 init_sentence 로 받으며, 디폴트 값은 <start> 를 받음.\n",
    "def generate_text(model, tokenizer, init_sentence=\"<start>\", max_len=20):\n",
    "    # 테스트를 위해, 입력 받은 init_sentence로 텐서로 변환.\n",
    "    # 텍스트 안의 단어들을 숫자의 시퀀스의 형태로 변환.\n",
    "    test_input = tokenizer.texts_to_sequences([init_sentence])\n",
    "    test_tensor = tf.convert_to_tensor(test_input, dtype=tf.int64)\n",
    "    end_token = tokenizer.word_index[\"<end>\"]\n",
    "    \n",
    "    # 단어 하나씩 예측해 문장을 생성\n",
    "    # 1. 입력받은 문장의 텐서를 입력.\n",
    "    # 2. 예측된 값 중 가장 높은 확률인 word index를 뽑아냄.\n",
    "    # 3. 2에서 예측된 word index를 문장 뒤에 붙임.\n",
    "    # 4. 모델이 <end>를 예측햇거나, max_len에 도달했다면 문장 생성을 마침.\n",
    "    # 루프를 돌면서 init_sentence에 단어를 하나씩 생성\n",
    "    while True:\n",
    "        # 1\n",
    "        predict = model(test_tensor)\n",
    "        # 2\n",
    "        predict_word = tf.argmax(tf.nn.softmax(predict, axis=-1), axis=-1)[:, -1]\n",
    "        # 3\n",
    "        test_tensor = tf.concat([test_tensor, tf.expand_dims(predict_word, axis=0)], axis=-1)\n",
    "        # 4\n",
    "        if predict_word.numpy()[0] == end_token: break\n",
    "        if test_tensor.shape[1] >= max_len: break\n",
    "    \n",
    "    generated = \"\"\n",
    "    # tokenizer를 이용해 word index를 단어로 하나씩 변환합니다.\n",
    "    for word_index in test_tensor[0].numpy():\n",
    "        generated += tokenizer.index_word[word_index] + \" \"\n",
    "    \n",
    "    # 모델이 생성한 문장을 반환.\n",
    "    return generated"
   ]
  },
  {
   "cell_type": "code",
   "execution_count": 29,
   "id": "9bd6f9af",
   "metadata": {},
   "outputs": [
    {
     "data": {
      "text/plain": [
       "'<start> i love you <end> '"
      ]
     },
     "execution_count": 29,
     "metadata": {},
     "output_type": "execute_result"
    }
   ],
   "source": [
    "generate_text(lyricist, tokenizer, init_sentence=\"<start> i love\", max_len=20)\n",
    "# generate_text 함수에 lyricist 라 정의한 모델을 이용해서 ilove 로 시작되는 문장을 생성"
   ]
  },
  {
   "cell_type": "code",
   "execution_count": 30,
   "id": "f80bd885",
   "metadata": {},
   "outputs": [
    {
     "data": {
      "text/plain": [
       "'<start> i do not like <end> '"
      ]
     },
     "execution_count": 30,
     "metadata": {},
     "output_type": "execute_result"
    }
   ],
   "source": [
    "generate_text(lyricist, tokenizer, init_sentence=\"<start> i do\", max_len=20)"
   ]
  },
  {
   "cell_type": "code",
   "execution_count": 31,
   "id": "b48d72b1",
   "metadata": {},
   "outputs": [
    {
     "data": {
      "text/plain": [
       "'<start> i have a little husband , <end> '"
      ]
     },
     "execution_count": 31,
     "metadata": {},
     "output_type": "execute_result"
    }
   ],
   "source": [
    "generate_text(lyricist, tokenizer, init_sentence=\"<start> i have\", max_len=20)"
   ]
  },
  {
   "cell_type": "code",
   "execution_count": 32,
   "id": "a61b235c",
   "metadata": {},
   "outputs": [
    {
     "data": {
      "text/plain": [
       "'<start> i want to get in the zone if you really want to party <end> '"
      ]
     },
     "execution_count": 32,
     "metadata": {},
     "output_type": "execute_result"
    }
   ],
   "source": [
    "generate_text(lyricist, tokenizer, init_sentence=\"<start> i want\", max_len=20)"
   ]
  },
  {
   "cell_type": "code",
   "execution_count": 33,
   "id": "bfe00ce1",
   "metadata": {},
   "outputs": [
    {
     "data": {
      "text/plain": [
       "'<start> your love is fadin <end> '"
      ]
     },
     "execution_count": 33,
     "metadata": {},
     "output_type": "execute_result"
    }
   ],
   "source": [
    "generate_text(lyricist, tokenizer, init_sentence=\"<start> your\", max_len=20)"
   ]
  },
  {
   "cell_type": "code",
   "execution_count": 34,
   "id": "0f5eb050",
   "metadata": {},
   "outputs": [
    {
     "data": {
      "image/png": "[encoded data removed]",
      "text/plain": [
       "<Figure size 432x288 with 1 Axes>"
      ]
     },
     "metadata": {
      "needs_background": "light"
     },
     "output_type": "display_data"
    }
   ],
   "source": [
    "import matplotlib.pyplot as plt\n",
    "plt.plot(history.history['loss'])\n",
    "plt.plot(history.history['val_loss'])\n",
    "plt.legend(['training', 'validation'], loc='lower right')\n",
    "plt.show()"
   ]
  }
 ],
 "metadata": {
  "kernelspec": {
   "display_name": "Python 3 (ipykernel)",
   "language": "python",
   "name": "python3"
  },
  "language_info": {
   "codemirror_mode": {
    "name": "ipython",
    "version": 3
   },
   "file_extension": ".py",
   "mimetype": "text/x-python",
   "name": "python",
   "nbconvert_exporter": "python",
   "pygments_lexer": "ipython3",
   "version": "3.9.7"
  }
 },
 "nbformat": 4,
 "nbformat_minor": 5
}
